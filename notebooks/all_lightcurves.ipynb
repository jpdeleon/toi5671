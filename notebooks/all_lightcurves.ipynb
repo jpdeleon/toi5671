{
 "cells": [
  {
   "cell_type": "code",
   "execution_count": 1,
   "id": "3e21ddf6-788d-49dd-95e5-6feeea39a852",
   "metadata": {},
   "outputs": [],
   "source": [
    "%load_ext autoreload"
   ]
  },
  {
   "cell_type": "code",
   "execution_count": 2,
   "id": "e2e42495-87f9-4862-93d9-7b432bcb6a7c",
   "metadata": {},
   "outputs": [],
   "source": [
    "import sys\n",
    "sys.path.insert(0, '..')"
   ]
  },
  {
   "cell_type": "markdown",
   "id": "9637ab56-6a6c-4627-9ecb-a35d2abf713a",
   "metadata": {},
   "source": [
    "* https://exofop.ipac.caltech.edu/tess/target.php?id=TOI-5671\n",
    "* https://exofop.ipac.caltech.edu/tess/target.php?id=TOI-5634"
   ]
  },
  {
   "cell_type": "markdown",
   "id": "11ad4db6-9d0d-4029-81ec-c62e390a3a02",
   "metadata": {},
   "source": [
    "| Telescope | Camera | Filter | Pixel scale | Estimated PSF | Phot. Aper. Rad. | Transit Coverage | Date (UT) |\n",
    "|-----------|-----------|-----------|-----------|-----------|-----------|-----------|-----------|\n",
    "LCO-Teide (0.4 m) | SBIG 6303 | $z_s$ | 0.57 | 2.4 | 3.7 | ingress |  2022-06-18 |     \n",
    "LCO-Hal (0.4m) | SBIG 6303 | $z_s$ | 0.57 | 3.7 | 5.5 | full |  2022-06-21 |      \n",
    "LCO-Hal (2.0m) | MuSCAT3 | g',r',i',$z_s$ | X | X | X | full |  2022-06-30 | \n",
    "FWLO (1.0m) | KeplerCam | i' | 0.672 | 2.1 | 4 | full |  2023-01-05 | \n",
    "TRAPPIST-North (0.6 m) | Andor ikon-L | I+z | 0.6 | 2.3 | 4.3 | ingress | 2023-01-13| \n",
    "Speculoos-North (1.2m) | Andor ikon-L | g' | 0.35 | 1.1 | 5 | full |  2023-01-24 | \n",
    "TRAPPIST-North (0.6 m) | Andor ikon-L | I+z | 0.6 | 2.2 | 5 | full | 2023-01-24| \n",
    "LCO-McDo (1.0m) | Sinistro | V | 0.389 | 2.04 | 7 | full |  2023-03-26 | \n",
    "Speculoos-North (1.2m) | Andor ikon-L | z' | 0.35 | 1.1 | 6 | full |  2023-03-27 | \n",
    "Speculoos-North (1.2m) | Andor ikon-L | I$+$z | 0.35 | 0.9 | 10 | full |  2023-04-14 | \n",
    "LCO-McDo (1.0m) | Sinistro | g' | 0.389 | - | 8 | full |  2023-04-28 |     \n",
    "TCS-Teide (1.5 m) | MuSCAT2 | r',i',$z_s$ | X | X | X | full |  2023-05-10 | \n",
    "TCS-Teide (1.5 m) | MuSCAT2 | r',i',$z_s$ | X | X | X | full |  2024-02-16 | "
   ]
  },
  {
   "cell_type": "code",
   "execution_count": 51,
   "id": "7a7d5e12-9816-4c56-b0b0-67db159e04c7",
   "metadata": {},
   "outputs": [],
   "source": [
    "import astropy.units as u\n",
    "from astropy.coordinates import SkyCoord\n",
    "from astroquery.mast import Catalogs\n",
    "\n",
    "def get_gaia_sources(ra, dec, rad_arcsec=30):\n",
    "    target_coord = SkyCoord(ra=ra * u.deg, dec=dec * u.deg)\n",
    "    if rad_arcsec >= 30:\n",
    "        msg = f'Querying Gaia sources {rad_arcsec}\" around '\n",
    "        msg += f\"({ra:.4f}, {dec:.4f}) deg.\"\n",
    "        print(msg)\n",
    "        gaia_sources = Catalogs.query_region(\n",
    "            target_coord,\n",
    "            radius=rad_arcsec * u.arcsec,\n",
    "            catalog=\"Gaia\",\n",
    "            version=3,\n",
    "        ).to_pandas()\n",
    "        gaia_sources[\"distance\"] = gaia_sources[\n",
    "            \"distance\"\n",
    "        ] * u.arcmin.to(u.arcsec)\n",
    "        gaia_sources = gaia_sources[\n",
    "        gaia_sources[\"distance\"] <= rad_arcsec\n",
    "    ]\n",
    "    assert len(gaia_sources) > 1, \"gaia_sources contains single entry\"\n",
    "    return gaia_sources"
   ]
  },
  {
   "cell_type": "code",
   "execution_count": 52,
   "id": "833597af-c66a-43bf-af18-68b65fb2be63",
   "metadata": {},
   "outputs": [
    {
     "name": "stdout",
     "output_type": "stream",
     "text": [
      "Querying Gaia sources 30\": (211.0092, 38.6183) deg.\n"
     ]
    }
   ],
   "source": [
    "sources = get_gaia_sources(ra=211.00922, dec=38.618331)"
   ]
  },
  {
   "cell_type": "code",
   "execution_count": 54,
   "id": "ddecb8fe-ae89-4cdf-9f95-b8aeff31ea75",
   "metadata": {},
   "outputs": [
    {
     "data": {
      "text/plain": [
       "0     0.001050\n",
       "1     6.972838\n",
       "2    22.227809\n",
       "Name: distance, dtype: float64"
      ]
     },
     "execution_count": 54,
     "metadata": {},
     "output_type": "execute_result"
    }
   ],
   "source": [
    "sources['distance']"
   ]
  },
  {
   "cell_type": "code",
   "execution_count": 3,
   "id": "cc11ea1b-e2e5-4584-8f10-3aeccb93ba88",
   "metadata": {},
   "outputs": [
    {
     "name": "stdout",
     "output_type": "stream",
     "text": [
      "\u001b[0m\u001b[01;34mfilters\u001b[0m/\n",
      "tess_cpm_s16s23s50.csv\n",
      "tess_eleanor_s16s23s50.csv\n",
      "\u001b[01;35mTIC119585136-01_20220618_LCO-TEID-0m4_zs_lightcurve.png\u001b[0m\n",
      "TIC119585136-01_20220618_LCO-TEID-0m4_zs_measurements.tbl\n",
      "TIC119585136-01_20220618_LCO-TEID-0m4_zs_Notes.txt\n",
      "TIC_119585136-01_20230113_TRAPPIST-North-0.6m_I+z.txt\n",
      "TIC_119585136.01_20230113_TRAPPIST-North_I+z_and_20230105_KeplerCam_ip_lightcurves.pdf\n",
      "TIC_119585136-01_20230124_SPECULOOS-North-1.0m_gp_Artemis_measurments.txt\n",
      "TIC_119585136-01_20230124_TRAPPIST-North-0.6m_I+z_measurments.txt\n",
      "TIC_119585136-01_20230327_SPECULOOS-North-1m0_z_measurments.txt\n",
      "\u001b[01;35mTIC23863105-01_20230326_LCO-McD-1m0_V_lightcurve.png\u001b[0m\n",
      "TIC23863105-01_20230326_LCO-McD-1m0_V_measurements.tbl\n",
      "TIC_23863105-01_20230414_SPECULOOS-North-1m0_I+z_measurments.txt\n",
      "TIC_23863105-01_20230414_SPECULOOS-North-1m0_I+z_Observations_Summary.pdf\n",
      "\u001b[01;35mTIC23863105-01_20230428_LCO-MCD-1m0_gp_lightcurve.png\u001b[0m\n",
      "TIC23863105-01_20230428_LCO-MCD-1m0_gp_measurements.tbl\n",
      "TIC23863105-01_20230428_LCO-MCD-1m0_gp_notes.txt\n",
      "\u001b[01;35mTIC23863105-11_20220621_LCO-HAL-0m4_zs_lightcurve.png\u001b[0m\n",
      "TIC23863105-11_20220621_LCO-HAL-0m4_zs_measurements.tbl\n",
      "TIC23863105-11_20220621_LCO-HAL-0m4_zs_Notes.txt\n",
      "TIC23863106-01_20220608_KeplerCam_ip.dat\n",
      "\u001b[01;35mTIC23863106-01_20220608_KeplerCam_ip_lightcurve.png\u001b[0m\n",
      "TOI5671.01L-jd20220630_MuSCAT3_g_measurements.csv\n",
      "TOI5671.01L-jd20220630_MuSCAT3_i_measurements.csv\n",
      "TOI5671.01L-jd20220630_MuSCAT3_r_measurements.csv\n",
      "TOI5671.01L-jd20220630_MuSCAT3_z_measurements.csv\n",
      "TOI5671I-dc20230608-Brgamma_plot.tbl\n"
     ]
    }
   ],
   "source": [
    "ls ../data/photometry/"
   ]
  },
  {
   "cell_type": "code",
   "execution_count": 4,
   "id": "eebd13dc-801c-4553-92a2-12f2cf85b457",
   "metadata": {},
   "outputs": [],
   "source": [
    "import pandas as pd\n",
    "\n",
    "def read_tess(phot_dir='../data/photometry'):\n",
    "    fp = f'{phot_dir}/tess_cpm_s16s23s50.csv'\n",
    "    df = pd.read_csv(fp)\n",
    "    df = df.rename({\n",
    "        'time': 'BJD_TDB',\n",
    "        'flux': 'Flux', \n",
    "        'err': 'Err'\n",
    "    }, axis=1)\n",
    "    return df"
   ]
  },
  {
   "cell_type": "code",
   "execution_count": 5,
   "id": "47b68d0d-3974-4d20-acce-521dadb781e4",
   "metadata": {},
   "outputs": [
    {
     "data": {
      "text/html": [
       "<div>\n",
       "<style scoped>\n",
       "    .dataframe tbody tr th:only-of-type {\n",
       "        vertical-align: middle;\n",
       "    }\n",
       "\n",
       "    .dataframe tbody tr th {\n",
       "        vertical-align: top;\n",
       "    }\n",
       "\n",
       "    .dataframe thead th {\n",
       "        text-align: right;\n",
       "    }\n",
       "</style>\n",
       "<table border=\"1\" class=\"dataframe\">\n",
       "  <thead>\n",
       "    <tr style=\"text-align: right;\">\n",
       "      <th></th>\n",
       "      <th>BJD_TDB</th>\n",
       "      <th>Flux</th>\n",
       "      <th>Err</th>\n",
       "    </tr>\n",
       "  </thead>\n",
       "  <tbody>\n",
       "    <tr>\n",
       "      <th>0</th>\n",
       "      <td>2.458739e+06</td>\n",
       "      <td>0.999975</td>\n",
       "      <td>1.023056</td>\n",
       "    </tr>\n",
       "    <tr>\n",
       "      <th>1</th>\n",
       "      <td>2.458739e+06</td>\n",
       "      <td>0.994739</td>\n",
       "      <td>1.023056</td>\n",
       "    </tr>\n",
       "    <tr>\n",
       "      <th>2</th>\n",
       "      <td>2.458739e+06</td>\n",
       "      <td>1.001697</td>\n",
       "      <td>1.023056</td>\n",
       "    </tr>\n",
       "    <tr>\n",
       "      <th>3</th>\n",
       "      <td>2.458739e+06</td>\n",
       "      <td>1.021017</td>\n",
       "      <td>1.023056</td>\n",
       "    </tr>\n",
       "    <tr>\n",
       "      <th>4</th>\n",
       "      <td>2.458739e+06</td>\n",
       "      <td>0.996665</td>\n",
       "      <td>1.023056</td>\n",
       "    </tr>\n",
       "  </tbody>\n",
       "</table>\n",
       "</div>"
      ],
      "text/plain": [
       "        BJD_TDB      Flux       Err\n",
       "0  2.458739e+06  0.999975  1.023056\n",
       "1  2.458739e+06  0.994739  1.023056\n",
       "2  2.458739e+06  1.001697  1.023056\n",
       "3  2.458739e+06  1.021017  1.023056\n",
       "4  2.458739e+06  0.996665  1.023056"
      ]
     },
     "execution_count": 5,
     "metadata": {},
     "output_type": "execute_result"
    }
   ],
   "source": [
    "lc_tess = read_tess()\n",
    "lc_tess.head()"
   ]
  },
  {
   "cell_type": "code",
   "execution_count": 6,
   "id": "e9213800-966f-4006-8f44-905c65848d73",
   "metadata": {},
   "outputs": [
    {
     "data": {
      "text/html": [
       "<div>\n",
       "<style scoped>\n",
       "    .dataframe tbody tr th:only-of-type {\n",
       "        vertical-align: middle;\n",
       "    }\n",
       "\n",
       "    .dataframe tbody tr th {\n",
       "        vertical-align: top;\n",
       "    }\n",
       "\n",
       "    .dataframe thead th {\n",
       "        text-align: right;\n",
       "    }\n",
       "</style>\n",
       "<table border=\"1\" class=\"dataframe\">\n",
       "  <thead>\n",
       "    <tr style=\"text-align: right;\">\n",
       "      <th></th>\n",
       "      <th>BJD_TDB</th>\n",
       "      <th>Flux</th>\n",
       "      <th>Err</th>\n",
       "      <th>Airmass</th>\n",
       "    </tr>\n",
       "  </thead>\n",
       "  <tbody>\n",
       "    <tr>\n",
       "      <th>0</th>\n",
       "      <td>2.459749e+06</td>\n",
       "      <td>0.207193</td>\n",
       "      <td>0.004268</td>\n",
       "      <td>1.154110</td>\n",
       "    </tr>\n",
       "    <tr>\n",
       "      <th>1</th>\n",
       "      <td>2.459749e+06</td>\n",
       "      <td>0.205630</td>\n",
       "      <td>0.003388</td>\n",
       "      <td>1.177105</td>\n",
       "    </tr>\n",
       "    <tr>\n",
       "      <th>2</th>\n",
       "      <td>2.459749e+06</td>\n",
       "      <td>0.211992</td>\n",
       "      <td>0.003394</td>\n",
       "      <td>1.202461</td>\n",
       "    </tr>\n",
       "    <tr>\n",
       "      <th>3</th>\n",
       "      <td>2.459749e+06</td>\n",
       "      <td>0.209777</td>\n",
       "      <td>0.003439</td>\n",
       "      <td>1.230374</td>\n",
       "    </tr>\n",
       "    <tr>\n",
       "      <th>4</th>\n",
       "      <td>2.459749e+06</td>\n",
       "      <td>0.206782</td>\n",
       "      <td>0.003501</td>\n",
       "      <td>1.261025</td>\n",
       "    </tr>\n",
       "  </tbody>\n",
       "</table>\n",
       "</div>"
      ],
      "text/plain": [
       "        BJD_TDB      Flux       Err   Airmass\n",
       "0  2.459749e+06  0.207193  0.004268  1.154110\n",
       "1  2.459749e+06  0.205630  0.003388  1.177105\n",
       "2  2.459749e+06  0.211992  0.003394  1.202461\n",
       "3  2.459749e+06  0.209777  0.003439  1.230374\n",
       "4  2.459749e+06  0.206782  0.003501  1.261025"
      ]
     },
     "execution_count": 6,
     "metadata": {},
     "output_type": "execute_result"
    }
   ],
   "source": [
    "def read_lco0_teide_zs(phot_dir='../data/photometry'):\n",
    "    fp = f'{phot_dir}/TIC119585136-01_20220618_LCO-TEID-0m4_zs_measurements.tbl'\n",
    "    df = pd.read_csv(fp, delim_whitespace=True)\n",
    "    mapping = {'BJD_TDB': 'BJD_TDB',\n",
    "               'rel_flux_T1': 'Flux',\n",
    "               'rel_flux_err_T1': 'Err',\n",
    "               'AIRMASS': 'Airmass',\n",
    "               #'Peak_T1', \n",
    "               # 'FWHM_T1', \n",
    "               # 'X(IJ)_T1', \n",
    "               # 'Y(IJ)_T1', \n",
    "               # 'Source-Sky_T1'\n",
    "               }\n",
    "    df = df.rename(mapping, axis=1)\n",
    "    cols = mapping.values()\n",
    "    return df[cols]\n",
    "\n",
    "lc_lco0_teide_zs = read_lco0_teide_zs()\n",
    "lc_lco0_teide_zs.head()"
   ]
  },
  {
   "cell_type": "code",
   "execution_count": 7,
   "id": "86557d4f-a612-4fb7-88b8-8be194557782",
   "metadata": {},
   "outputs": [
    {
     "data": {
      "text/html": [
       "<div>\n",
       "<style scoped>\n",
       "    .dataframe tbody tr th:only-of-type {\n",
       "        vertical-align: middle;\n",
       "    }\n",
       "\n",
       "    .dataframe tbody tr th {\n",
       "        vertical-align: top;\n",
       "    }\n",
       "\n",
       "    .dataframe thead th {\n",
       "        text-align: right;\n",
       "    }\n",
       "</style>\n",
       "<table border=\"1\" class=\"dataframe\">\n",
       "  <thead>\n",
       "    <tr style=\"text-align: right;\">\n",
       "      <th></th>\n",
       "      <th>BJD_TDB</th>\n",
       "      <th>Flux</th>\n",
       "      <th>Err</th>\n",
       "      <th>Airmass</th>\n",
       "    </tr>\n",
       "  </thead>\n",
       "  <tbody>\n",
       "    <tr>\n",
       "      <th>0</th>\n",
       "      <td>2.459752e+06</td>\n",
       "      <td>0.347197</td>\n",
       "      <td>0.004820</td>\n",
       "      <td>1.107538</td>\n",
       "    </tr>\n",
       "    <tr>\n",
       "      <th>1</th>\n",
       "      <td>2.459752e+06</td>\n",
       "      <td>0.333152</td>\n",
       "      <td>0.004686</td>\n",
       "      <td>1.117847</td>\n",
       "    </tr>\n",
       "    <tr>\n",
       "      <th>2</th>\n",
       "      <td>2.459752e+06</td>\n",
       "      <td>0.343204</td>\n",
       "      <td>0.004843</td>\n",
       "      <td>1.129159</td>\n",
       "    </tr>\n",
       "    <tr>\n",
       "      <th>3</th>\n",
       "      <td>2.459752e+06</td>\n",
       "      <td>0.353527</td>\n",
       "      <td>0.004991</td>\n",
       "      <td>1.141468</td>\n",
       "    </tr>\n",
       "    <tr>\n",
       "      <th>4</th>\n",
       "      <td>2.459752e+06</td>\n",
       "      <td>0.338124</td>\n",
       "      <td>0.004808</td>\n",
       "      <td>1.154853</td>\n",
       "    </tr>\n",
       "  </tbody>\n",
       "</table>\n",
       "</div>"
      ],
      "text/plain": [
       "        BJD_TDB      Flux       Err   Airmass\n",
       "0  2.459752e+06  0.347197  0.004820  1.107538\n",
       "1  2.459752e+06  0.333152  0.004686  1.117847\n",
       "2  2.459752e+06  0.343204  0.004843  1.129159\n",
       "3  2.459752e+06  0.353527  0.004991  1.141468\n",
       "4  2.459752e+06  0.338124  0.004808  1.154853"
      ]
     },
     "execution_count": 7,
     "metadata": {},
     "output_type": "execute_result"
    }
   ],
   "source": [
    "def read_lco0_hal_zs(phot_dir='../data/photometry'):\n",
    "    fp = f'{phot_dir}/TIC23863105-11_20220621_LCO-HAL-0m4_zs_measurements.tbl'\n",
    "    df = pd.read_csv(fp, delim_whitespace=True)\n",
    "    mapping = {'BJD_TDB': 'BJD_TDB',\n",
    "               'rel_flux_T1': 'Flux',\n",
    "               'rel_flux_err_T1': 'Err',\n",
    "               'AIRMASS': 'Airmass',\n",
    "               #'Peak_T1', \n",
    "               # 'FWHM_T1', \n",
    "               # 'X(IJ)_T1', \n",
    "               # 'Y(IJ)_T1', \n",
    "               # 'Source-Sky_T1'\n",
    "               }\n",
    "    df = df.rename(mapping, axis=1)\n",
    "    cols = mapping.values()\n",
    "    return df[cols]\n",
    "\n",
    "lc_lco0_hal_zs = read_lco0_hal_zs()\n",
    "lc_lco0_hal_zs.head()"
   ]
  },
  {
   "cell_type": "code",
   "execution_count": 8,
   "id": "1c0f06bf-eaa8-484b-8cfa-546a7b76b3fb",
   "metadata": {},
   "outputs": [],
   "source": [
    "def read_muscat3(phot_dir='../data/photometry'):\n",
    "    dfs = {}\n",
    "    cols = ['BJD_TDB', 'Flux', 'Err', 'Airmass']\n",
    "    for b in ['g','r','i','z']:\n",
    "        fp = f'{phot_dir}/TOI5671.01L-jd20220630_MuSCAT3_{b}_measurements.csv'\n",
    "        dfs[b] = pd.read_csv(fp)[cols]    \n",
    "    return dfs"
   ]
  },
  {
   "cell_type": "code",
   "execution_count": 9,
   "id": "9d77b775-a5f1-4825-9c86-5e1f305d03ef",
   "metadata": {},
   "outputs": [
    {
     "data": {
      "text/html": [
       "<div>\n",
       "<style scoped>\n",
       "    .dataframe tbody tr th:only-of-type {\n",
       "        vertical-align: middle;\n",
       "    }\n",
       "\n",
       "    .dataframe tbody tr th {\n",
       "        vertical-align: top;\n",
       "    }\n",
       "\n",
       "    .dataframe thead th {\n",
       "        text-align: right;\n",
       "    }\n",
       "</style>\n",
       "<table border=\"1\" class=\"dataframe\">\n",
       "  <thead>\n",
       "    <tr style=\"text-align: right;\">\n",
       "      <th></th>\n",
       "      <th>BJD_TDB</th>\n",
       "      <th>Flux</th>\n",
       "      <th>Err</th>\n",
       "      <th>Airmass</th>\n",
       "    </tr>\n",
       "  </thead>\n",
       "  <tbody>\n",
       "    <tr>\n",
       "      <th>0</th>\n",
       "      <td>2.459762e+06</td>\n",
       "      <td>1.01606</td>\n",
       "      <td>0.01402</td>\n",
       "      <td>1.0516</td>\n",
       "    </tr>\n",
       "    <tr>\n",
       "      <th>1</th>\n",
       "      <td>2.459762e+06</td>\n",
       "      <td>1.01010</td>\n",
       "      <td>0.01190</td>\n",
       "      <td>1.0520</td>\n",
       "    </tr>\n",
       "    <tr>\n",
       "      <th>2</th>\n",
       "      <td>2.459762e+06</td>\n",
       "      <td>1.01125</td>\n",
       "      <td>0.01109</td>\n",
       "      <td>1.0524</td>\n",
       "    </tr>\n",
       "    <tr>\n",
       "      <th>3</th>\n",
       "      <td>2.459762e+06</td>\n",
       "      <td>0.99848</td>\n",
       "      <td>0.01061</td>\n",
       "      <td>1.0530</td>\n",
       "    </tr>\n",
       "    <tr>\n",
       "      <th>4</th>\n",
       "      <td>2.459762e+06</td>\n",
       "      <td>0.99613</td>\n",
       "      <td>0.01056</td>\n",
       "      <td>1.0535</td>\n",
       "    </tr>\n",
       "  </tbody>\n",
       "</table>\n",
       "</div>"
      ],
      "text/plain": [
       "        BJD_TDB     Flux      Err  Airmass\n",
       "0  2.459762e+06  1.01606  0.01402   1.0516\n",
       "1  2.459762e+06  1.01010  0.01190   1.0520\n",
       "2  2.459762e+06  1.01125  0.01109   1.0524\n",
       "3  2.459762e+06  0.99848  0.01061   1.0530\n",
       "4  2.459762e+06  0.99613  0.01056   1.0535"
      ]
     },
     "execution_count": 9,
     "metadata": {},
     "output_type": "execute_result"
    }
   ],
   "source": [
    "lcs_muscat3 = read_muscat3()\n",
    "lc_muscat3_g = lcs_muscat3['g']\n",
    "lc_muscat3_r = lcs_muscat3['r']\n",
    "lc_muscat3_i = lcs_muscat3['i']\n",
    "lc_muscat3_z = lcs_muscat3['z']\n",
    "lc_muscat3_g.head()"
   ]
  },
  {
   "cell_type": "code",
   "execution_count": 10,
   "id": "f3e038fe-5b8b-46a2-8acf-0ac93c6f904f",
   "metadata": {},
   "outputs": [],
   "source": [
    "def read_keplercam_ip(phot_dir='../data/photometry'):\n",
    "    fp = f'{phot_dir}/TIC23863106-01_20220608_KeplerCam_ip.dat'\n",
    "    df = pd.read_csv(fp, delim_whitespace=True)\n",
    "    df = df.rename({'rel_flux_T2': 'Flux',\n",
    "                    'rel_flux_err_T2': 'Err',\n",
    "                    'AIRMASS': 'Airmass'\n",
    "                   }, axis=1)\n",
    "    return df[['BJD_TDB','Flux','Err','Airmass']]"
   ]
  },
  {
   "cell_type": "code",
   "execution_count": 11,
   "id": "c655849e-3632-4388-a4a7-0b12f5f95805",
   "metadata": {},
   "outputs": [
    {
     "data": {
      "text/html": [
       "<div>\n",
       "<style scoped>\n",
       "    .dataframe tbody tr th:only-of-type {\n",
       "        vertical-align: middle;\n",
       "    }\n",
       "\n",
       "    .dataframe tbody tr th {\n",
       "        vertical-align: top;\n",
       "    }\n",
       "\n",
       "    .dataframe thead th {\n",
       "        text-align: right;\n",
       "    }\n",
       "</style>\n",
       "<table border=\"1\" class=\"dataframe\">\n",
       "  <thead>\n",
       "    <tr style=\"text-align: right;\">\n",
       "      <th></th>\n",
       "      <th>BJD_TDB</th>\n",
       "      <th>Flux</th>\n",
       "      <th>Err</th>\n",
       "      <th>Airmass</th>\n",
       "    </tr>\n",
       "  </thead>\n",
       "  <tbody>\n",
       "    <tr>\n",
       "      <th>0</th>\n",
       "      <td>2.459739e+06</td>\n",
       "      <td>0.047652</td>\n",
       "      <td>0.000117</td>\n",
       "      <td>1.021632</td>\n",
       "    </tr>\n",
       "    <tr>\n",
       "      <th>1</th>\n",
       "      <td>2.459739e+06</td>\n",
       "      <td>0.047006</td>\n",
       "      <td>0.000113</td>\n",
       "      <td>1.019618</td>\n",
       "    </tr>\n",
       "    <tr>\n",
       "      <th>2</th>\n",
       "      <td>2.459739e+06</td>\n",
       "      <td>0.046593</td>\n",
       "      <td>0.000107</td>\n",
       "      <td>1.017759</td>\n",
       "    </tr>\n",
       "    <tr>\n",
       "      <th>3</th>\n",
       "      <td>2.459739e+06</td>\n",
       "      <td>0.046359</td>\n",
       "      <td>0.000105</td>\n",
       "      <td>1.016053</td>\n",
       "    </tr>\n",
       "    <tr>\n",
       "      <th>4</th>\n",
       "      <td>2.459739e+06</td>\n",
       "      <td>0.046439</td>\n",
       "      <td>0.000104</td>\n",
       "      <td>1.014513</td>\n",
       "    </tr>\n",
       "  </tbody>\n",
       "</table>\n",
       "</div>"
      ],
      "text/plain": [
       "        BJD_TDB      Flux       Err   Airmass\n",
       "0  2.459739e+06  0.047652  0.000117  1.021632\n",
       "1  2.459739e+06  0.047006  0.000113  1.019618\n",
       "2  2.459739e+06  0.046593  0.000107  1.017759\n",
       "3  2.459739e+06  0.046359  0.000105  1.016053\n",
       "4  2.459739e+06  0.046439  0.000104  1.014513"
      ]
     },
     "execution_count": 11,
     "metadata": {},
     "output_type": "execute_result"
    }
   ],
   "source": [
    "lc_kep_ip = read_keplercam_ip()\n",
    "lc_kep_ip.head()"
   ]
  },
  {
   "cell_type": "code",
   "execution_count": 13,
   "id": "36e18c63-1c04-474c-8a03-63bcfebc8d26",
   "metadata": {},
   "outputs": [
    {
     "data": {
      "text/html": [
       "<div>\n",
       "<style scoped>\n",
       "    .dataframe tbody tr th:only-of-type {\n",
       "        vertical-align: middle;\n",
       "    }\n",
       "\n",
       "    .dataframe tbody tr th {\n",
       "        vertical-align: top;\n",
       "    }\n",
       "\n",
       "    .dataframe thead th {\n",
       "        text-align: right;\n",
       "    }\n",
       "</style>\n",
       "<table border=\"1\" class=\"dataframe\">\n",
       "  <thead>\n",
       "    <tr style=\"text-align: right;\">\n",
       "      <th></th>\n",
       "      <th>BJD_TDB</th>\n",
       "      <th>Flux</th>\n",
       "      <th>Err</th>\n",
       "      <th>Airmass</th>\n",
       "    </tr>\n",
       "  </thead>\n",
       "  <tbody>\n",
       "    <tr>\n",
       "      <th>0</th>\n",
       "      <td>2.459959e+06</td>\n",
       "      <td>1.017960</td>\n",
       "      <td>0.004369</td>\n",
       "      <td>1.174578</td>\n",
       "    </tr>\n",
       "    <tr>\n",
       "      <th>1</th>\n",
       "      <td>2.459959e+06</td>\n",
       "      <td>1.013104</td>\n",
       "      <td>0.004381</td>\n",
       "      <td>1.168464</td>\n",
       "    </tr>\n",
       "    <tr>\n",
       "      <th>2</th>\n",
       "      <td>2.459959e+06</td>\n",
       "      <td>1.017151</td>\n",
       "      <td>0.004402</td>\n",
       "      <td>1.162478</td>\n",
       "    </tr>\n",
       "    <tr>\n",
       "      <th>3</th>\n",
       "      <td>2.459959e+06</td>\n",
       "      <td>1.021299</td>\n",
       "      <td>0.004424</td>\n",
       "      <td>1.156680</td>\n",
       "    </tr>\n",
       "    <tr>\n",
       "      <th>4</th>\n",
       "      <td>2.459959e+06</td>\n",
       "      <td>1.021024</td>\n",
       "      <td>0.004411</td>\n",
       "      <td>1.151028</td>\n",
       "    </tr>\n",
       "  </tbody>\n",
       "</table>\n",
       "</div>"
      ],
      "text/plain": [
       "        BJD_TDB      Flux       Err   Airmass\n",
       "0  2.459959e+06  1.017960  0.004369  1.174578\n",
       "1  2.459959e+06  1.013104  0.004381  1.168464\n",
       "2  2.459959e+06  1.017151  0.004402  1.162478\n",
       "3  2.459959e+06  1.021299  0.004424  1.156680\n",
       "4  2.459959e+06  1.021024  0.004411  1.151028"
      ]
     },
     "execution_count": 13,
     "metadata": {},
     "output_type": "execute_result"
    }
   ],
   "source": [
    "def read_trappist_lc1(phot_dir='../data/photometry'):\n",
    "    fp = f'{phot_dir}/TIC_119585136-01_20230113_TRAPPIST-North-0.6m_I+z.txt'\n",
    "    df = pd.read_csv(fp, delim_whitespace=True)\n",
    "    mapping = {'#BJD-TDB': 'BJD_TDB', \n",
    "                'DIFF_FLUX': 'Flux',\n",
    "                'ERROR': 'Err',\n",
    "                'AIRMASS': 'Airmass'                    \n",
    "               }\n",
    "    df = df.rename(mapping, axis=1)\n",
    "    cols = mapping.values()\n",
    "    return df[cols]\n",
    "\n",
    "lc_trappist_I_z1 = read_trappist_lc1()\n",
    "lc_trappist_I_z1.head()"
   ]
  },
  {
   "cell_type": "code",
   "execution_count": 14,
   "id": "455ec608-c95e-4777-b32a-da7509a286e5",
   "metadata": {},
   "outputs": [
    {
     "data": {
      "text/html": [
       "<div>\n",
       "<style scoped>\n",
       "    .dataframe tbody tr th:only-of-type {\n",
       "        vertical-align: middle;\n",
       "    }\n",
       "\n",
       "    .dataframe tbody tr th {\n",
       "        vertical-align: top;\n",
       "    }\n",
       "\n",
       "    .dataframe thead th {\n",
       "        text-align: right;\n",
       "    }\n",
       "</style>\n",
       "<table border=\"1\" class=\"dataframe\">\n",
       "  <thead>\n",
       "    <tr style=\"text-align: right;\">\n",
       "      <th></th>\n",
       "      <th>BJD_TDB</th>\n",
       "      <th>Flux</th>\n",
       "      <th>Err</th>\n",
       "      <th>Airmass</th>\n",
       "    </tr>\n",
       "  </thead>\n",
       "  <tbody>\n",
       "    <tr>\n",
       "      <th>0</th>\n",
       "      <td>2.459970e+06</td>\n",
       "      <td>1.018939</td>\n",
       "      <td>0.003909</td>\n",
       "      <td>1.033454</td>\n",
       "    </tr>\n",
       "    <tr>\n",
       "      <th>1</th>\n",
       "      <td>2.459970e+06</td>\n",
       "      <td>1.015728</td>\n",
       "      <td>0.003900</td>\n",
       "      <td>1.031711</td>\n",
       "    </tr>\n",
       "    <tr>\n",
       "      <th>2</th>\n",
       "      <td>2.459970e+06</td>\n",
       "      <td>1.017732</td>\n",
       "      <td>0.003898</td>\n",
       "      <td>1.030082</td>\n",
       "    </tr>\n",
       "    <tr>\n",
       "      <th>3</th>\n",
       "      <td>2.459970e+06</td>\n",
       "      <td>1.023297</td>\n",
       "      <td>0.003899</td>\n",
       "      <td>1.028545</td>\n",
       "    </tr>\n",
       "    <tr>\n",
       "      <th>4</th>\n",
       "      <td>2.459970e+06</td>\n",
       "      <td>1.029147</td>\n",
       "      <td>0.003880</td>\n",
       "      <td>1.027185</td>\n",
       "    </tr>\n",
       "  </tbody>\n",
       "</table>\n",
       "</div>"
      ],
      "text/plain": [
       "        BJD_TDB      Flux       Err   Airmass\n",
       "0  2.459970e+06  1.018939  0.003909  1.033454\n",
       "1  2.459970e+06  1.015728  0.003900  1.031711\n",
       "2  2.459970e+06  1.017732  0.003898  1.030082\n",
       "3  2.459970e+06  1.023297  0.003899  1.028545\n",
       "4  2.459970e+06  1.029147  0.003880  1.027185"
      ]
     },
     "execution_count": 14,
     "metadata": {},
     "output_type": "execute_result"
    }
   ],
   "source": [
    "def read_trappist_lc2(phot_dir='../data/photometry'):\n",
    "    fp = f'{phot_dir}/TIC_119585136-01_20230124_TRAPPIST-North-0.6m_I+z_measurments.txt'\n",
    "    df = pd.read_csv(fp, delim_whitespace=True)\n",
    "    mapping = {'#BJD-TDB': 'BJD_TDB', \n",
    "                'DIFF_FLUX': 'Flux',\n",
    "                'ERROR': 'Err',\n",
    "                'AIRMASS': 'Airmass'                    \n",
    "               }\n",
    "    df = df.rename(mapping, axis=1)\n",
    "    cols = mapping.values()\n",
    "    return df[cols]\n",
    "\n",
    "lc_trappist_I_z2 = read_trappist_lc2()\n",
    "lc_trappist_I_z2.head()"
   ]
  },
  {
   "cell_type": "code",
   "execution_count": 15,
   "id": "28ac3615-5610-4abd-af87-60db00929c18",
   "metadata": {},
   "outputs": [
    {
     "data": {
      "text/html": [
       "<div>\n",
       "<style scoped>\n",
       "    .dataframe tbody tr th:only-of-type {\n",
       "        vertical-align: middle;\n",
       "    }\n",
       "\n",
       "    .dataframe tbody tr th {\n",
       "        vertical-align: top;\n",
       "    }\n",
       "\n",
       "    .dataframe thead th {\n",
       "        text-align: right;\n",
       "    }\n",
       "</style>\n",
       "<table border=\"1\" class=\"dataframe\">\n",
       "  <thead>\n",
       "    <tr style=\"text-align: right;\">\n",
       "      <th></th>\n",
       "      <th>BJD_TDB</th>\n",
       "      <th>Flux</th>\n",
       "      <th>Err</th>\n",
       "      <th>Airmass</th>\n",
       "    </tr>\n",
       "  </thead>\n",
       "  <tbody>\n",
       "    <tr>\n",
       "      <th>0</th>\n",
       "      <td>2.459970e+06</td>\n",
       "      <td>1.008386</td>\n",
       "      <td>0.004462</td>\n",
       "      <td>1.289505</td>\n",
       "    </tr>\n",
       "    <tr>\n",
       "      <th>1</th>\n",
       "      <td>2.459970e+06</td>\n",
       "      <td>1.009927</td>\n",
       "      <td>0.004461</td>\n",
       "      <td>1.276964</td>\n",
       "    </tr>\n",
       "    <tr>\n",
       "      <th>2</th>\n",
       "      <td>2.459970e+06</td>\n",
       "      <td>1.014544</td>\n",
       "      <td>0.004474</td>\n",
       "      <td>1.264837</td>\n",
       "    </tr>\n",
       "    <tr>\n",
       "      <th>3</th>\n",
       "      <td>2.459970e+06</td>\n",
       "      <td>1.012119</td>\n",
       "      <td>0.004479</td>\n",
       "      <td>1.253126</td>\n",
       "    </tr>\n",
       "    <tr>\n",
       "      <th>4</th>\n",
       "      <td>2.459970e+06</td>\n",
       "      <td>1.021759</td>\n",
       "      <td>0.004488</td>\n",
       "      <td>1.241816</td>\n",
       "    </tr>\n",
       "  </tbody>\n",
       "</table>\n",
       "</div>"
      ],
      "text/plain": [
       "        BJD_TDB      Flux       Err   Airmass\n",
       "0  2.459970e+06  1.008386  0.004462  1.289505\n",
       "1  2.459970e+06  1.009927  0.004461  1.276964\n",
       "2  2.459970e+06  1.014544  0.004474  1.264837\n",
       "3  2.459970e+06  1.012119  0.004479  1.253126\n",
       "4  2.459970e+06  1.021759  0.004488  1.241816"
      ]
     },
     "execution_count": 15,
     "metadata": {},
     "output_type": "execute_result"
    }
   ],
   "source": [
    "def read_spec_lc1(phot_dir='../data/photometry'):\n",
    "    fp = f'{phot_dir}/TIC_119585136-01_20230124_SPECULOOS-North-1.0m_gp_Artemis_measurments.txt'\n",
    "    df = pd.read_csv(fp, delim_whitespace=True)\n",
    "    mapping = {'#BJD-TDB': 'BJD_TDB', \n",
    "                'DIFF_FLUX': 'Flux',\n",
    "                'ERROR': 'Err',\n",
    "                'AIRMASS': 'Airmass'                    \n",
    "               }\n",
    "    df = df.rename(mapping, axis=1)\n",
    "    cols = mapping.values()\n",
    "    return df[cols]\n",
    "\n",
    "lc_spec_gp = read_spec_lc1()\n",
    "lc_spec_gp.head()"
   ]
  },
  {
   "cell_type": "code",
   "execution_count": 16,
   "id": "06d0a975-de08-4524-9c44-674fda6a3ba1",
   "metadata": {},
   "outputs": [
    {
     "data": {
      "text/html": [
       "<div>\n",
       "<style scoped>\n",
       "    .dataframe tbody tr th:only-of-type {\n",
       "        vertical-align: middle;\n",
       "    }\n",
       "\n",
       "    .dataframe tbody tr th {\n",
       "        vertical-align: top;\n",
       "    }\n",
       "\n",
       "    .dataframe thead th {\n",
       "        text-align: right;\n",
       "    }\n",
       "</style>\n",
       "<table border=\"1\" class=\"dataframe\">\n",
       "  <thead>\n",
       "    <tr style=\"text-align: right;\">\n",
       "      <th></th>\n",
       "      <th>BJD_TDB</th>\n",
       "      <th>Flux</th>\n",
       "      <th>Err</th>\n",
       "      <th>Airmass</th>\n",
       "    </tr>\n",
       "  </thead>\n",
       "  <tbody>\n",
       "    <tr>\n",
       "      <th>0</th>\n",
       "      <td>2.460031e+06</td>\n",
       "      <td>1.016438</td>\n",
       "      <td>0.004765</td>\n",
       "      <td>1.812541</td>\n",
       "    </tr>\n",
       "    <tr>\n",
       "      <th>1</th>\n",
       "      <td>2.460031e+06</td>\n",
       "      <td>1.014469</td>\n",
       "      <td>0.004713</td>\n",
       "      <td>1.800502</td>\n",
       "    </tr>\n",
       "    <tr>\n",
       "      <th>2</th>\n",
       "      <td>2.460031e+06</td>\n",
       "      <td>1.008935</td>\n",
       "      <td>0.004674</td>\n",
       "      <td>1.788577</td>\n",
       "    </tr>\n",
       "    <tr>\n",
       "      <th>3</th>\n",
       "      <td>2.460031e+06</td>\n",
       "      <td>1.008948</td>\n",
       "      <td>0.004665</td>\n",
       "      <td>1.776939</td>\n",
       "    </tr>\n",
       "    <tr>\n",
       "      <th>4</th>\n",
       "      <td>2.460031e+06</td>\n",
       "      <td>1.015601</td>\n",
       "      <td>0.004643</td>\n",
       "      <td>1.765365</td>\n",
       "    </tr>\n",
       "  </tbody>\n",
       "</table>\n",
       "</div>"
      ],
      "text/plain": [
       "        BJD_TDB      Flux       Err   Airmass\n",
       "0  2.460031e+06  1.016438  0.004765  1.812541\n",
       "1  2.460031e+06  1.014469  0.004713  1.800502\n",
       "2  2.460031e+06  1.008935  0.004674  1.788577\n",
       "3  2.460031e+06  1.008948  0.004665  1.776939\n",
       "4  2.460031e+06  1.015601  0.004643  1.765365"
      ]
     },
     "execution_count": 16,
     "metadata": {},
     "output_type": "execute_result"
    }
   ],
   "source": [
    "def read_spec_lc2(phot_dir='../data/photometry'):\n",
    "    fp = f'{phot_dir}/TIC_119585136-01_20230327_SPECULOOS-North-1m0_z_measurments.txt'\n",
    "    df = pd.read_csv(fp, delim_whitespace=True)\n",
    "    mapping = {'#BJD-TDB': 'BJD_TDB', \n",
    "                'DIFF_FLUX': 'Flux',\n",
    "                'ERROR': 'Err',\n",
    "                'AIRMASS': 'Airmass'                    \n",
    "               }\n",
    "    df = df.rename(mapping, axis=1)\n",
    "    cols = mapping.values()\n",
    "    return df[cols]\n",
    "\n",
    "lc_spec_z = read_spec_lc2()\n",
    "lc_spec_z.head()"
   ]
  },
  {
   "cell_type": "code",
   "execution_count": 17,
   "id": "9ec65677-74a9-4ea0-a336-34eaeb41ded6",
   "metadata": {},
   "outputs": [
    {
     "data": {
      "text/html": [
       "<div>\n",
       "<style scoped>\n",
       "    .dataframe tbody tr th:only-of-type {\n",
       "        vertical-align: middle;\n",
       "    }\n",
       "\n",
       "    .dataframe tbody tr th {\n",
       "        vertical-align: top;\n",
       "    }\n",
       "\n",
       "    .dataframe thead th {\n",
       "        text-align: right;\n",
       "    }\n",
       "</style>\n",
       "<table border=\"1\" class=\"dataframe\">\n",
       "  <thead>\n",
       "    <tr style=\"text-align: right;\">\n",
       "      <th></th>\n",
       "      <th>BJD_TDB</th>\n",
       "      <th>Flux</th>\n",
       "      <th>Err</th>\n",
       "      <th>Airmass</th>\n",
       "    </tr>\n",
       "  </thead>\n",
       "  <tbody>\n",
       "    <tr>\n",
       "      <th>0</th>\n",
       "      <td>2.460050e+06</td>\n",
       "      <td>1.017918</td>\n",
       "      <td>0.002785</td>\n",
       "      <td>1.039033</td>\n",
       "    </tr>\n",
       "    <tr>\n",
       "      <th>1</th>\n",
       "      <td>2.460050e+06</td>\n",
       "      <td>1.019430</td>\n",
       "      <td>0.002780</td>\n",
       "      <td>1.036963</td>\n",
       "    </tr>\n",
       "    <tr>\n",
       "      <th>2</th>\n",
       "      <td>2.460050e+06</td>\n",
       "      <td>1.019083</td>\n",
       "      <td>0.002785</td>\n",
       "      <td>1.036151</td>\n",
       "    </tr>\n",
       "    <tr>\n",
       "      <th>3</th>\n",
       "      <td>2.460050e+06</td>\n",
       "      <td>1.013999</td>\n",
       "      <td>0.002783</td>\n",
       "      <td>1.035364</td>\n",
       "    </tr>\n",
       "    <tr>\n",
       "      <th>4</th>\n",
       "      <td>2.460050e+06</td>\n",
       "      <td>1.031311</td>\n",
       "      <td>0.002781</td>\n",
       "      <td>1.034592</td>\n",
       "    </tr>\n",
       "  </tbody>\n",
       "</table>\n",
       "</div>"
      ],
      "text/plain": [
       "        BJD_TDB      Flux       Err   Airmass\n",
       "0  2.460050e+06  1.017918  0.002785  1.039033\n",
       "1  2.460050e+06  1.019430  0.002780  1.036963\n",
       "2  2.460050e+06  1.019083  0.002785  1.036151\n",
       "3  2.460050e+06  1.013999  0.002783  1.035364\n",
       "4  2.460050e+06  1.031311  0.002781  1.034592"
      ]
     },
     "execution_count": 17,
     "metadata": {},
     "output_type": "execute_result"
    }
   ],
   "source": [
    "def read_spec_lc3(phot_dir='../data/photometry'):\n",
    "    fp = f'{phot_dir}/TIC_23863105-01_20230414_SPECULOOS-North-1m0_I+z_measurments.txt'\n",
    "    df = pd.read_csv(fp, delim_whitespace=True)\n",
    "    mapping = {'#BJD-TDB': 'BJD_TDB', \n",
    "                'DIFF_FLUX': 'Flux',\n",
    "                'ERROR': 'Err',\n",
    "                'AIRMASS': 'Airmass'                    \n",
    "               }\n",
    "    df = df.rename(mapping, axis=1)\n",
    "    cols = mapping.values()\n",
    "    return df[cols]\n",
    "\n",
    "lc_spec_I_z = read_spec_lc3()\n",
    "lc_spec_I_z.head()"
   ]
  },
  {
   "cell_type": "code",
   "execution_count": 18,
   "id": "ef1bd5aa-61f2-40ab-9176-e78f005ae904",
   "metadata": {},
   "outputs": [
    {
     "data": {
      "text/html": [
       "<div>\n",
       "<style scoped>\n",
       "    .dataframe tbody tr th:only-of-type {\n",
       "        vertical-align: middle;\n",
       "    }\n",
       "\n",
       "    .dataframe tbody tr th {\n",
       "        vertical-align: top;\n",
       "    }\n",
       "\n",
       "    .dataframe thead th {\n",
       "        text-align: right;\n",
       "    }\n",
       "</style>\n",
       "<table border=\"1\" class=\"dataframe\">\n",
       "  <thead>\n",
       "    <tr style=\"text-align: right;\">\n",
       "      <th></th>\n",
       "      <th>BJD_TDB</th>\n",
       "      <th>Flux</th>\n",
       "      <th>Err</th>\n",
       "      <th>Airmass</th>\n",
       "    </tr>\n",
       "  </thead>\n",
       "  <tbody>\n",
       "    <tr>\n",
       "      <th>0</th>\n",
       "      <td>2.460030e+06</td>\n",
       "      <td>0.238925</td>\n",
       "      <td>0.001182</td>\n",
       "      <td>1.680004</td>\n",
       "    </tr>\n",
       "    <tr>\n",
       "      <th>1</th>\n",
       "      <td>2.460030e+06</td>\n",
       "      <td>0.239178</td>\n",
       "      <td>0.001183</td>\n",
       "      <td>1.628107</td>\n",
       "    </tr>\n",
       "    <tr>\n",
       "      <th>2</th>\n",
       "      <td>2.460030e+06</td>\n",
       "      <td>0.241024</td>\n",
       "      <td>0.001179</td>\n",
       "      <td>1.579709</td>\n",
       "    </tr>\n",
       "    <tr>\n",
       "      <th>3</th>\n",
       "      <td>2.460030e+06</td>\n",
       "      <td>0.240627</td>\n",
       "      <td>0.001195</td>\n",
       "      <td>1.535138</td>\n",
       "    </tr>\n",
       "    <tr>\n",
       "      <th>4</th>\n",
       "      <td>2.460030e+06</td>\n",
       "      <td>0.240889</td>\n",
       "      <td>0.001235</td>\n",
       "      <td>1.493505</td>\n",
       "    </tr>\n",
       "  </tbody>\n",
       "</table>\n",
       "</div>"
      ],
      "text/plain": [
       "        BJD_TDB      Flux       Err   Airmass\n",
       "0  2.460030e+06  0.238925  0.001182  1.680004\n",
       "1  2.460030e+06  0.239178  0.001183  1.628107\n",
       "2  2.460030e+06  0.241024  0.001179  1.579709\n",
       "3  2.460030e+06  0.240627  0.001195  1.535138\n",
       "4  2.460030e+06  0.240889  0.001235  1.493505"
      ]
     },
     "execution_count": 18,
     "metadata": {},
     "output_type": "execute_result"
    }
   ],
   "source": [
    "def read_lco1_V(phot_dir='../data/photometry'):\n",
    "    fp = f'{phot_dir}/TIC23863105-01_20230326_LCO-McD-1m0_V_measurements.tbl'\n",
    "    df = pd.read_csv(fp, delim_whitespace=True)\n",
    "    mapping = {'BJD_TDB': 'BJD_TDB',\n",
    "               'rel_flux_T1': 'Flux',\n",
    "               'rel_flux_err_T1': 'Err',\n",
    "               'AIRMASS': 'Airmass',\n",
    "               #'Peak_T1', \n",
    "               # 'FWHM_T1', \n",
    "               # 'X(IJ)_T1', \n",
    "               # 'Y(IJ)_T1', \n",
    "               # 'Source-Sky_T1'\n",
    "               }\n",
    "    df = df.rename(mapping, axis=1)\n",
    "    cols = mapping.values()\n",
    "    return df[cols]\n",
    "\n",
    "lc_lco1_V = read_lco1_V()\n",
    "lc_lco1_V.head()"
   ]
  },
  {
   "cell_type": "code",
   "execution_count": 19,
   "id": "32a57d5a-ce78-4e1d-8815-43d6a0b2c7d5",
   "metadata": {},
   "outputs": [
    {
     "data": {
      "text/html": [
       "<div>\n",
       "<style scoped>\n",
       "    .dataframe tbody tr th:only-of-type {\n",
       "        vertical-align: middle;\n",
       "    }\n",
       "\n",
       "    .dataframe tbody tr th {\n",
       "        vertical-align: top;\n",
       "    }\n",
       "\n",
       "    .dataframe thead th {\n",
       "        text-align: right;\n",
       "    }\n",
       "</style>\n",
       "<table border=\"1\" class=\"dataframe\">\n",
       "  <thead>\n",
       "    <tr style=\"text-align: right;\">\n",
       "      <th></th>\n",
       "      <th>BJD_TDB</th>\n",
       "      <th>Flux</th>\n",
       "      <th>Err</th>\n",
       "      <th>Airmass</th>\n",
       "    </tr>\n",
       "  </thead>\n",
       "  <tbody>\n",
       "    <tr>\n",
       "      <th>0</th>\n",
       "      <td>2.460063e+06</td>\n",
       "      <td>0.400496</td>\n",
       "      <td>0.002861</td>\n",
       "      <td>1.011899</td>\n",
       "    </tr>\n",
       "    <tr>\n",
       "      <th>1</th>\n",
       "      <td>2.460063e+06</td>\n",
       "      <td>0.397889</td>\n",
       "      <td>0.002842</td>\n",
       "      <td>1.010461</td>\n",
       "    </tr>\n",
       "    <tr>\n",
       "      <th>2</th>\n",
       "      <td>2.460063e+06</td>\n",
       "      <td>0.400579</td>\n",
       "      <td>0.002853</td>\n",
       "      <td>1.009696</td>\n",
       "    </tr>\n",
       "    <tr>\n",
       "      <th>3</th>\n",
       "      <td>2.460063e+06</td>\n",
       "      <td>0.396220</td>\n",
       "      <td>0.002819</td>\n",
       "      <td>1.009603</td>\n",
       "    </tr>\n",
       "    <tr>\n",
       "      <th>4</th>\n",
       "      <td>2.460063e+06</td>\n",
       "      <td>0.401806</td>\n",
       "      <td>0.002836</td>\n",
       "      <td>1.010179</td>\n",
       "    </tr>\n",
       "  </tbody>\n",
       "</table>\n",
       "</div>"
      ],
      "text/plain": [
       "        BJD_TDB      Flux       Err   Airmass\n",
       "0  2.460063e+06  0.400496  0.002861  1.011899\n",
       "1  2.460063e+06  0.397889  0.002842  1.010461\n",
       "2  2.460063e+06  0.400579  0.002853  1.009696\n",
       "3  2.460063e+06  0.396220  0.002819  1.009603\n",
       "4  2.460063e+06  0.401806  0.002836  1.010179"
      ]
     },
     "execution_count": 19,
     "metadata": {},
     "output_type": "execute_result"
    }
   ],
   "source": [
    "def read_lco1_gp(phot_dir='../data/photometry'):\n",
    "    fp = f'{phot_dir}/TIC23863105-01_20230428_LCO-MCD-1m0_gp_measurements.tbl'\n",
    "    df = pd.read_csv(fp, delim_whitespace=True)\n",
    "    mapping = {'BJD_TDB': 'BJD_TDB',\n",
    "               'rel_flux_T1': 'Flux',\n",
    "               'rel_flux_err_T1': 'Err',\n",
    "               'AIRMASS': 'Airmass',\n",
    "               #'Peak_T1', \n",
    "               # 'FWHM_T1', \n",
    "               # 'X(IJ)_T1', \n",
    "               # 'Y(IJ)_T1', \n",
    "               # 'Source-Sky_T1'\n",
    "               }\n",
    "    df = df.rename(mapping, axis=1)\n",
    "    cols = mapping.values()\n",
    "    return df[cols]\n",
    "\n",
    "lc_lco1_gp = read_lco1_gp()\n",
    "lc_lco1_gp.head()"
   ]
  },
  {
   "cell_type": "code",
   "execution_count": 36,
   "id": "5fcd908b-0707-40b0-9589-4484b4d7782f",
   "metadata": {},
   "outputs": [],
   "source": [
    "lcs = {}\n",
    "lcs['gp'] = {'muscat3': lc_muscat3_g, \n",
    "             'lco1m': lc_lco1_gp, \n",
    "             'speculoos': lc_spec_gp\n",
    "            }\n",
    "lcs['V']  = {'lco1m': lc_lco1_V,}\n",
    "lcs['rp'] = {'muscat3': lc_muscat3_r,}\n",
    "lcs['ip'] = {'muscat3': lc_muscat3_i, \n",
    "             'keplercam': lc_kep_ip,\n",
    "            }\n",
    "lcs['Iz'] = {'speculoos': lc_spec_I_z,\n",
    "             'trappist_a': lc_trappist_I_z1,\n",
    "             'trappist_b': lc_trappist_I_z2,\n",
    "            }\n",
    "lcs['zs'] = {'muscat3': lc_muscat3_z, \n",
    "             'speculoos': lc_spec_z,\n",
    "             'lco0.4m_a': lc_lco0_teide_zs, \n",
    "             'lco0.4m_b': lc_lco0_hal_zs\n",
    "            }\n",
    "lcs['TESS'] = {'TESS': lc_tess,}"
   ]
  },
  {
   "cell_type": "code",
   "execution_count": 37,
   "id": "74d68661-4868-458e-b4df-0be50a2167ff",
   "metadata": {},
   "outputs": [
    {
     "data": {
      "text/plain": [
       "7"
      ]
     },
     "execution_count": 37,
     "metadata": {},
     "output_type": "execute_result"
    }
   ],
   "source": [
    "nband = len(lcs)\n",
    "nband"
   ]
  },
  {
   "cell_type": "code",
   "execution_count": 38,
   "id": "b573dea6-965a-4944-9d38-1f74b08e5349",
   "metadata": {},
   "outputs": [
    {
     "data": {
      "text/plain": [
       "15"
      ]
     },
     "execution_count": 38,
     "metadata": {},
     "output_type": "execute_result"
    }
   ],
   "source": [
    "ndatasets = sum([len(v) for k,v in lcs.items()])\n",
    "ndatasets"
   ]
  },
  {
   "cell_type": "code",
   "execution_count": 26,
   "id": "e67092b2-150c-48f2-985c-950fafd6967f",
   "metadata": {},
   "outputs": [],
   "source": [
    "import numpy as np\n",
    "\n",
    "def phase_fold(time, flux, flux_err, P):\n",
    "    \n",
    "    fold = time % P\n",
    "    phase_sort = np.argsort(fold)\n",
    "\n",
    "    phase_time = fold[phase_sort]\n",
    "    phase_flux = flux[phase_sort]\n",
    "    phase_flux_err = flux_err[phase_sort]\n",
    "    \n",
    "    return phase_time, phase_flux, phase_flux_err"
   ]
  },
  {
   "cell_type": "code",
   "execution_count": 27,
   "id": "019c8e8c-ae2b-4ed9-bbba-b8dbee93ab5a",
   "metadata": {},
   "outputs": [
    {
     "name": "stderr",
     "output_type": "stream",
     "text": [
      "/home/jp/miniconda3/envs/toi5671/lib/python3.11/site-packages/tqdm/auto.py:21: TqdmWarning: IProgress not found. Please update jupyter and ipywidgets. See https://ipywidgets.readthedocs.io/en/stable/user_install.html\n",
      "  from .autonotebook import tqdm as notebook_tqdm\n"
     ]
    }
   ],
   "source": [
    "from toi5671 import binning_equal_interval, colors, pl"
   ]
  },
  {
   "cell_type": "code",
   "execution_count": 28,
   "id": "1ff77375-bf4f-4717-83e9-e57e51b28cca",
   "metadata": {},
   "outputs": [
    {
     "data": {
      "text/plain": [
       "(-0.1, 0.1)"
      ]
     },
     "execution_count": 28,
     "metadata": {},
     "output_type": "execute_result"
    },
    {
     "data": {
      "image/png": "[encoded data removed]",
      "text/plain": [
       "<Figure size 640x480 with 1 Axes>"
      ]
     },
     "metadata": {},
     "output_type": "display_data"
    }
   ],
   "source": [
    "period = 3.3079817 #± 0.0006559\n",
    "t0 = 2459685.753346 #± 0.0018235 \n",
    "# t,f,e = phase_fold(lc_tess.BJD_TDB.values-t0, lc_tess.Flux.values, lc_tess.Err.values, period)\n",
    "\n",
    "t = lc_tess.BJD_TDB.values\n",
    "p = ((((t-t0) / period) - 0.5) % 1) - 0.5\n",
    "f = lc_tess.Flux.values\n",
    "e = lc_tess.Err.values\n",
    "t2,f2,e2 = binning_equal_interval(p, f, e, binsize=10/60/24, t0=t0)\n",
    "pl.plot(p, f, '.')\n",
    "pl.plot(t2, f2, 'o')\n",
    "pl.xlim(-.1,0.1)"
   ]
  },
  {
   "cell_type": "code",
   "execution_count": 29,
   "id": "56a5b098-0b9a-4ff6-bc12-69931b064417",
   "metadata": {},
   "outputs": [],
   "source": [
    "def get_epoch_number(times, period, t0):\n",
    "    return int(np.floor((max(times)-t0)/period))"
   ]
  },
  {
   "cell_type": "code",
   "execution_count": 30,
   "id": "4347344f-7f80-4341-a434-4585b5f01055",
   "metadata": {},
   "outputs": [
    {
     "data": {
      "text/plain": [
       "array([-9.46656992e-02, -8.97036628e-02, -8.47066259e-02, -7.97465895e-02,\n",
       "       -7.47555541e-02, -6.97945175e-02, -6.48264815e-02, -5.98194436e-02,\n",
       "       -5.48514072e-02, -4.98893713e-02, -4.49163350e-02, -3.99512998e-02,\n",
       "       -3.49552627e-02, -2.48811906e-02, -1.99181540e-02, -1.49011174e-02,\n",
       "       -9.93608125e-03, -4.97404533e-03,  3.59904952e-05,  5.00202645e-03,\n",
       "        9.99506237e-03,  1.49740987e-02,  1.99521328e-02,  2.49191690e-02,\n",
       "        2.99072061e-02,  3.48682418e-02,  3.98282763e-02,  4.47883122e-02,\n",
       "        4.97663482e-02,  5.47343832e-02])"
      ]
     },
     "execution_count": 30,
     "metadata": {},
     "output_type": "execute_result"
    }
   ],
   "source": [
    "t = lcs['V']['lco1m'].BJD_TDB.values\n",
    "n = get_epoch_number(t, period, t0)\n",
    "tc = t0+n*period\n",
    "t-tc"
   ]
  },
  {
   "cell_type": "code",
   "execution_count": 41,
   "id": "84f756dd-67c9-425d-bfd7-958e54afc439",
   "metadata": {},
   "outputs": [
    {
     "data": {
      "image/png": "[encoded data removed]",
      "text/plain": [
       "<Figure size 500x1000 with 15 Axes>"
      ]
     },
     "metadata": {},
     "output_type": "display_data"
    }
   ],
   "source": [
    "fig = pl.figure(figsize=(5,10))\n",
    "i = 0\n",
    "for band,data in lcs.items():\n",
    "    for inst,lc in data.items():\n",
    "        ax = fig.add_subplot(ndatasets//2+1,2,1+i)\n",
    "\n",
    "        t = lc.BJD_TDB\n",
    "        f = lc.Flux/np.median(lc.Flux)\n",
    "        n = get_epoch_number(t, period, t0)\n",
    "        tc = t0+n*period\n",
    "        ax.plot(t-tc, f, color=colors[band])\n",
    "        ax.set_title(f'{inst}/{band}')\n",
    "        i+=1\n",
    "        ax.set_ylim(0.9, 1.05)\n",
    "fig.tight_layout()"
   ]
  },
  {
   "cell_type": "markdown",
   "id": "e5ac7e82-6557-4294-8dc0-f9e18f87b9b9",
   "metadata": {},
   "source": [
    "* Tc\n",
    "* period\n",
    "* r1 --> b\n",
    "* r2 --> k\n",
    "* q1,q2 for each band (2x7)\n",
    "* d for each lc (10)"
   ]
  },
  {
   "cell_type": "markdown",
   "id": "6d48f804-05d5-41c4-ad4b-03b4c3beb202",
   "metadata": {},
   "source": [
    "## Filter profiles\n",
    "* http://svo2.cab.inta-csic.es/svo/theory/fps3/index.php\n",
    "* MuSCAT2: https://drive.google.com/drive/folders/1cnpqIF7MxLies8xGt2-OH8OOfQ9aJ7_a"
   ]
  },
  {
   "cell_type": "code",
   "execution_count": 55,
   "id": "bb994c42-837d-4a0b-ab2a-7b8db43c5915",
   "metadata": {},
   "outputs": [],
   "source": [
    "from astropy.io import ascii\n",
    "\n",
    "def get_filter_profile(url):\n",
    "    df = ascii.read(url).to_pandas()\n",
    "    df.columns = ['wav','trans']\n",
    "    return df"
   ]
  },
  {
   "cell_type": "code",
   "execution_count": 56,
   "id": "edfc256e-875b-4e4a-91e9-cecc4f59e9f5",
   "metadata": {},
   "outputs": [],
   "source": [
    "urls = {\n",
    "    'V': 'http://svo2.cab.inta-csic.es/svo/theory/fps3/getdata.php?format=ascii&id=LasCumbres/LasCumbres.Bessel_V',\n",
    "    'gp': 'http://svo2.cab.inta-csic.es/svo/theory/fps3/getdata.php?format=ascii&id=SLOAN/SDSS.gprime_filter',\n",
    "    'rp': 'http://svo2.cab.inta-csic.es/svo/theory/fps3/getdata.php?format=ascii&id=SLOAN/SDSS.rprime_filter',\n",
    "    'ip': 'http://svo2.cab.inta-csic.es/svo/theory/fps3/getdata.php?format=ascii&id=SLOAN/SDSS.iprime_filter',\n",
    "    # 'i': 'http://svo2.cab.inta-csic.es/svo/theory/fps3/getdata.php?format=ascii&id=FLWO/KeplerCam.i',\n",
    "    # 'z': 'http://svo2.cab.inta-csic.es/svo/theory/fps3/getdata.php?format=ascii&id=SLOAN/SDSS.z',\n",
    "    'zs': 'http://svo2.cab.inta-csic.es/svo/theory/fps3/getdata.php?format=ascii&id=LasCumbres/LasCumbres.PS_z',\n",
    "    'Iz': 'http://svo2.cab.inta-csic.es/svo/theory/fps3/getdata.php?format=ascii&id=SPECULOOS/SPECULOOS_S.iz',\n",
    "    'TESS': 'http://svo2.cab.inta-csic.es/svo/theory/fps3/getdata.php?format=ascii&id=TESS/TESS.Red',\n",
    "}"
   ]
  },
  {
   "cell_type": "code",
   "execution_count": 57,
   "id": "08533ed6-5d4f-44b6-a1d8-825de75f7711",
   "metadata": {},
   "outputs": [],
   "source": [
    "profiles = {}\n",
    "for band,url in urls.items():\n",
    "    if band not in profiles.keys():\n",
    "        df = get_filter_profile(url)\n",
    "        profiles[band] = df"
   ]
  },
  {
   "cell_type": "code",
   "execution_count": 65,
   "id": "6140e828-d2cc-4efe-b47b-997828111b6f",
   "metadata": {},
   "outputs": [
    {
     "name": "stdout",
     "output_type": "stream",
     "text": [
      "V: 484.0,606.4\n",
      "gp: 391.4,556.3\n",
      "rp: 546.0,703.4\n",
      "ip: 682.9,860.0\n",
      "zs: 811.0,927.5\n",
      "Iz: 716.3397,1034.5211\n",
      "TESS: 585.0,1056.0\n",
      "gp: 401.5,552.5\n",
      "rp: 562.5,697.5\n",
      "ip: 705.0,817.5\n",
      "zs: 825.0,922.5\n"
     ]
    },
    {
     "data": {
      "text/plain": [
       "Text(0.5, 1.0, 'Filter profiles')"
      ]
     },
     "execution_count": 65,
     "metadata": {},
     "output_type": "execute_result"
    },
    {
     "data": {
      "image/png": "[encoded data removed]",
      "text/plain": [
       "<Figure size 640x480 with 1 Axes>"
      ]
     },
     "metadata": {},
     "output_type": "display_data"
    }
   ],
   "source": [
    "filter_widths = {}\n",
    "for band,df in profiles.items():\n",
    "    wav = df.wav/10\n",
    "    trans = df.trans\n",
    "    idx = trans>0.1\n",
    "    print(f\"{band}: {wav[idx].min()},{wav[idx].max()}\")\n",
    "    filter_widths[band] = (wav[idx].min(), wav[idx].max())\n",
    "    pl.plot(wav, trans, label=band, color=colors[band])\n",
    "\n",
    "#superpose muscat filters\n",
    "muscat2 = pd.read_csv('../data/photometry/filters/TP_MuSCAT2.csv')\n",
    "muscat2 = muscat2.rename({\n",
    "    'Filter_g': 'gp',\n",
    "    'Filter_r': 'rp',\n",
    "    'Filter_i': 'ip',\n",
    "    'Filter_z': 'zs'\n",
    "    }, axis=1\n",
    ")\n",
    "for band in ['gp','rp','ip','zs']:\n",
    "    wav = muscat2['wavelength']\n",
    "    trans = muscat2[band]\n",
    "    idx = trans>0.1\n",
    "    print(f\"{band}: {wav[idx].min()},{wav[idx].max()}\")\n",
    "    filter_widths[band] = (wav[idx].min(), wav[idx].max())\n",
    "    pl.plot(wav, trans, color=colors[band], ls='--')\n",
    "pl.legend()\n",
    "pl.xlabel('Wavelength (nm)')\n",
    "pl.ylabel('Transmission')\n",
    "pl.title('Filter profiles')"
   ]
  },
  {
   "cell_type": "code",
   "execution_count": 66,
   "id": "97b81658-372d-41e4-b374-c4c276956b33",
   "metadata": {},
   "outputs": [
    {
     "data": {
      "text/plain": [
       "{'V': (484.0, 606.4),\n",
       " 'gp': (401.5, 552.5),\n",
       " 'rp': (562.5, 697.5),\n",
       " 'ip': (705.0, 817.5),\n",
       " 'zs': (825.0, 922.5),\n",
       " 'Iz': (716.3397, 1034.5211),\n",
       " 'TESS': (585.0, 1056.0)}"
      ]
     },
     "execution_count": 66,
     "metadata": {},
     "output_type": "execute_result"
    }
   ],
   "source": [
    "filter_widths"
   ]
  },
  {
   "cell_type": "code",
   "execution_count": 75,
   "id": "792b07b6-b430-4e86-acf6-62ccf1a162ed",
   "metadata": {},
   "outputs": [],
   "source": [
    "from ldtk import LDPSetCreator, BoxcarFilter\n",
    "\n",
    "filters = []\n",
    "for band in filter_widths:\n",
    "    filter = BoxcarFilter(band, *filter_widths[band])\n",
    "    filters.append(filter)\n",
    "    \n",
    "sc = LDPSetCreator(teff=(3380,157),\n",
    "                   logg=(4.82,0.00),\n",
    "                   z=(0.00,0.10),\n",
    "                   filters=filters)    # FTP server automatically.\n",
    "\n",
    "ps = sc.create_profiles()                # Create the limb darkening profiles\n",
    "cq,eq = ps.coeffs_qd(do_mc=True)         # Estimate quadratic law coefficients"
   ]
  },
  {
   "cell_type": "code",
   "execution_count": 76,
   "id": "7741ca29-8b2a-44e6-be7a-d7e1da1a9a8e",
   "metadata": {},
   "outputs": [
    {
     "data": {
      "text/plain": [
       "array([[0.5474963 , 0.27849709],\n",
       "       [0.52240439, 0.30151532],\n",
       "       [0.52222044, 0.26263276],\n",
       "       [0.31879468, 0.29881815],\n",
       "       [0.24331988, 0.28547272],\n",
       "       [0.24203679, 0.26659062],\n",
       "       [0.27163157, 0.25778605]])"
      ]
     },
     "execution_count": 76,
     "metadata": {},
     "output_type": "execute_result"
    }
   ],
   "source": [
    "cq"
   ]
  }
 ],
 "metadata": {
  "kernelspec": {
   "display_name": "Python 3 (ipykernel)",
   "language": "python",
   "name": "python3"
  },
  "language_info": {
   "codemirror_mode": {
    "name": "ipython",
    "version": 3
   },
   "file_extension": ".py",
   "mimetype": "text/x-python",
   "name": "python",
   "nbconvert_exporter": "python",
   "pygments_lexer": "ipython3",
   "version": "3.11.7"
  }
 },
 "nbformat": 4,
 "nbformat_minor": 5
}
