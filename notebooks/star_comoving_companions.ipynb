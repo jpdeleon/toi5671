{
 "cells": [
  {
   "cell_type": "markdown",
   "id": "945622c9-9982-42df-9724-58c7157f1d02",
   "metadata": {},
   "source": [
    "This notebook querries the gaia sources around the known GEMS and computes the 3D separation from the target. I found that about 1 in 4 among the known GEMS have a nearby companion. \n",
    "\n",
    "TODO: \n",
    "* check which GEMS have companions not reported in literature (discovery paper)\n",
    "* check if these are comoving companions\n",
    "* check if theory supports that giant planets are more likely to form around binary star disk\n",
    "  - [Most HJ are lonely](https://ui.adsabs.harvard.edu/abs/2024ESS.....561101S/abstract)\n",
    "  - [HJ are not as lonely: 72% ± 16% of hot Jupiters are part of multi-planet and/or multi-star systems](https://ui.adsabs.harvard.edu/abs/2015ApJ...800..138N/abstract)\n",
    "  - [at least 12% ± 6% of hot Jupiters have a nearby planetary companion detected via TTV in Kepler light curves](https://ui.adsabs.harvard.edu/abs/2023AJ....165..171W/abstract)\n",
    "  - "
   ]
  },
  {
   "cell_type": "code",
   "execution_count": 1,
   "id": "b41115f1-f66e-43d2-9fc8-8f0463d25528",
   "metadata": {},
   "outputs": [],
   "source": [
    "import sys\n",
    "sys.path.insert(0, '..')"
   ]
  },
  {
   "cell_type": "code",
   "execution_count": 2,
   "id": "b6d7b7cd-0210-45ee-a749-821a9021d30a",
   "metadata": {},
   "outputs": [
    {
     "name": "stderr",
     "output_type": "stream",
     "text": [
      "/opt/miniconda3/envs/toi5671/lib/python3.11/site-packages/tqdm/auto.py:21: TqdmWarning: IProgress not found. Please update jupyter and ipywidgets. See https://ipywidgets.readthedocs.io/en/stable/user_install.html\n",
      "  from .autonotebook import tqdm as notebook_tqdm\n"
     ]
    }
   ],
   "source": [
    "from toi5671 import Star"
   ]
  },
  {
   "cell_type": "code",
   "execution_count": 3,
   "id": "e24027a3-9bfc-4d62-bdc4-4094a5845cb1",
   "metadata": {},
   "outputs": [
    {
     "name": "stderr",
     "output_type": "stream",
     "text": [
      "/var/folders/4s/07r41mpn76n_0fykwqyjgc840000gn/T/ipykernel_98022/1112017024.py:17: DtypeWarning: Columns (70,71) have mixed types. Specify dtype option on import or set low_memory=False.\n",
      "  df = pd.read_csv(fp, index_col=0)\n"
     ]
    },
    {
     "data": {
      "text/html": [
       "<div>\n",
       "<style scoped>\n",
       "    .dataframe tbody tr th:only-of-type {\n",
       "        vertical-align: middle;\n",
       "    }\n",
       "\n",
       "    .dataframe tbody tr th {\n",
       "        vertical-align: top;\n",
       "    }\n",
       "\n",
       "    .dataframe thead th {\n",
       "        text-align: right;\n",
       "    }\n",
       "</style>\n",
       "<table border=\"1\" class=\"dataframe\">\n",
       "  <thead>\n",
       "    <tr style=\"text-align: right;\">\n",
       "      <th></th>\n",
       "      <th>pl_name</th>\n",
       "      <th>pl_letter</th>\n",
       "      <th>hostname</th>\n",
       "      <th>hd_name</th>\n",
       "      <th>hip_name</th>\n",
       "      <th>tic_id</th>\n",
       "      <th>disc_pubdate</th>\n",
       "      <th>disc_year</th>\n",
       "      <th>discoverymethod</th>\n",
       "      <th>disc_locale</th>\n",
       "      <th>...</th>\n",
       "      <th>sy_pmra</th>\n",
       "      <th>sy_pmraerr1</th>\n",
       "      <th>sy_pmraerr2</th>\n",
       "      <th>sy_pmrastr</th>\n",
       "      <th>x</th>\n",
       "      <th>y</th>\n",
       "      <th>z</th>\n",
       "      <th>htm20</th>\n",
       "      <th>sky_coord.ra</th>\n",
       "      <th>sky_coord.dec</th>\n",
       "    </tr>\n",
       "    <tr>\n",
       "      <th>index</th>\n",
       "      <th></th>\n",
       "      <th></th>\n",
       "      <th></th>\n",
       "      <th></th>\n",
       "      <th></th>\n",
       "      <th></th>\n",
       "      <th></th>\n",
       "      <th></th>\n",
       "      <th></th>\n",
       "      <th></th>\n",
       "      <th></th>\n",
       "      <th></th>\n",
       "      <th></th>\n",
       "      <th></th>\n",
       "      <th></th>\n",
       "      <th></th>\n",
       "      <th></th>\n",
       "      <th></th>\n",
       "      <th></th>\n",
       "      <th></th>\n",
       "      <th></th>\n",
       "    </tr>\n",
       "  </thead>\n",
       "  <tbody>\n",
       "    <tr>\n",
       "      <th>0</th>\n",
       "      <td>OGLE-2016-BLG-1227L b</td>\n",
       "      <td>b</td>\n",
       "      <td>OGLE-2016-BLG-1227L</td>\n",
       "      <td>NaN</td>\n",
       "      <td>NaN</td>\n",
       "      <td>NaN</td>\n",
       "      <td>2020-03</td>\n",
       "      <td>2020</td>\n",
       "      <td>Microlensing</td>\n",
       "      <td>Ground</td>\n",
       "      <td>...</td>\n",
       "      <td>NaN</td>\n",
       "      <td>NaN</td>\n",
       "      <td>NaN</td>\n",
       "      <td>NaN</td>\n",
       "      <td>-0.063824</td>\n",
       "      <td>-0.828921</td>\n",
       "      <td>-0.555712</td>\n",
       "      <td>-768415656</td>\n",
       "      <td>265.597125</td>\n",
       "      <td>-33.759778</td>\n",
       "    </tr>\n",
       "    <tr>\n",
       "      <th>1</th>\n",
       "      <td>Kepler-276 c</td>\n",
       "      <td>c</td>\n",
       "      <td>Kepler-276</td>\n",
       "      <td>NaN</td>\n",
       "      <td>NaN</td>\n",
       "      <td>TIC 138213510</td>\n",
       "      <td>2014-02</td>\n",
       "      <td>2013</td>\n",
       "      <td>Transit</td>\n",
       "      <td>Space</td>\n",
       "      <td>...</td>\n",
       "      <td>7.99553</td>\n",
       "      <td>0.051581</td>\n",
       "      <td>-0.051581</td>\n",
       "      <td>7.9955300&amp;plusmn;0.0515805</td>\n",
       "      <td>0.310575</td>\n",
       "      <td>-0.711954</td>\n",
       "      <td>0.629813</td>\n",
       "      <td>1302657699</td>\n",
       "      <td>293.568197</td>\n",
       "      <td>39.036312</td>\n",
       "    </tr>\n",
       "    <tr>\n",
       "      <th>2</th>\n",
       "      <td>Kepler-829 b</td>\n",
       "      <td>b</td>\n",
       "      <td>Kepler-829</td>\n",
       "      <td>NaN</td>\n",
       "      <td>NaN</td>\n",
       "      <td>TIC 123451768</td>\n",
       "      <td>2016-05</td>\n",
       "      <td>2016</td>\n",
       "      <td>Transit</td>\n",
       "      <td>Space</td>\n",
       "      <td>...</td>\n",
       "      <td>7.93777</td>\n",
       "      <td>0.040833</td>\n",
       "      <td>-0.040833</td>\n",
       "      <td>7.9377700&amp;plusmn;0.0408326</td>\n",
       "      <td>0.157566</td>\n",
       "      <td>-0.720680</td>\n",
       "      <td>0.675124</td>\n",
       "      <td>-792260935</td>\n",
       "      <td>282.332831</td>\n",
       "      <td>42.463813</td>\n",
       "    </tr>\n",
       "    <tr>\n",
       "      <th>3</th>\n",
       "      <td>K2-283 b</td>\n",
       "      <td>b</td>\n",
       "      <td>K2-283</td>\n",
       "      <td>NaN</td>\n",
       "      <td>NaN</td>\n",
       "      <td>TIC 266017624</td>\n",
       "      <td>2018-12</td>\n",
       "      <td>2018</td>\n",
       "      <td>Transit</td>\n",
       "      <td>Space</td>\n",
       "      <td>...</td>\n",
       "      <td>-10.97340</td>\n",
       "      <td>0.053624</td>\n",
       "      <td>-0.053624</td>\n",
       "      <td>-10.9734000&amp;plusmn;0.0536244</td>\n",
       "      <td>0.959702</td>\n",
       "      <td>0.224997</td>\n",
       "      <td>0.168368</td>\n",
       "      <td>609813555</td>\n",
       "      <td>13.194368</td>\n",
       "      <td>9.692918</td>\n",
       "    </tr>\n",
       "    <tr>\n",
       "      <th>4</th>\n",
       "      <td>Kepler-477 b</td>\n",
       "      <td>b</td>\n",
       "      <td>Kepler-477</td>\n",
       "      <td>NaN</td>\n",
       "      <td>NaN</td>\n",
       "      <td>TIC 158633329</td>\n",
       "      <td>2016-05</td>\n",
       "      <td>2016</td>\n",
       "      <td>Transit</td>\n",
       "      <td>Space</td>\n",
       "      <td>...</td>\n",
       "      <td>-26.00000</td>\n",
       "      <td>NaN</td>\n",
       "      <td>NaN</td>\n",
       "      <td>-26.0</td>\n",
       "      <td>0.229185</td>\n",
       "      <td>-0.702544</td>\n",
       "      <td>0.673726</td>\n",
       "      <td>-1968935374</td>\n",
       "      <td>288.067445</td>\n",
       "      <td>42.355305</td>\n",
       "    </tr>\n",
       "  </tbody>\n",
       "</table>\n",
       "<p>5 rows × 375 columns</p>\n",
       "</div>"
      ],
      "text/plain": [
       "                     pl_name pl_letter             hostname hd_name hip_name  \\\n",
       "index                                                                          \n",
       "0      OGLE-2016-BLG-1227L b         b  OGLE-2016-BLG-1227L     NaN      NaN   \n",
       "1               Kepler-276 c         c           Kepler-276     NaN      NaN   \n",
       "2               Kepler-829 b         b           Kepler-829     NaN      NaN   \n",
       "3                   K2-283 b         b               K2-283     NaN      NaN   \n",
       "4               Kepler-477 b         b           Kepler-477     NaN      NaN   \n",
       "\n",
       "              tic_id disc_pubdate  disc_year discoverymethod disc_locale  ...  \\\n",
       "index                                                                     ...   \n",
       "0                NaN      2020-03       2020    Microlensing      Ground  ...   \n",
       "1      TIC 138213510      2014-02       2013         Transit       Space  ...   \n",
       "2      TIC 123451768      2016-05       2016         Transit       Space  ...   \n",
       "3      TIC 266017624      2018-12       2018         Transit       Space  ...   \n",
       "4      TIC 158633329      2016-05       2016         Transit       Space  ...   \n",
       "\n",
       "        sy_pmra sy_pmraerr1 sy_pmraerr2                    sy_pmrastr  \\\n",
       "index                                                                   \n",
       "0           NaN         NaN         NaN                           NaN   \n",
       "1       7.99553    0.051581   -0.051581    7.9955300&plusmn;0.0515805   \n",
       "2       7.93777    0.040833   -0.040833    7.9377700&plusmn;0.0408326   \n",
       "3     -10.97340    0.053624   -0.053624  -10.9734000&plusmn;0.0536244   \n",
       "4     -26.00000         NaN         NaN                         -26.0   \n",
       "\n",
       "              x         y         z       htm20  sky_coord.ra  sky_coord.dec  \n",
       "index                                                                         \n",
       "0     -0.063824 -0.828921 -0.555712  -768415656    265.597125     -33.759778  \n",
       "1      0.310575 -0.711954  0.629813  1302657699    293.568197      39.036312  \n",
       "2      0.157566 -0.720680  0.675124  -792260935    282.332831      42.463813  \n",
       "3      0.959702  0.224997  0.168368   609813555     13.194368       9.692918  \n",
       "4      0.229185 -0.702544  0.673726 -1968935374    288.067445      42.355305  \n",
       "\n",
       "[5 rows x 375 columns]"
      ]
     },
     "execution_count": 3,
     "metadata": {},
     "output_type": "execute_result"
    }
   ],
   "source": [
    "from astroquery.ipac.nexsci.nasa_exoplanet_archive import NasaExoplanetArchive\n",
    "import pandas as pd\n",
    "from pathlib import Path\n",
    "\n",
    "redownload = False\n",
    "\n",
    "fp = '../data/nexsci_data.csv'\n",
    "if redownload or not Path(fp).exists():\n",
    "    #pstable combines data from the Confirmed Planets and Extended Planet Parameters tables\n",
    "    tab = NasaExoplanetArchive.query_criteria(table=\"pscomppars\", \n",
    "    #                                          where=\"discoverymethod like 'Transit'\"\n",
    "    )\n",
    "    df = tab.to_pandas()                                        \n",
    "    df.to_csv(fp, index=True)\n",
    "    \n",
    "else:\n",
    "    df = pd.read_csv(fp, index_col=0)\n",
    "    df.index.name = 'index'\n",
    "df.head()"
   ]
  },
  {
   "cell_type": "raw",
   "id": "85a4e91f-6d31-4832-b99c-0ad98dd72302",
   "metadata": {},
   "source": [
    "df.columns.tolist()"
   ]
  },
  {
   "cell_type": "code",
   "execution_count": 13,
   "id": "d3094c4a-190d-4d60-914a-88982549892f",
   "metadata": {},
   "outputs": [
    {
     "data": {
      "text/plain": [
       "(413, 375)"
      ]
     },
     "execution_count": 13,
     "metadata": {},
     "output_type": "execute_result"
    }
   ],
   "source": [
    "#HJ\n",
    "idx1 = (df.st_teff>=4_000) & (df.st_teff<=10_000) & (df.pl_radj > 0.4) & (df.discoverymethod==\"Transit\") & (df.pl_ratdor < 10) \n",
    "hj = df[idx1]\n",
    "hj.shape"
   ]
  },
  {
   "cell_type": "code",
   "execution_count": 25,
   "id": "852ec5c8-cca0-48e5-afd0-cb6c473604ee",
   "metadata": {
    "scrolled": true
   },
   "outputs": [
    {
     "name": "stderr",
     "output_type": "stream",
     "text": [
      "  0%|                                                                                                                                                                                       | 0/413 [00:00<?, ?it/s]"
     ]
    },
    {
     "name": "stdout",
     "output_type": "stream",
     "text": [
      "WASP-49\n",
      "Mstar=(0.99,0.12) Msun\n",
      "Rstar=(1.02,0.05) Rsun\n",
      "Rhostar=(0.93,0.18) rhosun\n",
      "teff=(5597,121) K\n",
      "logg=(4.42,0.08) cgs\n",
      "feh=(0.00,0.10) dex\n",
      "Querying Gaia sources 60\" around WASP-49: (91.0897, -16.9654) deg.\n"
     ]
    },
    {
     "name": "stderr",
     "output_type": "stream",
     "text": [
      "WARNING: InputWarning: Invalid Gaia version number, defaulting to DR2. [astroquery.mast.collections]\n",
      "  0%|▍                                                                                                                                                                              | 1/413 [00:07<51:43,  7.53s/it]"
     ]
    },
    {
     "name": "stdout",
     "output_type": "stream",
     "text": [
      "HAT-P-23\n",
      "Mstar=(1.08,0.14) Msun\n",
      "Rstar=(1.15,0.06) Rsun\n",
      "Rhostar=(0.71,0.14) rhosun\n",
      "teff=(5918,137) K\n",
      "logg=(4.35,0.08) cgs\n",
      "feh=(0.00,0.10) dex\n",
      "Querying Gaia sources 60\" around HAT-P-23: (306.1239, 16.7621) deg.\n"
     ]
    },
    {
     "name": "stderr",
     "output_type": "stream",
     "text": [
      "WARNING: InputWarning: Invalid Gaia version number, defaulting to DR2. [astroquery.mast.collections]\n",
      "  0%|▊                                                                                                                                                                              | 2/413 [00:16<55:53,  8.16s/it]"
     ]
    },
    {
     "name": "stdout",
     "output_type": "stream",
     "text": [
      "HAT-P-68\n",
      "Mstar=(0.66,0.08) Msun\n",
      "Rstar=(0.79,0.06) Rsun\n",
      "Rhostar=(1.32,0.33) rhosun\n",
      "teff=(4222,100) K\n",
      "logg=(4.46,0.09) cgs\n",
      "feh=(0.00,0.10) dex\n",
      "Querying Gaia sources 60\" around HAT-P-68: (118.4832, 23.9382) deg.\n"
     ]
    },
    {
     "name": "stderr",
     "output_type": "stream",
     "text": [
      "WARNING: InputWarning: Invalid Gaia version number, defaulting to DR2. [astroquery.mast.collections]\n",
      "  1%|█▎                                                                                                                                                                             | 3/413 [00:24<57:39,  8.44s/it]"
     ]
    },
    {
     "name": "stdout",
     "output_type": "stream",
     "text": [
      "WASP-169\n",
      "Mstar=(1.17,0.16) Msun\n",
      "Rstar=(2.21,0.11) Rsun\n",
      "Rhostar=(0.11,0.02) rhosun\n",
      "teff=(6158,130) K\n",
      "logg=(3.82,0.08) cgs\n",
      "feh=(0.00,0.10) dex\n",
      "Querying Gaia sources 60\" around WASP-169: (127.3872, -12.9448) deg.\n"
     ]
    },
    {
     "name": "stderr",
     "output_type": "stream",
     "text": [
      "WARNING: InputWarning: Invalid Gaia version number, defaulting to DR2. [astroquery.mast.collections]\n",
      "  1%|█▋                                                                                                                                                                             | 4/413 [00:32<56:14,  8.25s/it]"
     ]
    },
    {
     "name": "stdout",
     "output_type": "stream",
     "text": [
      "WASP-73\n",
      "Mstar=(1.16,0.17) Msun\n",
      "Rstar=(2.22,0.10) Rsun\n",
      "Rhostar=(0.11,0.02) rhosun\n",
      "teff=(6124,134) K\n",
      "logg=(3.81,0.09) cgs\n",
      "feh=(0.00,0.10) dex\n",
      "Querying Gaia sources 60\" around WASP-73: (319.9497, -58.1489) deg.\n"
     ]
    },
    {
     "name": "stderr",
     "output_type": "stream",
     "text": [
      "WARNING: InputWarning: Invalid Gaia version number, defaulting to DR2. [astroquery.mast.collections]\n",
      "  1%|██                                                                                                                                                                             | 5/413 [00:40<53:29,  7.87s/it]"
     ]
    },
    {
     "name": "stdout",
     "output_type": "stream",
     "text": [
      "Kepler-423\n"
     ]
    },
    {
     "name": "stderr",
     "output_type": "stream",
     "text": [
      "  1%|██▌                                                                                                                                                                            | 6/413 [00:43<43:43,  6.44s/it]"
     ]
    },
    {
     "name": "stdout",
     "output_type": "stream",
     "text": [
      "float() argument must be a string or a real number, not 'NoneType'\n",
      "Check exofop: https://exofop.ipac.caltech.edu/tess/target.php?id=Kepler-423&json\n",
      "HATS-15\n"
     ]
    },
    {
     "name": "stderr",
     "output_type": "stream",
     "text": [
      "  2%|██▉                                                                                                                                                                            | 7/413 [00:50<44:50,  6.63s/it]"
     ]
    },
    {
     "name": "stdout",
     "output_type": "stream",
     "text": [
      "float() argument must be a string or a real number, not 'NoneType'\n",
      "Check exofop: https://exofop.ipac.caltech.edu/tess/target.php?id=HATS-15&json\n",
      "HAT-P-37\n",
      "Mstar=(0.96,0.12) Msun\n",
      "Rstar=(0.87,0.04) Rsun\n",
      "Rhostar=(1.47,0.30) rhosun\n",
      "teff=(5477,123) K\n",
      "logg=(4.54,0.08) cgs\n",
      "feh=(0.00,0.10) dex\n",
      "Querying Gaia sources 60\" around HAT-P-37: (284.2960, 51.2691) deg.\n"
     ]
    },
    {
     "name": "stderr",
     "output_type": "stream",
     "text": [
      "WARNING: InputWarning: Invalid Gaia version number, defaulting to DR2. [astroquery.mast.collections]\n",
      "  2%|███▍                                                                                                                                                                           | 8/413 [00:59<49:13,  7.29s/it]"
     ]
    },
    {
     "name": "stdout",
     "output_type": "stream",
     "text": [
      "KELT-12\n",
      "Mstar=(1.26,0.18) Msun\n",
      "Rstar=(2.16,0.10) Rsun\n",
      "Rhostar=(0.12,0.02) rhosun\n",
      "teff=(6350,134) K\n",
      "logg=(3.87,0.08) cgs\n",
      "feh=(0.00,0.10) dex\n",
      "Querying Gaia sources 60\" around KELT-12: (267.6405, 36.5702) deg.\n"
     ]
    },
    {
     "name": "stderr",
     "output_type": "stream",
     "text": [
      "WARNING: InputWarning: Invalid Gaia version number, defaulting to DR2. [astroquery.mast.collections]\n",
      "  2%|███▊                                                                                                                                                                           | 9/413 [01:07<50:28,  7.50s/it]"
     ]
    },
    {
     "name": "stdout",
     "output_type": "stream",
     "text": [
      "OGLE2-TR-L9\n"
     ]
    },
    {
     "name": "stderr",
     "output_type": "stream",
     "text": [
      "  2%|████▏                                                                                                                                                                         | 10/413 [01:15<51:07,  7.61s/it]"
     ]
    },
    {
     "name": "stdout",
     "output_type": "stream",
     "text": [
      "float() argument must be a string or a real number, not 'NoneType'\n",
      "Check exofop: https://exofop.ipac.caltech.edu/tess/target.php?id=OGLE2-TR-L9&json\n",
      "TOI-2641\n",
      "Mstar=(1.24,0.18) Msun\n",
      "Rstar=(1.27,0.06) Rsun\n",
      "Rhostar=(0.60,0.12) rhosun\n",
      "teff=(6309,131) K\n",
      "logg=(4.32,0.08) cgs\n",
      "feh=(0.00,0.10) dex\n",
      "Querying Gaia sources 60\" around TOI-2641: (171.1304, -42.7321) deg.\n"
     ]
    },
    {
     "name": "stderr",
     "output_type": "stream",
     "text": [
      "WARNING: InputWarning: Invalid Gaia version number, defaulting to DR2. [astroquery.mast.collections]\n",
      "  3%|████▋                                                                                                                                                                         | 11/413 [01:19<44:54,  6.70s/it]"
     ]
    },
    {
     "name": "stdout",
     "output_type": "stream",
     "text": [
      "CoRoT-1\n"
     ]
    },
    {
     "name": "stderr",
     "output_type": "stream",
     "text": [
      "  3%|█████                                                                                                                                                                         | 12/413 [01:27<46:29,  6.96s/it]"
     ]
    },
    {
     "name": "stdout",
     "output_type": "stream",
     "text": [
      "float() argument must be a string or a real number, not 'NoneType'\n",
      "Check exofop: https://exofop.ipac.caltech.edu/tess/target.php?id=CoRoT-1&json\n",
      "WASP-101\n",
      "Mstar=(1.28,0.20) Msun\n",
      "Rstar=(1.35,0.06) Rsun\n",
      "Rhostar=(0.52,0.11) rhosun\n",
      "teff=(6386,126) K\n",
      "logg=(4.29,0.09) cgs\n",
      "feh=(0.00,0.10) dex\n",
      "Querying Gaia sources 60\" around WASP-101: (98.3511, -23.4861) deg.\n"
     ]
    },
    {
     "name": "stderr",
     "output_type": "stream",
     "text": [
      "WARNING: InputWarning: Invalid Gaia version number, defaulting to DR2. [astroquery.mast.collections]\n",
      "  3%|█████▍                                                                                                                                                                        | 13/413 [01:35<49:10,  7.38s/it]"
     ]
    },
    {
     "name": "stdout",
     "output_type": "stream",
     "text": [
      "WASP-104\n",
      "Mstar=(0.91,0.11) Msun\n",
      "Rstar=(0.97,0.06) Rsun\n",
      "Rhostar=(1.01,0.22) rhosun\n",
      "teff=(5306,131) K\n",
      "logg=(4.43,0.08) cgs\n",
      "feh=(0.00,0.10) dex\n",
      "Querying Gaia sources 60\" around WASP-104: (160.6024, 7.4351) deg.\n"
     ]
    },
    {
     "name": "stderr",
     "output_type": "stream",
     "text": [
      "WARNING: InputWarning: Invalid Gaia version number, defaulting to DR2. [astroquery.mast.collections]\n",
      "  3%|█████▉                                                                                                                                                                        | 14/413 [01:44<50:57,  7.66s/it]"
     ]
    },
    {
     "name": "stdout",
     "output_type": "stream",
     "text": [
      "TOI-150\n",
      "Mstar=(1.10,0.14) Msun\n",
      "Rstar=(1.68,0.07) Rsun\n",
      "Rhostar=(0.23,0.04) rhosun\n",
      "teff=(5983,109) K\n",
      "logg=(4.03,0.08) cgs\n",
      "feh=(0.00,0.10) dex\n",
      "Querying Gaia sources 60\" around TOI-150: (112.9654, -73.6060) deg.\n"
     ]
    },
    {
     "name": "stderr",
     "output_type": "stream",
     "text": [
      "WARNING: InputWarning: Invalid Gaia version number, defaulting to DR2. [astroquery.mast.collections]\n",
      "  4%|██████▎                                                                                                                                                                       | 15/413 [01:49<45:24,  6.85s/it]"
     ]
    },
    {
     "name": "stdout",
     "output_type": "stream",
     "text": [
      "CoRoT-14\n"
     ]
    },
    {
     "name": "stderr",
     "output_type": "stream",
     "text": [
      "  4%|██████▋                                                                                                                                                                       | 16/413 [01:56<46:00,  6.95s/it]"
     ]
    },
    {
     "name": "stdout",
     "output_type": "stream",
     "text": [
      "float() argument must be a string or a real number, not 'NoneType'\n",
      "Check exofop: https://exofop.ipac.caltech.edu/tess/target.php?id=CoRoT-14&json\n",
      "HATS-12\n"
     ]
    },
    {
     "name": "stderr",
     "output_type": "stream",
     "text": [
      "  4%|███████▏                                                                                                                                                                      | 17/413 [02:03<47:16,  7.16s/it]"
     ]
    },
    {
     "name": "stdout",
     "output_type": "stream",
     "text": [
      "float() argument must be a string or a real number, not 'NoneType'\n",
      "Check exofop: https://exofop.ipac.caltech.edu/tess/target.php?id=HATS-12&json\n",
      "K2-60\n",
      "Mstar=(1.00,0.13) Msun\n",
      "Rstar=(1.45,0.07) Rsun\n",
      "Rhostar=(0.32,0.06) rhosun\n",
      "teff=(5630,105) K\n",
      "logg=(4.11,0.07) cgs\n",
      "feh=(0.00,0.10) dex\n",
      "Querying Gaia sources 60\" around K2-60: (338.6062, -13.7318) deg.\n"
     ]
    },
    {
     "name": "stderr",
     "output_type": "stream",
     "text": [
      "WARNING: InputWarning: Invalid Gaia version number, defaulting to DR2. [astroquery.mast.collections]\n",
      "  4%|███████▌                                                                                                                                                                      | 18/413 [02:08<42:54,  6.52s/it]"
     ]
    },
    {
     "name": "stdout",
     "output_type": "stream",
     "text": [
      "WASP-92\n",
      "Mstar=(1.12,0.16) Msun\n",
      "Rstar=(1.26,0.07) Rsun\n",
      "Rhostar=(0.57,0.12) rhosun\n",
      "teff=(6047,143) K\n",
      "logg=(4.29,0.09) cgs\n",
      "feh=(0.00,0.10) dex\n",
      "Querying Gaia sources 60\" around WASP-92: (246.6920, 51.0411) deg.\n"
     ]
    },
    {
     "name": "stderr",
     "output_type": "stream",
     "text": [
      "WARNING: InputWarning: Invalid Gaia version number, defaulting to DR2. [astroquery.mast.collections]\n",
      "  5%|████████                                                                                                                                                                      | 19/413 [02:16<45:33,  6.94s/it]"
     ]
    },
    {
     "name": "stdout",
     "output_type": "stream",
     "text": [
      "TOI-3540 A\n"
     ]
    },
    {
     "name": "stderr",
     "output_type": "stream",
     "text": [
      "  5%|████████▍                                                                                                                                                                     | 20/413 [02:24<47:26,  7.24s/it]"
     ]
    },
    {
     "name": "stdout",
     "output_type": "stream",
     "text": [
      "float() argument must be a string or a real number, not 'NoneType'\n",
      "Check exofop: https://exofop.ipac.caltech.edu/tess/target.php?id=TOI-3540A&json\n",
      "WASP-46\n",
      "Mstar=(1.05,0.13) Msun\n",
      "Rstar=(0.89,0.04) Rsun\n",
      "Rhostar=(1.49,0.29) rhosun\n",
      "teff=(5824,135) K\n",
      "logg=(4.56,0.08) cgs\n",
      "feh=(0.00,0.10) dex\n",
      "Querying Gaia sources 60\" around WASP-46: (318.7370, -55.8719) deg.\n"
     ]
    },
    {
     "name": "stderr",
     "output_type": "stream",
     "text": [
      "WARNING: InputWarning: Invalid Gaia version number, defaulting to DR2. [astroquery.mast.collections]\n",
      "  5%|████████▊                                                                                                                                                                     | 21/413 [02:31<47:04,  7.20s/it]"
     ]
    },
    {
     "name": "stdout",
     "output_type": "stream",
     "text": [
      "KELT-3\n",
      "Mstar=(1.34,0.22) Msun\n",
      "Rstar=(1.61,0.08) Rsun\n",
      "Rhostar=(0.32,0.07) rhosun\n",
      "teff=(6518,124) K\n",
      "logg=(4.15,0.09) cgs\n",
      "feh=(0.00,0.10) dex\n",
      "Querying Gaia sources 60\" around KELT-3: (148.6431, 40.3879) deg.\n"
     ]
    },
    {
     "name": "stderr",
     "output_type": "stream",
     "text": [
      "WARNING: InputWarning: Invalid Gaia version number, defaulting to DR2. [astroquery.mast.collections]\n",
      "  5%|█████████▎                                                                                                                                                                    | 22/413 [02:39<48:11,  7.39s/it]"
     ]
    },
    {
     "name": "stdout",
     "output_type": "stream",
     "text": [
      "MASCARA-1\n",
      "Mstar=(1.89,0.30) Msun\n",
      "Rstar=(2.02,0.06) Rsun\n",
      "Rhostar=(0.23,0.04) rhosun\n",
      "teff=(7893,138) K\n",
      "logg=(4.11,0.08) cgs\n",
      "feh=(0.00,0.10) dex\n",
      "Querying Gaia sources 60\" around MASCARA-1: (317.5515, 10.7389) deg.\n"
     ]
    },
    {
     "name": "stderr",
     "output_type": "stream",
     "text": [
      "WARNING: InputWarning: Invalid Gaia version number, defaulting to DR2. [astroquery.mast.collections]\n",
      "  6%|█████████▋                                                                                                                                                                    | 23/413 [02:47<49:26,  7.61s/it]"
     ]
    },
    {
     "name": "stdout",
     "output_type": "stream",
     "text": [
      "KELT-8\n",
      "Mstar=(1.02,0.13) Msun\n",
      "Rstar=(1.39,0.06) Rsun\n",
      "Rhostar=(0.38,0.07) rhosun\n",
      "teff=(5703,99) K\n",
      "logg=(4.16,0.07) cgs\n",
      "feh=(0.00,0.10) dex\n",
      "Querying Gaia sources 60\" around KELT-8: (283.3054, 24.1272) deg.\n"
     ]
    },
    {
     "name": "stderr",
     "output_type": "stream",
     "text": [
      "WARNING: InputWarning: Invalid Gaia version number, defaulting to DR2. [astroquery.mast.collections]\n",
      "  6%|██████████                                                                                                                                                                    | 24/413 [02:58<54:52,  8.46s/it]"
     ]
    },
    {
     "name": "stdout",
     "output_type": "stream",
     "text": [
      "WASP-153\n",
      "Mstar=(1.05,0.13) Msun\n",
      "Rstar=(1.69,0.08) Rsun\n",
      "Rhostar=(0.22,0.04) rhosun\n",
      "teff=(5835,123) K\n",
      "logg=(4.00,0.07) cgs\n",
      "feh=(0.00,0.10) dex\n",
      "Querying Gaia sources 60\" around WASP-153: (279.2625, 40.0187) deg.\n"
     ]
    },
    {
     "name": "stderr",
     "output_type": "stream",
     "text": [
      "WARNING: InputWarning: Invalid Gaia version number, defaulting to DR2. [astroquery.mast.collections]\n",
      "  6%|██████████▌                                                                                                                                                                   | 25/413 [03:07<55:17,  8.55s/it]"
     ]
    },
    {
     "name": "stdout",
     "output_type": "stream",
     "text": [
      "NGTS-24\n",
      "Mstar=(1.07,0.13) Msun\n",
      "Rstar=(1.58,0.08) Rsun\n",
      "Rhostar=(0.27,0.05) rhosun\n",
      "teff=(5886,135) K\n",
      "logg=(4.07,0.08) cgs\n",
      "feh=(0.00,0.10) dex\n",
      "Querying Gaia sources 60\" around NGTS-24: (168.5639, -37.9101) deg.\n"
     ]
    },
    {
     "name": "stderr",
     "output_type": "stream",
     "text": [
      "WARNING: InputWarning: Invalid Gaia version number, defaulting to DR2. [astroquery.mast.collections]\n",
      "  6%|██████████▉                                                                                                                                                                   | 26/413 [03:15<54:33,  8.46s/it]"
     ]
    },
    {
     "name": "stdout",
     "output_type": "stream",
     "text": [
      "HAT-P-43\n",
      "Mstar=(1.01,0.12) Msun\n",
      "Rstar=(1.11,0.05) Rsun\n",
      "Rhostar=(0.75,0.13) rhosun\n",
      "teff=(5680,103) K\n",
      "logg=(4.35,0.07) cgs\n",
      "feh=(0.00,0.10) dex\n",
      "Querying Gaia sources 60\" around HAT-P-43: (128.9257, 10.2066) deg.\n"
     ]
    },
    {
     "name": "stderr",
     "output_type": "stream",
     "text": [
      "WARNING: InputWarning: Invalid Gaia version number, defaulting to DR2. [astroquery.mast.collections]\n",
      "  7%|███████████▍                                                                                                                                                                  | 27/413 [03:23<54:00,  8.39s/it]"
     ]
    },
    {
     "name": "stdout",
     "output_type": "stream",
     "text": [
      "WASP-127\n",
      "Mstar=(1.05,0.13) Msun\n",
      "Rstar=(1.35,0.06) Rsun\n",
      "Rhostar=(0.43,0.08) rhosun\n",
      "teff=(5828,106) K\n",
      "logg=(4.20,0.07) cgs\n",
      "feh=(0.00,0.10) dex\n",
      "Querying Gaia sources 60\" around WASP-127: (160.5588, -3.8350) deg.\n"
     ]
    },
    {
     "name": "stderr",
     "output_type": "stream",
     "text": [
      "WARNING: InputWarning: Invalid Gaia version number, defaulting to DR2. [astroquery.mast.collections]\n",
      "  7%|███████████▊                                                                                                                                                                  | 28/413 [03:31<52:34,  8.19s/it]"
     ]
    },
    {
     "name": "stdout",
     "output_type": "stream",
     "text": [
      "HATS-70\n",
      "Mstar=(2.13,0.32) Msun\n",
      "Rstar=(2.12,0.12) Rsun\n",
      "Rhostar=(0.22,0.05) rhosun\n",
      "teff=(8549,152) K\n",
      "logg=(4.11,0.08) cgs\n",
      "feh=(0.00,0.10) dex\n",
      "Querying Gaia sources 60\" around HATS-70: (109.1045, -31.2444) deg.\n"
     ]
    },
    {
     "name": "stderr",
     "output_type": "stream",
     "text": [
      "WARNING: InputWarning: Invalid Gaia version number, defaulting to DR2. [astroquery.mast.collections]\n",
      "  7%|████████████▏                                                                                                                                                                 | 29/413 [03:40<53:52,  8.42s/it]"
     ]
    },
    {
     "name": "stdout",
     "output_type": "stream",
     "text": [
      "TOI-1789\n",
      "Mstar=(1.10,0.14) Msun\n",
      "Rstar=(2.26,0.10) Rsun\n",
      "Rhostar=(0.10,0.02) rhosun\n",
      "teff=(5971,110) K\n",
      "logg=(3.77,0.07) cgs\n",
      "feh=(0.00,0.10) dex\n",
      "Querying Gaia sources 60\" around TOI-1789: (142.7434, 26.5400) deg.\n"
     ]
    },
    {
     "name": "stderr",
     "output_type": "stream",
     "text": [
      "WARNING: InputWarning: Invalid Gaia version number, defaulting to DR2. [astroquery.mast.collections]\n",
      "  7%|████████████▋                                                                                                                                                                 | 30/413 [03:45<48:12,  7.55s/it]"
     ]
    },
    {
     "name": "stdout",
     "output_type": "stream",
     "text": [
      "K2-399\n",
      "Mstar=(1.01,0.13) Msun\n",
      "Rstar=(1.66,0.10) Rsun\n",
      "Rhostar=(0.22,0.05) rhosun\n",
      "teff=(5690,141) K\n",
      "logg=(4.00,0.08) cgs\n",
      "feh=(0.00,0.10) dex\n",
      "Querying Gaia sources 60\" around K2-399: (158.0734, 2.2378) deg.\n"
     ]
    },
    {
     "name": "stderr",
     "output_type": "stream",
     "text": [
      "WARNING: InputWarning: Invalid Gaia version number, defaulting to DR2. [astroquery.mast.collections]\n",
      "  8%|█████████████                                                                                                                                                                 | 31/413 [03:55<52:11,  8.20s/it]"
     ]
    },
    {
     "name": "stdout",
     "output_type": "stream",
     "text": [
      "WASP-85 A\n"
     ]
    },
    {
     "name": "stderr",
     "output_type": "stream",
     "text": [
      "  8%|█████████████▍                                                                                                                                                                | 32/413 [04:03<52:41,  8.30s/it]"
     ]
    },
    {
     "name": "stdout",
     "output_type": "stream",
     "text": [
      "float() argument must be a string or a real number, not 'NoneType'\n",
      "Check exofop: https://exofop.ipac.caltech.edu/tess/target.php?id=WASP-85A&json\n",
      "HAT-P-61\n",
      "Mstar=(0.95,0.12) Msun\n",
      "Rstar=(1.03,0.06) Rsun\n",
      "Rhostar=(0.88,0.19) rhosun\n",
      "teff=(5464,125) K\n",
      "logg=(4.40,0.09) cgs\n",
      "feh=(0.00,0.10) dex\n",
      "Querying Gaia sources 60\" around HAT-P-61: (75.4802, 50.1312) deg.\n"
     ]
    },
    {
     "name": "stderr",
     "output_type": "stream",
     "text": [
      "WARNING: InputWarning: Invalid Gaia version number, defaulting to DR2. [astroquery.mast.collections]\n",
      "  8%|█████████████▉                                                                                                                                                                | 33/413 [04:13<55:27,  8.76s/it]"
     ]
    },
    {
     "name": "stdout",
     "output_type": "stream",
     "text": [
      "KELT-14\n",
      "Mstar=(1.06,0.14) Msun\n",
      "Rstar=(1.51,0.07) Rsun\n",
      "Rhostar=(0.31,0.06) rhosun\n",
      "teff=(5875,133) K\n",
      "logg=(4.11,0.08) cgs\n",
      "feh=(0.00,0.10) dex\n",
      "Querying Gaia sources 60\" around KELT-14: (108.3014, -42.4098) deg.\n"
     ]
    },
    {
     "name": "stderr",
     "output_type": "stream",
     "text": [
      "WARNING: InputWarning: Invalid Gaia version number, defaulting to DR2. [astroquery.mast.collections]\n",
      "  8%|██████████████▎                                                                                                                                                               | 34/413 [04:21<53:47,  8.51s/it]"
     ]
    },
    {
     "name": "stdout",
     "output_type": "stream",
     "text": [
      "HAT-P-30\n",
      "Mstar=(1.25,0.18) Msun\n",
      "Rstar=(1.34,0.07) Rsun\n",
      "Rhostar=(0.52,0.11) rhosun\n",
      "teff=(6338,143) K\n",
      "logg=(4.28,0.09) cgs\n",
      "feh=(0.00,0.10) dex\n",
      "Querying Gaia sources 60\" around HAT-P-30: (123.9498, 5.8369) deg.\n"
     ]
    },
    {
     "name": "stderr",
     "output_type": "stream",
     "text": [
      "WARNING: InputWarning: Invalid Gaia version number, defaulting to DR2. [astroquery.mast.collections]\n",
      "  8%|██████████████▋                                                                                                                                                               | 35/413 [04:29<52:52,  8.39s/it]"
     ]
    },
    {
     "name": "stdout",
     "output_type": "stream",
     "text": [
      "HAT-P-69\n",
      "Mstar=(1.80,0.29) Msun\n",
      "Rstar=(1.91,0.07) Rsun\n",
      "Rhostar=(0.26,0.05) rhosun\n",
      "teff=(7669,138) K\n",
      "logg=(4.13,0.08) cgs\n",
      "feh=(0.00,0.10) dex\n",
      "Querying Gaia sources 60\" around HAT-P-69: (130.5056, 3.7106) deg.\n"
     ]
    },
    {
     "name": "stderr",
     "output_type": "stream",
     "text": [
      "WARNING: InputWarning: Invalid Gaia version number, defaulting to DR2. [astroquery.mast.collections]\n",
      "  9%|███████████████▏                                                                                                                                                              | 36/413 [04:37<51:45,  8.24s/it]"
     ]
    },
    {
     "name": "stdout",
     "output_type": "stream",
     "text": [
      "HATS-44\n"
     ]
    },
    {
     "name": "stderr",
     "output_type": "stream",
     "text": [
      "  9%|███████████████▌                                                                                                                                                              | 37/413 [04:45<50:19,  8.03s/it]"
     ]
    },
    {
     "name": "stdout",
     "output_type": "stream",
     "text": [
      "float() argument must be a string or a real number, not 'NoneType'\n",
      "Check exofop: https://exofop.ipac.caltech.edu/tess/target.php?id=HATS-44&json\n",
      "WASP-95\n",
      "Mstar=(1.03,0.13) Msun\n",
      "Rstar=(1.24,0.06) Rsun\n",
      "Rhostar=(0.54,0.10) rhosun\n",
      "teff=(5758,132) K\n",
      "logg=(4.27,0.08) cgs\n",
      "feh=(0.00,0.10) dex\n",
      "Querying Gaia sources 60\" around WASP-95: (337.4578, -48.0031) deg.\n"
     ]
    },
    {
     "name": "stderr",
     "output_type": "stream",
     "text": [
      "WARNING: InputWarning: Invalid Gaia version number, defaulting to DR2. [astroquery.mast.collections]\n",
      "  9%|████████████████                                                                                                                                                              | 38/413 [04:52<47:44,  7.64s/it]"
     ]
    },
    {
     "name": "stdout",
     "output_type": "stream",
     "text": [
      "HATS-1\n",
      "Mstar=(1.18,0.16) Msun\n",
      "Rstar=(0.91,0.04) Rsun\n",
      "Rhostar=(1.55,0.31) rhosun\n",
      "teff=(6184,127) K\n",
      "logg=(4.59,0.08) cgs\n",
      "feh=(0.00,0.10) dex\n",
      "Querying Gaia sources 60\" around HATS-1: (175.5252, -23.3548) deg.\n"
     ]
    },
    {
     "name": "stderr",
     "output_type": "stream",
     "text": [
      "WARNING: InputWarning: Invalid Gaia version number, defaulting to DR2. [astroquery.mast.collections]\n",
      "  9%|████████████████▍                                                                                                                                                             | 39/413 [04:59<48:08,  7.72s/it]"
     ]
    },
    {
     "name": "stdout",
     "output_type": "stream",
     "text": [
      "HATS-54\n"
     ]
    },
    {
     "name": "stderr",
     "output_type": "stream",
     "text": [
      " 10%|████████████████▊                                                                                                                                                             | 40/413 [05:07<47:14,  7.60s/it]"
     ]
    },
    {
     "name": "stdout",
     "output_type": "stream",
     "text": [
      "float() argument must be a string or a real number, not 'NoneType'\n",
      "Check exofop: https://exofop.ipac.caltech.edu/tess/target.php?id=HATS-54&json\n",
      "WASP-64\n",
      "Mstar=(1.00,0.12) Msun\n",
      "Rstar=(1.10,0.06) Rsun\n",
      "Rhostar=(0.76,0.15) rhosun\n",
      "teff=(5652,130) K\n",
      "logg=(4.36,0.08) cgs\n",
      "feh=(0.00,0.10) dex\n",
      "Querying Gaia sources 60\" around WASP-64: (101.1149, -32.8584) deg.\n"
     ]
    },
    {
     "name": "stderr",
     "output_type": "stream",
     "text": [
      "WARNING: InputWarning: Invalid Gaia version number, defaulting to DR2. [astroquery.mast.collections]\n",
      " 10%|█████████████████▎                                                                                                                                                            | 41/413 [05:15<49:01,  7.91s/it]"
     ]
    },
    {
     "name": "stdout",
     "output_type": "stream",
     "text": [
      "HATS-58 A\n"
     ]
    },
    {
     "name": "stderr",
     "output_type": "stream",
     "text": [
      " 10%|█████████████████▋                                                                                                                                                            | 42/413 [05:23<47:41,  7.71s/it]"
     ]
    },
    {
     "name": "stdout",
     "output_type": "stream",
     "text": [
      "float() argument must be a string or a real number, not 'NoneType'\n",
      "Check exofop: https://exofop.ipac.caltech.edu/tess/target.php?id=HATS-58A&json\n",
      "TOI-2421\n",
      "Mstar=(0.99,0.12) Msun\n",
      "Rstar=(1.79,0.10) Rsun\n",
      "Rhostar=(0.17,0.04) rhosun\n",
      "teff=(5618,132) K\n",
      "logg=(3.93,0.08) cgs\n",
      "feh=(0.00,0.10) dex\n",
      "Querying Gaia sources 60\" around TOI-2421: (33.1540, -35.3909) deg.\n"
     ]
    },
    {
     "name": "stderr",
     "output_type": "stream",
     "text": [
      "WARNING: InputWarning: Invalid Gaia version number, defaulting to DR2. [astroquery.mast.collections]\n",
      " 10%|██████████████████                                                                                                                                                            | 43/413 [05:27<41:42,  6.76s/it]"
     ]
    },
    {
     "name": "stdout",
     "output_type": "stream",
     "text": [
      "KELT-4 A\n",
      "Mstar=(1.24,0.19) Msun\n",
      "Rstar=(1.61,0.06) Rsun\n",
      "Rhostar=(0.29,0.06) rhosun\n",
      "teff=(6317,109) K\n",
      "logg=(4.12,0.08) cgs\n",
      "feh=(0.00,0.10) dex\n",
      "Querying Gaia sources 60\" around KELT-4 A: (157.0626, 25.5731) deg.\n"
     ]
    },
    {
     "name": "stderr",
     "output_type": "stream",
     "text": [
      "WARNING: InputWarning: Invalid Gaia version number, defaulting to DR2. [astroquery.mast.collections]\n",
      " 11%|██████████████████▌                                                                                                                                                           | 44/413 [05:35<44:00,  7.15s/it]"
     ]
    },
    {
     "name": "stdout",
     "output_type": "stream",
     "text": [
      "KELT-10\n",
      "Mstar=(1.07,0.14) Msun\n",
      "Rstar=(1.16,0.05) Rsun\n",
      "Rhostar=(0.69,0.13) rhosun\n",
      "teff=(5883,134) K\n",
      "logg=(4.34,0.08) cgs\n",
      "feh=(0.00,0.10) dex\n",
      "Querying Gaia sources 60\" around KELT-10: (284.5484, -47.0033) deg.\n"
     ]
    },
    {
     "name": "stderr",
     "output_type": "stream",
     "text": [
      "WARNING: InputWarning: Invalid Gaia version number, defaulting to DR2. [astroquery.mast.collections]\n",
      " 11%|██████████████████▉                                                                                                                                                           | 45/413 [05:43<45:32,  7.43s/it]"
     ]
    },
    {
     "name": "stdout",
     "output_type": "stream",
     "text": [
      "WASP-168\n",
      "Mstar=(1.15,0.16) Msun\n",
      "Rstar=(1.09,0.05) Rsun\n",
      "Rhostar=(0.89,0.18) rhosun\n",
      "teff=(6115,133) K\n",
      "logg=(4.43,0.08) cgs\n",
      "feh=(0.00,0.10) dex\n",
      "Querying Gaia sources 60\" around WASP-168: (96.7446, -46.8214) deg.\n"
     ]
    },
    {
     "name": "stderr",
     "output_type": "stream",
     "text": [
      "WARNING: InputWarning: Invalid Gaia version number, defaulting to DR2. [astroquery.mast.collections]\n",
      " 11%|███████████████████▍                                                                                                                                                          | 46/413 [05:51<45:56,  7.51s/it]"
     ]
    },
    {
     "name": "stdout",
     "output_type": "stream",
     "text": [
      "WASP-136\n",
      "Mstar=(1.13,0.15) Msun\n",
      "Rstar=(2.39,0.12) Rsun\n",
      "Rhostar=(0.08,0.02) rhosun\n",
      "teff=(6067,120) K\n",
      "logg=(3.73,0.08) cgs\n",
      "feh=(0.00,0.10) dex\n",
      "Querying Gaia sources 60\" around WASP-136: (0.3258, -8.9263) deg.\n"
     ]
    },
    {
     "name": "stderr",
     "output_type": "stream",
     "text": [
      "WARNING: InputWarning: Invalid Gaia version number, defaulting to DR2. [astroquery.mast.collections]\n",
      " 11%|███████████████████▊                                                                                                                                                          | 47/413 [05:59<45:48,  7.51s/it]"
     ]
    },
    {
     "name": "stdout",
     "output_type": "stream",
     "text": [
      "HATS-9\n",
      "Mstar=(0.96,0.12) Msun\n",
      "Rstar=(1.58,0.09) Rsun\n",
      "Rhostar=(0.24,0.05) rhosun\n",
      "teff=(5494,130) K\n",
      "logg=(4.02,0.08) cgs\n",
      "feh=(0.00,0.10) dex\n",
      "Querying Gaia sources 60\" around HATS-9: (290.8102, -20.1664) deg.\n"
     ]
    },
    {
     "name": "stderr",
     "output_type": "stream",
     "text": [
      "WARNING: InputWarning: Invalid Gaia version number, defaulting to DR2. [astroquery.mast.collections]\n",
      " 12%|████████████████████▏                                                                                                                                                         | 48/413 [06:08<48:37,  7.99s/it]"
     ]
    },
    {
     "name": "stdout",
     "output_type": "stream",
     "text": [
      "HATS-8\n"
     ]
    },
    {
     "name": "stderr",
     "output_type": "stream",
     "text": [
      " 12%|████████████████████▋                                                                                                                                                         | 49/413 [06:15<47:43,  7.87s/it]"
     ]
    },
    {
     "name": "stdout",
     "output_type": "stream",
     "text": [
      "float() argument must be a string or a real number, not 'NoneType'\n",
      "Check exofop: https://exofop.ipac.caltech.edu/tess/target.php?id=HATS-8&json\n",
      "HAT-P-42\n",
      "Mstar=(1.06,0.13) Msun\n",
      "Rstar=(1.41,0.07) Rsun\n",
      "Rhostar=(0.37,0.07) rhosun\n",
      "teff=(5859,127) K\n",
      "logg=(4.16,0.08) cgs\n",
      "feh=(0.00,0.10) dex\n",
      "Querying Gaia sources 60\" around HAT-P-42: (135.3444, 6.0971) deg.\n"
     ]
    },
    {
     "name": "stderr",
     "output_type": "stream",
     "text": [
      "WARNING: InputWarning: Invalid Gaia version number, defaulting to DR2. [astroquery.mast.collections]\n",
      " 12%|█████████████████████                                                                                                                                                         | 50/413 [06:24<48:38,  8.04s/it]"
     ]
    },
    {
     "name": "stdout",
     "output_type": "stream",
     "text": [
      "HAT-P-64\n",
      "Mstar=(1.19,0.17) Msun\n",
      "Rstar=(1.75,0.09) Rsun\n",
      "Rhostar=(0.22,0.05) rhosun\n",
      "teff=(6202,132) K\n",
      "logg=(4.03,0.09) cgs\n",
      "feh=(0.00,0.10) dex\n",
      "Querying Gaia sources 60\" around HAT-P-64: (68.9744, 2.4313) deg.\n"
     ]
    },
    {
     "name": "stderr",
     "output_type": "stream",
     "text": [
      "WARNING: InputWarning: Invalid Gaia version number, defaulting to DR2. [astroquery.mast.collections]\n",
      " 12%|█████████████████████▍                                                                                                                                                        | 51/413 [06:31<48:05,  7.97s/it]"
     ]
    },
    {
     "name": "stdout",
     "output_type": "stream",
     "text": [
      "WASP-47\n",
      "Mstar=(0.98,0.13) Msun\n",
      "Rstar=(1.11,0.06) Rsun\n",
      "Rhostar=(0.72,0.15) rhosun\n",
      "teff=(5576,118) K\n",
      "logg=(4.34,0.08) cgs\n",
      "feh=(0.00,0.10) dex\n",
      "Querying Gaia sources 60\" around WASP-47: (331.2031, -12.0191) deg.\n"
     ]
    },
    {
     "name": "stderr",
     "output_type": "stream",
     "text": [
      "WARNING: InputWarning: Invalid Gaia version number, defaulting to DR2. [astroquery.mast.collections]\n",
      " 13%|█████████████████████▉                                                                                                                                                        | 52/413 [06:40<49:18,  8.19s/it]"
     ]
    },
    {
     "name": "stdout",
     "output_type": "stream",
     "text": [
      "HAT-P-40\n",
      "Mstar=(1.14,0.15) Msun\n",
      "Rstar=(2.09,0.10) Rsun\n",
      "Rhostar=(0.12,0.02) rhosun\n",
      "teff=(6074,125) K\n",
      "logg=(3.85,0.08) cgs\n",
      "feh=(0.00,0.10) dex\n",
      "Querying Gaia sources 60\" around HAT-P-40: (335.5129, 45.4573) deg.\n"
     ]
    },
    {
     "name": "stderr",
     "output_type": "stream",
     "text": [
      "WARNING: InputWarning: Invalid Gaia version number, defaulting to DR2. [astroquery.mast.collections]\n",
      " 13%|██████████████████████▎                                                                                                                                                       | 53/413 [06:49<49:26,  8.24s/it]"
     ]
    },
    {
     "name": "stdout",
     "output_type": "stream",
     "text": [
      "Qatar-4\n",
      "Mstar=(0.85,0.10) Msun\n",
      "Rstar=(0.82,0.05) Rsun\n",
      "Rhostar=(1.54,0.35) rhosun\n",
      "teff=(5090,128) K\n",
      "logg=(4.54,0.09) cgs\n",
      "feh=(0.00,0.10) dex\n",
      "Querying Gaia sources 60\" around Qatar-4: (4.8593, 44.0276) deg.\n"
     ]
    },
    {
     "name": "stderr",
     "output_type": "stream",
     "text": [
      "WARNING: InputWarning: Invalid Gaia version number, defaulting to DR2. [astroquery.mast.collections]\n",
      " 13%|██████████████████████▊                                                                                                                                                       | 54/413 [06:57<49:00,  8.19s/it]"
     ]
    },
    {
     "name": "stdout",
     "output_type": "stream",
     "text": [
      "CoRoT-21\n"
     ]
    },
    {
     "name": "stderr",
     "output_type": "stream",
     "text": [
      " 13%|███████████████████████▏                                                                                                                                                      | 55/413 [07:04<47:09,  7.90s/it]"
     ]
    },
    {
     "name": "stdout",
     "output_type": "stream",
     "text": [
      "list index out of range\n",
      "CoRoT-26\n"
     ]
    },
    {
     "name": "stderr",
     "output_type": "stream",
     "text": [
      " 14%|███████████████████████▌                                                                                                                                                      | 56/413 [07:11<46:09,  7.76s/it]"
     ]
    },
    {
     "name": "stdout",
     "output_type": "stream",
     "text": [
      "float() argument must be a string or a real number, not 'NoneType'\n",
      "Check exofop: https://exofop.ipac.caltech.edu/tess/target.php?id=CoRoT-26&json\n",
      "WASP-147\n",
      "Mstar=(1.07,0.14) Msun\n",
      "Rstar=(1.34,0.06) Rsun\n",
      "Rhostar=(0.44,0.09) rhosun\n",
      "teff=(5909,118) K\n",
      "logg=(4.21,0.07) cgs\n",
      "feh=(0.00,0.10) dex\n",
      "Querying Gaia sources 60\" around WASP-147: (359.1915, -22.1532) deg.\n"
     ]
    },
    {
     "name": "stderr",
     "output_type": "stream",
     "text": [
      "WARNING: InputWarning: Invalid Gaia version number, defaulting to DR2. [astroquery.mast.collections]\n",
      " 14%|████████████████████████                                                                                                                                                      | 57/413 [07:19<45:52,  7.73s/it]"
     ]
    },
    {
     "name": "stdout",
     "output_type": "stream",
     "text": [
      "Kepler-56\n"
     ]
    },
    {
     "name": "stderr",
     "output_type": "stream",
     "text": [
      " 14%|████████████████████████▍                                                                                                                                                     | 58/413 [07:23<39:06,  6.61s/it]"
     ]
    },
    {
     "name": "stdout",
     "output_type": "stream",
     "text": [
      "float() argument must be a string or a real number, not 'NoneType'\n",
      "Check exofop: https://exofop.ipac.caltech.edu/tess/target.php?id=Kepler-56&json\n",
      "HATS-66\n"
     ]
    },
    {
     "name": "stderr",
     "output_type": "stream",
     "text": [
      " 14%|████████████████████████▊                                                                                                                                                     | 59/413 [07:30<39:58,  6.78s/it]"
     ]
    },
    {
     "name": "stdout",
     "output_type": "stream",
     "text": [
      "float() argument must be a string or a real number, not 'NoneType'\n",
      "Check exofop: https://exofop.ipac.caltech.edu/tess/target.php?id=HATS-66&json\n",
      "XO-3\n",
      "Mstar=(1.41,0.25) Msun\n",
      "Rstar=(1.69,0.17) Rsun\n",
      "Rhostar=(0.29,0.10) rhosun\n",
      "teff=(6673,150) K\n",
      "logg=(4.13,0.12) cgs\n",
      "feh=(0.00,0.10) dex\n",
      "Querying Gaia sources 60\" around XO-3: (65.4696, 57.8172) deg.\n"
     ]
    },
    {
     "name": "stderr",
     "output_type": "stream",
     "text": [
      "WARNING: InputWarning: Invalid Gaia version number, defaulting to DR2. [astroquery.mast.collections]\n",
      " 15%|█████████████████████████▎                                                                                                                                                    | 60/413 [07:39<43:23,  7.38s/it]"
     ]
    },
    {
     "name": "stdout",
     "output_type": "stream",
     "text": [
      "XO-4\n",
      "Mstar=(1.24,0.19) Msun\n",
      "Rstar=(1.62,0.09) Rsun\n",
      "Rhostar=(0.29,0.07) rhosun\n",
      "teff=(6304,140) K\n",
      "logg=(4.11,0.09) cgs\n",
      "feh=(0.00,0.10) dex\n",
      "Querying Gaia sources 60\" around XO-4: (110.3880, 58.2681) deg.\n"
     ]
    },
    {
     "name": "stderr",
     "output_type": "stream",
     "text": [
      "WARNING: InputWarning: Invalid Gaia version number, defaulting to DR2. [astroquery.mast.collections]\n",
      " 15%|█████████████████████████▋                                                                                                                                                    | 61/413 [07:47<44:51,  7.65s/it]"
     ]
    },
    {
     "name": "stdout",
     "output_type": "stream",
     "text": [
      "WASP-19\n",
      "Mstar=(0.97,0.13) Msun\n",
      "Rstar=(1.03,0.05) Rsun\n",
      "Rhostar=(0.89,0.17) rhosun\n",
      "teff=(5503,107) K\n",
      "logg=(4.40,0.08) cgs\n",
      "feh=(0.00,0.10) dex\n",
      "Querying Gaia sources 60\" around WASP-19: (148.4168, -45.6591) deg.\n"
     ]
    },
    {
     "name": "stderr",
     "output_type": "stream",
     "text": [
      "WARNING: InputWarning: Invalid Gaia version number, defaulting to DR2. [astroquery.mast.collections]\n",
      " 15%|██████████████████████████                                                                                                                                                    | 62/413 [07:56<46:47,  8.00s/it]"
     ]
    },
    {
     "name": "stdout",
     "output_type": "stream",
     "text": [
      "TrES-3\n",
      "Mstar=(0.96,0.13) Msun\n",
      "Rstar=(0.82,0.05) Rsun\n",
      "Rhostar=(1.74,0.39) rhosun\n",
      "teff=(5489,139) K\n",
      "logg=(4.59,0.09) cgs\n",
      "feh=(0.00,0.10) dex\n",
      "Querying Gaia sources 60\" around TrES-3: (268.0291, 37.5463) deg.\n"
     ]
    },
    {
     "name": "stderr",
     "output_type": "stream",
     "text": [
      "WARNING: InputWarning: Invalid Gaia version number, defaulting to DR2. [astroquery.mast.collections]\n",
      " 15%|██████████████████████████▌                                                                                                                                                   | 63/413 [08:06<49:54,  8.56s/it]"
     ]
    },
    {
     "name": "stdout",
     "output_type": "stream",
     "text": [
      "OGLE-TR-113\n"
     ]
    },
    {
     "name": "stderr",
     "output_type": "stream",
     "text": [
      " 15%|██████████████████████████▉                                                                                                                                                   | 64/413 [08:14<48:55,  8.41s/it]"
     ]
    },
    {
     "name": "stdout",
     "output_type": "stream",
     "text": [
      "float() argument must be a string or a real number, not 'NoneType'\n",
      "Check exofop: https://exofop.ipac.caltech.edu/tess/target.php?id=OGLE-TR-113&json\n",
      "TOI-2803 A\n",
      "Mstar=(1.28,0.19) Msun\n",
      "Rstar=(1.16,0.05) Rsun\n",
      "Rhostar=(0.81,0.17) rhosun\n",
      "teff=(6384,129) K\n",
      "logg=(4.41,0.08) cgs\n",
      "feh=(0.00,0.10) dex\n",
      "Querying Gaia sources 60\" around TOI-2803 A: (93.1147, -23.4925) deg.\n"
     ]
    },
    {
     "name": "stderr",
     "output_type": "stream",
     "text": [
      "WARNING: InputWarning: Invalid Gaia version number, defaulting to DR2. [astroquery.mast.collections]\n",
      " 16%|███████████████████████████▍                                                                                                                                                  | 65/413 [08:22<48:15,  8.32s/it]"
     ]
    },
    {
     "name": "stdout",
     "output_type": "stream",
     "text": [
      "TOI-3819\n",
      "Mstar=(1.11,0.14) Msun\n",
      "Rstar=(1.56,0.08) Rsun\n",
      "Rhostar=(0.29,0.06) rhosun\n",
      "teff=(5999,132) K\n",
      "logg=(4.10,0.08) cgs\n",
      "feh=(0.00,0.10) dex\n",
      "Querying Gaia sources 60\" around TOI-3819: (121.8633, 29.3886) deg.\n"
     ]
    },
    {
     "name": "stderr",
     "output_type": "stream",
     "text": [
      "WARNING: InputWarning: Invalid Gaia version number, defaulting to DR2. [astroquery.mast.collections]\n",
      " 16%|███████████████████████████▊                                                                                                                                                  | 66/413 [08:27<42:52,  7.41s/it]"
     ]
    },
    {
     "name": "stdout",
     "output_type": "stream",
     "text": [
      "HATS-31\n",
      "Mstar=(1.15,0.16) Msun\n",
      "Rstar=(1.66,0.09) Rsun\n",
      "Rhostar=(0.25,0.05) rhosun\n",
      "teff=(6113,133) K\n",
      "logg=(4.06,0.09) cgs\n",
      "feh=(0.00,0.10) dex\n",
      "Querying Gaia sources 60\" around HATS-31: (191.7028, -24.4274) deg.\n"
     ]
    },
    {
     "name": "stderr",
     "output_type": "stream",
     "text": [
      "WARNING: InputWarning: Invalid Gaia version number, defaulting to DR2. [astroquery.mast.collections]\n",
      " 16%|████████████████████████████▏                                                                                                                                                 | 67/413 [08:36<45:13,  7.84s/it]"
     ]
    },
    {
     "name": "stdout",
     "output_type": "stream",
     "text": [
      "HATS-3\n",
      "Mstar=(1.27,0.20) Msun\n",
      "Rstar=(1.28,0.06) Rsun\n",
      "Rhostar=(0.61,0.13) rhosun\n",
      "teff=(6371,128) K\n",
      "logg=(4.33,0.09) cgs\n",
      "feh=(0.00,0.10) dex\n",
      "Querying Gaia sources 60\" around HATS-3: (312.4575, -24.4287) deg.\n"
     ]
    },
    {
     "name": "stderr",
     "output_type": "stream",
     "text": [
      "WARNING: InputWarning: Invalid Gaia version number, defaulting to DR2. [astroquery.mast.collections]\n",
      " 16%|████████████████████████████▋                                                                                                                                                 | 68/413 [08:44<44:47,  7.79s/it]"
     ]
    },
    {
     "name": "stdout",
     "output_type": "stream",
     "text": [
      "HATS-67\n"
     ]
    },
    {
     "name": "stderr",
     "output_type": "stream",
     "text": [
      " 17%|█████████████████████████████                                                                                                                                                 | 69/413 [08:51<43:37,  7.61s/it]"
     ]
    },
    {
     "name": "stdout",
     "output_type": "stream",
     "text": [
      "float() argument must be a string or a real number, not 'NoneType'\n",
      "Check exofop: https://exofop.ipac.caltech.edu/tess/target.php?id=HATS-67&json\n",
      "CoRoT-5\n"
     ]
    },
    {
     "name": "stderr",
     "output_type": "stream",
     "text": [
      " 17%|█████████████████████████████▍                                                                                                                                                | 70/413 [08:59<44:51,  7.85s/it]"
     ]
    },
    {
     "name": "stdout",
     "output_type": "stream",
     "text": [
      "float() argument must be a string or a real number, not 'NoneType'\n",
      "Check exofop: https://exofop.ipac.caltech.edu/tess/target.php?id=CoRoT-5&json\n",
      "WASP-26\n",
      "Mstar=(1.12,0.15) Msun\n",
      "Rstar=(1.28,0.07) Rsun\n",
      "Rhostar=(0.53,0.11) rhosun\n",
      "teff=(6034,132) K\n",
      "logg=(4.27,0.08) cgs\n",
      "feh=(0.00,0.10) dex\n",
      "Querying Gaia sources 60\" around WASP-26: (4.6030, -15.2674) deg.\n"
     ]
    },
    {
     "name": "stderr",
     "output_type": "stream",
     "text": [
      "WARNING: InputWarning: Invalid Gaia version number, defaulting to DR2. [astroquery.mast.collections]\n",
      " 17%|█████████████████████████████▉                                                                                                                                                | 71/413 [09:07<43:55,  7.71s/it]"
     ]
    },
    {
     "name": "stdout",
     "output_type": "stream",
     "text": [
      "WASP-96\n",
      "Mstar=(0.98,0.12) Msun\n",
      "Rstar=(1.12,0.06) Rsun\n",
      "Rhostar=(0.70,0.14) rhosun\n",
      "teff=(5560,129) K\n",
      "logg=(4.33,0.08) cgs\n",
      "feh=(0.00,0.10) dex\n",
      "Querying Gaia sources 60\" around WASP-96: (1.0466, -47.3606) deg.\n"
     ]
    },
    {
     "name": "stderr",
     "output_type": "stream",
     "text": [
      "WARNING: InputWarning: Invalid Gaia version number, defaulting to DR2. [astroquery.mast.collections]\n",
      " 17%|██████████████████████████████▎                                                                                                                                               | 72/413 [09:15<44:01,  7.75s/it]"
     ]
    },
    {
     "name": "stdout",
     "output_type": "stream",
     "text": [
      "HAT-P-6\n",
      "Mstar=(1.50,0.26) Msun\n",
      "Rstar=(1.57,0.09) Rsun\n",
      "Rhostar=(0.39,0.09) rhosun\n",
      "teff=(6893,148) K\n",
      "logg=(4.22,0.10) cgs\n",
      "feh=(0.00,0.10) dex\n",
      "Querying Gaia sources 60\" around HAT-P-6: (354.7741, 42.4660) deg.\n"
     ]
    },
    {
     "name": "stderr",
     "output_type": "stream",
     "text": [
      "WARNING: InputWarning: Invalid Gaia version number, defaulting to DR2. [astroquery.mast.collections]\n",
      " 18%|██████████████████████████████▊                                                                                                                                               | 73/413 [09:23<44:42,  7.89s/it]"
     ]
    },
    {
     "name": "stdout",
     "output_type": "stream",
     "text": [
      "HAT-P-50\n",
      "Mstar=(1.25,0.19) Msun\n",
      "Rstar=(1.73,0.11) Rsun\n",
      "Rhostar=(0.24,0.06) rhosun\n",
      "teff=(6322,143) K\n",
      "logg=(4.06,0.10) cgs\n",
      "feh=(0.00,0.10) dex\n",
      "Querying Gaia sources 60\" around HAT-P-50: (118.0634, 12.1393) deg.\n"
     ]
    },
    {
     "name": "stderr",
     "output_type": "stream",
     "text": [
      "WARNING: InputWarning: Invalid Gaia version number, defaulting to DR2. [astroquery.mast.collections]\n",
      " 18%|███████████████████████████████▏                                                                                                                                              | 74/413 [09:32<45:59,  8.14s/it]"
     ]
    },
    {
     "name": "stdout",
     "output_type": "stream",
     "text": [
      "Qatar-7\n",
      "Mstar=(1.17,0.17) Msun\n",
      "Rstar=(1.57,0.09) Rsun\n",
      "Rhostar=(0.31,0.07) rhosun\n",
      "teff=(6161,135) K\n",
      "logg=(4.12,0.09) cgs\n",
      "feh=(0.00,0.10) dex\n",
      "Querying Gaia sources 60\" around Qatar-7: (358.5151, 37.0218) deg.\n"
     ]
    },
    {
     "name": "stderr",
     "output_type": "stream",
     "text": [
      "WARNING: InputWarning: Invalid Gaia version number, defaulting to DR2. [astroquery.mast.collections]\n",
      " 18%|███████████████████████████████▌                                                                                                                                              | 75/413 [09:41<47:43,  8.47s/it]"
     ]
    },
    {
     "name": "stdout",
     "output_type": "stream",
     "text": [
      "Kepler-762\n"
     ]
    },
    {
     "name": "stderr",
     "output_type": "stream",
     "text": [
      " 18%|████████████████████████████████                                                                                                                                              | 76/413 [09:45<40:50,  7.27s/it]"
     ]
    },
    {
     "name": "stdout",
     "output_type": "stream",
     "text": [
      "float() argument must be a string or a real number, not 'NoneType'\n",
      "Check exofop: https://exofop.ipac.caltech.edu/tess/target.php?id=Kepler-762&json\n",
      "HAT-P-22\n",
      "Mstar=(0.93,0.12) Msun\n",
      "Rstar=(1.04,0.05) Rsun\n",
      "Rhostar=(0.82,0.16) rhosun\n",
      "teff=(5358,112) K\n",
      "logg=(4.37,0.08) cgs\n",
      "feh=(0.00,0.10) dex\n",
      "Querying Gaia sources 60\" around HAT-P-22: (155.6815, 50.1287) deg.\n"
     ]
    },
    {
     "name": "stderr",
     "output_type": "stream",
     "text": [
      "WARNING: InputWarning: Invalid Gaia version number, defaulting to DR2. [astroquery.mast.collections]\n",
      " 19%|████████████████████████████████▍                                                                                                                                             | 77/413 [09:54<43:46,  7.82s/it]"
     ]
    },
    {
     "name": "stdout",
     "output_type": "stream",
     "text": [
      "HAT-P-33\n",
      "Mstar=(1.40,0.24) Msun\n",
      "Rstar=(1.67,0.07) Rsun\n",
      "Rhostar=(0.30,0.06) rhosun\n",
      "teff=(6642,107) K\n",
      "logg=(4.14,0.09) cgs\n",
      "feh=(0.00,0.10) dex\n",
      "Querying Gaia sources 60\" around HAT-P-33: (113.1842, 33.8350) deg.\n"
     ]
    },
    {
     "name": "stderr",
     "output_type": "stream",
     "text": [
      "WARNING: InputWarning: Invalid Gaia version number, defaulting to DR2. [astroquery.mast.collections]\n",
      " 19%|████████████████████████████████▊                                                                                                                                             | 78/413 [10:02<43:47,  7.84s/it]"
     ]
    },
    {
     "name": "stdout",
     "output_type": "stream",
     "text": [
      "Kepler-718\n"
     ]
    },
    {
     "name": "stderr",
     "output_type": "stream",
     "text": [
      " 19%|█████████████████████████████████▎                                                                                                                                            | 79/413 [10:06<36:48,  6.61s/it]"
     ]
    },
    {
     "name": "stdout",
     "output_type": "stream",
     "text": [
      "float() argument must be a string or a real number, not 'NoneType'\n",
      "Check exofop: https://exofop.ipac.caltech.edu/tess/target.php?id=Kepler-718&json\n",
      "Kepler-6\n",
      "Mstar=(0.99,0.13) Msun\n",
      "Rstar=(1.31,0.06) Rsun\n",
      "Rhostar=(0.44,0.08) rhosun\n",
      "teff=(5613,108) K\n",
      "logg=(4.20,0.08) cgs\n",
      "feh=(0.00,0.10) dex\n",
      "Querying Gaia sources 60\" around Kepler-6: (296.8372, 48.2400) deg.\n"
     ]
    },
    {
     "name": "stderr",
     "output_type": "stream",
     "text": [
      "WARNING: InputWarning: Invalid Gaia version number, defaulting to DR2. [astroquery.mast.collections]\n",
      " 19%|█████████████████████████████████▋                                                                                                                                            | 80/413 [10:11<33:45,  6.08s/it]"
     ]
    },
    {
     "name": "stdout",
     "output_type": "stream",
     "text": [
      "NGTS-18\n"
     ]
    },
    {
     "name": "stderr",
     "output_type": "stream",
     "text": [
      " 20%|██████████████████████████████████▏                                                                                                                                           | 81/413 [10:18<35:17,  6.38s/it]"
     ]
    },
    {
     "name": "stdout",
     "output_type": "stream",
     "text": [
      "float() argument must be a string or a real number, not 'NoneType'\n",
      "Check exofop: https://exofop.ipac.caltech.edu/tess/target.php?id=NGTS-18&json\n",
      "WASP-63\n",
      "Mstar=(1.02,0.13) Msun\n",
      "Rstar=(1.79,0.10) Rsun\n",
      "Rhostar=(0.18,0.04) rhosun\n",
      "teff=(5715,129) K\n",
      "logg=(3.94,0.08) cgs\n",
      "feh=(0.00,0.10) dex\n",
      "Querying Gaia sources 60\" around WASP-63: (94.3364, -38.3234) deg.\n"
     ]
    },
    {
     "name": "stderr",
     "output_type": "stream",
     "text": [
      "WARNING: InputWarning: Invalid Gaia version number, defaulting to DR2. [astroquery.mast.collections]\n",
      " 20%|██████████████████████████████████▌                                                                                                                                           | 82/413 [10:26<38:12,  6.93s/it]"
     ]
    },
    {
     "name": "stdout",
     "output_type": "stream",
     "text": [
      "Kepler-91\n"
     ]
    },
    {
     "name": "stderr",
     "output_type": "stream",
     "text": [
      " 20%|██████████████████████████████████▉                                                                                                                                           | 83/413 [10:30<32:20,  5.88s/it]"
     ]
    },
    {
     "name": "stdout",
     "output_type": "stream",
     "text": [
      "float() argument must be a string or a real number, not 'NoneType'\n",
      "Check exofop: https://exofop.ipac.caltech.edu/tess/target.php?id=Kepler-91&json\n",
      "K2-45\n"
     ]
    },
    {
     "name": "stderr",
     "output_type": "stream",
     "text": [
      " 20%|███████████████████████████████████▍                                                                                                                                          | 84/413 [10:33<27:23,  5.00s/it]"
     ]
    },
    {
     "name": "stdout",
     "output_type": "stream",
     "text": [
      "float() argument must be a string or a real number, not 'NoneType'\n",
      "Check exofop: https://exofop.ipac.caltech.edu/tess/target.php?id=K2-45&json\n",
      "K2-108\n",
      "Mstar=(0.96,0.12) Msun\n",
      "Rstar=(1.76,0.10) Rsun\n",
      "Rhostar=(0.18,0.04) rhosun\n",
      "teff=(5496,131) K\n",
      "logg=(3.93,0.08) cgs\n",
      "feh=(0.00,0.10) dex\n",
      "Querying Gaia sources 60\" around K2-108: (123.3818, 16.4195) deg.\n"
     ]
    },
    {
     "name": "stderr",
     "output_type": "stream",
     "text": [
      "WARNING: InputWarning: Invalid Gaia version number, defaulting to DR2. [astroquery.mast.collections]\n",
      " 21%|███████████████████████████████████▊                                                                                                                                          | 85/413 [10:37<26:34,  4.86s/it]"
     ]
    },
    {
     "name": "stdout",
     "output_type": "stream",
     "text": [
      "NGTS-21\n"
     ]
    },
    {
     "name": "stderr",
     "output_type": "stream",
     "text": [
      " 21%|████████████████████████████████████▏                                                                                                                                         | 86/413 [10:44<29:59,  5.50s/it]"
     ]
    },
    {
     "name": "stdout",
     "output_type": "stream",
     "text": [
      "float() argument must be a string or a real number, not 'NoneType'\n",
      "Check exofop: https://exofop.ipac.caltech.edu/tess/target.php?id=NGTS-21&json\n",
      "WASP-142\n",
      "Mstar=(1.10,0.14) Msun\n",
      "Rstar=(1.71,0.10) Rsun\n",
      "Rhostar=(0.22,0.05) rhosun\n",
      "teff=(5980,126) K\n",
      "logg=(4.01,0.08) cgs\n",
      "feh=(0.00,0.10) dex\n",
      "Querying Gaia sources 60\" around WASP-142: (140.5063, -23.9461) deg.\n"
     ]
    },
    {
     "name": "stderr",
     "output_type": "stream",
     "text": [
      "WARNING: InputWarning: Invalid Gaia version number, defaulting to DR2. [astroquery.mast.collections]\n",
      " 21%|████████████████████████████████████▋                                                                                                                                         | 87/413 [10:52<34:31,  6.35s/it]"
     ]
    },
    {
     "name": "stdout",
     "output_type": "stream",
     "text": [
      "TOI-2570\n",
      "Mstar=(1.00,0.12) Msun\n",
      "Rstar=(1.12,0.06) Rsun\n",
      "Rhostar=(0.71,0.15) rhosun\n",
      "teff=(5639,145) K\n",
      "logg=(4.34,0.08) cgs\n",
      "feh=(0.00,0.10) dex\n",
      "Querying Gaia sources 60\" around TOI-2570: (87.1880, 32.0840) deg.\n"
     ]
    },
    {
     "name": "stderr",
     "output_type": "stream",
     "text": [
      "WARNING: InputWarning: Invalid Gaia version number, defaulting to DR2. [astroquery.mast.collections]\n",
      " 21%|█████████████████████████████████████                                                                                                                                         | 88/413 [10:58<32:57,  6.08s/it]"
     ]
    },
    {
     "name": "stdout",
     "output_type": "stream",
     "text": [
      "K2-34\n",
      "Mstar=(1.16,0.16) Msun\n",
      "Rstar=(1.40,0.08) Rsun\n",
      "Rhostar=(0.42,0.09) rhosun\n",
      "teff=(6135,142) K\n",
      "logg=(4.21,0.09) cgs\n",
      "feh=(0.00,0.10) dex\n",
      "Querying Gaia sources 60\" around K2-34: (127.5787, 22.2359) deg.\n"
     ]
    },
    {
     "name": "stderr",
     "output_type": "stream",
     "text": [
      "WARNING: InputWarning: Invalid Gaia version number, defaulting to DR2. [astroquery.mast.collections]\n",
      " 22%|█████████████████████████████████████▍                                                                                                                                        | 89/413 [11:02<29:52,  5.53s/it]"
     ]
    },
    {
     "name": "stdout",
     "output_type": "stream",
     "text": [
      "K2-260\n",
      "Mstar=(1.32,0.20) Msun\n",
      "Rstar=(1.77,0.09) Rsun\n",
      "Rhostar=(0.24,0.05) rhosun\n",
      "teff=(6475,132) K\n",
      "logg=(4.06,0.09) cgs\n",
      "feh=(0.00,0.10) dex\n",
      "Querying Gaia sources 60\" around K2-260: (76.8673, 16.8677) deg.\n"
     ]
    },
    {
     "name": "stderr",
     "output_type": "stream",
     "text": [
      "WARNING: InputWarning: Invalid Gaia version number, defaulting to DR2. [astroquery.mast.collections]\n",
      " 22%|█████████████████████████████████████▉                                                                                                                                        | 90/413 [11:12<36:55,  6.86s/it]"
     ]
    },
    {
     "name": "stdout",
     "output_type": "stream",
     "text": [
      "K2-238\n"
     ]
    },
    {
     "name": "stderr",
     "output_type": "stream",
     "text": [
      " 22%|██████████████████████████████████████▎                                                                                                                                       | 91/413 [11:16<32:11,  6.00s/it]"
     ]
    },
    {
     "name": "stdout",
     "output_type": "stream",
     "text": [
      "float() argument must be a string or a real number, not 'NoneType'\n",
      "Check exofop: https://exofop.ipac.caltech.edu/tess/target.php?id=K2-238&json\n",
      "KELT-7\n",
      "Mstar=(1.45,0.25) Msun\n",
      "Rstar=(1.77,0.07) Rsun\n",
      "Rhostar=(0.26,0.06) rhosun\n",
      "teff=(6768,116) K\n",
      "logg=(4.10,0.09) cgs\n",
      "feh=(0.00,0.10) dex\n",
      "Querying Gaia sources 60\" around KELT-7: (78.2956, 33.3180) deg.\n"
     ]
    },
    {
     "name": "stderr",
     "output_type": "stream",
     "text": [
      "WARNING: InputWarning: Invalid Gaia version number, defaulting to DR2. [astroquery.mast.collections]\n",
      " 22%|██████████████████████████████████████▊                                                                                                                                       | 92/413 [11:24<35:30,  6.64s/it]"
     ]
    },
    {
     "name": "stdout",
     "output_type": "stream",
     "text": [
      "WASP-28\n",
      "Mstar=(1.16,0.15) Msun\n",
      "Rstar=(1.11,0.06) Rsun\n",
      "Rhostar=(0.84,0.17) rhosun\n",
      "teff=(6134,147) K\n",
      "logg=(4.41,0.09) cgs\n",
      "feh=(0.00,0.10) dex\n",
      "Querying Gaia sources 60\" around WASP-28: (353.6163, -1.5800) deg.\n"
     ]
    },
    {
     "name": "stderr",
     "output_type": "stream",
     "text": [
      "WARNING: InputWarning: Invalid Gaia version number, defaulting to DR2. [astroquery.mast.collections]\n",
      " 23%|███████████████████████████████████████▏                                                                                                                                      | 93/413 [11:32<37:23,  7.01s/it]"
     ]
    },
    {
     "name": "stdout",
     "output_type": "stream",
     "text": [
      "Kepler-426\n"
     ]
    },
    {
     "name": "stderr",
     "output_type": "stream",
     "text": [
      " 23%|███████████████████████████████████████▌                                                                                                                                      | 94/413 [11:35<31:27,  5.92s/it]"
     ]
    },
    {
     "name": "stdout",
     "output_type": "stream",
     "text": [
      "float() argument must be a string or a real number, not 'NoneType'\n",
      "Check exofop: https://exofop.ipac.caltech.edu/tess/target.php?id=Kepler-426&json\n",
      "Qatar-9\n",
      "Mstar=(0.66,0.08) Msun\n",
      "Rstar=(0.77,0.07) Rsun\n",
      "Rhostar=(1.45,0.42) rhosun\n",
      "teff=(4234,120) K\n",
      "logg=(4.49,0.10) cgs\n",
      "feh=(0.00,0.10) dex\n",
      "Querying Gaia sources 60\" around Qatar-9: (160.7481, 60.9641) deg.\n"
     ]
    },
    {
     "name": "stderr",
     "output_type": "stream",
     "text": [
      "WARNING: InputWarning: Invalid Gaia version number, defaulting to DR2. [astroquery.mast.collections]\n",
      " 23%|████████████████████████████████████████                                                                                                                                      | 95/413 [11:43<34:44,  6.55s/it]"
     ]
    },
    {
     "name": "stdout",
     "output_type": "stream",
     "text": [
      "WASP-50\n",
      "Mstar=(0.97,0.12) Msun\n",
      "Rstar=(0.87,0.04) Rsun\n",
      "Rhostar=(1.45,0.27) rhosun\n",
      "teff=(5518,108) K\n",
      "logg=(4.54,0.07) cgs\n",
      "feh=(0.00,0.10) dex\n",
      "Querying Gaia sources 60\" around WASP-50: (43.6881, -10.8980) deg.\n"
     ]
    },
    {
     "name": "stderr",
     "output_type": "stream",
     "text": [
      "WARNING: InputWarning: Invalid Gaia version number, defaulting to DR2. [astroquery.mast.collections]\n",
      " 23%|████████████████████████████████████████▍                                                                                                                                     | 96/413 [11:51<36:34,  6.92s/it]"
     ]
    },
    {
     "name": "stdout",
     "output_type": "stream",
     "text": [
      "XO-2 N\n",
      "Mstar=(0.90,0.11) Msun\n",
      "Rstar=(1.08,0.08) Rsun\n",
      "Rhostar=(0.71,0.18) rhosun\n",
      "teff=(5267,153) K\n",
      "logg=(4.32,0.10) cgs\n",
      "feh=(0.00,0.10) dex\n",
      "Querying Gaia sources 60\" around XO-2 N: (117.0268, 50.2251) deg.\n"
     ]
    },
    {
     "name": "stderr",
     "output_type": "stream",
     "text": [
      "WARNING: InputWarning: Invalid Gaia version number, defaulting to DR2. [astroquery.mast.collections]\n",
      " 23%|████████████████████████████████████████▊                                                                                                                                     | 97/413 [11:58<36:44,  6.97s/it]"
     ]
    },
    {
     "name": "stdout",
     "output_type": "stream",
     "text": [
      "HAT-P-14\n",
      "Mstar=(1.43,0.25) Msun\n",
      "Rstar=(1.55,0.07) Rsun\n",
      "Rhostar=(0.39,0.09) rhosun\n",
      "teff=(6728,124) K\n",
      "logg=(4.22,0.09) cgs\n",
      "feh=(0.00,0.10) dex\n",
      "Querying Gaia sources 60\" around HAT-P-14: (260.1162, 38.2422) deg.\n"
     ]
    },
    {
     "name": "stderr",
     "output_type": "stream",
     "text": [
      "WARNING: InputWarning: Invalid Gaia version number, defaulting to DR2. [astroquery.mast.collections]\n",
      " 24%|█████████████████████████████████████████▎                                                                                                                                    | 98/413 [12:07<39:08,  7.45s/it]"
     ]
    },
    {
     "name": "stdout",
     "output_type": "stream",
     "text": [
      "Kepler-101\n"
     ]
    },
    {
     "name": "stderr",
     "output_type": "stream",
     "text": [
      " 24%|█████████████████████████████████████████▋                                                                                                                                    | 99/413 [12:10<32:43,  6.25s/it]"
     ]
    },
    {
     "name": "stdout",
     "output_type": "stream",
     "text": [
      "float() argument must be a string or a real number, not 'NoneType'\n",
      "Check exofop: https://exofop.ipac.caltech.edu/tess/target.php?id=Kepler-101&json\n",
      "HAT-P-16\n",
      "Mstar=(1.16,0.16) Msun\n",
      "Rstar=(1.24,0.06) Rsun\n",
      "Rhostar=(0.61,0.12) rhosun\n",
      "teff=(6140,126) K\n",
      "logg=(4.32,0.08) cgs\n",
      "feh=(0.00,0.10) dex\n",
      "Querying Gaia sources 60\" around HAT-P-16: (9.5730, 42.4631) deg.\n"
     ]
    },
    {
     "name": "stderr",
     "output_type": "stream",
     "text": [
      "WARNING: InputWarning: Invalid Gaia version number, defaulting to DR2. [astroquery.mast.collections]\n",
      " 24%|█████████████████████████████████████████▉                                                                                                                                   | 100/413 [12:19<36:14,  6.95s/it]"
     ]
    },
    {
     "name": "stdout",
     "output_type": "stream",
     "text": [
      "WASP-17\n",
      "Mstar=(1.35,0.21) Msun\n",
      "Rstar=(1.57,0.09) Rsun\n",
      "Rhostar=(0.35,0.08) rhosun\n",
      "teff=(6548,140) K\n",
      "logg=(4.18,0.10) cgs\n",
      "feh=(0.00,0.10) dex\n",
      "Querying Gaia sources 60\" around WASP-17: (239.9622, -28.0618) deg.\n"
     ]
    },
    {
     "name": "stderr",
     "output_type": "stream",
     "text": [
      "WARNING: InputWarning: Invalid Gaia version number, defaulting to DR2. [astroquery.mast.collections]\n",
      " 24%|██████████████████████████████████████████▎                                                                                                                                  | 101/413 [12:28<38:50,  7.47s/it]"
     ]
    },
    {
     "name": "stdout",
     "output_type": "stream",
     "text": [
      "HAT-P-55\n",
      "Mstar=(1.06,0.13) Msun\n",
      "Rstar=(1.07,0.05) Rsun\n",
      "Rhostar=(0.87,0.17) rhosun\n",
      "teff=(5852,127) K\n",
      "logg=(4.41,0.08) cgs\n",
      "feh=(0.00,0.10) dex\n",
      "Querying Gaia sources 60\" around HAT-P-55: (264.2735, 25.7311) deg.\n"
     ]
    },
    {
     "name": "stderr",
     "output_type": "stream",
     "text": [
      "WARNING: InputWarning: Invalid Gaia version number, defaulting to DR2. [astroquery.mast.collections]\n",
      " 25%|██████████████████████████████████████████▋                                                                                                                                  | 102/413 [12:36<40:38,  7.84s/it]"
     ]
    },
    {
     "name": "stdout",
     "output_type": "stream",
     "text": [
      "HAT-P-65\n",
      "Mstar=(1.08,0.13) Msun\n",
      "Rstar=(1.67,0.09) Rsun\n",
      "Rhostar=(0.23,0.05) rhosun\n",
      "teff=(5916,122) K\n",
      "logg=(4.03,0.08) cgs\n",
      "feh=(0.00,0.10) dex\n",
      "Querying Gaia sources 60\" around HAT-P-65: (315.9055, 11.9894) deg.\n"
     ]
    },
    {
     "name": "stderr",
     "output_type": "stream",
     "text": [
      "WARNING: InputWarning: Invalid Gaia version number, defaulting to DR2. [astroquery.mast.collections]\n",
      " 25%|███████████████████████████████████████████▏                                                                                                                                 | 103/413 [12:47<44:21,  8.59s/it]"
     ]
    },
    {
     "name": "stdout",
     "output_type": "stream",
     "text": [
      "EPIC 246851721\n",
      "Mstar=(1.34,0.23) Msun\n",
      "Rstar=(1.74,0.11) Rsun\n",
      "Rhostar=(0.25,0.06) rhosun\n",
      "teff=(6513,133) K\n",
      "logg=(4.08,0.10) cgs\n",
      "feh=(0.00,0.10) dex\n",
      "Querying Gaia sources 60\" around EPIC 246851721: (78.9198, 16.2787) deg.\n"
     ]
    },
    {
     "name": "stderr",
     "output_type": "stream",
     "text": [
      "WARNING: InputWarning: Invalid Gaia version number, defaulting to DR2. [astroquery.mast.collections]\n",
      " 25%|███████████████████████████████████████████▌                                                                                                                                 | 104/413 [12:52<38:58,  7.57s/it]"
     ]
    },
    {
     "name": "stdout",
     "output_type": "stream",
     "text": [
      "WASP-145 A\n",
      "Mstar=(0.75,0.09) Msun\n",
      "Rstar=(0.70,0.05) Rsun\n",
      "Rhostar=(2.17,0.56) rhosun\n",
      "teff=(4683,129) K\n",
      "logg=(4.62,0.09) cgs\n",
      "feh=(0.00,0.10) dex\n",
      "Querying Gaia sources 60\" around WASP-145 A: (322.2538, -58.8361) deg.\n"
     ]
    },
    {
     "name": "stderr",
     "output_type": "stream",
     "text": [
      "WARNING: InputWarning: Invalid Gaia version number, defaulting to DR2. [astroquery.mast.collections]\n",
      " 25%|███████████████████████████████████████████▉                                                                                                                                 | 105/413 [13:00<39:01,  7.60s/it]"
     ]
    },
    {
     "name": "stdout",
     "output_type": "stream",
     "text": [
      "KELT-23 A\n",
      "Mstar=(1.07,0.14) Msun\n",
      "Rstar=(0.96,0.05) Rsun\n",
      "Rhostar=(1.20,0.23) rhosun\n",
      "teff=(5898,125) K\n",
      "logg=(4.50,0.08) cgs\n",
      "feh=(0.00,0.10) dex\n",
      "Querying Gaia sources 60\" around KELT-23 A: (232.1466, 66.3587) deg.\n"
     ]
    },
    {
     "name": "stderr",
     "output_type": "stream",
     "text": [
      "WARNING: InputWarning: Invalid Gaia version number, defaulting to DR2. [astroquery.mast.collections]\n",
      " 26%|████████████████████████████████████████████▍                                                                                                                                | 106/413 [13:07<38:11,  7.46s/it]"
     ]
    },
    {
     "name": "stdout",
     "output_type": "stream",
     "text": [
      "TOI-1820\n",
      "Mstar=(1.04,0.12) Msun\n",
      "Rstar=(1.40,0.06) Rsun\n",
      "Rhostar=(0.38,0.07) rhosun\n",
      "teff=(5778,106) K\n",
      "logg=(4.16,0.07) cgs\n",
      "feh=(0.00,0.10) dex\n",
      "Querying Gaia sources 60\" around TOI-1820: (187.6867, 27.4520) deg.\n"
     ]
    },
    {
     "name": "stderr",
     "output_type": "stream",
     "text": [
      "WARNING: InputWarning: Invalid Gaia version number, defaulting to DR2. [astroquery.mast.collections]\n",
      " 26%|████████████████████████████████████████████▊                                                                                                                                | 107/413 [13:12<34:21,  6.74s/it]"
     ]
    },
    {
     "name": "stdout",
     "output_type": "stream",
     "text": [
      "gaia_sources contains single entry\n",
      "TOI-2145\n",
      "Mstar=(1.19,0.18) Msun\n",
      "Rstar=(2.78,0.13) Rsun\n",
      "Rhostar=(0.06,0.01) rhosun\n",
      "teff=(6202,130) K\n",
      "logg=(3.63,0.08) cgs\n",
      "feh=(0.00,0.10) dex\n",
      "Querying Gaia sources 60\" around TOI-2145: (263.7581, 40.6950) deg.\n"
     ]
    },
    {
     "name": "stderr",
     "output_type": "stream",
     "text": [
      "WARNING: InputWarning: Invalid Gaia version number, defaulting to DR2. [astroquery.mast.collections]\n",
      " 26%|█████████████████████████████████████████████▏                                                                                                                               | 108/413 [13:17<31:18,  6.16s/it]"
     ]
    },
    {
     "name": "stdout",
     "output_type": "stream",
     "text": [
      "Kepler-1517\n",
      "Mstar=(1.53,0.26) Msun\n",
      "Rstar=(1.89,0.09) Rsun\n",
      "Rhostar=(0.23,0.05) rhosun\n",
      "teff=(6964,138) K\n",
      "logg=(4.07,0.09) cgs\n",
      "feh=(0.00,0.10) dex\n",
      "Querying Gaia sources 60\" around Kepler-1517: (287.8072, 43.1888) deg.\n"
     ]
    },
    {
     "name": "stderr",
     "output_type": "stream",
     "text": [
      "WARNING: InputWarning: Invalid Gaia version number, defaulting to DR2. [astroquery.mast.collections]\n",
      " 26%|█████████████████████████████████████████████▋                                                                                                                               | 109/413 [13:21<29:10,  5.76s/it]"
     ]
    },
    {
     "name": "stdout",
     "output_type": "stream",
     "text": [
      "TOI-2236\n",
      "Mstar=(1.19,0.17) Msun\n",
      "Rstar=(1.62,0.07) Rsun\n",
      "Rhostar=(0.28,0.05) rhosun\n",
      "teff=(6209,127) K\n",
      "logg=(4.09,0.08) cgs\n",
      "feh=(0.00,0.10) dex\n",
      "Querying Gaia sources 60\" around TOI-2236: (20.1660, -86.9800) deg.\n"
     ]
    },
    {
     "name": "stderr",
     "output_type": "stream",
     "text": [
      "WARNING: InputWarning: Invalid Gaia version number, defaulting to DR2. [astroquery.mast.collections]\n",
      " 27%|██████████████████████████████████████████████                                                                                                                               | 110/413 [13:26<27:22,  5.42s/it]"
     ]
    },
    {
     "name": "stdout",
     "output_type": "stream",
     "text": [
      "WASP-167\n",
      "Mstar=(1.57,0.26) Msun\n",
      "Rstar=(1.94,0.08) Rsun\n",
      "Rhostar=(0.21,0.05) rhosun\n",
      "teff=(7081,129) K\n",
      "logg=(4.06,0.08) cgs\n",
      "feh=(0.00,0.10) dex\n",
      "Querying Gaia sources 60\" around WASP-167: (196.0438, -35.5495) deg.\n"
     ]
    },
    {
     "name": "stderr",
     "output_type": "stream",
     "text": [
      "WARNING: InputWarning: Invalid Gaia version number, defaulting to DR2. [astroquery.mast.collections]\n",
      " 27%|██████████████████████████████████████████████▍                                                                                                                              | 111/413 [13:34<31:43,  6.30s/it]"
     ]
    },
    {
     "name": "stdout",
     "output_type": "stream",
     "text": [
      "TOI-1194\n",
      "Mstar=(0.92,0.12) Msun\n",
      "Rstar=(0.99,0.06) Rsun\n",
      "Rhostar=(0.94,0.20) rhosun\n",
      "teff=(5323,124) K\n",
      "logg=(4.41,0.09) cgs\n",
      "feh=(0.00,0.10) dex\n",
      "Querying Gaia sources 60\" around TOI-1194: (167.8215, 69.9648) deg.\n"
     ]
    },
    {
     "name": "stderr",
     "output_type": "stream",
     "text": [
      "WARNING: InputWarning: Invalid Gaia version number, defaulting to DR2. [astroquery.mast.collections]\n",
      " 27%|██████████████████████████████████████████████▉                                                                                                                              | 112/413 [13:39<29:17,  5.84s/it]"
     ]
    },
    {
     "name": "stdout",
     "output_type": "stream",
     "text": [
      "HATS-4\n",
      "Mstar=(0.91,0.11) Msun\n",
      "Rstar=(0.98,0.06) Rsun\n",
      "Rhostar=(0.96,0.20) rhosun\n",
      "teff=(5312,125) K\n",
      "logg=(4.41,0.08) cgs\n",
      "feh=(0.00,0.10) dex\n",
      "Querying Gaia sources 60\" around HATS-4: (94.1121, -22.5469) deg.\n"
     ]
    },
    {
     "name": "stderr",
     "output_type": "stream",
     "text": [
      "WARNING: InputWarning: Invalid Gaia version number, defaulting to DR2. [astroquery.mast.collections]\n",
      " 27%|███████████████████████████████████████████████▎                                                                                                                             | 113/413 [13:47<32:30,  6.50s/it]"
     ]
    },
    {
     "name": "stdout",
     "output_type": "stream",
     "text": [
      "HATS-13\n"
     ]
    },
    {
     "name": "stderr",
     "output_type": "stream",
     "text": [
      " 28%|███████████████████████████████████████████████▊                                                                                                                             | 114/413 [13:55<34:01,  6.83s/it]"
     ]
    },
    {
     "name": "stdout",
     "output_type": "stream",
     "text": [
      "float() argument must be a string or a real number, not 'NoneType'\n",
      "Check exofop: https://exofop.ipac.caltech.edu/tess/target.php?id=HATS-13&json\n",
      "TOI-2583 A\n",
      "Mstar=(1.13,0.15) Msun\n",
      "Rstar=(1.49,0.07) Rsun\n",
      "Rhostar=(0.34,0.07) rhosun\n",
      "teff=(6050,128) K\n",
      "logg=(4.14,0.08) cgs\n",
      "feh=(0.00,0.10) dex\n",
      "Querying Gaia sources 60\" around TOI-2583 A: (272.2670, 45.3369) deg.\n"
     ]
    },
    {
     "name": "stderr",
     "output_type": "stream",
     "text": [
      "WARNING: InputWarning: Invalid Gaia version number, defaulting to DR2. [astroquery.mast.collections]\n",
      " 28%|████████████████████████████████████████████████▏                                                                                                                            | 115/413 [14:03<35:46,  7.20s/it]"
     ]
    },
    {
     "name": "stdout",
     "output_type": "stream",
     "text": [
      "Kepler-5\n",
      "Mstar=(1.23,0.19) Msun\n",
      "Rstar=(1.78,0.09) Rsun\n",
      "Rhostar=(0.22,0.05) rhosun\n",
      "teff=(6295,103) K\n",
      "logg=(4.03,0.08) cgs\n",
      "feh=(0.00,0.10) dex\n",
      "Querying Gaia sources 60\" around Kepler-5: (299.4070, 44.0350) deg.\n"
     ]
    },
    {
     "name": "stderr",
     "output_type": "stream",
     "text": [
      "WARNING: InputWarning: Invalid Gaia version number, defaulting to DR2. [astroquery.mast.collections]\n",
      " 28%|████████████████████████████████████████████████▌                                                                                                                            | 116/413 [14:09<33:51,  6.84s/it]"
     ]
    },
    {
     "name": "stdout",
     "output_type": "stream",
     "text": [
      "HAT-P-8\n",
      "Mstar=(1.28,0.20) Msun\n",
      "Rstar=(1.43,0.06) Rsun\n",
      "Rhostar=(0.44,0.09) rhosun\n",
      "teff=(6402,103) K\n",
      "logg=(4.24,0.08) cgs\n",
      "feh=(0.00,0.10) dex\n",
      "Querying Gaia sources 60\" around HAT-P-8: (343.0415, 35.4472) deg.\n"
     ]
    },
    {
     "name": "stderr",
     "output_type": "stream",
     "text": [
      "WARNING: InputWarning: Invalid Gaia version number, defaulting to DR2. [astroquery.mast.collections]\n",
      " 28%|█████████████████████████████████████████████████                                                                                                                            | 117/413 [14:17<35:35,  7.22s/it]"
     ]
    },
    {
     "name": "stdout",
     "output_type": "stream",
     "text": [
      "HAT-P-41\n",
      "Mstar=(1.32,0.21) Msun\n",
      "Rstar=(1.65,0.07) Rsun\n",
      "Rhostar=(0.29,0.06) rhosun\n",
      "teff=(6479,100) K\n",
      "logg=(4.12,0.08) cgs\n",
      "feh=(0.00,0.10) dex\n",
      "Querying Gaia sources 60\" around HAT-P-41: (297.3227, 4.6724) deg.\n"
     ]
    },
    {
     "name": "stderr",
     "output_type": "stream",
     "text": [
      "WARNING: InputWarning: Invalid Gaia version number, defaulting to DR2. [astroquery.mast.collections]\n",
      " 29%|█████████████████████████████████████████████████▍                                                                                                                           | 118/413 [14:28<40:58,  8.33s/it]"
     ]
    },
    {
     "name": "stdout",
     "output_type": "stream",
     "text": [
      "HAT-P-66\n",
      "Mstar=(1.15,0.16) Msun\n",
      "Rstar=(1.95,0.11) Rsun\n",
      "Rhostar=(0.16,0.03) rhosun\n",
      "teff=(6101,143) K\n",
      "logg=(3.92,0.09) cgs\n",
      "feh=(0.00,0.10) dex\n",
      "Querying Gaia sources 60\" around HAT-P-66: (150.5726, 53.9508) deg.\n"
     ]
    },
    {
     "name": "stderr",
     "output_type": "stream",
     "text": [
      "WARNING: InputWarning: Invalid Gaia version number, defaulting to DR2. [astroquery.mast.collections]\n",
      " 29%|█████████████████████████████████████████████████▊                                                                                                                           | 119/413 [14:36<41:03,  8.38s/it]"
     ]
    },
    {
     "name": "stdout",
     "output_type": "stream",
     "text": [
      "HATS-41\n",
      "Mstar=(1.29,0.21) Msun\n",
      "Rstar=(1.63,0.07) Rsun\n",
      "Rhostar=(0.30,0.06) rhosun\n",
      "teff=(6405,128) K\n",
      "logg=(4.13,0.09) cgs\n",
      "feh=(0.00,0.10) dex\n",
      "Querying Gaia sources 60\" around HATS-41: (103.5174, -27.0504) deg.\n"
     ]
    },
    {
     "name": "stderr",
     "output_type": "stream",
     "text": [
      "WARNING: InputWarning: Invalid Gaia version number, defaulting to DR2. [astroquery.mast.collections]\n",
      " 29%|██████████████████████████████████████████████████▎                                                                                                                          | 120/413 [14:45<40:49,  8.36s/it]"
     ]
    },
    {
     "name": "stdout",
     "output_type": "stream",
     "text": [
      "K2-371\n"
     ]
    },
    {
     "name": "stderr",
     "output_type": "stream",
     "text": [
      " 29%|██████████████████████████████████████████████████▋                                                                                                                          | 121/413 [14:53<40:53,  8.40s/it]"
     ]
    },
    {
     "name": "stdout",
     "output_type": "stream",
     "text": [
      "float() argument must be a string or a real number, not 'NoneType'\n",
      "Check exofop: https://exofop.ipac.caltech.edu/tess/target.php?id=K2-371&json\n",
      "TOI-2977\n"
     ]
    },
    {
     "name": "stderr",
     "output_type": "stream",
     "text": [
      " 30%|███████████████████████████████████████████████████                                                                                                                          | 122/413 [14:57<34:29,  7.11s/it]"
     ]
    },
    {
     "name": "stdout",
     "output_type": "stream",
     "text": [
      "could not convert string to float: ''\n",
      "Check exofop: https://exofop.ipac.caltech.edu/tess/target.php?id=TOI-2977&json\n",
      "Kepler-488\n"
     ]
    },
    {
     "name": "stderr",
     "output_type": "stream",
     "text": [
      " 30%|███████████████████████████████████████████████████▌                                                                                                                         | 123/413 [15:01<29:15,  6.05s/it]"
     ]
    },
    {
     "name": "stdout",
     "output_type": "stream",
     "text": [
      "float() argument must be a string or a real number, not 'NoneType'\n",
      "Check exofop: https://exofop.ipac.caltech.edu/tess/target.php?id=Kepler-488&json\n",
      "Kepler-44\n"
     ]
    },
    {
     "name": "stderr",
     "output_type": "stream",
     "text": [
      " 30%|███████████████████████████████████████████████████▉                                                                                                                         | 124/413 [15:05<26:24,  5.48s/it]"
     ]
    },
    {
     "name": "stdout",
     "output_type": "stream",
     "text": [
      "float() argument must be a string or a real number, not 'NoneType'\n",
      "Check exofop: https://exofop.ipac.caltech.edu/tess/target.php?id=Kepler-44&json\n",
      "WASP-54\n",
      "Mstar=(1.15,0.15) Msun\n",
      "Rstar=(1.78,0.09) Rsun\n",
      "Rhostar=(0.20,0.04) rhosun\n",
      "teff=(6097,138) K\n",
      "logg=(4.00,0.09) cgs\n",
      "feh=(0.00,0.10) dex\n",
      "Querying Gaia sources 60\" around WASP-54: (205.4542, -0.1282) deg.\n"
     ]
    },
    {
     "name": "stderr",
     "output_type": "stream",
     "text": [
      "WARNING: InputWarning: Invalid Gaia version number, defaulting to DR2. [astroquery.mast.collections]\n",
      " 30%|████████████████████████████████████████████████████▎                                                                                                                        | 125/413 [15:13<29:21,  6.12s/it]"
     ]
    },
    {
     "name": "stdout",
     "output_type": "stream",
     "text": [
      "HIP 65 A\n",
      "Mstar=(0.70,0.09) Msun\n",
      "Rstar=(0.76,0.06) Rsun\n",
      "Rhostar=(1.57,0.43) rhosun\n",
      "teff=(4486,126) K\n",
      "logg=(4.52,0.10) cgs\n",
      "feh=(0.00,0.10) dex\n",
      "Querying Gaia sources 60\" around HIP 65 A: (0.1856, -54.8308) deg.\n"
     ]
    },
    {
     "name": "stderr",
     "output_type": "stream",
     "text": [
      "WARNING: InputWarning: Invalid Gaia version number, defaulting to DR2. [astroquery.mast.collections]\n",
      " 31%|████████████████████████████████████████████████████▊                                                                                                                        | 126/413 [15:21<33:17,  6.96s/it]"
     ]
    },
    {
     "name": "stdout",
     "output_type": "stream",
     "text": [
      "WASP-189\n",
      "Mstar=(1.91,0.30) Msun\n",
      "Rstar=(2.25,0.06) Rsun\n",
      "Rhostar=(0.17,0.03) rhosun\n",
      "teff=(7949,129) K\n",
      "logg=(4.01,0.08) cgs\n",
      "feh=(0.00,0.10) dex\n",
      "Querying Gaia sources 60\" around WASP-189: (225.6867, -3.0315) deg.\n"
     ]
    },
    {
     "name": "stderr",
     "output_type": "stream",
     "text": [
      "WARNING: InputWarning: Invalid Gaia version number, defaulting to DR2. [astroquery.mast.collections]\n",
      " 31%|█████████████████████████████████████████████████████▏                                                                                                                       | 127/413 [15:29<34:25,  7.22s/it]"
     ]
    },
    {
     "name": "stdout",
     "output_type": "stream",
     "text": [
      "WASP-81\n",
      "Mstar=(1.09,0.14) Msun\n",
      "Rstar=(1.19,0.06) Rsun\n",
      "Rhostar=(0.65,0.12) rhosun\n",
      "teff=(5962,121) K\n",
      "logg=(4.33,0.08) cgs\n",
      "feh=(0.00,0.10) dex\n",
      "Querying Gaia sources 60\" around WASP-81: (304.2080, 3.2939) deg.\n"
     ]
    },
    {
     "name": "stderr",
     "output_type": "stream",
     "text": [
      "WARNING: InputWarning: Invalid Gaia version number, defaulting to DR2. [astroquery.mast.collections]\n",
      " 31%|█████████████████████████████████████████████████████▌                                                                                                                       | 128/413 [15:38<35:53,  7.56s/it]"
     ]
    },
    {
     "name": "stdout",
     "output_type": "stream",
     "text": [
      "HAT-P-24\n",
      "Mstar=(1.25,0.20) Msun\n",
      "Rstar=(1.42,0.07) Rsun\n",
      "Rhostar=(0.44,0.09) rhosun\n",
      "teff=(6329,132) K\n",
      "logg=(4.23,0.09) cgs\n",
      "feh=(0.00,0.10) dex\n",
      "Querying Gaia sources 60\" around HAT-P-24: (108.8251, 14.2626) deg.\n"
     ]
    },
    {
     "name": "stderr",
     "output_type": "stream",
     "text": [
      "WARNING: InputWarning: Invalid Gaia version number, defaulting to DR2. [astroquery.mast.collections]\n",
      " 31%|██████████████████████████████████████████████████████                                                                                                                       | 129/413 [15:46<36:47,  7.77s/it]"
     ]
    },
    {
     "name": "stdout",
     "output_type": "stream",
     "text": [
      "Kepler-673\n"
     ]
    },
    {
     "name": "stderr",
     "output_type": "stream",
     "text": [
      " 31%|██████████████████████████████████████████████████████▍                                                                                                                      | 130/413 [15:49<30:40,  6.50s/it]"
     ]
    },
    {
     "name": "stdout",
     "output_type": "stream",
     "text": [
      "float() argument must be a string or a real number, not 'NoneType'\n",
      "Check exofop: https://exofop.ipac.caltech.edu/tess/target.php?id=Kepler-673&json\n",
      "HATS-35\n",
      "Mstar=(1.17,0.16) Msun\n",
      "Rstar=(1.35,0.07) Rsun\n",
      "Rhostar=(0.47,0.09) rhosun\n",
      "teff=(6155,133) K\n",
      "logg=(4.24,0.08) cgs\n",
      "feh=(0.00,0.10) dex\n",
      "Querying Gaia sources 60\" around HATS-35: (296.6884, -63.5656) deg.\n"
     ]
    },
    {
     "name": "stderr",
     "output_type": "stream",
     "text": [
      "WARNING: InputWarning: Invalid Gaia version number, defaulting to DR2. [astroquery.mast.collections]\n",
      " 32%|██████████████████████████████████████████████████████▊                                                                                                                      | 131/413 [15:57<32:36,  6.94s/it]"
     ]
    },
    {
     "name": "stdout",
     "output_type": "stream",
     "text": [
      "NGTS-23\n"
     ]
    },
    {
     "name": "stderr",
     "output_type": "stream",
     "text": [
      " 32%|███████████████████████████████████████████████████████▎                                                                                                                     | 132/413 [16:05<32:48,  7.00s/it]"
     ]
    },
    {
     "name": "stdout",
     "output_type": "stream",
     "text": [
      "float() argument must be a string or a real number, not 'NoneType'\n",
      "Check exofop: https://exofop.ipac.caltech.edu/tess/target.php?id=NGTS-23&json\n",
      "WASP-71\n",
      "Mstar=(1.18,0.16) Msun\n",
      "Rstar=(2.14,0.10) Rsun\n",
      "Rhostar=(0.12,0.02) rhosun\n",
      "teff=(6180,113) K\n",
      "logg=(3.85,0.08) cgs\n",
      "feh=(0.00,0.10) dex\n",
      "Querying Gaia sources 60\" around WASP-71: (29.2635, 0.7588) deg.\n"
     ]
    },
    {
     "name": "stderr",
     "output_type": "stream",
     "text": [
      "WARNING: InputWarning: Invalid Gaia version number, defaulting to DR2. [astroquery.mast.collections]\n",
      " 32%|███████████████████████████████████████████████████████▋                                                                                                                     | 133/413 [16:13<33:59,  7.29s/it]"
     ]
    },
    {
     "name": "stdout",
     "output_type": "stream",
     "text": [
      "HAT-P-7\n",
      "Mstar=(1.35,0.22) Msun\n",
      "Rstar=(1.99,0.08) Rsun\n",
      "Rhostar=(0.17,0.03) rhosun\n",
      "teff=(6532,109) K\n",
      "logg=(3.97,0.08) cgs\n",
      "feh=(0.00,0.10) dex\n",
      "Querying Gaia sources 60\" around HAT-P-7: (292.2472, 47.9695) deg.\n"
     ]
    },
    {
     "name": "stderr",
     "output_type": "stream",
     "text": [
      "WARNING: InputWarning: Invalid Gaia version number, defaulting to DR2. [astroquery.mast.collections]\n",
      " 32%|████████████████████████████████████████████████████████▏                                                                                                                    | 134/413 [16:21<35:39,  7.67s/it]"
     ]
    },
    {
     "name": "stdout",
     "output_type": "stream",
     "text": [
      "KELT-1\n",
      "Mstar=(1.38,0.23) Msun\n",
      "Rstar=(1.46,0.07) Rsun\n",
      "Rhostar=(0.44,0.10) rhosun\n",
      "teff=(6596,157) K\n",
      "logg=(4.25,0.09) cgs\n",
      "feh=(0.00,0.10) dex\n",
      "Querying Gaia sources 60\" around KELT-1: (0.3621, 39.3838) deg.\n"
     ]
    },
    {
     "name": "stderr",
     "output_type": "stream",
     "text": [
      "WARNING: InputWarning: Invalid Gaia version number, defaulting to DR2. [astroquery.mast.collections]\n",
      " 33%|████████████████████████████████████████████████████████▌                                                                                                                    | 135/413 [16:29<36:28,  7.87s/it]"
     ]
    },
    {
     "name": "stdout",
     "output_type": "stream",
     "text": [
      "WASP-12\n",
      "Mstar=(1.17,0.16) Msun\n",
      "Rstar=(1.75,0.08) Rsun\n",
      "Rhostar=(0.22,0.04) rhosun\n",
      "teff=(6154,106) K\n",
      "logg=(4.02,0.08) cgs\n",
      "feh=(0.00,0.10) dex\n",
      "Querying Gaia sources 60\" around WASP-12: (97.6366, 29.6723) deg.\n"
     ]
    },
    {
     "name": "stderr",
     "output_type": "stream",
     "text": [
      "WARNING: InputWarning: Invalid Gaia version number, defaulting to DR2. [astroquery.mast.collections]\n",
      " 33%|████████████████████████████████████████████████████████▉                                                                                                                    | 136/413 [16:38<36:46,  7.97s/it]"
     ]
    },
    {
     "name": "stdout",
     "output_type": "stream",
     "text": [
      "WASP-77 A\n",
      "Mstar=(0.99,0.12) Msun\n",
      "Rstar=(0.93,0.04) Rsun\n",
      "Rhostar=(1.22,0.22) rhosun\n",
      "teff=(5605,111) K\n",
      "logg=(4.49,0.07) cgs\n",
      "feh=(0.00,0.10) dex\n",
      "Querying Gaia sources 60\" around WASP-77 A: (37.1555, -7.0607) deg.\n"
     ]
    },
    {
     "name": "stderr",
     "output_type": "stream",
     "text": [
      "WARNING: InputWarning: Invalid Gaia version number, defaulting to DR2. [astroquery.mast.collections]\n",
      " 33%|█████████████████████████████████████████████████████████▍                                                                                                                   | 137/413 [16:46<36:58,  8.04s/it]"
     ]
    },
    {
     "name": "stdout",
     "output_type": "stream",
     "text": [
      "WASP-79\n",
      "Mstar=(1.54,0.27) Msun\n",
      "Rstar=(1.49,0.07) Rsun\n",
      "Rhostar=(0.47,0.11) rhosun\n",
      "teff=(7002,160) K\n",
      "logg=(4.28,0.09) cgs\n",
      "feh=(0.00,0.10) dex\n",
      "Querying Gaia sources 60\" around WASP-79: (66.3709, -30.6004) deg.\n"
     ]
    },
    {
     "name": "stderr",
     "output_type": "stream",
     "text": [
      "WARNING: InputWarning: Invalid Gaia version number, defaulting to DR2. [astroquery.mast.collections]\n",
      " 33%|█████████████████████████████████████████████████████████▊                                                                                                                   | 138/413 [16:54<36:43,  8.01s/it]"
     ]
    },
    {
     "name": "stdout",
     "output_type": "stream",
     "text": [
      "Kepler-435\n"
     ]
    },
    {
     "name": "stderr",
     "output_type": "stream",
     "text": [
      " 34%|██████████████████████████████████████████████████████████▏                                                                                                                  | 139/413 [16:58<30:47,  6.74s/it]"
     ]
    },
    {
     "name": "stdout",
     "output_type": "stream",
     "text": [
      "float() argument must be a string or a real number, not 'NoneType'\n",
      "Check exofop: https://exofop.ipac.caltech.edu/tess/target.php?id=Kepler-435&json\n",
      "KELT-15\n",
      "Mstar=(1.33,0.23) Msun\n",
      "Rstar=(1.52,0.06) Rsun\n",
      "Rhostar=(0.38,0.08) rhosun\n",
      "teff=(6505,131) K\n",
      "logg=(4.20,0.09) cgs\n",
      "feh=(0.00,0.10) dex\n",
      "Querying Gaia sources 60\" around KELT-15: (117.4150, -52.1204) deg.\n"
     ]
    },
    {
     "name": "stderr",
     "output_type": "stream",
     "text": [
      "WARNING: InputWarning: Invalid Gaia version number, defaulting to DR2. [astroquery.mast.collections]\n",
      " 34%|██████████████████████████████████████████████████████████▋                                                                                                                  | 140/413 [17:06<33:04,  7.27s/it]"
     ]
    },
    {
     "name": "stdout",
     "output_type": "stream",
     "text": [
      "WASP-32\n",
      "Mstar=(1.30,0.21) Msun\n",
      "Rstar=(1.03,0.05) Rsun\n",
      "Rhostar=(1.20,0.27) rhosun\n",
      "teff=(6427,156) K\n",
      "logg=(4.53,0.10) cgs\n",
      "feh=(0.00,0.10) dex\n",
      "Querying Gaia sources 60\" around WASP-32: (3.9617, 1.2005) deg.\n"
     ]
    },
    {
     "name": "stderr",
     "output_type": "stream",
     "text": [
      "WARNING: InputWarning: Invalid Gaia version number, defaulting to DR2. [astroquery.mast.collections]\n",
      " 34%|███████████████████████████████████████████████████████████                                                                                                                  | 141/413 [17:14<33:14,  7.33s/it]"
     ]
    },
    {
     "name": "stdout",
     "output_type": "stream",
     "text": [
      "gaia_sources contains single entry\n",
      "WASP-33\n",
      "Mstar=(1.65,0.27) Msun\n",
      "Rstar=(1.60,0.06) Rsun\n",
      "Rhostar=(0.40,0.08) rhosun\n",
      "teff=(7308,121) K\n",
      "logg=(4.25,0.08) cgs\n",
      "feh=(0.00,0.10) dex\n",
      "Querying Gaia sources 60\" around WASP-33: (36.7127, 37.5504) deg.\n"
     ]
    },
    {
     "name": "stderr",
     "output_type": "stream",
     "text": [
      "WARNING: InputWarning: Invalid Gaia version number, defaulting to DR2. [astroquery.mast.collections]\n",
      " 34%|███████████████████████████████████████████████████████████▍                                                                                                                 | 142/413 [17:21<33:47,  7.48s/it]"
     ]
    },
    {
     "name": "stdout",
     "output_type": "stream",
     "text": [
      "WASP-43\n",
      "Mstar=(0.65,0.08) Msun\n",
      "Rstar=(0.76,0.07) Rsun\n",
      "Rhostar=(1.49,0.48) rhosun\n",
      "teff=(4124,127) K\n",
      "logg=(4.49,0.11) cgs\n",
      "feh=(0.00,0.10) dex\n",
      "Querying Gaia sources 60\" around WASP-43: (154.9082, -9.8064) deg.\n"
     ]
    },
    {
     "name": "stderr",
     "output_type": "stream",
     "text": [
      "WARNING: InputWarning: Invalid Gaia version number, defaulting to DR2. [astroquery.mast.collections]\n",
      " 35%|███████████████████████████████████████████████████████████▉                                                                                                                 | 143/413 [17:29<34:18,  7.63s/it]"
     ]
    },
    {
     "name": "stdout",
     "output_type": "stream",
     "text": [
      "WASP-74\n",
      "Mstar=(1.04,0.13) Msun\n",
      "Rstar=(1.60,0.08) Rsun\n",
      "Rhostar=(0.26,0.05) rhosun\n",
      "teff=(5806,134) K\n",
      "logg=(4.05,0.07) cgs\n",
      "feh=(0.00,0.10) dex\n",
      "Querying Gaia sources 60\" around WASP-74: (304.5388, -1.0760) deg.\n"
     ]
    },
    {
     "name": "stderr",
     "output_type": "stream",
     "text": [
      "WARNING: InputWarning: Invalid Gaia version number, defaulting to DR2. [astroquery.mast.collections]\n",
      " 35%|████████████████████████████████████████████████████████████▎                                                                                                                | 144/413 [17:39<36:18,  8.10s/it]"
     ]
    },
    {
     "name": "stdout",
     "output_type": "stream",
     "text": [
      "TOI-1296\n",
      "Mstar=(0.96,0.12) Msun\n",
      "Rstar=(1.75,0.09) Rsun\n",
      "Rhostar=(0.18,0.04) rhosun\n",
      "teff=(5494,126) K\n",
      "logg=(3.93,0.08) cgs\n",
      "feh=(0.00,0.10) dex\n",
      "Querying Gaia sources 60\" around TOI-1296: (256.7706, 70.2385) deg.\n"
     ]
    },
    {
     "name": "stderr",
     "output_type": "stream",
     "text": [
      "WARNING: InputWarning: Invalid Gaia version number, defaulting to DR2. [astroquery.mast.collections]\n",
      " 35%|████████████████████████████████████████████████████████████▋                                                                                                                | 145/413 [17:43<31:52,  7.14s/it]"
     ]
    },
    {
     "name": "stdout",
     "output_type": "stream",
     "text": [
      "KOI-13\n"
     ]
    },
    {
     "name": "stderr",
     "output_type": "stream",
     "text": [
      " 35%|█████████████████████████████████████████████████████████████▏                                                                                                               | 146/413 [17:51<31:49,  7.15s/it]"
     ]
    },
    {
     "name": "stdout",
     "output_type": "stream",
     "text": [
      "float() argument must be a string or a real number, not 'NoneType'\n",
      "Check exofop: https://exofop.ipac.caltech.edu/tess/target.php?id=KOI-13&json\n",
      "HAT-P-58\n",
      "Mstar=(1.01,0.13) Msun\n",
      "Rstar=(1.53,0.08) Rsun\n",
      "Rhostar=(0.28,0.06) rhosun\n",
      "teff=(5679,165) K\n",
      "logg=(4.07,0.09) cgs\n",
      "feh=(0.00,0.10) dex\n",
      "Querying Gaia sources 60\" around HAT-P-58: (68.8465, 56.8683) deg.\n"
     ]
    },
    {
     "name": "stderr",
     "output_type": "stream",
     "text": [
      "WARNING: InputWarning: Invalid Gaia version number, defaulting to DR2. [astroquery.mast.collections]\n",
      " 36%|█████████████████████████████████████████████████████████████▌                                                                                                               | 147/413 [17:59<33:08,  7.47s/it]"
     ]
    },
    {
     "name": "stdout",
     "output_type": "stream",
     "text": [
      "GPX-1\n",
      "Mstar=(1.95,0.29) Msun\n",
      "Rstar=(1.60,0.06) Rsun\n",
      "Rhostar=(0.48,0.09) rhosun\n",
      "teff=(8039,144) K\n",
      "logg=(4.32,0.07) cgs\n",
      "feh=(0.00,0.10) dex\n",
      "Querying Gaia sources 60\" around GPX-1: (38.3692, 56.0257) deg.\n"
     ]
    },
    {
     "name": "stderr",
     "output_type": "stream",
     "text": [
      "WARNING: InputWarning: Invalid Gaia version number, defaulting to DR2. [astroquery.mast.collections]\n",
      " 36%|█████████████████████████████████████████████████████████████▉                                                                                                               | 148/413 [18:07<33:59,  7.70s/it]"
     ]
    },
    {
     "name": "stdout",
     "output_type": "stream",
     "text": [
      "XO-6\n",
      "Mstar=(1.43,0.26) Msun\n",
      "Rstar=(1.42,0.06) Rsun\n",
      "Rhostar=(0.50,0.11) rhosun\n",
      "teff=(6724,164) K\n",
      "logg=(4.29,0.09) cgs\n",
      "feh=(0.00,0.10) dex\n",
      "Querying Gaia sources 60\" around XO-6: (94.7930, 73.8276) deg.\n"
     ]
    },
    {
     "name": "stderr",
     "output_type": "stream",
     "text": [
      "WARNING: InputWarning: Invalid Gaia version number, defaulting to DR2. [astroquery.mast.collections]\n",
      " 36%|██████████████████████████████████████████████████████████████▍                                                                                                              | 149/413 [18:15<34:14,  7.78s/it]"
     ]
    },
    {
     "name": "stdout",
     "output_type": "stream",
     "text": [
      "Kepler-972\n"
     ]
    },
    {
     "name": "stderr",
     "output_type": "stream",
     "text": [
      " 36%|██████████████████████████████████████████████████████████████▊                                                                                                              | 150/413 [18:19<29:08,  6.65s/it]"
     ]
    },
    {
     "name": "stdout",
     "output_type": "stream",
     "text": [
      "float() argument must be a string or a real number, not 'NoneType'\n",
      "Check exofop: https://exofop.ipac.caltech.edu/tess/target.php?id=Kepler-972&json\n",
      "TOI-1298\n",
      "Mstar=(1.02,0.12) Msun\n",
      "Rstar=(1.49,0.07) Rsun\n",
      "Rhostar=(0.31,0.06) rhosun\n",
      "teff=(5731,125) K\n",
      "logg=(4.10,0.08) cgs\n",
      "feh=(0.00,0.10) dex\n",
      "Querying Gaia sources 60\" around TOI-1298: (241.3229, 70.1900) deg.\n"
     ]
    },
    {
     "name": "stderr",
     "output_type": "stream",
     "text": [
      "WARNING: InputWarning: Invalid Gaia version number, defaulting to DR2. [astroquery.mast.collections]\n",
      " 37%|███████████████████████████████████████████████████████████████▎                                                                                                             | 151/413 [18:24<27:05,  6.20s/it]"
     ]
    },
    {
     "name": "stdout",
     "output_type": "stream",
     "text": [
      "TOI-2152\n",
      "Mstar=(1.42,0.24) Msun\n",
      "Rstar=(1.73,0.08) Rsun\n",
      "Rhostar=(0.27,0.06) rhosun\n",
      "teff=(6688,149) K\n",
      "logg=(4.11,0.09) cgs\n",
      "feh=(0.00,0.10) dex\n",
      "Querying Gaia sources 60\" around TOI-2152: (26.3390, 77.7901) deg.\n"
     ]
    },
    {
     "name": "stderr",
     "output_type": "stream",
     "text": [
      "WARNING: InputWarning: Invalid Gaia version number, defaulting to DR2. [astroquery.mast.collections]\n",
      " 37%|███████████████████████████████████████████████████████████████▋                                                                                                             | 152/413 [18:29<25:44,  5.92s/it]"
     ]
    },
    {
     "name": "stdout",
     "output_type": "stream",
     "text": [
      "OGLE-TR-211\n"
     ]
    },
    {
     "name": "stderr",
     "output_type": "stream",
     "text": [
      " 37%|████████████████████████████████████████████████████████████████                                                                                                             | 153/413 [18:38<28:49,  6.65s/it]"
     ]
    },
    {
     "name": "stdout",
     "output_type": "stream",
     "text": [
      "float() argument must be a string or a real number, not 'NoneType'\n",
      "Check exofop: https://exofop.ipac.caltech.edu/tess/target.php?id=OGLE-TR-211&json\n",
      "WASP-192\n",
      "Mstar=(1.11,0.15) Msun\n",
      "Rstar=(1.35,0.08) Rsun\n",
      "Rhostar=(0.45,0.10) rhosun\n",
      "teff=(6017,133) K\n",
      "logg=(4.22,0.08) cgs\n",
      "feh=(0.00,0.10) dex\n",
      "Querying Gaia sources 60\" around WASP-192: (223.6587, -38.7445) deg.\n"
     ]
    },
    {
     "name": "stderr",
     "output_type": "stream",
     "text": [
      "WARNING: InputWarning: Invalid Gaia version number, defaulting to DR2. [astroquery.mast.collections]\n",
      " 37%|████████████████████████████████████████████████████████████████▌                                                                                                            | 154/413 [18:47<31:42,  7.35s/it]"
     ]
    },
    {
     "name": "stdout",
     "output_type": "stream",
     "text": [
      "WASP-14\n",
      "Mstar=(1.31,0.21) Msun\n",
      "Rstar=(1.33,0.07) Rsun\n",
      "Rhostar=(0.56,0.12) rhosun\n",
      "teff=(6458,144) K\n",
      "logg=(4.31,0.09) cgs\n",
      "feh=(0.00,0.10) dex\n",
      "Querying Gaia sources 60\" around WASP-14: (218.2766, 21.8947) deg.\n"
     ]
    },
    {
     "name": "stderr",
     "output_type": "stream",
     "text": [
      "WARNING: InputWarning: Invalid Gaia version number, defaulting to DR2. [astroquery.mast.collections]\n",
      " 38%|████████████████████████████████████████████████████████████████▉                                                                                                            | 155/413 [18:55<32:47,  7.62s/it]"
     ]
    },
    {
     "name": "stdout",
     "output_type": "stream",
     "text": [
      "WASP-68\n",
      "Mstar=(1.01,0.12) Msun\n",
      "Rstar=(1.74,0.09) Rsun\n",
      "Rhostar=(0.19,0.04) rhosun\n",
      "teff=(5692,120) K\n",
      "logg=(3.96,0.08) cgs\n",
      "feh=(0.00,0.10) dex\n",
      "Querying Gaia sources 60\" around WASP-68: (305.0957, -19.3147) deg.\n"
     ]
    },
    {
     "name": "stderr",
     "output_type": "stream",
     "text": [
      "WARNING: InputWarning: Invalid Gaia version number, defaulting to DR2. [astroquery.mast.collections]\n",
      " 38%|█████████████████████████████████████████████████████████████████▎                                                                                                           | 156/413 [19:03<33:15,  7.76s/it]"
     ]
    },
    {
     "name": "stdout",
     "output_type": "stream",
     "text": [
      "HATS-23\n"
     ]
    },
    {
     "name": "stderr",
     "output_type": "stream",
     "text": [
      " 38%|█████████████████████████████████████████████████████████████████▊                                                                                                           | 157/413 [19:11<33:45,  7.91s/it]"
     ]
    },
    {
     "name": "stdout",
     "output_type": "stream",
     "text": [
      "float() argument must be a string or a real number, not 'NoneType'\n",
      "Check exofop: https://exofop.ipac.caltech.edu/tess/target.php?id=HATS-23&json\n",
      "WASP-4\n",
      "Mstar=(0.97,0.12) Msun\n",
      "Rstar=(0.89,0.06) Rsun\n",
      "Rhostar=(1.35,0.30) rhosun\n",
      "teff=(5504,140) K\n",
      "logg=(4.52,0.09) cgs\n",
      "feh=(0.00,0.10) dex\n",
      "Querying Gaia sources 60\" around WASP-4: (353.5629, -42.0618) deg.\n"
     ]
    },
    {
     "name": "stderr",
     "output_type": "stream",
     "text": [
      "WARNING: InputWarning: Invalid Gaia version number, defaulting to DR2. [astroquery.mast.collections]\n",
      " 38%|██████████████████████████████████████████████████████████████████▏                                                                                                          | 158/413 [19:21<35:13,  8.29s/it]"
     ]
    },
    {
     "name": "stdout",
     "output_type": "stream",
     "text": [
      "HAT-P-46\n",
      "Mstar=(1.76,0.32) Msun\n",
      "Rstar=(1.40,0.05) Rsun\n",
      "Rhostar=(0.65,0.14) rhosun\n",
      "teff=(7587,408) K\n",
      "logg=(4.40,0.09) cgs\n",
      "feh=(0.00,0.10) dex\n",
      "Querying Gaia sources 60\" around HAT-P-46: (270.4442, -2.9710) deg.\n"
     ]
    },
    {
     "name": "stderr",
     "output_type": "stream",
     "text": [
      "WARNING: InputWarning: Invalid Gaia version number, defaulting to DR2. [astroquery.mast.collections]\n",
      " 38%|██████████████████████████████████████████████████████████████████▌                                                                                                          | 159/413 [19:29<35:08,  8.30s/it]"
     ]
    },
    {
     "name": "stdout",
     "output_type": "stream",
     "text": [
      "HAT-P-57\n",
      "Mstar=(1.48,0.26) Msun\n",
      "Rstar=(1.52,0.06) Rsun\n",
      "Rhostar=(0.43,0.09) rhosun\n",
      "teff=(6848,167) K\n",
      "logg=(4.25,0.09) cgs\n",
      "feh=(0.00,0.10) dex\n",
      "Querying Gaia sources 60\" around HAT-P-57: (274.7434, 10.5972) deg.\n"
     ]
    },
    {
     "name": "stderr",
     "output_type": "stream",
     "text": [
      "WARNING: InputWarning: Invalid Gaia version number, defaulting to DR2. [astroquery.mast.collections]\n",
      " 39%|███████████████████████████████████████████████████████████████████                                                                                                          | 160/413 [19:38<35:31,  8.43s/it]"
     ]
    },
    {
     "name": "stdout",
     "output_type": "stream",
     "text": [
      "TIC 257060897\n",
      "Mstar=(1.11,0.15) Msun\n",
      "Rstar=(1.89,0.09) Rsun\n",
      "Rhostar=(0.17,0.03) rhosun\n",
      "teff=(6019,123) K\n",
      "logg=(3.93,0.08) cgs\n",
      "feh=(0.00,0.10) dex\n",
      "Querying Gaia sources 60\" around TIC 257060897: (227.5322, 72.7103) deg.\n"
     ]
    },
    {
     "name": "stderr",
     "output_type": "stream",
     "text": [
      "WARNING: InputWarning: Invalid Gaia version number, defaulting to DR2. [astroquery.mast.collections]\n",
      " 39%|███████████████████████████████████████████████████████████████████▍                                                                                                         | 161/413 [19:42<29:56,  7.13s/it]"
     ]
    },
    {
     "name": "stdout",
     "output_type": "stream",
     "text": [
      "KELT-20\n",
      "Mstar=(2.28,0.32) Msun\n",
      "Rstar=(1.62,0.04) Rsun\n",
      "Rhostar=(0.54,0.09) rhosun\n",
      "teff=(9032,130) K\n",
      "logg=(4.38,0.07) cgs\n",
      "feh=(0.00,0.10) dex\n",
      "Querying Gaia sources 60\" around KELT-20: (294.6614, 31.2192) deg.\n"
     ]
    },
    {
     "name": "stderr",
     "output_type": "stream",
     "text": [
      "WARNING: InputWarning: Invalid Gaia version number, defaulting to DR2. [astroquery.mast.collections]\n",
      " 39%|███████████████████████████████████████████████████████████████████▊                                                                                                         | 162/413 [19:52<33:17,  7.96s/it]"
     ]
    },
    {
     "name": "stdout",
     "output_type": "stream",
     "text": [
      "Kepler-685\n"
     ]
    },
    {
     "name": "stderr",
     "output_type": "stream",
     "text": [
      " 39%|████████████████████████████████████████████████████████████████████▎                                                                                                        | 163/413 [19:55<27:52,  6.69s/it]"
     ]
    },
    {
     "name": "stdout",
     "output_type": "stream",
     "text": [
      "float() argument must be a string or a real number, not 'NoneType'\n",
      "Check exofop: https://exofop.ipac.caltech.edu/tess/target.php?id=Kepler-685&json\n",
      "OGLE-TR-56\n"
     ]
    },
    {
     "name": "stderr",
     "output_type": "stream",
     "text": [
      " 40%|████████████████████████████████████████████████████████████████████▋                                                                                                        | 164/413 [20:04<30:28,  7.34s/it]"
     ]
    },
    {
     "name": "stdout",
     "output_type": "stream",
     "text": [
      "float() argument must be a string or a real number, not 'NoneType'\n",
      "Check exofop: https://exofop.ipac.caltech.edu/tess/target.php?id=OGLE-TR-56&json\n",
      "TOI-628\n",
      "Mstar=(1.18,0.16) Msun\n",
      "Rstar=(1.38,0.07) Rsun\n",
      "Rhostar=(0.44,0.09) rhosun\n",
      "teff=(6174,157) K\n",
      "logg=(4.23,0.08) cgs\n",
      "feh=(0.00,0.10) dex\n",
      "Querying Gaia sources 60\" around TOI-628: (99.2631, 1.7675) deg.\n"
     ]
    },
    {
     "name": "stderr",
     "output_type": "stream",
     "text": [
      "WARNING: InputWarning: Invalid Gaia version number, defaulting to DR2. [astroquery.mast.collections]\n",
      " 40%|█████████████████████████████████████████████████████████████████████                                                                                                        | 165/413 [20:10<28:57,  7.01s/it]"
     ]
    },
    {
     "name": "stdout",
     "output_type": "stream",
     "text": [
      "WASP-21\n",
      "Mstar=(1.08,0.13) Msun\n",
      "Rstar=(1.35,0.06) Rsun\n",
      "Rhostar=(0.44,0.08) rhosun\n",
      "teff=(5924,116) K\n",
      "logg=(4.21,0.07) cgs\n",
      "feh=(0.00,0.10) dex\n",
      "Querying Gaia sources 60\" around WASP-21: (347.4928, 18.3962) deg.\n"
     ]
    },
    {
     "name": "stderr",
     "output_type": "stream",
     "text": [
      "WARNING: InputWarning: Invalid Gaia version number, defaulting to DR2. [astroquery.mast.collections]\n",
      " 40%|█████████████████████████████████████████████████████████████████████▌                                                                                                       | 166/413 [20:19<30:15,  7.35s/it]"
     ]
    },
    {
     "name": "stdout",
     "output_type": "stream",
     "text": [
      "K2-390\n",
      "Mstar=(0.97,0.12) Msun\n",
      "Rstar=(0.98,0.05) Rsun\n",
      "Rhostar=(1.04,0.21) rhosun\n",
      "teff=(5512,126) K\n",
      "logg=(4.44,0.08) cgs\n",
      "feh=(0.00,0.10) dex\n",
      "Querying Gaia sources 60\" around K2-390: (355.7024, -9.5887) deg.\n"
     ]
    },
    {
     "name": "stderr",
     "output_type": "stream",
     "text": [
      "WARNING: InputWarning: Invalid Gaia version number, defaulting to DR2. [astroquery.mast.collections]\n",
      " 40%|█████████████████████████████████████████████████████████████████████▉                                                                                                       | 167/413 [20:27<31:10,  7.60s/it]"
     ]
    },
    {
     "name": "stdout",
     "output_type": "stream",
     "text": [
      "HAT-P-59\n",
      "Mstar=(0.99,0.13) Msun\n",
      "Rstar=(1.16,0.06) Rsun\n",
      "Rhostar=(0.64,0.13) rhosun\n",
      "teff=(5592,125) K\n",
      "logg=(4.31,0.08) cgs\n",
      "feh=(0.00,0.10) dex\n",
      "Querying Gaia sources 60\" around HAT-P-59: (292.4588, 62.5292) deg.\n"
     ]
    },
    {
     "name": "stderr",
     "output_type": "stream",
     "text": [
      "WARNING: InputWarning: Invalid Gaia version number, defaulting to DR2. [astroquery.mast.collections]\n",
      " 41%|██████████████████████████████████████████████████████████████████████▎                                                                                                      | 168/413 [20:35<32:04,  7.85s/it]"
     ]
    },
    {
     "name": "stdout",
     "output_type": "stream",
     "text": [
      "HD 202772 A\n",
      "Mstar=(1.26,0.20) Msun\n",
      "Rstar=(2.62,0.13) Rsun\n",
      "Rhostar=(0.07,0.02) rhosun\n",
      "teff=(6356,144) K\n",
      "logg=(3.70,0.09) cgs\n",
      "feh=(0.00,0.10) dex\n",
      "Querying Gaia sources 60\" around HD 202772 A: (319.6996, -26.6164) deg.\n"
     ]
    },
    {
     "name": "stderr",
     "output_type": "stream",
     "text": [
      "WARNING: InputWarning: Invalid Gaia version number, defaulting to DR2. [astroquery.mast.collections]\n",
      " 41%|██████████████████████████████████████████████████████████████████████▊                                                                                                      | 169/413 [20:44<33:25,  8.22s/it]"
     ]
    },
    {
     "name": "stdout",
     "output_type": "stream",
     "text": [
      "TOI-2818\n",
      "Mstar=(1.36,0.23) Msun\n",
      "Rstar=(1.14,0.05) Rsun\n",
      "Rhostar=(0.92,0.20) rhosun\n",
      "teff=(6553,136) K\n",
      "logg=(4.46,0.09) cgs\n",
      "feh=(0.00,0.10) dex\n",
      "Querying Gaia sources 60\" around TOI-2818: (119.0598, -35.1167) deg.\n"
     ]
    },
    {
     "name": "stderr",
     "output_type": "stream",
     "text": [
      "WARNING: InputWarning: Invalid Gaia version number, defaulting to DR2. [astroquery.mast.collections]\n",
      " 41%|███████████████████████████████████████████████████████████████████████▏                                                                                                     | 170/413 [20:49<29:34,  7.30s/it]"
     ]
    },
    {
     "name": "stdout",
     "output_type": "stream",
     "text": [
      "WASP-24\n",
      "Mstar=(1.14,0.15) Msun\n",
      "Rstar=(1.35,0.06) Rsun\n",
      "Rhostar=(0.46,0.08) rhosun\n",
      "teff=(6090,107) K\n",
      "logg=(4.23,0.08) cgs\n",
      "feh=(0.00,0.10) dex\n",
      "Querying Gaia sources 60\" around WASP-24: (227.2155, 2.3433) deg.\n"
     ]
    },
    {
     "name": "stderr",
     "output_type": "stream",
     "text": [
      "WARNING: InputWarning: Invalid Gaia version number, defaulting to DR2. [astroquery.mast.collections]\n",
      " 41%|███████████████████████████████████████████████████████████████████████▋                                                                                                     | 171/413 [20:58<31:02,  7.70s/it]"
     ]
    },
    {
     "name": "stdout",
     "output_type": "stream",
     "text": [
      "Kepler-686\n"
     ]
    },
    {
     "name": "stderr",
     "output_type": "stream",
     "text": [
      " 42%|████████████████████████████████████████████████████████████████████████                                                                                                     | 172/413 [21:02<25:47,  6.42s/it]"
     ]
    },
    {
     "name": "stdout",
     "output_type": "stream",
     "text": [
      "float() argument must be a string or a real number, not 'NoneType'\n",
      "Check exofop: https://exofop.ipac.caltech.edu/tess/target.php?id=Kepler-686&json\n",
      "WASP-113\n",
      "Mstar=(1.08,0.14) Msun\n",
      "Rstar=(1.73,0.09) Rsun\n",
      "Rhostar=(0.21,0.04) rhosun\n",
      "teff=(5939,133) K\n",
      "logg=(4.00,0.08) cgs\n",
      "feh=(0.00,0.10) dex\n",
      "Querying Gaia sources 60\" around WASP-113: (224.8729, 46.9601) deg.\n"
     ]
    },
    {
     "name": "stderr",
     "output_type": "stream",
     "text": [
      "WARNING: InputWarning: Invalid Gaia version number, defaulting to DR2. [astroquery.mast.collections]\n",
      " 42%|████████████████████████████████████████████████████████████████████████▍                                                                                                    | 173/413 [21:09<27:13,  6.81s/it]"
     ]
    },
    {
     "name": "stdout",
     "output_type": "stream",
     "text": [
      "WASP-131\n",
      "Mstar=(1.01,0.13) Msun\n",
      "Rstar=(1.96,0.10) Rsun\n",
      "Rhostar=(0.13,0.03) rhosun\n",
      "teff=(5678,119) K\n",
      "logg=(3.86,0.08) cgs\n",
      "feh=(0.00,0.10) dex\n",
      "Querying Gaia sources 60\" around WASP-131: (210.1936, -30.5836) deg.\n"
     ]
    },
    {
     "name": "stderr",
     "output_type": "stream",
     "text": [
      "WARNING: InputWarning: Invalid Gaia version number, defaulting to DR2. [astroquery.mast.collections]\n",
      " 42%|████████████████████████████████████████████████████████████████████████▉                                                                                                    | 174/413 [21:17<28:33,  7.17s/it]"
     ]
    },
    {
     "name": "stdout",
     "output_type": "stream",
     "text": [
      "Kepler-497\n"
     ]
    },
    {
     "name": "stderr",
     "output_type": "stream",
     "text": [
      " 42%|█████████████████████████████████████████████████████████████████████████▎                                                                                                   | 175/413 [21:21<24:17,  6.12s/it]"
     ]
    },
    {
     "name": "stdout",
     "output_type": "stream",
     "text": [
      "float() argument must be a string or a real number, not 'NoneType'\n",
      "Check exofop: https://exofop.ipac.caltech.edu/tess/target.php?id=Kepler-497&json\n",
      "HATS-53\n"
     ]
    },
    {
     "name": "stderr",
     "output_type": "stream",
     "text": [
      " 43%|█████████████████████████████████████████████████████████████████████████▋                                                                                                   | 176/413 [21:28<25:32,  6.47s/it]"
     ]
    },
    {
     "name": "stdout",
     "output_type": "stream",
     "text": [
      "float() argument must be a string or a real number, not 'NoneType'\n",
      "Check exofop: https://exofop.ipac.caltech.edu/tess/target.php?id=HATS-53&json\n",
      "TOI-615\n",
      "Mstar=(1.70,0.27) Msun\n",
      "Rstar=(1.70,0.06) Rsun\n",
      "Rhostar=(0.34,0.07) rhosun\n",
      "teff=(7437,136) K\n",
      "logg=(4.21,0.08) cgs\n",
      "feh=(0.00,0.10) dex\n",
      "Querying Gaia sources 60\" around TOI-615: (133.4087, -40.5437) deg.\n"
     ]
    },
    {
     "name": "stderr",
     "output_type": "stream",
     "text": [
      "WARNING: InputWarning: Invalid Gaia version number, defaulting to DR2. [astroquery.mast.collections]\n",
      " 43%|██████████████████████████████████████████████████████████████████████████▏                                                                                                  | 177/413 [21:34<24:50,  6.31s/it]"
     ]
    },
    {
     "name": "stdout",
     "output_type": "stream",
     "text": [
      "Qatar-3\n",
      "Mstar=(1.19,0.21) Msun\n",
      "Rstar=(1.73,0.19) Rsun\n",
      "Rhostar=(0.23,0.09) rhosun\n",
      "teff=(6207,290) K\n",
      "logg=(4.04,0.15) cgs\n",
      "feh=(0.00,0.10) dex\n",
      "Querying Gaia sources 60\" around Qatar-3: (359.1520, 36.2130) deg.\n"
     ]
    },
    {
     "name": "stderr",
     "output_type": "stream",
     "text": [
      "WARNING: InputWarning: Invalid Gaia version number, defaulting to DR2. [astroquery.mast.collections]\n",
      " 43%|██████████████████████████████████████████████████████████████████████████▌                                                                                                  | 178/413 [21:42<26:34,  6.78s/it]"
     ]
    },
    {
     "name": "stdout",
     "output_type": "stream",
     "text": [
      "TOI-1601\n",
      "Mstar=(1.08,0.14) Msun\n",
      "Rstar=(2.22,0.12) Rsun\n",
      "Rhostar=(0.10,0.02) rhosun\n",
      "teff=(5917,126) K\n",
      "logg=(3.78,0.08) cgs\n",
      "feh=(0.00,0.10) dex\n",
      "Querying Gaia sources 60\" around TOI-1601: (38.3616, 41.0134) deg.\n"
     ]
    },
    {
     "name": "stderr",
     "output_type": "stream",
     "text": [
      "WARNING: InputWarning: Invalid Gaia version number, defaulting to DR2. [astroquery.mast.collections]\n",
      " 43%|██████████████████████████████████████████████████████████████████████████▉                                                                                                  | 179/413 [21:48<25:11,  6.46s/it]"
     ]
    },
    {
     "name": "stdout",
     "output_type": "stream",
     "text": [
      "WASP-62\n",
      "Mstar=(1.28,0.19) Msun\n",
      "Rstar=(1.21,0.05) Rsun\n",
      "Rhostar=(0.71,0.14) rhosun\n",
      "teff=(6391,116) K\n",
      "logg=(4.38,0.08) cgs\n",
      "feh=(0.00,0.10) dex\n",
      "Querying Gaia sources 60\" around WASP-62: (87.1398, -63.9883) deg.\n"
     ]
    },
    {
     "name": "stderr",
     "output_type": "stream",
     "text": [
      "WARNING: InputWarning: Invalid Gaia version number, defaulting to DR2. [astroquery.mast.collections]\n",
      " 44%|███████████████████████████████████████████████████████████████████████████▍                                                                                                 | 180/413 [21:56<27:06,  6.98s/it]"
     ]
    },
    {
     "name": "stdout",
     "output_type": "stream",
     "text": [
      "WASP-94 A\n",
      "Mstar=(1.14,0.15) Msun\n",
      "Rstar=(1.71,0.07) Rsun\n",
      "Rhostar=(0.23,0.04) rhosun\n",
      "teff=(6073,106) K\n",
      "logg=(4.03,0.08) cgs\n",
      "feh=(0.00,0.10) dex\n",
      "Querying Gaia sources 60\" around WASP-94 A: (313.7832, -34.1358) deg.\n"
     ]
    },
    {
     "name": "stderr",
     "output_type": "stream",
     "text": [
      "WARNING: InputWarning: Invalid Gaia version number, defaulting to DR2. [astroquery.mast.collections]\n",
      " 44%|███████████████████████████████████████████████████████████████████████████▊                                                                                                 | 181/413 [22:05<29:00,  7.50s/it]"
     ]
    },
    {
     "name": "stdout",
     "output_type": "stream",
     "text": [
      "KELT-2 A\n",
      "Mstar=(1.25,0.20) Msun\n",
      "Rstar=(1.88,0.09) Rsun\n",
      "Rhostar=(0.19,0.04) rhosun\n",
      "teff=(6327,132) K\n",
      "logg=(3.99,0.09) cgs\n",
      "feh=(0.00,0.10) dex\n",
      "Querying Gaia sources 60\" around KELT-2 A: (92.6640, 30.9571) deg.\n"
     ]
    },
    {
     "name": "stderr",
     "output_type": "stream",
     "text": [
      "WARNING: InputWarning: Invalid Gaia version number, defaulting to DR2. [astroquery.mast.collections]\n",
      " 44%|████████████████████████████████████████████████████████████████████████████▏                                                                                                | 182/413 [22:13<29:25,  7.64s/it]"
     ]
    },
    {
     "name": "stdout",
     "output_type": "stream",
     "text": [
      "TOI-4603\n",
      "Mstar=(1.18,0.16) Msun\n",
      "Rstar=(2.68,0.15) Rsun\n",
      "Rhostar=(0.06,0.01) rhosun\n",
      "teff=(6169,129) K\n",
      "logg=(3.65,0.08) cgs\n",
      "feh=(0.00,0.10) dex\n",
      "Querying Gaia sources 60\" around TOI-4603: (83.8659, 21.2942) deg.\n"
     ]
    },
    {
     "name": "stderr",
     "output_type": "stream",
     "text": [
      "WARNING: InputWarning: Invalid Gaia version number, defaulting to DR2. [astroquery.mast.collections]\n",
      " 44%|████████████████████████████████████████████████████████████████████████████▋                                                                                                | 183/413 [22:18<26:23,  6.88s/it]"
     ]
    },
    {
     "name": "stdout",
     "output_type": "stream",
     "text": [
      "NGTS-6\n"
     ]
    },
    {
     "name": "stderr",
     "output_type": "stream",
     "text": [
      " 45%|█████████████████████████████████████████████████████████████████████████████                                                                                                | 184/413 [22:25<27:04,  7.09s/it]"
     ]
    },
    {
     "name": "stdout",
     "output_type": "stream",
     "text": [
      "float() argument must be a string or a real number, not 'NoneType'\n",
      "Check exofop: https://exofop.ipac.caltech.edu/tess/target.php?id=NGTS-6&json\n",
      "WASP-159\n",
      "Mstar=(1.10,0.15) Msun\n",
      "Rstar=(2.04,0.09) Rsun\n",
      "Rhostar=(0.13,0.02) rhosun\n",
      "teff=(5977,130) K\n",
      "logg=(3.86,0.08) cgs\n",
      "feh=(0.00,0.10) dex\n",
      "Querying Gaia sources 60\" around WASP-159: (68.1365, -38.9683) deg.\n"
     ]
    },
    {
     "name": "stderr",
     "output_type": "stream",
     "text": [
      "WARNING: InputWarning: Invalid Gaia version number, defaulting to DR2. [astroquery.mast.collections]\n",
      " 45%|█████████████████████████████████████████████████████████████████████████████▍                                                                                               | 185/413 [22:33<27:54,  7.35s/it]"
     ]
    },
    {
     "name": "stdout",
     "output_type": "stream",
     "text": [
      "WASP-161\n",
      "Mstar=(1.29,0.20) Msun\n",
      "Rstar=(1.59,0.07) Rsun\n",
      "Rhostar=(0.32,0.07) rhosun\n",
      "teff=(6410,129) K\n",
      "logg=(4.14,0.09) cgs\n",
      "feh=(0.00,0.10) dex\n",
      "Querying Gaia sources 60\" around WASP-161: (126.3378, -11.5010) deg.\n"
     ]
    },
    {
     "name": "stderr",
     "output_type": "stream",
     "text": [
      "WARNING: InputWarning: Invalid Gaia version number, defaulting to DR2. [astroquery.mast.collections]\n",
      " 45%|█████████████████████████████████████████████████████████████████████████████▉                                                                                               | 186/413 [22:42<28:53,  7.64s/it]"
     ]
    },
    {
     "name": "stdout",
     "output_type": "stream",
     "text": [
      "WASP-164\n",
      "Mstar=(1.00,0.13) Msun\n",
      "Rstar=(0.98,0.05) Rsun\n",
      "Rhostar=(1.07,0.22) rhosun\n",
      "teff=(5627,134) K\n",
      "logg=(4.46,0.08) cgs\n",
      "feh=(0.00,0.10) dex\n",
      "Querying Gaia sources 60\" around WASP-164: (344.8736, -60.4478) deg.\n"
     ]
    },
    {
     "name": "stderr",
     "output_type": "stream",
     "text": [
      "WARNING: InputWarning: Invalid Gaia version number, defaulting to DR2. [astroquery.mast.collections]\n",
      " 45%|██████████████████████████████████████████████████████████████████████████████▎                                                                                              | 187/413 [22:49<28:32,  7.58s/it]"
     ]
    },
    {
     "name": "stdout",
     "output_type": "stream",
     "text": [
      "gaia_sources contains single entry\n",
      "HATS-64\n",
      "Mstar=(1.38,0.23) Msun\n",
      "Rstar=(2.09,0.12) Rsun\n",
      "Rhostar=(0.15,0.04) rhosun\n",
      "teff=(6606,128) K\n",
      "logg=(3.94,0.09) cgs\n",
      "feh=(0.00,0.10) dex\n",
      "Querying Gaia sources 60\" around HATS-64: (144.2876, -29.8004) deg.\n"
     ]
    },
    {
     "name": "stderr",
     "output_type": "stream",
     "text": [
      "WARNING: InputWarning: Invalid Gaia version number, defaulting to DR2. [astroquery.mast.collections]\n",
      " 46%|██████████████████████████████████████████████████████████████████████████████▊                                                                                              | 188/413 [22:57<28:54,  7.71s/it]"
     ]
    },
    {
     "name": "stdout",
     "output_type": "stream",
     "text": [
      "HATS-69\n"
     ]
    },
    {
     "name": "stderr",
     "output_type": "stream",
     "text": [
      " 46%|███████████████████████████████████████████████████████████████████████████████▏                                                                                             | 189/413 [23:04<27:55,  7.48s/it]"
     ]
    },
    {
     "name": "stdout",
     "output_type": "stream",
     "text": [
      "float() argument must be a string or a real number, not 'NoneType'\n",
      "Check exofop: https://exofop.ipac.caltech.edu/tess/target.php?id=HATS-69&json\n",
      "HATS-14\n"
     ]
    },
    {
     "name": "stderr",
     "output_type": "stream",
     "text": [
      " 46%|███████████████████████████████████████████████████████████████████████████████▌                                                                                             | 190/413 [23:12<28:13,  7.59s/it]"
     ]
    },
    {
     "name": "stdout",
     "output_type": "stream",
     "text": [
      "float() argument must be a string or a real number, not 'NoneType'\n",
      "Check exofop: https://exofop.ipac.caltech.edu/tess/target.php?id=HATS-14&json\n",
      "HATS-16\n"
     ]
    },
    {
     "name": "stderr",
     "output_type": "stream",
     "text": [
      " 46%|████████████████████████████████████████████████████████████████████████████████                                                                                             | 191/413 [23:19<27:30,  7.44s/it]"
     ]
    },
    {
     "name": "stdout",
     "output_type": "stream",
     "text": [
      "float() argument must be a string or a real number, not 'NoneType'\n",
      "Check exofop: https://exofop.ipac.caltech.edu/tess/target.php?id=HATS-16&json\n",
      "WASP-13\n",
      "Mstar=(1.08,0.13) Msun\n",
      "Rstar=(1.59,0.09) Rsun\n",
      "Rhostar=(0.27,0.06) rhosun\n",
      "teff=(5914,146) K\n",
      "logg=(4.07,0.09) cgs\n",
      "feh=(0.00,0.10) dex\n",
      "Querying Gaia sources 60\" around WASP-13: (140.1030, 33.8823) deg.\n"
     ]
    },
    {
     "name": "stderr",
     "output_type": "stream",
     "text": [
      "WARNING: InputWarning: Invalid Gaia version number, defaulting to DR2. [astroquery.mast.collections]\n",
      " 46%|████████████████████████████████████████████████████████████████████████████████▍                                                                                            | 192/413 [23:27<28:26,  7.72s/it]"
     ]
    },
    {
     "name": "stdout",
     "output_type": "stream",
     "text": [
      "WASP-36\n",
      "Mstar=(1.08,0.14) Msun\n",
      "Rstar=(0.96,0.04) Rsun\n",
      "Rhostar=(1.22,0.23) rhosun\n",
      "teff=(5928,118) K\n",
      "logg=(4.51,0.07) cgs\n",
      "feh=(0.00,0.10) dex\n",
      "Querying Gaia sources 60\" around WASP-36: (131.5804, -8.0270) deg.\n"
     ]
    },
    {
     "name": "stderr",
     "output_type": "stream",
     "text": [
      "WARNING: InputWarning: Invalid Gaia version number, defaulting to DR2. [astroquery.mast.collections]\n",
      " 47%|████████████████████████████████████████████████████████████████████████████████▊                                                                                            | 193/413 [23:35<28:25,  7.75s/it]"
     ]
    },
    {
     "name": "stdout",
     "output_type": "stream",
     "text": [
      "WASP-48\n",
      "Mstar=(1.17,0.15) Msun\n",
      "Rstar=(1.77,0.09) Rsun\n",
      "Rhostar=(0.21,0.04) rhosun\n",
      "teff=(6148,141) K\n",
      "logg=(4.01,0.08) cgs\n",
      "feh=(0.00,0.10) dex\n",
      "Querying Gaia sources 60\" around WASP-48: (291.1624, 55.4730) deg.\n"
     ]
    },
    {
     "name": "stderr",
     "output_type": "stream",
     "text": [
      "WARNING: InputWarning: Invalid Gaia version number, defaulting to DR2. [astroquery.mast.collections]\n",
      " 47%|█████████████████████████████████████████████████████████████████████████████████▎                                                                                           | 194/413 [23:43<28:31,  7.81s/it]"
     ]
    },
    {
     "name": "stdout",
     "output_type": "stream",
     "text": [
      "HAT-P-67\n",
      "Mstar=(1.29,0.21) Msun\n",
      "Rstar=(2.65,0.12) Rsun\n",
      "Rhostar=(0.07,0.01) rhosun\n",
      "teff=(6417,123) K\n",
      "logg=(3.70,0.09) cgs\n",
      "feh=(0.00,0.10) dex\n",
      "Querying Gaia sources 60\" around HAT-P-67: (256.6107, 44.7769) deg.\n"
     ]
    },
    {
     "name": "stderr",
     "output_type": "stream",
     "text": [
      "WARNING: InputWarning: Invalid Gaia version number, defaulting to DR2. [astroquery.mast.collections]\n",
      " 47%|█████████████████████████████████████████████████████████████████████████████████▋                                                                                           | 195/413 [23:51<28:38,  7.88s/it]"
     ]
    },
    {
     "name": "stdout",
     "output_type": "stream",
     "text": [
      "Kepler-43\n"
     ]
    },
    {
     "name": "stderr",
     "output_type": "stream",
     "text": [
      " 47%|██████████████████████████████████████████████████████████████████████████████████                                                                                           | 196/413 [23:55<24:24,  6.75s/it]"
     ]
    },
    {
     "name": "stdout",
     "output_type": "stream",
     "text": [
      "float() argument must be a string or a real number, not 'NoneType'\n",
      "Check exofop: https://exofop.ipac.caltech.edu/tess/target.php?id=Kepler-43&json\n",
      "Kepler-77\n"
     ]
    },
    {
     "name": "stderr",
     "output_type": "stream",
     "text": [
      " 48%|██████████████████████████████████████████████████████████████████████████████████▌                                                                                          | 197/413 [24:01<23:38,  6.57s/it]"
     ]
    },
    {
     "name": "stdout",
     "output_type": "stream",
     "text": [
      "float() argument must be a string or a real number, not 'NoneType'\n",
      "Check exofop: https://exofop.ipac.caltech.edu/tess/target.php?id=Kepler-77&json\n",
      "Kepler-785\n"
     ]
    },
    {
     "name": "stderr",
     "output_type": "stream",
     "text": [
      " 48%|██████████████████████████████████████████████████████████████████████████████████▉                                                                                          | 198/413 [24:06<21:49,  6.09s/it]"
     ]
    },
    {
     "name": "stdout",
     "output_type": "stream",
     "text": [
      "float() argument must be a string or a real number, not 'NoneType'\n",
      "Check exofop: https://exofop.ipac.caltech.edu/tess/target.php?id=Kepler-785&json\n",
      "WASP-119\n",
      "Mstar=(1.00,0.12) Msun\n",
      "Rstar=(1.14,0.06) Rsun\n",
      "Rhostar=(0.68,0.13) rhosun\n",
      "teff=(5650,129) K\n",
      "logg=(4.33,0.07) cgs\n",
      "feh=(0.00,0.10) dex\n",
      "Querying Gaia sources 60\" around WASP-119: (55.9336, -65.1938) deg.\n"
     ]
    },
    {
     "name": "stderr",
     "output_type": "stream",
     "text": [
      "WARNING: InputWarning: Invalid Gaia version number, defaulting to DR2. [astroquery.mast.collections]\n",
      " 48%|███████████████████████████████████████████████████████████████████████████████████▎                                                                                         | 199/413 [24:16<25:26,  7.13s/it]"
     ]
    },
    {
     "name": "stdout",
     "output_type": "stream",
     "text": [
      "LTT 9779\n"
     ]
    },
    {
     "name": "stderr",
     "output_type": "stream",
     "text": [
      " 48%|███████████████████████████████████████████████████████████████████████████████████▊                                                                                         | 200/413 [24:25<27:00,  7.61s/it]"
     ]
    },
    {
     "name": "stdout",
     "output_type": "stream",
     "text": [
      "float() argument must be a string or a real number, not 'NoneType'\n",
      "Check exofop: https://exofop.ipac.caltech.edu/tess/target.php?id=LTT9779&json\n",
      "WASP-97\n",
      "Mstar=(1.01,0.13) Msun\n",
      "Rstar=(1.13,0.05) Rsun\n",
      "Rhostar=(0.70,0.13) rhosun\n",
      "teff=(5696,130) K\n",
      "logg=(4.34,0.08) cgs\n",
      "feh=(0.00,0.10) dex\n",
      "Querying Gaia sources 60\" around WASP-97: (24.6051, -55.7720) deg.\n"
     ]
    },
    {
     "name": "stderr",
     "output_type": "stream",
     "text": [
      "WARNING: InputWarning: Invalid Gaia version number, defaulting to DR2. [astroquery.mast.collections]\n",
      " 49%|████████████████████████████████████████████████████████████████████████████████████▏                                                                                        | 201/413 [24:33<27:41,  7.84s/it]"
     ]
    },
    {
     "name": "stdout",
     "output_type": "stream",
     "text": [
      "WASP-15\n",
      "Mstar=(1.18,0.15) Msun\n",
      "Rstar=(1.50,0.06) Rsun\n",
      "Rhostar=(0.35,0.06) rhosun\n",
      "teff=(6169,102) K\n",
      "logg=(4.15,0.07) cgs\n",
      "feh=(0.00,0.10) dex\n",
      "Querying Gaia sources 60\" around WASP-15: (208.9280, -32.1597) deg.\n"
     ]
    },
    {
     "name": "stderr",
     "output_type": "stream",
     "text": [
      "WARNING: InputWarning: Invalid Gaia version number, defaulting to DR2. [astroquery.mast.collections]\n",
      " 49%|████████████████████████████████████████████████████████████████████████████████████▌                                                                                        | 202/413 [24:41<27:27,  7.81s/it]"
     ]
    },
    {
     "name": "stdout",
     "output_type": "stream",
     "text": [
      "HATS-24\n",
      "Mstar=(1.18,0.17) Msun\n",
      "Rstar=(1.15,0.06) Rsun\n",
      "Rhostar=(0.78,0.17) rhosun\n",
      "teff=(6185,134) K\n",
      "logg=(4.39,0.09) cgs\n",
      "feh=(0.00,0.10) dex\n",
      "Querying Gaia sources 60\" around HATS-24: (268.8907, -61.7474) deg.\n"
     ]
    },
    {
     "name": "stderr",
     "output_type": "stream",
     "text": [
      "WARNING: InputWarning: Invalid Gaia version number, defaulting to DR2. [astroquery.mast.collections]\n",
      " 49%|█████████████████████████████████████████████████████████████████████████████████████                                                                                        | 203/413 [24:49<27:35,  7.88s/it]"
     ]
    },
    {
     "name": "stdout",
     "output_type": "stream",
     "text": [
      "HATS-33\n",
      "Mstar=(1.01,0.12) Msun\n",
      "Rstar=(1.04,0.05) Rsun\n",
      "Rhostar=(0.90,0.17) rhosun\n",
      "teff=(5693,129) K\n",
      "logg=(4.41,0.07) cgs\n",
      "feh=(0.00,0.10) dex\n",
      "Querying Gaia sources 60\" around HATS-33: (294.6337, -55.3303) deg.\n"
     ]
    },
    {
     "name": "stderr",
     "output_type": "stream",
     "text": [
      "WARNING: InputWarning: Invalid Gaia version number, defaulting to DR2. [astroquery.mast.collections]\n",
      " 49%|█████████████████████████████████████████████████████████████████████████████████████▍                                                                                       | 204/413 [24:57<28:00,  8.04s/it]"
     ]
    },
    {
     "name": "stdout",
     "output_type": "stream",
     "text": [
      "WASP-20\n"
     ]
    },
    {
     "name": "stderr",
     "output_type": "stream",
     "text": [
      " 50%|█████████████████████████████████████████████████████████████████████████████████████▊                                                                                       | 205/413 [25:05<27:24,  7.91s/it]"
     ]
    },
    {
     "name": "stdout",
     "output_type": "stream",
     "text": [
      "float() argument must be a string or a real number, not 'NoneType'\n",
      "Check exofop: https://exofop.ipac.caltech.edu/tess/target.php?id=WASP-20&json\n",
      "HAT-P-32\n",
      "Mstar=(1.25,0.19) Msun\n",
      "Rstar=(1.26,0.06) Rsun\n",
      "Rhostar=(0.62,0.13) rhosun\n",
      "teff=(6340,125) K\n",
      "logg=(4.33,0.08) cgs\n",
      "feh=(0.00,0.10) dex\n",
      "Querying Gaia sources 60\" around HAT-P-32: (31.0428, 46.6879) deg.\n"
     ]
    },
    {
     "name": "stderr",
     "output_type": "stream",
     "text": [
      "WARNING: InputWarning: Invalid Gaia version number, defaulting to DR2. [astroquery.mast.collections]\n",
      " 50%|██████████████████████████████████████████████████████████████████████████████████████▎                                                                                      | 206/413 [25:14<28:53,  8.37s/it]"
     ]
    },
    {
     "name": "stdout",
     "output_type": "stream",
     "text": [
      "WASP-103\n"
     ]
    },
    {
     "name": "stderr",
     "output_type": "stream",
     "text": [
      " 50%|██████████████████████████████████████████████████████████████████████████████████████▋                                                                                      | 207/413 [25:22<27:36,  8.04s/it]"
     ]
    },
    {
     "name": "stdout",
     "output_type": "stream",
     "text": [
      "float() argument must be a string or a real number, not 'NoneType'\n",
      "Check exofop: https://exofop.ipac.caltech.edu/tess/target.php?id=WASP-103&json\n",
      "WASP-121\n",
      "Mstar=(1.45,0.25) Msun\n",
      "Rstar=(1.52,0.06) Rsun\n",
      "Rhostar=(0.41,0.09) rhosun\n",
      "teff=(6776,134) K\n",
      "logg=(4.23,0.09) cgs\n",
      "feh=(0.00,0.10) dex\n",
      "Querying Gaia sources 60\" around WASP-121: (107.6002, -39.0973) deg.\n"
     ]
    },
    {
     "name": "stderr",
     "output_type": "stream",
     "text": [
      "WARNING: InputWarning: Invalid Gaia version number, defaulting to DR2. [astroquery.mast.collections]\n",
      " 50%|███████████████████████████████████████████████████████████████████████████████████████▏                                                                                     | 208/413 [25:31<28:30,  8.35s/it]"
     ]
    },
    {
     "name": "stdout",
     "output_type": "stream",
     "text": [
      "KELT-11\n"
     ]
    },
    {
     "name": "stderr",
     "output_type": "stream",
     "text": [
      " 51%|███████████████████████████████████████████████████████████████████████████████████████▌                                                                                     | 209/413 [25:38<27:42,  8.15s/it]"
     ]
    },
    {
     "name": "stdout",
     "output_type": "stream",
     "text": [
      "float() argument must be a string or a real number, not 'NoneType'\n",
      "Check exofop: https://exofop.ipac.caltech.edu/tess/target.php?id=KELT-11&json\n",
      "TOI-3688 A\n",
      "Mstar=(1.14,0.15) Msun\n",
      "Rstar=(1.35,0.07) Rsun\n",
      "Rhostar=(0.47,0.09) rhosun\n",
      "teff=(6088,151) K\n",
      "logg=(4.24,0.08) cgs\n",
      "feh=(0.00,0.10) dex\n",
      "Querying Gaia sources 60\" around TOI-3688 A: (39.2823, 54.8512) deg.\n"
     ]
    },
    {
     "name": "stderr",
     "output_type": "stream",
     "text": [
      "WARNING: InputWarning: Invalid Gaia version number, defaulting to DR2. [astroquery.mast.collections]\n",
      " 51%|███████████████████████████████████████████████████████████████████████████████████████▉                                                                                     | 210/413 [25:47<28:07,  8.31s/it]"
     ]
    },
    {
     "name": "stdout",
     "output_type": "stream",
     "text": [
      "WASP-174\n",
      "Mstar=(1.25,0.19) Msun\n",
      "Rstar=(1.46,0.08) Rsun\n",
      "Rhostar=(0.40,0.09) rhosun\n",
      "teff=(6334,125) K\n",
      "logg=(4.21,0.09) cgs\n",
      "feh=(0.00,0.10) dex\n",
      "Querying Gaia sources 60\" around WASP-174: (195.7940, -41.3849) deg.\n"
     ]
    },
    {
     "name": "stderr",
     "output_type": "stream",
     "text": [
      "WARNING: InputWarning: Invalid Gaia version number, defaulting to DR2. [astroquery.mast.collections]\n",
      " 51%|████████████████████████████████████████████████████████████████████████████████████████▍                                                                                    | 211/413 [25:55<28:03,  8.34s/it]"
     ]
    },
    {
     "name": "stdout",
     "output_type": "stream",
     "text": [
      "HAT-P-60\n",
      "Mstar=(1.25,0.18) Msun\n",
      "Rstar=(2.18,0.10) Rsun\n",
      "Rhostar=(0.12,0.02) rhosun\n",
      "teff=(6333,152) K\n",
      "logg=(3.86,0.08) cgs\n",
      "feh=(0.00,0.10) dex\n",
      "Querying Gaia sources 60\" around HAT-P-60: (28.2826, 52.0539) deg.\n"
     ]
    },
    {
     "name": "stderr",
     "output_type": "stream",
     "text": [
      "WARNING: InputWarning: Invalid Gaia version number, defaulting to DR2. [astroquery.mast.collections]\n",
      " 51%|████████████████████████████████████████████████████████████████████████████████████████▊                                                                                    | 212/413 [26:04<28:09,  8.41s/it]"
     ]
    },
    {
     "name": "stdout",
     "output_type": "stream",
     "text": [
      "TOI-4087\n",
      "Mstar=(1.13,0.17) Msun\n",
      "Rstar=(1.12,0.05) Rsun\n",
      "Rhostar=(0.81,0.17) rhosun\n",
      "teff=(6071,205) K\n",
      "logg=(4.39,0.09) cgs\n",
      "feh=(0.00,0.10) dex\n",
      "Querying Gaia sources 60\" around TOI-4087: (217.9258, 83.3727) deg.\n"
     ]
    },
    {
     "name": "stderr",
     "output_type": "stream",
     "text": [
      "WARNING: InputWarning: Invalid Gaia version number, defaulting to DR2. [astroquery.mast.collections]\n",
      " 52%|█████████████████████████████████████████████████████████████████████████████████████████▏                                                                                   | 213/413 [26:09<24:15,  7.28s/it]"
     ]
    },
    {
     "name": "stdout",
     "output_type": "stream",
     "text": [
      "HATS-68\n",
      "Mstar=(1.02,0.12) Msun\n",
      "Rstar=(2.00,0.11) Rsun\n",
      "Rhostar=(0.13,0.03) rhosun\n",
      "teff=(5705,125) K\n",
      "logg=(3.84,0.08) cgs\n",
      "feh=(0.00,0.10) dex\n",
      "Querying Gaia sources 60\" around HATS-68: (15.0061, -58.9047) deg.\n"
     ]
    },
    {
     "name": "stderr",
     "output_type": "stream",
     "text": [
      "WARNING: InputWarning: Invalid Gaia version number, defaulting to DR2. [astroquery.mast.collections]\n",
      " 52%|█████████████████████████████████████████████████████████████████████████████████████████▋                                                                                   | 214/413 [26:16<24:41,  7.45s/it]"
     ]
    },
    {
     "name": "stdout",
     "output_type": "stream",
     "text": [
      "WASP-124\n",
      "Mstar=(1.17,0.16) Msun\n",
      "Rstar=(1.06,0.05) Rsun\n",
      "Rhostar=(0.98,0.20) rhosun\n",
      "teff=(6147,129) K\n",
      "logg=(4.46,0.09) cgs\n",
      "feh=(0.00,0.10) dex\n",
      "Querying Gaia sources 60\" around WASP-124: (332.7143, -30.7497) deg.\n"
     ]
    },
    {
     "name": "stderr",
     "output_type": "stream",
     "text": [
      "WARNING: InputWarning: Invalid Gaia version number, defaulting to DR2. [astroquery.mast.collections]\n",
      " 52%|██████████████████████████████████████████████████████████████████████████████████████████                                                                                   | 215/413 [26:24<24:51,  7.53s/it]"
     ]
    },
    {
     "name": "stdout",
     "output_type": "stream",
     "text": [
      "WASP-126\n",
      "Mstar=(1.01,0.12) Msun\n",
      "Rstar=(1.24,0.06) Rsun\n",
      "Rhostar=(0.53,0.10) rhosun\n",
      "teff=(5676,117) K\n",
      "logg=(4.25,0.08) cgs\n",
      "feh=(0.00,0.10) dex\n",
      "Querying Gaia sources 60\" around WASP-126: (63.3747, -69.2266) deg.\n"
     ]
    },
    {
     "name": "stderr",
     "output_type": "stream",
     "text": [
      "WARNING: InputWarning: Invalid Gaia version number, defaulting to DR2. [astroquery.mast.collections]\n",
      " 52%|██████████████████████████████████████████████████████████████████████████████████████████▍                                                                                  | 216/413 [26:33<25:43,  7.84s/it]"
     ]
    },
    {
     "name": "stdout",
     "output_type": "stream",
     "text": [
      "WASP-120\n",
      "Mstar=(1.36,0.22) Msun\n",
      "Rstar=(1.68,0.07) Rsun\n",
      "Rhostar=(0.28,0.06) rhosun\n",
      "teff=(6572,130) K\n",
      "logg=(4.12,0.09) cgs\n",
      "feh=(0.00,0.10) dex\n",
      "Querying Gaia sources 60\" around WASP-120: (62.6161, -45.8982) deg.\n"
     ]
    },
    {
     "name": "stderr",
     "output_type": "stream",
     "text": [
      "WARNING: InputWarning: Invalid Gaia version number, defaulting to DR2. [astroquery.mast.collections]\n",
      " 53%|██████████████████████████████████████████████████████████████████████████████████████████▉                                                                                  | 217/413 [26:41<25:36,  7.84s/it]"
     ]
    },
    {
     "name": "stdout",
     "output_type": "stream",
     "text": [
      "CoRoT-28\n"
     ]
    },
    {
     "name": "stderr",
     "output_type": "stream",
     "text": [
      " 53%|███████████████████████████████████████████████████████████████████████████████████████████▎                                                                                 | 218/413 [26:48<25:05,  7.72s/it]"
     ]
    },
    {
     "name": "stdout",
     "output_type": "stream",
     "text": [
      "float() argument must be a string or a real number, not 'NoneType'\n",
      "Check exofop: https://exofop.ipac.caltech.edu/tess/target.php?id=CoRoT-28&json\n",
      "HAT-P-9\n",
      "Mstar=(1.19,0.18) Msun\n",
      "Rstar=(1.30,0.07) Rsun\n",
      "Rhostar=(0.54,0.12) rhosun\n",
      "teff=(6193,137) K\n",
      "logg=(4.29,0.09) cgs\n",
      "feh=(0.00,0.10) dex\n",
      "Querying Gaia sources 60\" around HAT-P-9: (110.1685, 37.1406) deg.\n"
     ]
    },
    {
     "name": "stderr",
     "output_type": "stream",
     "text": [
      "WARNING: InputWarning: Invalid Gaia version number, defaulting to DR2. [astroquery.mast.collections]\n",
      " 53%|███████████████████████████████████████████████████████████████████████████████████████████▋                                                                                 | 219/413 [26:56<25:08,  7.77s/it]"
     ]
    },
    {
     "name": "stdout",
     "output_type": "stream",
     "text": [
      "HATS-18\n"
     ]
    },
    {
     "name": "stderr",
     "output_type": "stream",
     "text": [
      " 53%|████████████████████████████████████████████████████████████████████████████████████████████▏                                                                                | 220/413 [27:03<24:19,  7.56s/it]"
     ]
    },
    {
     "name": "stdout",
     "output_type": "stream",
     "text": [
      "float() argument must be a string or a real number, not 'NoneType'\n",
      "Check exofop: https://exofop.ipac.caltech.edu/tess/target.php?id=HATS-18&json\n",
      "HD 2685\n",
      "Mstar=(1.46,0.25) Msun\n",
      "Rstar=(1.59,0.06) Rsun\n",
      "Rhostar=(0.37,0.08) rhosun\n",
      "teff=(6792,132) K\n",
      "logg=(4.20,0.08) cgs\n",
      "feh=(0.00,0.10) dex\n",
      "Querying Gaia sources 60\" around HD 2685: (7.3289, -76.3040) deg.\n"
     ]
    },
    {
     "name": "stderr",
     "output_type": "stream",
     "text": [
      "WARNING: InputWarning: Invalid Gaia version number, defaulting to DR2. [astroquery.mast.collections]\n",
      " 54%|████████████████████████████████████████████████████████████████████████████████████████████▌                                                                                | 221/413 [27:12<25:20,  7.92s/it]"
     ]
    },
    {
     "name": "stdout",
     "output_type": "stream",
     "text": [
      "TOI-3912\n",
      "Mstar=(1.04,0.12) Msun\n",
      "Rstar=(1.42,0.07) Rsun\n",
      "Rhostar=(0.36,0.07) rhosun\n",
      "teff=(5779,112) K\n",
      "logg=(4.15,0.07) cgs\n",
      "feh=(0.00,0.10) dex\n",
      "Querying Gaia sources 60\" around TOI-3912: (215.8015, 24.0766) deg.\n"
     ]
    },
    {
     "name": "stderr",
     "output_type": "stream",
     "text": [
      "WARNING: InputWarning: Invalid Gaia version number, defaulting to DR2. [astroquery.mast.collections]\n",
      " 54%|████████████████████████████████████████████████████████████████████████████████████████████▉                                                                                | 222/413 [27:17<22:43,  7.14s/it]"
     ]
    },
    {
     "name": "stdout",
     "output_type": "stream",
     "text": [
      "Kepler-493\n"
     ]
    },
    {
     "name": "stderr",
     "output_type": "stream",
     "text": [
      " 54%|█████████████████████████████████████████████████████████████████████████████████████████████▍                                                                               | 223/413 [27:21<19:21,  6.11s/it]"
     ]
    },
    {
     "name": "stdout",
     "output_type": "stream",
     "text": [
      "float() argument must be a string or a real number, not 'NoneType'\n",
      "Check exofop: https://exofop.ipac.caltech.edu/tess/target.php?id=Kepler-493&json\n",
      "HATS-62\n"
     ]
    },
    {
     "name": "stderr",
     "output_type": "stream",
     "text": [
      " 54%|█████████████████████████████████████████████████████████████████████████████████████████████▊                                                                               | 224/413 [27:28<19:53,  6.32s/it]"
     ]
    },
    {
     "name": "stdout",
     "output_type": "stream",
     "text": [
      "float() argument must be a string or a real number, not 'NoneType'\n",
      "Check exofop: https://exofop.ipac.caltech.edu/tess/target.php?id=HATS-62&json\n",
      "HATS-65\n",
      "Mstar=(1.23,0.20) Msun\n",
      "Rstar=(1.30,0.06) Rsun\n",
      "Rhostar=(0.56,0.12) rhosun\n",
      "teff=(6297,134) K\n",
      "logg=(4.30,0.09) cgs\n",
      "feh=(0.00,0.10) dex\n",
      "Querying Gaia sources 60\" around HATS-65: (292.9398, -26.7402) deg.\n"
     ]
    },
    {
     "name": "stderr",
     "output_type": "stream",
     "text": [
      "WARNING: InputWarning: Invalid Gaia version number, defaulting to DR2. [astroquery.mast.collections]\n",
      " 54%|██████████████████████████████████████████████████████████████████████████████████████████████▏                                                                              | 225/413 [27:37<22:21,  7.14s/it]"
     ]
    },
    {
     "name": "stdout",
     "output_type": "stream",
     "text": [
      "Kepler-1658\n",
      "Mstar=(1.05,0.14) Msun\n",
      "Rstar=(3.91,0.22) Rsun\n",
      "Rhostar=(0.02,0.00) rhosun\n",
      "teff=(5843,135) K\n",
      "logg=(3.27,0.09) cgs\n",
      "feh=(0.00,0.10) dex\n",
      "Querying Gaia sources 60\" around Kepler-1658: (294.3566, 38.9473) deg.\n"
     ]
    },
    {
     "name": "stderr",
     "output_type": "stream",
     "text": [
      "WARNING: InputWarning: Invalid Gaia version number, defaulting to DR2. [astroquery.mast.collections]\n",
      " 55%|██████████████████████████████████████████████████████████████████████████████████████████████▋                                                                              | 226/413 [27:42<20:25,  6.55s/it]"
     ]
    },
    {
     "name": "stdout",
     "output_type": "stream",
     "text": [
      "HATS-39\n",
      "Mstar=(1.42,0.24) Msun\n",
      "Rstar=(1.78,0.17) Rsun\n",
      "Rhostar=(0.25,0.08) rhosun\n",
      "teff=(6687,136) K\n",
      "logg=(4.09,0.11) cgs\n",
      "feh=(0.00,0.10) dex\n",
      "Querying Gaia sources 60\" around HATS-39: (112.4192, -29.9379) deg.\n"
     ]
    },
    {
     "name": "stderr",
     "output_type": "stream",
     "text": [
      "WARNING: InputWarning: Invalid Gaia version number, defaulting to DR2. [astroquery.mast.collections]\n",
      " 55%|███████████████████████████████████████████████████████████████████████████████████████████████                                                                              | 227/413 [27:51<23:06,  7.45s/it]"
     ]
    },
    {
     "name": "stdout",
     "output_type": "stream",
     "text": [
      "Kepler-14\n"
     ]
    },
    {
     "name": "stderr",
     "output_type": "stream",
     "text": [
      " 55%|███████████████████████████████████████████████████████████████████████████████████████████████▌                                                                             | 228/413 [27:57<20:58,  6.80s/it]"
     ]
    },
    {
     "name": "stdout",
     "output_type": "stream",
     "text": [
      "float() argument must be a string or a real number, not 'NoneType'\n",
      "Check exofop: https://exofop.ipac.caltech.edu/tess/target.php?id=Kepler-14&json\n",
      "HATS-26\n",
      "Mstar=(1.16,0.16) Msun\n",
      "Rstar=(1.91,0.10) Rsun\n",
      "Rhostar=(0.17,0.03) rhosun\n",
      "teff=(6143,123) K\n",
      "logg=(3.94,0.08) cgs\n",
      "feh=(0.00,0.10) dex\n",
      "Querying Gaia sources 60\" around HATS-26: (144.9269, -28.5856) deg.\n"
     ]
    },
    {
     "name": "stderr",
     "output_type": "stream",
     "text": [
      "WARNING: InputWarning: Invalid Gaia version number, defaulting to DR2. [astroquery.mast.collections]\n",
      " 55%|███████████████████████████████████████████████████████████████████████████████████████████████▉                                                                             | 229/413 [28:05<21:53,  7.14s/it]"
     ]
    },
    {
     "name": "stdout",
     "output_type": "stream",
     "text": [
      "TOI-2567\n",
      "Mstar=(0.99,0.12) Msun\n",
      "Rstar=(1.72,0.09) Rsun\n",
      "Rhostar=(0.20,0.04) rhosun\n",
      "teff=(5609,130) K\n",
      "logg=(3.96,0.08) cgs\n",
      "feh=(0.00,0.10) dex\n",
      "Querying Gaia sources 60\" around TOI-2567: (288.4657, 66.3479) deg.\n"
     ]
    },
    {
     "name": "stderr",
     "output_type": "stream",
     "text": [
      "WARNING: InputWarning: Invalid Gaia version number, defaulting to DR2. [astroquery.mast.collections]\n",
      " 56%|████████████████████████████████████████████████████████████████████████████████████████████████▎                                                                            | 230/413 [28:09<19:22,  6.35s/it]"
     ]
    },
    {
     "name": "stdout",
     "output_type": "stream",
     "text": [
      "CoRoT-2\n",
      "Mstar=(0.97,0.12) Msun\n",
      "Rstar=(0.94,0.09) Rsun\n",
      "Rhostar=(1.18,0.38) rhosun\n",
      "teff=(5529,106) K\n",
      "logg=(4.48,0.11) cgs\n",
      "feh=(0.00,0.10) dex\n",
      "Querying Gaia sources 60\" around CoRoT-2: (291.7770, 1.3837) deg.\n"
     ]
    },
    {
     "name": "stderr",
     "output_type": "stream",
     "text": [
      "WARNING: InputWarning: Invalid Gaia version number, defaulting to DR2. [astroquery.mast.collections]\n",
      " 56%|████████████████████████████████████████████████████████████████████████████████████████████████▊                                                                            | 231/413 [28:18<21:40,  7.15s/it]"
     ]
    },
    {
     "name": "stdout",
     "output_type": "stream",
     "text": [
      "HAT-P-1\n",
      "Mstar=(1.13,0.15) Msun\n",
      "Rstar=(1.18,0.05) Rsun\n",
      "Rhostar=(0.69,0.13) rhosun\n",
      "teff=(6051,107) K\n",
      "logg=(4.35,0.08) cgs\n",
      "feh=(0.00,0.10) dex\n",
      "Querying Gaia sources 60\" around HAT-P-1: (344.4454, 38.6749) deg.\n"
     ]
    },
    {
     "name": "stderr",
     "output_type": "stream",
     "text": [
      "WARNING: InputWarning: Invalid Gaia version number, defaulting to DR2. [astroquery.mast.collections]\n",
      " 56%|█████████████████████████████████████████████████████████████████████████████████████████████████▏                                                                           | 232/413 [28:26<22:14,  7.38s/it]"
     ]
    },
    {
     "name": "stdout",
     "output_type": "stream",
     "text": [
      "TOI-1181\n",
      "Mstar=(1.16,0.16) Msun\n",
      "Rstar=(1.93,0.09) Rsun\n",
      "Rhostar=(0.16,0.03) rhosun\n",
      "teff=(6122,125) K\n",
      "logg=(3.93,0.08) cgs\n",
      "feh=(0.00,0.10) dex\n",
      "Querying Gaia sources 60\" around TOI-1181: (297.2158, 64.3544) deg.\n"
     ]
    },
    {
     "name": "stderr",
     "output_type": "stream",
     "text": [
      "WARNING: InputWarning: Invalid Gaia version number, defaulting to DR2. [astroquery.mast.collections]\n",
      " 56%|█████████████████████████████████████████████████████████████████████████████████████████████████▌                                                                           | 233/413 [28:32<21:03,  7.02s/it]"
     ]
    },
    {
     "name": "stdout",
     "output_type": "stream",
     "text": [
      "Qatar-10\n",
      "Mstar=(1.12,0.15) Msun\n",
      "Rstar=(1.32,0.06) Rsun\n",
      "Rhostar=(0.49,0.09) rhosun\n",
      "teff=(6023,121) K\n",
      "logg=(4.25,0.08) cgs\n",
      "feh=(0.00,0.10) dex\n",
      "Querying Gaia sources 60\" around Qatar-10: (284.4439, 69.5708) deg.\n"
     ]
    },
    {
     "name": "stderr",
     "output_type": "stream",
     "text": [
      "WARNING: InputWarning: Invalid Gaia version number, defaulting to DR2. [astroquery.mast.collections]\n",
      " 57%|██████████████████████████████████████████████████████████████████████████████████████████████████                                                                           | 234/413 [28:41<22:10,  7.43s/it]"
     ]
    },
    {
     "name": "stdout",
     "output_type": "stream",
     "text": [
      "Qatar-2\n",
      "Mstar=(0.70,0.08) Msun\n",
      "Rstar=(0.76,0.06) Rsun\n",
      "Rhostar=(1.57,0.42) rhosun\n",
      "teff=(4459,124) K\n",
      "logg=(4.52,0.10) cgs\n",
      "feh=(0.00,0.10) dex\n",
      "Querying Gaia sources 60\" around Qatar-2: (207.6555, -6.8041) deg.\n"
     ]
    },
    {
     "name": "stderr",
     "output_type": "stream",
     "text": [
      "WARNING: InputWarning: Invalid Gaia version number, defaulting to DR2. [astroquery.mast.collections]\n",
      " 57%|██████████████████████████████████████████████████████████████████████████████████████████████████▍                                                                          | 235/413 [28:49<22:54,  7.72s/it]"
     ]
    },
    {
     "name": "stdout",
     "output_type": "stream",
     "text": [
      "HATS-51\n",
      "Mstar=(1.02,0.12) Msun\n",
      "Rstar=(1.23,0.06) Rsun\n",
      "Rhostar=(0.55,0.10) rhosun\n",
      "teff=(5711,124) K\n",
      "logg=(4.27,0.07) cgs\n",
      "feh=(0.00,0.10) dex\n",
      "Querying Gaia sources 60\" around HATS-51: (102.8474, -29.0587) deg.\n"
     ]
    },
    {
     "name": "stderr",
     "output_type": "stream",
     "text": [
      "WARNING: InputWarning: Invalid Gaia version number, defaulting to DR2. [astroquery.mast.collections]\n",
      " 57%|██████████████████████████████████████████████████████████████████████████████████████████████████▊                                                                          | 236/413 [28:58<23:34,  7.99s/it]"
     ]
    },
    {
     "name": "stdout",
     "output_type": "stream",
     "text": [
      "WASP-138\n",
      "Mstar=(1.25,0.19) Msun\n",
      "Rstar=(1.42,0.07) Rsun\n",
      "Rhostar=(0.44,0.09) rhosun\n",
      "teff=(6336,132) K\n",
      "logg=(4.23,0.09) cgs\n",
      "feh=(0.00,0.10) dex\n",
      "Querying Gaia sources 60\" around WASP-138: (41.6392, -0.4641) deg.\n"
     ]
    },
    {
     "name": "stderr",
     "output_type": "stream",
     "text": [
      "WARNING: InputWarning: Invalid Gaia version number, defaulting to DR2. [astroquery.mast.collections]\n",
      " 57%|███████████████████████████████████████████████████████████████████████████████████████████████████▎                                                                         | 237/413 [29:06<23:36,  8.05s/it]"
     ]
    },
    {
     "name": "stdout",
     "output_type": "stream",
     "text": [
      "WASP-165\n",
      "Mstar=(0.98,0.12) Msun\n",
      "Rstar=(1.78,0.13) Rsun\n",
      "Rhostar=(0.17,0.04) rhosun\n",
      "teff=(5570,132) K\n",
      "logg=(3.93,0.09) cgs\n",
      "feh=(0.00,0.10) dex\n",
      "Querying Gaia sources 60\" around WASP-165: (357.5806, -17.0776) deg.\n"
     ]
    },
    {
     "name": "stderr",
     "output_type": "stream",
     "text": [
      "WARNING: InputWarning: Invalid Gaia version number, defaulting to DR2. [astroquery.mast.collections]\n",
      " 58%|███████████████████████████████████████████████████████████████████████████████████████████████████▋                                                                         | 238/413 [29:14<23:56,  8.21s/it]"
     ]
    },
    {
     "name": "stdout",
     "output_type": "stream",
     "text": [
      "WASP-141\n",
      "Mstar=(1.12,0.14) Msun\n",
      "Rstar=(1.35,0.06) Rsun\n",
      "Rhostar=(0.45,0.09) rhosun\n",
      "teff=(6030,122) K\n",
      "logg=(4.22,0.08) cgs\n",
      "feh=(0.00,0.10) dex\n",
      "Querying Gaia sources 60\" around WASP-141: (71.8244, -17.1152) deg.\n"
     ]
    },
    {
     "name": "stderr",
     "output_type": "stream",
     "text": [
      "WARNING: InputWarning: Invalid Gaia version number, defaulting to DR2. [astroquery.mast.collections]\n",
      " 58%|████████████████████████████████████████████████████████████████████████████████████████████████████                                                                         | 239/413 [29:23<23:56,  8.26s/it]"
     ]
    },
    {
     "name": "stdout",
     "output_type": "stream",
     "text": [
      "TOI-2842\n",
      "Mstar=(1.11,0.15) Msun\n",
      "Rstar=(1.26,0.06) Rsun\n",
      "Rhostar=(0.56,0.11) rhosun\n",
      "teff=(6019,143) K\n",
      "logg=(4.29,0.08) cgs\n",
      "feh=(0.00,0.10) dex\n",
      "Querying Gaia sources 60\" around TOI-2842: (108.0442, -10.6393) deg.\n"
     ]
    },
    {
     "name": "stderr",
     "output_type": "stream",
     "text": [
      "WARNING: InputWarning: Invalid Gaia version number, defaulting to DR2. [astroquery.mast.collections]\n",
      " 58%|████████████████████████████████████████████████████████████████████████████████████████████████████▌                                                                        | 240/413 [29:28<21:00,  7.29s/it]"
     ]
    },
    {
     "name": "stdout",
     "output_type": "stream",
     "text": [
      "TOI-3807\n",
      "Mstar=(1.07,0.14) Msun\n",
      "Rstar=(1.47,0.07) Rsun\n",
      "Rhostar=(0.34,0.07) rhosun\n",
      "teff=(5908,133) K\n",
      "logg=(4.13,0.08) cgs\n",
      "feh=(0.00,0.10) dex\n",
      "Querying Gaia sources 60\" around TOI-3807: (139.1126, 69.0741) deg.\n"
     ]
    },
    {
     "name": "stderr",
     "output_type": "stream",
     "text": [
      "WARNING: InputWarning: Invalid Gaia version number, defaulting to DR2. [astroquery.mast.collections]\n",
      " 58%|████████████████████████████████████████████████████████████████████████████████████████████████████▉                                                                        | 241/413 [29:33<19:06,  6.66s/it]"
     ]
    },
    {
     "name": "stdout",
     "output_type": "stream",
     "text": [
      "HATS-63\n"
     ]
    },
    {
     "name": "stderr",
     "output_type": "stream",
     "text": [
      " 59%|█████████████████████████████████████████████████████████████████████████████████████████████████████▎                                                                       | 242/413 [29:41<20:34,  7.22s/it]"
     ]
    },
    {
     "name": "stdout",
     "output_type": "stream",
     "text": [
      "float() argument must be a string or a real number, not 'NoneType'\n",
      "Check exofop: https://exofop.ipac.caltech.edu/tess/target.php?id=HATS-63&json\n",
      "TrES-2\n",
      "Mstar=(1.06,0.13) Msun\n",
      "Rstar=(1.02,0.04) Rsun\n",
      "Rhostar=(1.01,0.17) rhosun\n",
      "teff=(5854,102) K\n",
      "logg=(4.45,0.07) cgs\n",
      "feh=(0.00,0.10) dex\n",
      "Querying Gaia sources 60\" around TrES-2: (286.8085, 49.3164) deg.\n"
     ]
    },
    {
     "name": "stderr",
     "output_type": "stream",
     "text": [
      "WARNING: InputWarning: Invalid Gaia version number, defaulting to DR2. [astroquery.mast.collections]\n",
      " 59%|█████████████████████████████████████████████████████████████████████████████████████████████████████▊                                                                       | 243/413 [29:53<23:50,  8.41s/it]"
     ]
    },
    {
     "name": "stdout",
     "output_type": "stream",
     "text": [
      "Qatar-1\n",
      "Mstar=(0.80,0.10) Msun\n",
      "Rstar=(0.77,0.05) Rsun\n",
      "Rhostar=(1.77,0.38) rhosun\n",
      "teff=(4910,108) K\n",
      "logg=(4.57,0.08) cgs\n",
      "feh=(0.00,0.10) dex\n",
      "Querying Gaia sources 60\" around Qatar-1: (303.3819, 65.1623) deg.\n"
     ]
    },
    {
     "name": "stderr",
     "output_type": "stream",
     "text": [
      "WARNING: InputWarning: Invalid Gaia version number, defaulting to DR2. [astroquery.mast.collections]\n",
      " 59%|██████████████████████████████████████████████████████████████████████████████████████████████████████▏                                                                      | 244/413 [30:02<24:12,  8.59s/it]"
     ]
    },
    {
     "name": "stdout",
     "output_type": "stream",
     "text": [
      "WASP-52\n",
      "Mstar=(0.85,0.11) Msun\n",
      "Rstar=(0.86,0.05) Rsun\n",
      "Rhostar=(1.36,0.30) rhosun\n",
      "teff=(5087,130) K\n",
      "logg=(4.50,0.09) cgs\n",
      "feh=(0.00,0.10) dex\n",
      "Querying Gaia sources 60\" around WASP-52: (348.4948, 8.7611) deg.\n"
     ]
    },
    {
     "name": "stderr",
     "output_type": "stream",
     "text": [
      "WARNING: InputWarning: Invalid Gaia version number, defaulting to DR2. [astroquery.mast.collections]\n",
      " 59%|██████████████████████████████████████████████████████████████████████████████████████████████████████▋                                                                      | 245/413 [30:09<23:25,  8.37s/it]"
     ]
    },
    {
     "name": "stdout",
     "output_type": "stream",
     "text": [
      "WASP-18\n",
      "Mstar=(1.20,0.17) Msun\n",
      "Rstar=(1.35,0.07) Rsun\n",
      "Rhostar=(0.49,0.10) rhosun\n",
      "teff=(6226,140) K\n",
      "logg=(4.26,0.09) cgs\n",
      "feh=(0.00,0.10) dex\n",
      "Querying Gaia sources 60\" around WASP-18: (24.3545, -45.6778) deg.\n"
     ]
    },
    {
     "name": "stderr",
     "output_type": "stream",
     "text": [
      "WARNING: InputWarning: Invalid Gaia version number, defaulting to DR2. [astroquery.mast.collections]\n",
      " 60%|███████████████████████████████████████████████████████████████████████████████████████████████████████                                                                      | 246/413 [30:18<23:16,  8.36s/it]"
     ]
    },
    {
     "name": "stdout",
     "output_type": "stream",
     "text": [
      "HATS-60\n",
      "Mstar=(1.00,0.13) Msun\n",
      "Rstar=(1.47,0.08) Rsun\n",
      "Rhostar=(0.32,0.07) rhosun\n",
      "teff=(5659,126) K\n",
      "logg=(4.10,0.08) cgs\n",
      "feh=(0.00,0.10) dex\n",
      "Querying Gaia sources 60\" around HATS-60: (341.3640, -14.9918) deg.\n"
     ]
    },
    {
     "name": "stderr",
     "output_type": "stream",
     "text": [
      "WARNING: InputWarning: Invalid Gaia version number, defaulting to DR2. [astroquery.mast.collections]\n",
      " 60%|███████████████████████████████████████████████████████████████████████████████████████████████████████▍                                                                     | 247/413 [30:26<22:50,  8.25s/it]"
     ]
    },
    {
     "name": "stdout",
     "output_type": "stream",
     "text": [
      "WASP-173 A\n",
      "Mstar=(1.03,0.12) Msun\n",
      "Rstar=(1.08,0.05) Rsun\n",
      "Rhostar=(0.83,0.16) rhosun\n",
      "teff=(5752,126) K\n",
      "logg=(4.39,0.07) cgs\n",
      "feh=(0.00,0.10) dex\n",
      "Querying Gaia sources 60\" around WASP-173 A: (354.1687, -34.6113) deg.\n"
     ]
    },
    {
     "name": "stderr",
     "output_type": "stream",
     "text": [
      "WARNING: InputWarning: Invalid Gaia version number, defaulting to DR2. [astroquery.mast.collections]\n",
      " 60%|███████████████████████████████████████████████████████████████████████████████████████████████████████▉                                                                     | 248/413 [30:34<22:25,  8.15s/it]"
     ]
    },
    {
     "name": "stdout",
     "output_type": "stream",
     "text": [
      "WASP-57\n",
      "Mstar=(1.06,0.14) Msun\n",
      "Rstar=(1.03,0.05) Rsun\n",
      "Rhostar=(0.98,0.19) rhosun\n",
      "teff=(5878,133) K\n",
      "logg=(4.44,0.08) cgs\n",
      "feh=(0.00,0.10) dex\n",
      "Querying Gaia sources 60\" around WASP-57: (223.8200, -2.0577) deg.\n"
     ]
    },
    {
     "name": "stderr",
     "output_type": "stream",
     "text": [
      "WARNING: InputWarning: Invalid Gaia version number, defaulting to DR2. [astroquery.mast.collections]\n",
      " 60%|████████████████████████████████████████████████████████████████████████████████████████████████████████▎                                                                    | 249/413 [30:41<21:40,  7.93s/it]"
     ]
    },
    {
     "name": "stdout",
     "output_type": "stream",
     "text": [
      "TOI-1333\n",
      "Mstar=(1.42,0.26) Msun\n",
      "Rstar=(1.80,0.08) Rsun\n",
      "Rhostar=(0.24,0.05) rhosun\n",
      "teff=(6696,241) K\n",
      "logg=(4.08,0.09) cgs\n",
      "feh=(0.00,0.10) dex\n",
      "Querying Gaia sources 60\" around TOI-1333: (325.0145, 48.4068) deg.\n"
     ]
    },
    {
     "name": "stderr",
     "output_type": "stream",
     "text": [
      "WARNING: InputWarning: Invalid Gaia version number, defaulting to DR2. [astroquery.mast.collections]\n",
      " 61%|████████████████████████████████████████████████████████████████████████████████████████████████████████▋                                                                    | 250/413 [30:48<20:25,  7.52s/it]"
     ]
    },
    {
     "name": "stdout",
     "output_type": "stream",
     "text": [
      "WASP-31\n",
      "Mstar=(1.20,0.17) Msun\n",
      "Rstar=(1.27,0.05) Rsun\n",
      "Rhostar=(0.59,0.11) rhosun\n",
      "teff=(6217,102) K\n",
      "logg=(4.31,0.08) cgs\n",
      "feh=(0.00,0.10) dex\n",
      "Querying Gaia sources 60\" around WASP-31: (169.4389, -19.0548) deg.\n"
     ]
    },
    {
     "name": "stderr",
     "output_type": "stream",
     "text": [
      "WARNING: InputWarning: Invalid Gaia version number, defaulting to DR2. [astroquery.mast.collections]\n",
      " 61%|█████████████████████████████████████████████████████████████████████████████████████████████████████████▏                                                                   | 251/413 [30:57<21:44,  8.05s/it]"
     ]
    },
    {
     "name": "stdout",
     "output_type": "stream",
     "text": [
      "TOI-4791\n",
      "Mstar=(1.09,0.14) Msun\n",
      "Rstar=(1.49,0.07) Rsun\n",
      "Rhostar=(0.33,0.06) rhosun\n",
      "teff=(5964,131) K\n",
      "logg=(4.13,0.08) cgs\n",
      "feh=(0.00,0.10) dex\n",
      "Querying Gaia sources 60\" around TOI-4791: (109.3884, -19.8289) deg.\n"
     ]
    },
    {
     "name": "stderr",
     "output_type": "stream",
     "text": [
      "WARNING: InputWarning: Invalid Gaia version number, defaulting to DR2. [astroquery.mast.collections]\n",
      " 61%|█████████████████████████████████████████████████████████████████████████████████████████████████████████▌                                                                   | 252/413 [31:03<20:08,  7.50s/it]"
     ]
    },
    {
     "name": "stdout",
     "output_type": "stream",
     "text": [
      "TOI-4463 A\n",
      "Mstar=(0.97,0.13) Msun\n",
      "Rstar=(1.09,0.06) Rsun\n",
      "Rhostar=(0.76,0.16) rhosun\n",
      "teff=(5541,140) K\n",
      "logg=(4.36,0.08) cgs\n",
      "feh=(0.00,0.10) dex\n",
      "Querying Gaia sources 60\" around TOI-4463 A: (279.3581, 18.7300) deg.\n"
     ]
    },
    {
     "name": "stderr",
     "output_type": "stream",
     "text": [
      "WARNING: InputWarning: Invalid Gaia version number, defaulting to DR2. [astroquery.mast.collections]\n",
      " 61%|█████████████████████████████████████████████████████████████████████████████████████████████████████████▉                                                                   | 253/413 [31:12<21:22,  8.01s/it]"
     ]
    },
    {
     "name": "stdout",
     "output_type": "stream",
     "text": [
      "Kepler-105\n",
      "Mstar=(1.09,0.14) Msun\n",
      "Rstar=(1.05,0.05) Rsun\n",
      "Rhostar=(0.94,0.18) rhosun\n",
      "teff=(5951,117) K\n",
      "logg=(4.43,0.08) cgs\n",
      "feh=(0.00,0.10) dex\n",
      "Querying Gaia sources 60\" around Kepler-105: (287.8872, 46.2761) deg.\n"
     ]
    },
    {
     "name": "stderr",
     "output_type": "stream",
     "text": [
      "WARNING: InputWarning: Invalid Gaia version number, defaulting to DR2. [astroquery.mast.collections]\n",
      " 62%|██████████████████████████████████████████████████████████████████████████████████████████████████████████▍                                                                  | 254/413 [31:17<18:49,  7.10s/it]"
     ]
    },
    {
     "name": "stdout",
     "output_type": "stream",
     "text": [
      "WASP-5\n",
      "Mstar=(1.02,0.13) Msun\n",
      "Rstar=(1.09,0.05) Rsun\n",
      "Rhostar=(0.78,0.15) rhosun\n",
      "teff=(5736,116) K\n",
      "logg=(4.37,0.08) cgs\n",
      "feh=(0.00,0.10) dex\n",
      "Querying Gaia sources 60\" around WASP-5: (359.3490, -41.2772) deg.\n"
     ]
    },
    {
     "name": "stderr",
     "output_type": "stream",
     "text": [
      "WARNING: InputWarning: Invalid Gaia version number, defaulting to DR2. [astroquery.mast.collections]\n",
      " 62%|██████████████████████████████████████████████████████████████████████████████████████████████████████████▊                                                                  | 255/413 [31:26<19:33,  7.43s/it]"
     ]
    },
    {
     "name": "stdout",
     "output_type": "stream",
     "text": [
      "TrES-4\n",
      "Mstar=(1.18,0.16) Msun\n",
      "Rstar=(2.01,0.10) Rsun\n",
      "Rhostar=(0.15,0.03) rhosun\n",
      "teff=(6184,138) K\n",
      "logg=(3.90,0.09) cgs\n",
      "feh=(0.00,0.10) dex\n",
      "Querying Gaia sources 60\" around TrES-4: (268.3043, 37.2117) deg.\n"
     ]
    },
    {
     "name": "stderr",
     "output_type": "stream",
     "text": [
      "WARNING: InputWarning: Invalid Gaia version number, defaulting to DR2. [astroquery.mast.collections]\n",
      " 62%|███████████████████████████████████████████████████████████████████████████████████████████████████████████▏                                                                 | 256/413 [31:34<19:56,  7.62s/it]"
     ]
    },
    {
     "name": "stdout",
     "output_type": "stream",
     "text": [
      "TOI-1937 A\n",
      "Mstar=(1.02,0.13) Msun\n",
      "Rstar=(1.07,0.05) Rsun\n",
      "Rhostar=(0.83,0.17) rhosun\n",
      "teff=(5707,136) K\n",
      "logg=(4.39,0.08) cgs\n",
      "feh=(0.00,0.10) dex\n",
      "Querying Gaia sources 60\" around TOI-1937 A: (116.3707, -52.3833) deg.\n"
     ]
    },
    {
     "name": "stderr",
     "output_type": "stream",
     "text": [
      "WARNING: InputWarning: Invalid Gaia version number, defaulting to DR2. [astroquery.mast.collections]\n",
      " 62%|███████████████████████████████████████████████████████████████████████████████████████████████████████████▋                                                                 | 257/413 [31:41<19:38,  7.55s/it]"
     ]
    },
    {
     "name": "stdout",
     "output_type": "stream",
     "text": [
      "WASP-123\n",
      "Mstar=(1.02,0.13) Msun\n",
      "Rstar=(1.22,0.06) Rsun\n",
      "Rhostar=(0.56,0.11) rhosun\n",
      "teff=(5737,141) K\n",
      "logg=(4.28,0.08) cgs\n",
      "feh=(0.00,0.10) dex\n",
      "Querying Gaia sources 60\" around WASP-123: (289.4792, -32.8601) deg.\n"
     ]
    },
    {
     "name": "stderr",
     "output_type": "stream",
     "text": [
      "WARNING: InputWarning: Invalid Gaia version number, defaulting to DR2. [astroquery.mast.collections]\n",
      " 62%|████████████████████████████████████████████████████████████████████████████████████████████████████████████                                                                 | 258/413 [31:50<20:24,  7.90s/it]"
     ]
    },
    {
     "name": "stdout",
     "output_type": "stream",
     "text": [
      "WASP-45\n",
      "Mstar=(0.91,0.11) Msun\n",
      "Rstar=(0.87,0.06) Rsun\n",
      "Rhostar=(1.36,0.31) rhosun\n",
      "teff=(5298,141) K\n",
      "logg=(4.51,0.09) cgs\n",
      "feh=(0.00,0.10) dex\n",
      "Querying Gaia sources 60\" around WASP-45: (5.2378, -35.9985) deg.\n"
     ]
    },
    {
     "name": "stderr",
     "output_type": "stream",
     "text": [
      "WARNING: InputWarning: Invalid Gaia version number, defaulting to DR2. [astroquery.mast.collections]\n",
      " 63%|████████████████████████████████████████████████████████████████████████████████████████████████████████████▍                                                                | 259/413 [31:58<20:25,  7.96s/it]"
     ]
    },
    {
     "name": "stdout",
     "output_type": "stream",
     "text": [
      "WASP-3\n",
      "Mstar=(1.26,0.19) Msun\n",
      "Rstar=(1.36,0.07) Rsun\n",
      "Rhostar=(0.50,0.11) rhosun\n",
      "teff=(6352,144) K\n",
      "logg=(4.27,0.09) cgs\n",
      "feh=(0.00,0.10) dex\n",
      "Querying Gaia sources 60\" around WASP-3: (278.6317, 35.6614) deg.\n"
     ]
    },
    {
     "name": "stderr",
     "output_type": "stream",
     "text": [
      "WARNING: InputWarning: Invalid Gaia version number, defaulting to DR2. [astroquery.mast.collections]\n",
      " 63%|████████████████████████████████████████████████████████████████████████████████████████████████████████████▉                                                                | 260/413 [32:07<21:06,  8.28s/it]"
     ]
    },
    {
     "name": "stdout",
     "output_type": "stream",
     "text": [
      "HAT-P-4\n",
      "Mstar=(1.10,0.14) Msun\n",
      "Rstar=(1.60,0.07) Rsun\n",
      "Rhostar=(0.27,0.05) rhosun\n",
      "teff=(5981,117) K\n",
      "logg=(4.07,0.08) cgs\n",
      "feh=(0.00,0.10) dex\n",
      "Querying Gaia sources 60\" around HAT-P-4: (229.9912, 36.2295) deg.\n"
     ]
    },
    {
     "name": "stderr",
     "output_type": "stream",
     "text": [
      "WARNING: InputWarning: Invalid Gaia version number, defaulting to DR2. [astroquery.mast.collections]\n",
      " 63%|█████████████████████████████████████████████████████████████████████████████████████████████████████████████▎                                                               | 261/413 [32:15<20:44,  8.19s/it]"
     ]
    },
    {
     "name": "stdout",
     "output_type": "stream",
     "text": [
      "WASP-41\n",
      "Mstar=(0.98,0.12) Msun\n",
      "Rstar=(0.88,0.04) Rsun\n",
      "Rhostar=(1.43,0.27) rhosun\n",
      "teff=(5546,108) K\n",
      "logg=(4.54,0.07) cgs\n",
      "feh=(0.00,0.10) dex\n",
      "Querying Gaia sources 60\" around WASP-41: (190.6188, -30.6398) deg.\n"
     ]
    },
    {
     "name": "stderr",
     "output_type": "stream",
     "text": [
      "WARNING: InputWarning: Invalid Gaia version number, defaulting to DR2. [astroquery.mast.collections]\n",
      " 63%|█████████████████████████████████████████████████████████████████████████████████████████████████████████████▋                                                               | 262/413 [32:23<20:25,  8.12s/it]"
     ]
    },
    {
     "name": "stdout",
     "output_type": "stream",
     "text": [
      "TOI-1288\n",
      "Mstar=(1.18,0.20) Msun\n",
      "Rstar=(0.92,0.05) Rsun\n",
      "Rhostar=(1.50,0.35) rhosun\n",
      "teff=(6180,362) K\n",
      "logg=(4.58,0.11) cgs\n",
      "feh=(0.00,0.10) dex\n",
      "Querying Gaia sources 60\" around TOI-1288: (313.1670, 65.6088) deg.\n"
     ]
    },
    {
     "name": "stderr",
     "output_type": "stream",
     "text": [
      "WARNING: InputWarning: Invalid Gaia version number, defaulting to DR2. [astroquery.mast.collections]\n",
      " 64%|██████████████████████████████████████████████████████████████████████████████████████████████████████████████▏                                                              | 263/413 [32:29<19:08,  7.66s/it]"
     ]
    },
    {
     "name": "stdout",
     "output_type": "stream",
     "text": [
      "TOI-2193 A\n",
      "Mstar=(1.14,0.15) Msun\n",
      "Rstar=(1.20,0.06) Rsun\n",
      "Rhostar=(0.67,0.13) rhosun\n",
      "teff=(6079,129) K\n",
      "logg=(4.34,0.08) cgs\n",
      "feh=(0.00,0.10) dex\n",
      "Querying Gaia sources 60\" around TOI-2193 A: (313.6912, -72.8046) deg.\n"
     ]
    },
    {
     "name": "stderr",
     "output_type": "stream",
     "text": [
      "WARNING: InputWarning: Invalid Gaia version number, defaulting to DR2. [astroquery.mast.collections]\n",
      " 64%|██████████████████████████████████████████████████████████████████████████████████████████████████████████████▌                                                              | 264/413 [32:38<19:43,  7.94s/it]"
     ]
    },
    {
     "name": "stdout",
     "output_type": "stream",
     "text": [
      "TOI-4137\n",
      "Mstar=(1.21,0.18) Msun\n",
      "Rstar=(1.47,0.07) Rsun\n",
      "Rhostar=(0.38,0.08) rhosun\n",
      "teff=(6244,129) K\n",
      "logg=(4.19,0.09) cgs\n",
      "feh=(0.00,0.10) dex\n",
      "Querying Gaia sources 60\" around TOI-4137: (77.6129, 70.3911) deg.\n"
     ]
    },
    {
     "name": "stderr",
     "output_type": "stream",
     "text": [
      "WARNING: InputWarning: Invalid Gaia version number, defaulting to DR2. [astroquery.mast.collections]\n",
      " 64%|███████████████████████████████████████████████████████████████████████████████████████████████████████████████                                                              | 265/413 [32:43<17:09,  6.96s/it]"
     ]
    },
    {
     "name": "stdout",
     "output_type": "stream",
     "text": [
      "KELT-24\n",
      "Mstar=(1.25,0.18) Msun\n",
      "Rstar=(1.55,0.06) Rsun\n",
      "Rhostar=(0.34,0.06) rhosun\n",
      "teff=(6321,107) K\n",
      "logg=(4.16,0.08) cgs\n",
      "feh=(0.00,0.10) dex\n",
      "Querying Gaia sources 60\" around KELT-24: (161.9090, 71.6557) deg.\n"
     ]
    },
    {
     "name": "stderr",
     "output_type": "stream",
     "text": [
      "WARNING: InputWarning: Invalid Gaia version number, defaulting to DR2. [astroquery.mast.collections]\n",
      " 64%|███████████████████████████████████████████████████████████████████████████████████████████████████████████████▍                                                             | 266/413 [32:51<17:56,  7.32s/it]"
     ]
    },
    {
     "name": "stdout",
     "output_type": "stream",
     "text": [
      "WASP-170\n",
      "Mstar=(0.97,0.13) Msun\n",
      "Rstar=(1.04,0.06) Rsun\n",
      "Rhostar=(0.85,0.18) rhosun\n",
      "teff=(5515,133) K\n",
      "logg=(4.39,0.08) cgs\n",
      "feh=(0.00,0.10) dex\n",
      "Querying Gaia sources 60\" around WASP-170: (135.4163, -20.7204) deg.\n"
     ]
    },
    {
     "name": "stderr",
     "output_type": "stream",
     "text": [
      "WARNING: InputWarning: Invalid Gaia version number, defaulting to DR2. [astroquery.mast.collections]\n",
      " 65%|███████████████████████████████████████████████████████████████████████████████████████████████████████████████▊                                                             | 267/413 [32:59<18:13,  7.49s/it]"
     ]
    },
    {
     "name": "stdout",
     "output_type": "stream",
     "text": [
      "WASP-171\n",
      "Mstar=(1.14,0.16) Msun\n",
      "Rstar=(2.03,0.10) Rsun\n",
      "Rhostar=(0.14,0.03) rhosun\n",
      "teff=(6090,127) K\n",
      "logg=(3.88,0.08) cgs\n",
      "feh=(0.00,0.10) dex\n",
      "Querying Gaia sources 60\" around WASP-171: (171.8451, -44.0887) deg.\n"
     ]
    },
    {
     "name": "stderr",
     "output_type": "stream",
     "text": [
      "WARNING: InputWarning: Invalid Gaia version number, defaulting to DR2. [astroquery.mast.collections]\n",
      " 65%|████████████████████████████████████████████████████████████████████████████████████████████████████████████████▎                                                            | 268/413 [33:07<18:40,  7.72s/it]"
     ]
    },
    {
     "name": "stdout",
     "output_type": "stream",
     "text": [
      "WASP-175\n",
      "Mstar=(1.20,0.17) Msun\n",
      "Rstar=(1.22,0.06) Rsun\n",
      "Rhostar=(0.65,0.13) rhosun\n",
      "teff=(6229,130) K\n",
      "logg=(4.34,0.09) cgs\n",
      "feh=(0.00,0.10) dex\n",
      "Querying Gaia sources 60\" around WASP-175: (166.3188, -34.1227) deg.\n"
     ]
    },
    {
     "name": "stderr",
     "output_type": "stream",
     "text": [
      "WARNING: InputWarning: Invalid Gaia version number, defaulting to DR2. [astroquery.mast.collections]\n",
      " 65%|████████████████████████████████████████████████████████████████████████████████████████████████████████████████▋                                                            | 269/413 [33:15<19:03,  7.94s/it]"
     ]
    },
    {
     "name": "stdout",
     "output_type": "stream",
     "text": [
      "WASP-44\n",
      "Mstar=(0.96,0.12) Msun\n",
      "Rstar=(0.96,0.05) Rsun\n",
      "Rhostar=(1.07,0.22) rhosun\n",
      "teff=(5480,130) K\n",
      "logg=(4.45,0.08) cgs\n",
      "feh=(0.00,0.10) dex\n",
      "Querying Gaia sources 60\" around WASP-44: (3.9033, -11.9383) deg.\n"
     ]
    },
    {
     "name": "stderr",
     "output_type": "stream",
     "text": [
      "WARNING: InputWarning: Invalid Gaia version number, defaulting to DR2. [astroquery.mast.collections]\n",
      " 65%|█████████████████████████████████████████████████████████████████████████████████████████████████████████████████                                                            | 270/413 [33:23<18:56,  7.95s/it]"
     ]
    },
    {
     "name": "stdout",
     "output_type": "stream",
     "text": [
      "Kepler-17\n"
     ]
    },
    {
     "name": "stderr",
     "output_type": "stream",
     "text": [
      " 66%|█████████████████████████████████████████████████████████████████████████████████████████████████████████████████▌                                                           | 271/413 [33:28<16:06,  6.81s/it]"
     ]
    },
    {
     "name": "stdout",
     "output_type": "stream",
     "text": [
      "float() argument must be a string or a real number, not 'NoneType'\n",
      "Check exofop: https://exofop.ipac.caltech.edu/tess/target.php?id=Kepler-17&json\n",
      "Kepler-223\n"
     ]
    },
    {
     "name": "stderr",
     "output_type": "stream",
     "text": [
      " 66%|█████████████████████████████████████████████████████████████████████████████████████████████████████████████████▉                                                           | 272/413 [33:32<14:12,  6.05s/it]"
     ]
    },
    {
     "name": "stdout",
     "output_type": "stream",
     "text": [
      "float() argument must be a string or a real number, not 'NoneType'\n",
      "Check exofop: https://exofop.ipac.caltech.edu/tess/target.php?id=Kepler-223&json\n",
      "Kepler-502\n"
     ]
    },
    {
     "name": "stderr",
     "output_type": "stream",
     "text": [
      " 66%|██████████████████████████████████████████████████████████████████████████████████████████████████████████████████▎                                                          | 273/413 [33:35<12:05,  5.19s/it]"
     ]
    },
    {
     "name": "stdout",
     "output_type": "stream",
     "text": [
      "float() argument must be a string or a real number, not 'NoneType'\n",
      "Check exofop: https://exofop.ipac.caltech.edu/tess/target.php?id=Kepler-502&json\n",
      "HAT-P-45\n",
      "Mstar=(0.99,0.12) Msun\n",
      "Rstar=(1.45,0.08) Rsun\n",
      "Rhostar=(0.32,0.07) rhosun\n",
      "teff=(5585,134) K\n",
      "logg=(4.11,0.08) cgs\n",
      "feh=(0.00,0.10) dex\n",
      "Querying Gaia sources 60\" around HAT-P-45: (274.3733, -3.3811) deg.\n"
     ]
    },
    {
     "name": "stderr",
     "output_type": "stream",
     "text": [
      "WARNING: InputWarning: Invalid Gaia version number, defaulting to DR2. [astroquery.mast.collections]\n",
      " 66%|██████████████████████████████████████████████████████████████████████████████████████████████████████████████████▊                                                          | 274/413 [33:44<14:42,  6.35s/it]"
     ]
    },
    {
     "name": "stdout",
     "output_type": "stream",
     "text": [
      "WASP-72\n",
      "Mstar=(1.03,0.13) Msun\n",
      "Rstar=(2.66,0.13) Rsun\n",
      "Rhostar=(0.05,0.01) rhosun\n",
      "teff=(5773,111) K\n",
      "logg=(3.60,0.07) cgs\n",
      "feh=(0.00,0.10) dex\n",
      "Querying Gaia sources 60\" around WASP-72: (41.0401, -30.1691) deg.\n"
     ]
    },
    {
     "name": "stderr",
     "output_type": "stream",
     "text": [
      "WARNING: InputWarning: Invalid Gaia version number, defaulting to DR2. [astroquery.mast.collections]\n",
      " 67%|███████████████████████████████████████████████████████████████████████████████████████████████████████████████████▏                                                         | 275/413 [33:53<16:11,  7.04s/it]"
     ]
    },
    {
     "name": "stdout",
     "output_type": "stream",
     "text": [
      "HAT-P-70\n",
      "Mstar=(2.19,0.31) Msun\n",
      "Rstar=(1.97,0.07) Rsun\n",
      "Rhostar=(0.29,0.05) rhosun\n",
      "teff=(8730,153) K\n",
      "logg=(4.19,0.07) cgs\n",
      "feh=(0.00,0.10) dex\n",
      "Querying Gaia sources 60\" around HAT-P-70: (74.5523, 9.9980) deg.\n"
     ]
    },
    {
     "name": "stderr",
     "output_type": "stream",
     "text": [
      "WARNING: InputWarning: Invalid Gaia version number, defaulting to DR2. [astroquery.mast.collections]\n",
      " 67%|███████████████████████████████████████████████████████████████████████████████████████████████████████████████████▌                                                         | 276/413 [34:01<17:15,  7.56s/it]"
     ]
    },
    {
     "name": "stdout",
     "output_type": "stream",
     "text": [
      "Kepler-433\n"
     ]
    },
    {
     "name": "stderr",
     "output_type": "stream",
     "text": [
      " 67%|████████████████████████████████████████████████████████████████████████████████████████████████████████████████████                                                         | 277/413 [34:06<14:48,  6.53s/it]"
     ]
    },
    {
     "name": "stdout",
     "output_type": "stream",
     "text": [
      "float() argument must be a string or a real number, not 'NoneType'\n",
      "Check exofop: https://exofop.ipac.caltech.edu/tess/target.php?id=Kepler-433&json\n",
      "NGTS-3 A\n"
     ]
    },
    {
     "name": "stderr",
     "output_type": "stream",
     "text": [
      " 67%|████████████████████████████████████████████████████████████████████████████████████████████████████████████████████▍                                                        | 278/413 [34:13<15:04,  6.70s/it]"
     ]
    },
    {
     "name": "stdout",
     "output_type": "stream",
     "text": [
      "float() argument must be a string or a real number, not 'NoneType'\n",
      "Check exofop: https://exofop.ipac.caltech.edu/tess/target.php?id=NGTS-3A&json\n",
      "XO-5\n",
      "Mstar=(0.97,0.13) Msun\n",
      "Rstar=(1.10,0.05) Rsun\n",
      "Rhostar=(0.73,0.14) rhosun\n",
      "teff=(5522,116) K\n",
      "logg=(4.34,0.08) cgs\n",
      "feh=(0.00,0.10) dex\n",
      "Querying Gaia sources 60\" around XO-5: (116.7164, 39.0945) deg.\n"
     ]
    },
    {
     "name": "stderr",
     "output_type": "stream",
     "text": [
      "WARNING: InputWarning: Invalid Gaia version number, defaulting to DR2. [astroquery.mast.collections]\n",
      " 68%|████████████████████████████████████████████████████████████████████████████████████████████████████████████████████▊                                                        | 279/413 [34:22<16:22,  7.33s/it]"
     ]
    },
    {
     "name": "stdout",
     "output_type": "stream",
     "text": [
      "TrES-5\n",
      "Mstar=(0.86,0.10) Msun\n",
      "Rstar=(0.91,0.06) Rsun\n",
      "Rhostar=(1.14,0.25) rhosun\n",
      "teff=(5115,102) K\n",
      "logg=(4.45,0.08) cgs\n",
      "feh=(0.00,0.10) dex\n",
      "Querying Gaia sources 60\" around TrES-5: (305.2219, 59.4489) deg.\n"
     ]
    },
    {
     "name": "stderr",
     "output_type": "stream",
     "text": [
      "WARNING: InputWarning: Invalid Gaia version number, defaulting to DR2. [astroquery.mast.collections]\n",
      " 68%|█████████████████████████████████████████████████████████████████████████████████████████████████████████████████████▎                                                       | 280/413 [34:30<17:08,  7.73s/it]"
     ]
    },
    {
     "name": "stdout",
     "output_type": "stream",
     "text": [
      "KELT-18\n",
      "Mstar=(1.48,0.26) Msun\n",
      "Rstar=(1.91,0.08) Rsun\n",
      "Rhostar=(0.21,0.05) rhosun\n",
      "teff=(6840,129) K\n",
      "logg=(4.05,0.09) cgs\n",
      "feh=(0.00,0.10) dex\n",
      "Querying Gaia sources 60\" around KELT-18: (216.5238, 59.4443) deg.\n"
     ]
    },
    {
     "name": "stderr",
     "output_type": "stream",
     "text": [
      "WARNING: InputWarning: Invalid Gaia version number, defaulting to DR2. [astroquery.mast.collections]\n",
      " 68%|█████████████████████████████████████████████████████████████████████████████████████████████████████████████████████▋                                                       | 281/413 [34:38<17:11,  7.81s/it]"
     ]
    },
    {
     "name": "stdout",
     "output_type": "stream",
     "text": [
      "WASP-1\n",
      "Mstar=(1.15,0.16) Msun\n",
      "Rstar=(1.56,0.08) Rsun\n",
      "Rhostar=(0.30,0.06) rhosun\n",
      "teff=(6116,107) K\n",
      "logg=(4.11,0.08) cgs\n",
      "feh=(0.00,0.10) dex\n",
      "Querying Gaia sources 60\" around WASP-1: (5.1670, 31.9900) deg.\n"
     ]
    },
    {
     "name": "stderr",
     "output_type": "stream",
     "text": [
      "WARNING: InputWarning: Invalid Gaia version number, defaulting to DR2. [astroquery.mast.collections]\n",
      " 68%|██████████████████████████████████████████████████████████████████████████████████████████████████████████████████████▏                                                      | 282/413 [34:46<17:07,  7.84s/it]"
     ]
    },
    {
     "name": "stdout",
     "output_type": "stream",
     "text": [
      "WASP-61\n",
      "Mstar=(1.21,0.17) Msun\n",
      "Rstar=(1.43,0.06) Rsun\n",
      "Rhostar=(0.41,0.08) rhosun\n",
      "teff=(6245,102) K\n",
      "logg=(4.21,0.08) cgs\n",
      "feh=(0.00,0.10) dex\n",
      "Querying Gaia sources 60\" around WASP-61: (75.2997, -26.0541) deg.\n"
     ]
    },
    {
     "name": "stderr",
     "output_type": "stream",
     "text": [
      "WARNING: InputWarning: Invalid Gaia version number, defaulting to DR2. [astroquery.mast.collections]\n",
      " 69%|██████████████████████████████████████████████████████████████████████████████████████████████████████████████████████▌                                                      | 283/413 [34:54<17:18,  7.99s/it]"
     ]
    },
    {
     "name": "stdout",
     "output_type": "stream",
     "text": [
      "WASP-78\n",
      "Mstar=(1.23,0.18) Msun\n",
      "Rstar=(2.06,0.10) Rsun\n",
      "Rhostar=(0.14,0.03) rhosun\n",
      "teff=(6291,130) K\n",
      "logg=(3.90,0.09) cgs\n",
      "feh=(0.00,0.10) dex\n",
      "Querying Gaia sources 60\" around WASP-78: (63.7563, -22.1164) deg.\n"
     ]
    },
    {
     "name": "stderr",
     "output_type": "stream",
     "text": [
      "WARNING: InputWarning: Invalid Gaia version number, defaulting to DR2. [astroquery.mast.collections]\n",
      " 69%|██████████████████████████████████████████████████████████████████████████████████████████████████████████████████████▉                                                      | 284/413 [35:02<17:01,  7.92s/it]"
     ]
    },
    {
     "name": "stdout",
     "output_type": "stream",
     "text": [
      "HATS-32\n"
     ]
    },
    {
     "name": "stderr",
     "output_type": "stream",
     "text": [
      " 69%|███████████████████████████████████████████████████████████████████████████████████████████████████████████████████████▍                                                     | 285/413 [35:10<16:41,  7.82s/it]"
     ]
    },
    {
     "name": "stdout",
     "output_type": "stream",
     "text": [
      "float() argument must be a string or a real number, not 'NoneType'\n",
      "Check exofop: https://exofop.ipac.caltech.edu/tess/target.php?id=HATS-32&json\n",
      "Qatar-5\n",
      "Mstar=(0.99,0.12) Msun\n",
      "Rstar=(1.11,0.06) Rsun\n",
      "Rhostar=(0.71,0.15) rhosun\n",
      "teff=(5583,128) K\n",
      "logg=(4.34,0.08) cgs\n",
      "feh=(0.00,0.10) dex\n",
      "Querying Gaia sources 60\" around Qatar-5: (7.0539, 42.0613) deg.\n"
     ]
    },
    {
     "name": "stderr",
     "output_type": "stream",
     "text": [
      "WARNING: InputWarning: Invalid Gaia version number, defaulting to DR2. [astroquery.mast.collections]\n",
      " 69%|███████████████████████████████████████████████████████████████████████████████████████████████████████████████████████▊                                                     | 286/413 [35:18<16:49,  7.95s/it]"
     ]
    },
    {
     "name": "stdout",
     "output_type": "stream",
     "text": [
      "TOI-1516\n",
      "Mstar=(1.32,0.22) Msun\n",
      "Rstar=(1.24,0.05) Rsun\n",
      "Rhostar=(0.69,0.15) rhosun\n",
      "teff=(6485,136) K\n",
      "logg=(4.37,0.09) cgs\n",
      "feh=(0.00,0.10) dex\n",
      "Querying Gaia sources 60\" around TOI-1516: (340.0846, 69.5037) deg.\n"
     ]
    },
    {
     "name": "stderr",
     "output_type": "stream",
     "text": [
      "WARNING: InputWarning: Invalid Gaia version number, defaulting to DR2. [astroquery.mast.collections]\n",
      " 69%|████████████████████████████████████████████████████████████████████████████████████████████████████████████████████████▏                                                    | 287/413 [35:24<15:21,  7.31s/it]"
     ]
    },
    {
     "name": "stdout",
     "output_type": "stream",
     "text": [
      "Kepler-471\n"
     ]
    },
    {
     "name": "stderr",
     "output_type": "stream",
     "text": [
      " 70%|████████████████████████████████████████████████████████████████████████████████████████████████████████████████████████▋                                                    | 288/413 [35:28<13:16,  6.37s/it]"
     ]
    },
    {
     "name": "stdout",
     "output_type": "stream",
     "text": [
      "float() argument must be a string or a real number, not 'NoneType'\n",
      "Check exofop: https://exofop.ipac.caltech.edu/tess/target.php?id=Kepler-471&json\n",
      "KPS-1\n",
      "Mstar=(0.82,0.10) Msun\n",
      "Rstar=(0.90,0.06) Rsun\n",
      "Rhostar=(1.11,0.26) rhosun\n",
      "teff=(4974,131) K\n",
      "logg=(4.44,0.09) cgs\n",
      "feh=(0.00,0.10) dex\n",
      "Querying Gaia sources 60\" around KPS-1: (165.1672, 64.9638) deg.\n"
     ]
    },
    {
     "name": "stderr",
     "output_type": "stream",
     "text": [
      "WARNING: InputWarning: Invalid Gaia version number, defaulting to DR2. [astroquery.mast.collections]\n",
      " 70%|█████████████████████████████████████████████████████████████████████████████████████████████████████████████████████████                                                    | 289/413 [35:34<13:13,  6.40s/it]"
     ]
    },
    {
     "name": "stdout",
     "output_type": "stream",
     "text": [
      "NGTS-9\n",
      "Mstar=(1.21,0.17) Msun\n",
      "Rstar=(1.38,0.07) Rsun\n",
      "Rhostar=(0.46,0.10) rhosun\n",
      "teff=(6245,124) K\n",
      "logg=(4.24,0.09) cgs\n",
      "feh=(0.00,0.10) dex\n",
      "Querying Gaia sources 60\" around NGTS-9: (141.9206, -19.3476) deg.\n"
     ]
    },
    {
     "name": "stderr",
     "output_type": "stream",
     "text": [
      "WARNING: InputWarning: Invalid Gaia version number, defaulting to DR2. [astroquery.mast.collections]\n",
      " 70%|█████████████████████████████████████████████████████████████████████████████████████████████████████████████████████████▍                                                   | 290/413 [35:43<14:10,  6.91s/it]"
     ]
    },
    {
     "name": "stdout",
     "output_type": "stream",
     "text": [
      "HATS-76\n",
      "Mstar=(0.61,0.02) Msun\n",
      "Rstar=(0.63,0.02) Rsun\n",
      "Rhostar=(2.42,0.25) rhosun\n",
      "teff=(3929,157) K\n",
      "logg=(4.62,0.01) cgs\n",
      "feh=(0.00,0.10) dex\n",
      "Querying Gaia sources 60\" around HATS-76: (70.3398, -32.3204) deg.\n"
     ]
    },
    {
     "name": "stderr",
     "output_type": "stream",
     "text": [
      "WARNING: InputWarning: Invalid Gaia version number, defaulting to DR2. [astroquery.mast.collections]\n",
      " 70%|█████████████████████████████████████████████████████████████████████████████████████████████████████████████████████████▉                                                   | 291/413 [35:53<16:05,  7.91s/it]"
     ]
    },
    {
     "name": "stdout",
     "output_type": "stream",
     "text": [
      "HATS-34\n"
     ]
    },
    {
     "name": "stderr",
     "output_type": "stream",
     "text": [
      " 71%|██████████████████████████████████████████████████████████████████████████████████████████████████████████████████████████▎                                                  | 292/413 [36:00<15:44,  7.81s/it]"
     ]
    },
    {
     "name": "stdout",
     "output_type": "stream",
     "text": [
      "float() argument must be a string or a real number, not 'NoneType'\n",
      "Check exofop: https://exofop.ipac.caltech.edu/tess/target.php?id=HATS-34&json\n",
      "KELT-21\n",
      "Mstar=(2.05,0.31) Msun\n",
      "Rstar=(1.71,0.06) Rsun\n",
      "Rhostar=(0.41,0.07) rhosun\n",
      "teff=(8324,259) K\n",
      "logg=(4.28,0.08) cgs\n",
      "feh=(0.00,0.10) dex\n",
      "Querying Gaia sources 60\" around KELT-21: (304.8000, 32.5810) deg.\n"
     ]
    },
    {
     "name": "stderr",
     "output_type": "stream",
     "text": [
      "WARNING: InputWarning: Invalid Gaia version number, defaulting to DR2. [astroquery.mast.collections]\n",
      " 71%|██████████████████████████████████████████████████████████████████████████████████████████████████████████████████████████▋                                                  | 293/413 [36:09<16:18,  8.15s/it]"
     ]
    },
    {
     "name": "stdout",
     "output_type": "stream",
     "text": [
      "KELT-16\n",
      "Mstar=(1.30,0.21) Msun\n",
      "Rstar=(1.41,0.06) Rsun\n",
      "Rhostar=(0.46,0.10) rhosun\n",
      "teff=(6430,139) K\n",
      "logg=(4.25,0.09) cgs\n",
      "feh=(0.00,0.10) dex\n",
      "Querying Gaia sources 60\" around KELT-16: (314.2685, 31.6610) deg.\n"
     ]
    },
    {
     "name": "stderr",
     "output_type": "stream",
     "text": [
      "WARNING: InputWarning: Invalid Gaia version number, defaulting to DR2. [astroquery.mast.collections]\n",
      " 71%|███████████████████████████████████████████████████████████████████████████████████████████████████████████████████████████▏                                                 | 294/413 [36:19<16:55,  8.53s/it]"
     ]
    },
    {
     "name": "stdout",
     "output_type": "stream",
     "text": [
      "Kepler-12\n",
      "Mstar=(1.09,0.14) Msun\n",
      "Rstar=(1.57,0.08) Rsun\n",
      "Rhostar=(0.28,0.06) rhosun\n",
      "teff=(5967,138) K\n",
      "logg=(4.08,0.08) cgs\n",
      "feh=(0.00,0.10) dex\n",
      "Querying Gaia sources 60\" around Kepler-12: (286.2434, 50.0404) deg.\n"
     ]
    },
    {
     "name": "stderr",
     "output_type": "stream",
     "text": [
      "WARNING: InputWarning: Invalid Gaia version number, defaulting to DR2. [astroquery.mast.collections]\n",
      " 71%|███████████████████████████████████████████████████████████████████████████████████████████████████████████████████████████▌                                                 | 295/413 [36:24<14:56,  7.60s/it]"
     ]
    },
    {
     "name": "stdout",
     "output_type": "stream",
     "text": [
      "Kepler-7\n",
      "Mstar=(1.10,0.14) Msun\n",
      "Rstar=(2.08,0.13) Rsun\n",
      "Rhostar=(0.12,0.03) rhosun\n",
      "teff=(5974,149) K\n",
      "logg=(3.84,0.09) cgs\n",
      "feh=(0.00,0.10) dex\n",
      "Querying Gaia sources 60\" around Kepler-7: (288.5815, 41.0897) deg.\n"
     ]
    },
    {
     "name": "stderr",
     "output_type": "stream",
     "text": [
      "WARNING: InputWarning: Invalid Gaia version number, defaulting to DR2. [astroquery.mast.collections]\n",
      " 72%|███████████████████████████████████████████████████████████████████████████████████████████████████████████████████████████▉                                                 | 296/413 [36:30<13:49,  7.09s/it]"
     ]
    },
    {
     "name": "stdout",
     "output_type": "stream",
     "text": [
      "WASP-135\n",
      "Mstar=(0.82,0.10) Msun\n",
      "Rstar=(0.93,0.06) Rsun\n",
      "Rhostar=(1.00,0.23) rhosun\n",
      "teff=(4984,124) K\n",
      "logg=(4.41,0.09) cgs\n",
      "feh=(0.00,0.10) dex\n",
      "Querying Gaia sources 60\" around WASP-135: (267.2849, 29.8790) deg.\n"
     ]
    },
    {
     "name": "stderr",
     "output_type": "stream",
     "text": [
      "WARNING: InputWarning: Invalid Gaia version number, defaulting to DR2. [astroquery.mast.collections]\n",
      " 72%|████████████████████████████████████████████████████████████████████████████████████████████████████████████████████████████▍                                                | 297/413 [36:38<14:15,  7.37s/it]"
     ]
    },
    {
     "name": "stdout",
     "output_type": "stream",
     "text": [
      "WASP-177\n",
      "Mstar=(0.85,0.10) Msun\n",
      "Rstar=(0.85,0.06) Rsun\n",
      "Rhostar=(1.39,0.32) rhosun\n",
      "teff=(5082,130) K\n",
      "logg=(4.51,0.09) cgs\n",
      "feh=(0.00,0.10) dex\n",
      "Querying Gaia sources 60\" around WASP-177: (334.7970, -1.8344) deg.\n"
     ]
    },
    {
     "name": "stderr",
     "output_type": "stream",
     "text": [
      "WARNING: InputWarning: Invalid Gaia version number, defaulting to DR2. [astroquery.mast.collections]\n",
      " 72%|████████████████████████████████████████████████████████████████████████████████████████████████████████████████████████████▊                                                | 298/413 [36:46<14:29,  7.56s/it]"
     ]
    },
    {
     "name": "stdout",
     "output_type": "stream",
     "text": [
      "Kepler-412\n"
     ]
    },
    {
     "name": "stderr",
     "output_type": "stream",
     "text": [
      " 72%|█████████████████████████████████████████████████████████████████████████████████████████████████████████████████████████████▏                                               | 299/413 [36:50<12:09,  6.40s/it]"
     ]
    },
    {
     "name": "stdout",
     "output_type": "stream",
     "text": [
      "float() argument must be a string or a real number, not 'NoneType'\n",
      "Check exofop: https://exofop.ipac.caltech.edu/tess/target.php?id=Kepler-412&json\n",
      "Kepler-485\n"
     ]
    },
    {
     "name": "stderr",
     "output_type": "stream",
     "text": [
      " 73%|█████████████████████████████████████████████████████████████████████████████████████████████████████████████████████████████▋                                               | 300/413 [36:54<10:33,  5.61s/it]"
     ]
    },
    {
     "name": "stdout",
     "output_type": "stream",
     "text": [
      "float() argument must be a string or a real number, not 'NoneType'\n",
      "Check exofop: https://exofop.ipac.caltech.edu/tess/target.php?id=Kepler-485&json\n",
      "XO-7\n",
      "Mstar=(1.14,0.16) Msun\n",
      "Rstar=(1.53,0.07) Rsun\n",
      "Rhostar=(0.32,0.06) rhosun\n",
      "teff=(6082,138) K\n",
      "logg=(4.13,0.08) cgs\n",
      "feh=(0.00,0.10) dex\n",
      "Querying Gaia sources 60\" around XO-7: (277.4781, 85.2333) deg.\n"
     ]
    },
    {
     "name": "stderr",
     "output_type": "stream",
     "text": [
      "WARNING: InputWarning: Invalid Gaia version number, defaulting to DR2. [astroquery.mast.collections]\n",
      " 73%|██████████████████████████████████████████████████████████████████████████████████████████████████████████████████████████████                                               | 301/413 [37:01<11:15,  6.04s/it]"
     ]
    },
    {
     "name": "stdout",
     "output_type": "stream",
     "text": [
      "TOI-2109\n",
      "Mstar=(1.40,0.23) Msun\n",
      "Rstar=(1.70,0.07) Rsun\n",
      "Rhostar=(0.28,0.06) rhosun\n",
      "teff=(6647,135) K\n",
      "logg=(4.12,0.09) cgs\n",
      "feh=(0.00,0.10) dex\n",
      "Querying Gaia sources 60\" around TOI-2109: (253.1863, 16.5799) deg.\n"
     ]
    },
    {
     "name": "stderr",
     "output_type": "stream",
     "text": [
      "WARNING: InputWarning: Invalid Gaia version number, defaulting to DR2. [astroquery.mast.collections]\n",
      " 73%|██████████████████████████████████████████████████████████████████████████████████████████████████████████████████████████████▌                                              | 302/413 [37:09<12:29,  6.75s/it]"
     ]
    },
    {
     "name": "stdout",
     "output_type": "stream",
     "text": [
      "Kepler-8\n"
     ]
    },
    {
     "name": "stderr",
     "output_type": "stream",
     "text": [
      " 73%|██████████████████████████████████████████████████████████████████████████████████████████████████████████████████████████████▉                                              | 303/413 [37:14<11:35,  6.32s/it]"
     ]
    },
    {
     "name": "stdout",
     "output_type": "stream",
     "text": [
      "float() argument must be a string or a real number, not 'NoneType'\n",
      "Check exofop: https://exofop.ipac.caltech.edu/tess/target.php?id=Kepler-8&json\n",
      "TOI-2154\n",
      "Mstar=(1.21,0.17) Msun\n",
      "Rstar=(1.39,0.06) Rsun\n",
      "Rhostar=(0.45,0.09) rhosun\n",
      "teff=(6243,134) K\n",
      "logg=(4.24,0.08) cgs\n",
      "feh=(0.00,0.10) dex\n",
      "Querying Gaia sources 60\" around TOI-2154: (71.0281, 84.3643) deg.\n"
     ]
    },
    {
     "name": "stderr",
     "output_type": "stream",
     "text": [
      "WARNING: InputWarning: Invalid Gaia version number, defaulting to DR2. [astroquery.mast.collections]\n",
      " 74%|███████████████████████████████████████████████████████████████████████████████████████████████████████████████████████████████▎                                             | 304/413 [37:19<10:48,  5.95s/it]"
     ]
    },
    {
     "name": "stdout",
     "output_type": "stream",
     "text": [
      "TOI-1431\n",
      "Mstar=(1.76,0.30) Msun\n",
      "Rstar=(1.94,0.06) Rsun\n",
      "Rhostar=(0.24,0.05) rhosun\n",
      "teff=(7575,145) K\n",
      "logg=(4.11,0.08) cgs\n",
      "feh=(0.00,0.10) dex\n",
      "Querying Gaia sources 60\" around TOI-1431: (316.2037, 55.5880) deg.\n"
     ]
    },
    {
     "name": "stderr",
     "output_type": "stream",
     "text": [
      "WARNING: InputWarning: Invalid Gaia version number, defaulting to DR2. [astroquery.mast.collections]\n",
      " 74%|███████████████████████████████████████████████████████████████████████████████████████████████████████████████████████████████▊                                             | 305/413 [37:26<10:56,  6.08s/it]"
     ]
    },
    {
     "name": "stdout",
     "output_type": "stream",
     "text": [
      "TOI-1518\n",
      "Mstar=(2.54,0.50) Msun\n",
      "Rstar=(1.82,0.14) Rsun\n",
      "Rhostar=(0.42,0.13) rhosun\n",
      "teff=(9918,1389) K\n",
      "logg=(4.32,0.15) cgs\n",
      "feh=(0.00,0.10) dex\n",
      "Querying Gaia sources 60\" around TOI-1518: (352.2675, 67.0348) deg.\n"
     ]
    },
    {
     "name": "stderr",
     "output_type": "stream",
     "text": [
      "WARNING: InputWarning: Invalid Gaia version number, defaulting to DR2. [astroquery.mast.collections]\n",
      " 74%|████████████████████████████████████████████████████████████████████████████████████████████████████████████████████████████████▏                                            | 306/413 [37:31<10:33,  5.92s/it]"
     ]
    },
    {
     "name": "stdout",
     "output_type": "stream",
     "text": [
      "K2-405\n",
      "Mstar=(0.79,0.09) Msun\n",
      "Rstar=(0.80,0.05) Rsun\n",
      "Rhostar=(1.54,0.36) rhosun\n",
      "teff=(4870,126) K\n",
      "logg=(4.53,0.09) cgs\n",
      "feh=(0.00,0.10) dex\n",
      "Querying Gaia sources 60\" around K2-405: (164.3760, 12.5356) deg.\n"
     ]
    },
    {
     "name": "stderr",
     "output_type": "stream",
     "text": [
      "WARNING: InputWarning: Invalid Gaia version number, defaulting to DR2. [astroquery.mast.collections]\n",
      " 74%|████████████████████████████████████████████████████████████████████████████████████████████████████████████████████████████████▌                                            | 307/413 [37:41<12:09,  6.88s/it]"
     ]
    },
    {
     "name": "stdout",
     "output_type": "stream",
     "text": [
      "Kepler-41\n"
     ]
    },
    {
     "name": "stderr",
     "output_type": "stream",
     "text": [
      " 75%|█████████████████████████████████████████████████████████████████████████████████████████████████████████████████████████████████                                            | 308/413 [37:44<10:27,  5.98s/it]"
     ]
    },
    {
     "name": "stdout",
     "output_type": "stream",
     "text": [
      "float() argument must be a string or a real number, not 'NoneType'\n",
      "Check exofop: https://exofop.ipac.caltech.edu/tess/target.php?id=Kepler-41&json\n",
      "HAT-P-49\n",
      "Mstar=(1.52,0.25) Msun\n",
      "Rstar=(1.96,0.08) Rsun\n",
      "Rhostar=(0.20,0.04) rhosun\n",
      "teff=(6955,139) K\n",
      "logg=(4.04,0.09) cgs\n",
      "feh=(0.00,0.10) dex\n",
      "Querying Gaia sources 60\" around HAT-P-49: (305.4413, 26.6927) deg.\n"
     ]
    },
    {
     "name": "stderr",
     "output_type": "stream",
     "text": [
      "WARNING: InputWarning: Invalid Gaia version number, defaulting to DR2. [astroquery.mast.collections]\n",
      " 75%|█████████████████████████████████████████████████████████████████████████████████████████████████████████████████████████████████▍                                           | 309/413 [37:53<11:47,  6.80s/it]"
     ]
    },
    {
     "name": "stdout",
     "output_type": "stream",
     "text": [
      "Kepler-670\n"
     ]
    },
    {
     "name": "stderr",
     "output_type": "stream",
     "text": [
      " 75%|█████████████████████████████████████████████████████████████████████████████████████████████████████████████████████████████████▊                                           | 310/413 [37:57<10:11,  5.94s/it]"
     ]
    },
    {
     "name": "stdout",
     "output_type": "stream",
     "text": [
      "float() argument must be a string or a real number, not 'NoneType'\n",
      "Check exofop: https://exofop.ipac.caltech.edu/tess/target.php?id=Kepler-670&json\n",
      "HAT-P-5\n",
      "Mstar=(1.05,0.14) Msun\n",
      "Rstar=(1.13,0.06) Rsun\n",
      "Rhostar=(0.73,0.15) rhosun\n",
      "teff=(5833,145) K\n",
      "logg=(4.35,0.09) cgs\n",
      "feh=(0.00,0.10) dex\n",
      "Querying Gaia sources 60\" around HAT-P-5: (274.4055, 36.6215) deg.\n"
     ]
    },
    {
     "name": "stderr",
     "output_type": "stream",
     "text": [
      "WARNING: InputWarning: Invalid Gaia version number, defaulting to DR2. [astroquery.mast.collections]\n",
      " 75%|██████████████████████████████████████████████████████████████████████████████████████████████████████████████████████████████████▎                                          | 311/413 [38:05<10:53,  6.41s/it]"
     ]
    },
    {
     "name": "stdout",
     "output_type": "stream",
     "text": [
      "HAT-P-52\n"
     ]
    },
    {
     "name": "stderr",
     "output_type": "stream",
     "text": [
      " 76%|██████████████████████████████████████████████████████████████████████████████████████████████████████████████████████████████████▋                                          | 312/413 [38:12<11:09,  6.62s/it]"
     ]
    },
    {
     "name": "stdout",
     "output_type": "stream",
     "text": [
      "float() argument must be a string or a real number, not 'NoneType'\n",
      "Check exofop: https://exofop.ipac.caltech.edu/tess/target.php?id=HAT-P-52&json\n",
      "HAT-P-31\n",
      "Mstar=(1.15,0.16) Msun\n",
      "Rstar=(1.47,0.06) Rsun\n",
      "Rhostar=(0.37,0.07) rhosun\n",
      "teff=(6115,129) K\n",
      "logg=(4.17,0.08) cgs\n",
      "feh=(0.00,0.10) dex\n",
      "Querying Gaia sources 60\" around HAT-P-31: (271.5377, 26.4266) deg.\n"
     ]
    },
    {
     "name": "stderr",
     "output_type": "stream",
     "text": [
      "WARNING: InputWarning: Invalid Gaia version number, defaulting to DR2. [astroquery.mast.collections]\n",
      " 76%|███████████████████████████████████████████████████████████████████████████████████████████████████████████████████████████████████                                          | 313/413 [38:20<11:45,  7.06s/it]"
     ]
    },
    {
     "name": "stdout",
     "output_type": "stream",
     "text": [
      "CoRoT-27\n"
     ]
    },
    {
     "name": "stderr",
     "output_type": "stream",
     "text": [
      " 76%|███████████████████████████████████████████████████████████████████████████████████████████████████████████████████████████████████▌                                         | 314/413 [38:27<11:44,  7.11s/it]"
     ]
    },
    {
     "name": "stdout",
     "output_type": "stream",
     "text": [
      "float() argument must be a string or a real number, not 'NoneType'\n",
      "Check exofop: https://exofop.ipac.caltech.edu/tess/target.php?id=CoRoT-27&json\n",
      "MASCARA-4\n",
      "Mstar=(2.00,0.31) Msun\n",
      "Rstar=(1.84,0.06) Rsun\n",
      "Rhostar=(0.32,0.06) rhosun\n",
      "teff=(8181,143) K\n",
      "logg=(4.21,0.08) cgs\n",
      "feh=(0.00,0.10) dex\n",
      "Querying Gaia sources 60\" around MASCARA-4: (147.5801, -66.1139) deg.\n"
     ]
    },
    {
     "name": "stderr",
     "output_type": "stream",
     "text": [
      "WARNING: InputWarning: Invalid Gaia version number, defaulting to DR2. [astroquery.mast.collections]\n",
      " 76%|███████████████████████████████████████████████████████████████████████████████████████████████████████████████████████████████████▉                                         | 315/413 [38:36<12:41,  7.77s/it]"
     ]
    },
    {
     "name": "stdout",
     "output_type": "stream",
     "text": [
      "HATS-56\n",
      "Mstar=(1.31,0.22) Msun\n",
      "Rstar=(2.13,0.10) Rsun\n",
      "Rhostar=(0.14,0.03) rhosun\n",
      "teff=(6457,134) K\n",
      "logg=(3.90,0.09) cgs\n",
      "feh=(0.00,0.10) dex\n",
      "Querying Gaia sources 60\" around HATS-56: (180.1651, -45.7995) deg.\n"
     ]
    },
    {
     "name": "stderr",
     "output_type": "stream",
     "text": [
      "WARNING: InputWarning: Invalid Gaia version number, defaulting to DR2. [astroquery.mast.collections]\n",
      " 77%|████████████████████████████████████████████████████████████████████████████████████████████████████████████████████████████████████▎                                        | 316/413 [38:46<13:24,  8.29s/it]"
     ]
    },
    {
     "name": "stdout",
     "output_type": "stream",
     "text": [
      "WASP-35\n",
      "Mstar=(1.14,0.15) Msun\n",
      "Rstar=(1.10,0.05) Rsun\n",
      "Rhostar=(0.86,0.17) rhosun\n",
      "teff=(6072,125) K\n",
      "logg=(4.41,0.08) cgs\n",
      "feh=(0.00,0.10) dex\n",
      "Querying Gaia sources 60\" around WASP-35: (76.0819, -6.2298) deg.\n"
     ]
    },
    {
     "name": "stderr",
     "output_type": "stream",
     "text": [
      "WARNING: InputWarning: Invalid Gaia version number, defaulting to DR2. [astroquery.mast.collections]\n",
      " 77%|████████████████████████████████████████████████████████████████████████████████████████████████████████████████████████████████████▊                                        | 317/413 [38:54<13:17,  8.31s/it]"
     ]
    },
    {
     "name": "stdout",
     "output_type": "stream",
     "text": [
      "KELT-19 A\n",
      "Mstar=(1.70,0.28) Msun\n",
      "Rstar=(1.67,0.06) Rsun\n",
      "Rhostar=(0.36,0.07) rhosun\n",
      "teff=(7441,101) K\n",
      "logg=(4.22,0.08) cgs\n",
      "feh=(0.00,0.10) dex\n",
      "Querying Gaia sources 60\" around KELT-19 A: (111.5095, 7.6158) deg.\n"
     ]
    },
    {
     "name": "stderr",
     "output_type": "stream",
     "text": [
      "WARNING: InputWarning: Invalid Gaia version number, defaulting to DR2. [astroquery.mast.collections]\n",
      " 77%|█████████████████████████████████████████████████████████████████████████████████████████████████████████████████████████████████████▏                                       | 318/413 [39:02<12:57,  8.18s/it]"
     ]
    },
    {
     "name": "stdout",
     "output_type": "stream",
     "text": [
      "HATS-42\n"
     ]
    },
    {
     "name": "stderr",
     "output_type": "stream",
     "text": [
      " 77%|█████████████████████████████████████████████████████████████████████████████████████████████████████████████████████████████████████▌                                       | 319/413 [39:10<12:38,  8.07s/it]"
     ]
    },
    {
     "name": "stdout",
     "output_type": "stream",
     "text": [
      "float() argument must be a string or a real number, not 'NoneType'\n",
      "Check exofop: https://exofop.ipac.caltech.edu/tess/target.php?id=HATS-42&json\n",
      "K2-237\n",
      "Mstar=(1.20,0.18) Msun\n",
      "Rstar=(1.27,0.06) Rsun\n",
      "Rhostar=(0.58,0.12) rhosun\n",
      "teff=(6218,135) K\n",
      "logg=(4.31,0.09) cgs\n",
      "feh=(0.00,0.10) dex\n",
      "Querying Gaia sources 60\" around K2-237: (253.7688, -28.7106) deg.\n"
     ]
    },
    {
     "name": "stderr",
     "output_type": "stream",
     "text": [
      "WARNING: InputWarning: Invalid Gaia version number, defaulting to DR2. [astroquery.mast.collections]\n",
      " 77%|██████████████████████████████████████████████████████████████████████████████████████████████████████████████████████████████████████                                       | 320/413 [39:16<11:50,  7.64s/it]"
     ]
    },
    {
     "name": "stdout",
     "output_type": "stream",
     "text": [
      "HATS-52\n"
     ]
    },
    {
     "name": "stderr",
     "output_type": "stream",
     "text": [
      " 78%|██████████████████████████████████████████████████████████████████████████████████████████████████████████████████████████████████████▍                                      | 321/413 [39:24<11:34,  7.54s/it]"
     ]
    },
    {
     "name": "stdout",
     "output_type": "stream",
     "text": [
      "float() argument must be a string or a real number, not 'NoneType'\n",
      "Check exofop: https://exofop.ipac.caltech.edu/tess/target.php?id=HATS-52&json\n",
      "WASP-16\n",
      "Mstar=(1.02,0.12) Msun\n",
      "Rstar=(1.07,0.05) Rsun\n",
      "Rhostar=(0.83,0.16) rhosun\n",
      "teff=(5717,109) K\n",
      "logg=(4.39,0.07) cgs\n",
      "feh=(0.00,0.10) dex\n",
      "Querying Gaia sources 60\" around WASP-16: (214.6830, -20.2754) deg.\n"
     ]
    },
    {
     "name": "stderr",
     "output_type": "stream",
     "text": [
      "WARNING: InputWarning: Invalid Gaia version number, defaulting to DR2. [astroquery.mast.collections]\n",
      " 78%|██████████████████████████████████████████████████████████████████████████████████████████████████████████████████████████████████████▉                                      | 322/413 [39:32<11:42,  7.72s/it]"
     ]
    },
    {
     "name": "stdout",
     "output_type": "stream",
     "text": [
      "WASP-133\n",
      "Mstar=(1.00,0.13) Msun\n",
      "Rstar=(1.56,0.09) Rsun\n",
      "Rhostar=(0.26,0.06) rhosun\n",
      "teff=(5646,132) K\n",
      "logg=(4.05,0.08) cgs\n",
      "feh=(0.00,0.10) dex\n",
      "Querying Gaia sources 60\" around WASP-133: (314.5754, -35.7966) deg.\n"
     ]
    },
    {
     "name": "stderr",
     "output_type": "stream",
     "text": [
      "WARNING: InputWarning: Invalid Gaia version number, defaulting to DR2. [astroquery.mast.collections]\n",
      " 78%|███████████████████████████████████████████████████████████████████████████████████████████████████████████████████████████████████████▎                                     | 323/413 [39:40<11:34,  7.71s/it]"
     ]
    },
    {
     "name": "stdout",
     "output_type": "stream",
     "text": [
      "TOI-163\n",
      "Mstar=(1.41,0.24) Msun\n",
      "Rstar=(1.66,0.08) Rsun\n",
      "Rhostar=(0.31,0.07) rhosun\n",
      "teff=(6671,131) K\n",
      "logg=(4.14,0.09) cgs\n",
      "feh=(0.00,0.10) dex\n",
      "Querying Gaia sources 60\" around TOI-163: (79.7683, -71.8955) deg.\n"
     ]
    },
    {
     "name": "stderr",
     "output_type": "stream",
     "text": [
      "WARNING: InputWarning: Invalid Gaia version number, defaulting to DR2. [astroquery.mast.collections]\n",
      " 78%|███████████████████████████████████████████████████████████████████████████████████████████████████████████████████████████████████████▋                                     | 324/413 [39:46<10:59,  7.41s/it]"
     ]
    },
    {
     "name": "stdout",
     "output_type": "stream",
     "text": [
      "WASP-190\n",
      "Mstar=(1.36,0.22) Msun\n",
      "Rstar=(1.72,0.08) Rsun\n",
      "Rhostar=(0.27,0.06) rhosun\n",
      "teff=(6561,138) K\n",
      "logg=(4.10,0.09) cgs\n",
      "feh=(0.00,0.10) dex\n",
      "Querying Gaia sources 60\" around WASP-190: (7.7095, -40.5735) deg.\n"
     ]
    },
    {
     "name": "stderr",
     "output_type": "stream",
     "text": [
      "WARNING: InputWarning: Invalid Gaia version number, defaulting to DR2. [astroquery.mast.collections]\n",
      " 79%|████████████████████████████████████████████████████████████████████████████████████████████████████████████████████████████████████████▏                                    | 325/413 [39:54<11:01,  7.52s/it]"
     ]
    },
    {
     "name": "stdout",
     "output_type": "stream",
     "text": [
      "CoRoT-18\n"
     ]
    },
    {
     "name": "stderr",
     "output_type": "stream",
     "text": [
      " 79%|████████████████████████████████████████████████████████████████████████████████████████████████████████████████████████████████████████▌                                    | 326/413 [40:02<10:58,  7.57s/it]"
     ]
    },
    {
     "name": "stdout",
     "output_type": "stream",
     "text": [
      "float() argument must be a string or a real number, not 'NoneType'\n",
      "Check exofop: https://exofop.ipac.caltech.edu/tess/target.php?id=CoRoT-18&json\n",
      "TOI-3331 A\n",
      "Mstar=(0.98,0.13) Msun\n",
      "Rstar=(0.96,0.05) Rsun\n",
      "Rhostar=(1.12,0.23) rhosun\n",
      "teff=(5544,131) K\n",
      "logg=(4.47,0.08) cgs\n",
      "feh=(0.00,0.10) dex\n",
      "Querying Gaia sources 60\" around TOI-3331 A: (271.3242, -34.1072) deg.\n"
     ]
    },
    {
     "name": "stderr",
     "output_type": "stream",
     "text": [
      "WARNING: InputWarning: Invalid Gaia version number, defaulting to DR2. [astroquery.mast.collections]\n",
      " 79%|████████████████████████████████████████████████████████████████████████████████████████████████████████████████████████████████████████▉                                    | 327/413 [40:13<12:20,  8.61s/it]"
     ]
    },
    {
     "name": "stdout",
     "output_type": "stream",
     "text": [
      "WASP-144\n",
      "Mstar=(0.81,0.10) Msun\n",
      "Rstar=(1.21,0.09) Rsun\n",
      "Rhostar=(0.46,0.11) rhosun\n",
      "teff=(4927,133) K\n",
      "logg=(4.18,0.09) cgs\n",
      "feh=(0.00,0.10) dex\n",
      "Querying Gaia sources 60\" around WASP-144: (320.7629, -40.0484) deg.\n"
     ]
    },
    {
     "name": "stderr",
     "output_type": "stream",
     "text": [
      "WARNING: InputWarning: Invalid Gaia version number, defaulting to DR2. [astroquery.mast.collections]\n",
      " 79%|█████████████████████████████████████████████████████████████████████████████████████████████████████████████████████████████████████████▍                                   | 328/413 [40:21<11:55,  8.42s/it]"
     ]
    },
    {
     "name": "stdout",
     "output_type": "stream",
     "text": [
      "WASP-172\n",
      "Mstar=(1.61,0.28) Msun\n",
      "Rstar=(2.09,0.10) Rsun\n",
      "Rhostar=(0.18,0.04) rhosun\n",
      "teff=(7204,144) K\n",
      "logg=(4.00,0.09) cgs\n",
      "feh=(0.00,0.10) dex\n",
      "Querying Gaia sources 60\" around WASP-172: (199.4337, -47.2376) deg.\n"
     ]
    },
    {
     "name": "stderr",
     "output_type": "stream",
     "text": [
      "WARNING: InputWarning: Invalid Gaia version number, defaulting to DR2. [astroquery.mast.collections]\n",
      " 80%|█████████████████████████████████████████████████████████████████████████████████████████████████████████████████████████████████████████▊                                   | 329/413 [40:30<12:00,  8.58s/it]"
     ]
    },
    {
     "name": "stdout",
     "output_type": "stream",
     "text": [
      "Qatar-8\n",
      "Mstar=(1.04,0.13) Msun\n",
      "Rstar=(1.32,0.07) Rsun\n",
      "Rhostar=(0.45,0.09) rhosun\n",
      "teff=(5783,125) K\n",
      "logg=(4.21,0.07) cgs\n",
      "feh=(0.00,0.10) dex\n",
      "Querying Gaia sources 60\" around Qatar-8: (157.4123, 70.5271) deg.\n"
     ]
    },
    {
     "name": "stderr",
     "output_type": "stream",
     "text": [
      "WARNING: InputWarning: Invalid Gaia version number, defaulting to DR2. [astroquery.mast.collections]\n",
      " 80%|██████████████████████████████████████████████████████████████████████████████████████████████████████████████████████████████████████████▏                                  | 330/413 [40:38<11:34,  8.37s/it]"
     ]
    },
    {
     "name": "stdout",
     "output_type": "stream",
     "text": [
      "WASP-178\n",
      "Mstar=(2.38,0.33) Msun\n",
      "Rstar=(1.76,0.07) Rsun\n",
      "Rhostar=(0.44,0.08) rhosun\n",
      "teff=(9364,179) K\n",
      "logg=(4.32,0.07) cgs\n",
      "feh=(0.00,0.10) dex\n",
      "Querying Gaia sources 60\" around WASP-178: (227.2703, -42.7050) deg.\n"
     ]
    },
    {
     "name": "stderr",
     "output_type": "stream",
     "text": [
      "WARNING: InputWarning: Invalid Gaia version number, defaulting to DR2. [astroquery.mast.collections]\n",
      " 80%|██████████████████████████████████████████████████████████████████████████████████████████████████████████████████████████████████████████▋                                  | 331/413 [40:46<11:30,  8.42s/it]"
     ]
    },
    {
     "name": "stdout",
     "output_type": "stream",
     "text": [
      "WASP-100\n",
      "Mstar=(1.44,0.24) Msun\n",
      "Rstar=(1.77,0.08) Rsun\n",
      "Rhostar=(0.26,0.06) rhosun\n",
      "teff=(6733,132) K\n",
      "logg=(4.10,0.09) cgs\n",
      "feh=(0.00,0.10) dex\n",
      "Querying Gaia sources 60\" around WASP-100: (68.9598, -64.0270) deg.\n"
     ]
    },
    {
     "name": "stderr",
     "output_type": "stream",
     "text": [
      "WARNING: InputWarning: Invalid Gaia version number, defaulting to DR2. [astroquery.mast.collections]\n",
      " 80%|███████████████████████████████████████████████████████████████████████████████████████████████████████████████████████████████████████████                                  | 332/413 [40:56<11:49,  8.76s/it]"
     ]
    },
    {
     "name": "stdout",
     "output_type": "stream",
     "text": [
      "TOI-3023\n",
      "Mstar=(0.97,0.12) Msun\n",
      "Rstar=(1.69,0.09) Rsun\n",
      "Rhostar=(0.20,0.04) rhosun\n",
      "teff=(5512,127) K\n",
      "logg=(3.97,0.08) cgs\n",
      "feh=(0.00,0.10) dex\n",
      "Querying Gaia sources 60\" around TOI-3023: (165.3158, -72.3567) deg.\n"
     ]
    },
    {
     "name": "stderr",
     "output_type": "stream",
     "text": [
      "WARNING: InputWarning: Invalid Gaia version number, defaulting to DR2. [astroquery.mast.collections]\n",
      " 81%|███████████████████████████████████████████████████████████████████████████████████████████████████████████████████████████████████████████▍                                 | 333/413 [41:01<10:19,  7.74s/it]"
     ]
    },
    {
     "name": "stdout",
     "output_type": "stream",
     "text": [
      "WASP-22\n",
      "Mstar=(1.17,0.16) Msun\n",
      "Rstar=(1.19,0.05) Rsun\n",
      "Rhostar=(0.69,0.13) rhosun\n",
      "teff=(6153,108) K\n",
      "logg=(4.35,0.08) cgs\n",
      "feh=(0.00,0.10) dex\n",
      "Querying Gaia sources 60\" around WASP-22: (52.8180, -23.8198) deg.\n"
     ]
    },
    {
     "name": "stderr",
     "output_type": "stream",
     "text": [
      "WARNING: InputWarning: Invalid Gaia version number, defaulting to DR2. [astroquery.mast.collections]\n",
      " 81%|███████████████████████████████████████████████████████████████████████████████████████████████████████████████████████████████████████████▉                                 | 334/413 [41:09<10:17,  7.82s/it]"
     ]
    },
    {
     "name": "stdout",
     "output_type": "stream",
     "text": [
      "WASP-2\n",
      "Mstar=(0.87,0.10) Msun\n",
      "Rstar=(0.85,0.04) Rsun\n",
      "Rhostar=(1.39,0.27) rhosun\n",
      "teff=(5147,99) K\n",
      "logg=(4.51,0.07) cgs\n",
      "feh=(0.00,0.10) dex\n",
      "Querying Gaia sources 60\" around WASP-2: (307.7256, 6.4293) deg.\n"
     ]
    },
    {
     "name": "stderr",
     "output_type": "stream",
     "text": [
      "WARNING: InputWarning: Invalid Gaia version number, defaulting to DR2. [astroquery.mast.collections]\n",
      " 81%|████████████████████████████████████████████████████████████████████████████████████████████████████████████████████████████████████████████▎                                | 335/413 [41:17<10:15,  7.89s/it]"
     ]
    },
    {
     "name": "stdout",
     "output_type": "stream",
     "text": [
      "WASP-184\n",
      "Mstar=(1.15,0.16) Msun\n",
      "Rstar=(1.65,0.09) Rsun\n",
      "Rhostar=(0.26,0.05) rhosun\n",
      "teff=(6116,125) K\n",
      "logg=(4.07,0.08) cgs\n",
      "feh=(0.00,0.10) dex\n",
      "Querying Gaia sources 60\" around WASP-184: (209.5170, -30.3482) deg.\n"
     ]
    },
    {
     "name": "stderr",
     "output_type": "stream",
     "text": [
      "WARNING: InputWarning: Invalid Gaia version number, defaulting to DR2. [astroquery.mast.collections]\n",
      " 81%|████████████████████████████████████████████████████████████████████████████████████████████████████████████████████████████████████████████▋                                | 336/413 [41:25<10:17,  8.02s/it]"
     ]
    },
    {
     "name": "stdout",
     "output_type": "stream",
     "text": [
      "TOI-2587 A\n",
      "Mstar=(1.04,0.13) Msun\n",
      "Rstar=(1.72,0.10) Rsun\n",
      "Rhostar=(0.21,0.04) rhosun\n",
      "teff=(5776,137) K\n",
      "logg=(3.98,0.08) cgs\n",
      "feh=(0.00,0.10) dex\n",
      "Querying Gaia sources 60\" around TOI-2587 A: (115.9317, -1.0733) deg.\n"
     ]
    },
    {
     "name": "stderr",
     "output_type": "stream",
     "text": [
      "WARNING: InputWarning: Invalid Gaia version number, defaulting to DR2. [astroquery.mast.collections]\n",
      " 82%|█████████████████████████████████████████████████████████████████████████████████████████████████████████████████████████████████████████████▏                               | 337/413 [41:36<11:07,  8.78s/it]"
     ]
    },
    {
     "name": "stdout",
     "output_type": "stream",
     "text": [
      "HATS-27\n",
      "Mstar=(1.41,0.24) Msun\n",
      "Rstar=(1.68,0.11) Rsun\n",
      "Rhostar=(0.30,0.08) rhosun\n",
      "teff=(6669,130) K\n",
      "logg=(4.14,0.10) cgs\n",
      "feh=(0.00,0.10) dex\n",
      "Querying Gaia sources 60\" around HATS-27: (193.5525, -46.5877) deg.\n"
     ]
    },
    {
     "name": "stderr",
     "output_type": "stream",
     "text": [
      "WARNING: InputWarning: Invalid Gaia version number, defaulting to DR2. [astroquery.mast.collections]\n",
      " 82%|█████████████████████████████████████████████████████████████████████████████████████████████████████████████████████████████████████████████▌                               | 338/413 [41:45<11:12,  8.97s/it]"
     ]
    },
    {
     "name": "stdout",
     "output_type": "stream",
     "text": [
      "WASP-88\n",
      "Mstar=(1.23,0.17) Msun\n",
      "Rstar=(1.99,0.09) Rsun\n",
      "Rhostar=(0.16,0.03) rhosun\n",
      "teff=(6282,106) K\n",
      "logg=(3.93,0.08) cgs\n",
      "feh=(0.00,0.10) dex\n",
      "Querying Gaia sources 60\" around WASP-88: (309.5112, -48.4621) deg.\n"
     ]
    },
    {
     "name": "stderr",
     "output_type": "stream",
     "text": [
      "WARNING: InputWarning: Invalid Gaia version number, defaulting to DR2. [astroquery.mast.collections]\n",
      " 82%|██████████████████████████████████████████████████████████████████████████████████████████████████████████████████████████████████████████████                               | 339/413 [41:53<10:40,  8.65s/it]"
     ]
    },
    {
     "name": "stdout",
     "output_type": "stream",
     "text": [
      "WASP-99\n",
      "Mstar=(1.14,0.16) Msun\n",
      "Rstar=(1.71,0.08) Rsun\n",
      "Rhostar=(0.23,0.04) rhosun\n",
      "teff=(6079,132) K\n",
      "logg=(4.03,0.08) cgs\n",
      "feh=(0.00,0.10) dex\n",
      "Querying Gaia sources 60\" around WASP-99: (39.8977, -50.0082) deg.\n"
     ]
    },
    {
     "name": "stderr",
     "output_type": "stream",
     "text": [
      "WARNING: InputWarning: Invalid Gaia version number, defaulting to DR2. [astroquery.mast.collections]\n",
      " 82%|██████████████████████████████████████████████████████████████████████████████████████████████████████████████████████████████████████████████▍                              | 340/413 [42:01<10:19,  8.49s/it]"
     ]
    },
    {
     "name": "stdout",
     "output_type": "stream",
     "text": [
      "HAT-P-27\n",
      "Mstar=(0.92,0.11) Msun\n",
      "Rstar=(0.86,0.04) Rsun\n",
      "Rhostar=(1.42,0.27) rhosun\n",
      "teff=(5316,105) K\n",
      "logg=(4.53,0.07) cgs\n",
      "feh=(0.00,0.10) dex\n",
      "Querying Gaia sources 60\" around HAT-P-27: (222.7673, 5.9474) deg.\n"
     ]
    },
    {
     "name": "stderr",
     "output_type": "stream",
     "text": [
      "WARNING: InputWarning: Invalid Gaia version number, defaulting to DR2. [astroquery.mast.collections]\n",
      " 83%|██████████████████████████████████████████████████████████████████████████████████████████████████████████████████████████████████████████████▊                              | 341/413 [42:09<09:57,  8.30s/it]"
     ]
    },
    {
     "name": "stdout",
     "output_type": "stream",
     "text": [
      "HAT-P-34\n",
      "Mstar=(1.34,0.22) Msun\n",
      "Rstar=(1.57,0.07) Rsun\n",
      "Rhostar=(0.35,0.07) rhosun\n",
      "teff=(6509,117) K\n",
      "logg=(4.17,0.09) cgs\n",
      "feh=(0.00,0.10) dex\n",
      "Querying Gaia sources 60\" around HAT-P-34: (303.1954, 18.1048) deg.\n"
     ]
    },
    {
     "name": "stderr",
     "output_type": "stream",
     "text": [
      "WARNING: InputWarning: Invalid Gaia version number, defaulting to DR2. [astroquery.mast.collections]\n",
      " 83%|███████████████████████████████████████████████████████████████████████████████████████████████████████████████████████████████████████████████▎                             | 342/413 [42:19<10:12,  8.63s/it]"
     ]
    },
    {
     "name": "stdout",
     "output_type": "stream",
     "text": [
      "HAT-P-35\n",
      "Mstar=(1.18,0.17) Msun\n",
      "Rstar=(1.36,0.07) Rsun\n",
      "Rhostar=(0.47,0.10) rhosun\n",
      "teff=(6178,105) K\n",
      "logg=(4.24,0.08) cgs\n",
      "feh=(0.00,0.10) dex\n",
      "Querying Gaia sources 60\" around HAT-P-35: (123.2507, 4.7870) deg.\n"
     ]
    },
    {
     "name": "stderr",
     "output_type": "stream",
     "text": [
      "WARNING: InputWarning: Invalid Gaia version number, defaulting to DR2. [astroquery.mast.collections]\n",
      " 83%|███████████████████████████████████████████████████████████████████████████████████████████████████████████████████████████████████████████████▋                             | 343/413 [42:27<09:48,  8.40s/it]"
     ]
    },
    {
     "name": "stdout",
     "output_type": "stream",
     "text": [
      "Kepler-490\n"
     ]
    },
    {
     "name": "stderr",
     "output_type": "stream",
     "text": [
      " 83%|████████████████████████████████████████████████████████████████████████████████████████████████████████████████████████████████████████████████                             | 344/413 [42:30<08:03,  7.00s/it]"
     ]
    },
    {
     "name": "stdout",
     "output_type": "stream",
     "text": [
      "float() argument must be a string or a real number, not 'NoneType'\n",
      "Check exofop: https://exofop.ipac.caltech.edu/tess/target.php?id=Kepler-490&json\n",
      "CoRoT-19\n"
     ]
    },
    {
     "name": "stderr",
     "output_type": "stream",
     "text": [
      " 84%|████████████████████████████████████████████████████████████████████████████████████████████████████████████████████████████████████████████████▌                            | 345/413 [42:38<08:11,  7.23s/it]"
     ]
    },
    {
     "name": "stdout",
     "output_type": "stream",
     "text": [
      "float() argument must be a string or a real number, not 'NoneType'\n",
      "Check exofop: https://exofop.ipac.caltech.edu/tess/target.php?id=CoRoT-19&json\n",
      "CoRoT-11\n",
      "Mstar=(1.26,0.19) Msun\n",
      "Rstar=(1.59,0.11) Rsun\n",
      "Rhostar=(0.32,0.08) rhosun\n",
      "teff=(6343,112) K\n",
      "logg=(4.14,0.09) cgs\n",
      "feh=(0.00,0.10) dex\n",
      "Querying Gaia sources 60\" around CoRoT-11: (280.6873, 5.9377) deg.\n"
     ]
    },
    {
     "name": "stderr",
     "output_type": "stream",
     "text": [
      "WARNING: InputWarning: Invalid Gaia version number, defaulting to DR2. [astroquery.mast.collections]\n",
      " 84%|████████████████████████████████████████████████████████████████████████████████████████████████████████████████████████████████████████████████▉                            | 346/413 [42:48<08:49,  7.90s/it]"
     ]
    },
    {
     "name": "stdout",
     "output_type": "stream",
     "text": [
      "HAT-P-36\n",
      "Mstar=(0.98,0.12) Msun\n",
      "Rstar=(1.07,0.05) Rsun\n",
      "Rhostar=(0.79,0.15) rhosun\n",
      "teff=(5555,116) K\n",
      "logg=(4.37,0.08) cgs\n",
      "feh=(0.00,0.10) dex\n",
      "Querying Gaia sources 60\" around HAT-P-36: (188.2662, 44.9154) deg.\n"
     ]
    },
    {
     "name": "stderr",
     "output_type": "stream",
     "text": [
      "WARNING: InputWarning: Invalid Gaia version number, defaulting to DR2. [astroquery.mast.collections]\n",
      " 84%|█████████████████████████████████████████████████████████████████████████████████████████████████████████████████████████████████████████████████▎                           | 347/413 [42:55<08:38,  7.85s/it]"
     ]
    },
    {
     "name": "stdout",
     "output_type": "stream",
     "text": [
      "HAT-P-13\n",
      "Mstar=(1.02,0.13) Msun\n",
      "Rstar=(1.83,0.09) Rsun\n",
      "Rhostar=(0.17,0.03) rhosun\n",
      "teff=(5720,119) K\n",
      "logg=(3.92,0.08) cgs\n",
      "feh=(0.00,0.10) dex\n",
      "Querying Gaia sources 60\" around HAT-P-13: (129.8824, 47.3519) deg.\n"
     ]
    },
    {
     "name": "stderr",
     "output_type": "stream",
     "text": [
      "WARNING: InputWarning: Invalid Gaia version number, defaulting to DR2. [astroquery.mast.collections]\n",
      " 84%|█████████████████████████████████████████████████████████████████████████████████████████████████████████████████████████████████████████████████▊                           | 348/413 [43:03<08:29,  7.84s/it]"
     ]
    },
    {
     "name": "stdout",
     "output_type": "stream",
     "text": [
      "WASP-66\n",
      "Mstar=(1.56,0.25) Msun\n",
      "Rstar=(1.48,0.07) Rsun\n",
      "Rhostar=(0.48,0.11) rhosun\n",
      "teff=(7051,135) K\n",
      "logg=(4.29,0.09) cgs\n",
      "feh=(0.00,0.10) dex\n",
      "Querying Gaia sources 60\" around WASP-66: (158.2250, -34.9899) deg.\n"
     ]
    },
    {
     "name": "stderr",
     "output_type": "stream",
     "text": [
      "WARNING: InputWarning: Invalid Gaia version number, defaulting to DR2. [astroquery.mast.collections]\n",
      " 85%|██████████████████████████████████████████████████████████████████████████████████████████████████████████████████████████████████████████████████▏                          | 349/413 [43:12<08:40,  8.13s/it]"
     ]
    },
    {
     "name": "stdout",
     "output_type": "stream",
     "text": [
      "WASP-93\n",
      "Mstar=(1.42,0.25) Msun\n",
      "Rstar=(1.61,0.08) Rsun\n",
      "Rhostar=(0.34,0.08) rhosun\n",
      "teff=(6695,131) K\n",
      "logg=(4.17,0.09) cgs\n",
      "feh=(0.00,0.10) dex\n",
      "Querying Gaia sources 60\" around WASP-93: (9.4587, 51.2888) deg.\n"
     ]
    },
    {
     "name": "stderr",
     "output_type": "stream",
     "text": [
      "WARNING: InputWarning: Invalid Gaia version number, defaulting to DR2. [astroquery.mast.collections]\n",
      " 85%|██████████████████████████████████████████████████████████████████████████████████████████████████████████████████████████████████████████████████▌                          | 350/413 [43:20<08:33,  8.15s/it]"
     ]
    },
    {
     "name": "stdout",
     "output_type": "stream",
     "text": [
      "HATS-28\n"
     ]
    },
    {
     "name": "stderr",
     "output_type": "stream",
     "text": [
      " 85%|███████████████████████████████████████████████████████████████████████████████████████████████████████████████████████████████████████████████████                          | 351/413 [43:27<08:09,  7.90s/it]"
     ]
    },
    {
     "name": "stdout",
     "output_type": "stream",
     "text": [
      "float() argument must be a string or a real number, not 'NoneType'\n",
      "Check exofop: https://exofop.ipac.caltech.edu/tess/target.php?id=HATS-28&json\n",
      "HATS-57\n",
      "Mstar=(0.99,0.13) Msun\n",
      "Rstar=(0.97,0.05) Rsun\n",
      "Rhostar=(1.08,0.22) rhosun\n",
      "teff=(5593,124) K\n",
      "logg=(4.46,0.08) cgs\n",
      "feh=(0.00,0.10) dex\n",
      "Querying Gaia sources 60\" around HATS-57: (60.9483, -19.0568) deg.\n"
     ]
    },
    {
     "name": "stderr",
     "output_type": "stream",
     "text": [
      "WARNING: InputWarning: Invalid Gaia version number, defaulting to DR2. [astroquery.mast.collections]\n",
      " 85%|███████████████████████████████████████████████████████████████████████████████████████████████████████████████████████████████████████████████████▍                         | 352/413 [43:35<07:57,  7.83s/it]"
     ]
    },
    {
     "name": "stdout",
     "output_type": "stream",
     "text": [
      "HATS-10\n",
      "Mstar=(1.07,0.14) Msun\n",
      "Rstar=(1.23,0.06) Rsun\n",
      "Rhostar=(0.57,0.11) rhosun\n",
      "teff=(5909,131) K\n",
      "logg=(4.29,0.08) cgs\n",
      "feh=(0.00,0.10) dex\n",
      "Querying Gaia sources 60\" around HATS-10: (294.3068, -22.2045) deg.\n"
     ]
    },
    {
     "name": "stderr",
     "output_type": "stream",
     "text": [
      "WARNING: InputWarning: Invalid Gaia version number, defaulting to DR2. [astroquery.mast.collections]\n",
      " 85%|███████████████████████████████████████████████████████████████████████████████████████████████████████████████████████████████████████████████████▊                         | 353/413 [43:44<08:05,  8.08s/it]"
     ]
    },
    {
     "name": "stdout",
     "output_type": "stream",
     "text": [
      "WASP-163\n",
      "Mstar=(1.32,0.33) Msun\n",
      "Rstar=(1.15,0.07) Rsun\n",
      "Rhostar=(0.88,0.27) rhosun\n",
      "teff=(6472,592) K\n",
      "logg=(4.44,0.15) cgs\n",
      "feh=(0.00,0.10) dex\n",
      "Querying Gaia sources 60\" around WASP-163: (256.5376, -10.4130) deg.\n"
     ]
    },
    {
     "name": "stderr",
     "output_type": "stream",
     "text": [
      "WARNING: InputWarning: Invalid Gaia version number, defaulting to DR2. [astroquery.mast.collections]\n",
      " 86%|████████████████████████████████████████████████████████████████████████████████████████████████████████████████████████████████████████████████████▎                        | 354/413 [43:52<07:55,  8.07s/it]"
     ]
    },
    {
     "name": "stdout",
     "output_type": "stream",
     "text": [
      "TOI-640\n",
      "Mstar=(1.30,0.21) Msun\n",
      "Rstar=(2.09,0.09) Rsun\n",
      "Rhostar=(0.14,0.03) rhosun\n",
      "teff=(6442,136) K\n",
      "logg=(3.91,0.09) cgs\n",
      "feh=(0.00,0.10) dex\n",
      "Querying Gaia sources 60\" around TOI-640: (99.7346, -36.6461) deg.\n"
     ]
    },
    {
     "name": "stderr",
     "output_type": "stream",
     "text": [
      "WARNING: InputWarning: Invalid Gaia version number, defaulting to DR2. [astroquery.mast.collections]\n",
      " 86%|████████████████████████████████████████████████████████████████████████████████████████████████████████████████████████████████████████████████████▋                        | 355/413 [43:57<07:02,  7.28s/it]"
     ]
    },
    {
     "name": "stdout",
     "output_type": "stream",
     "text": [
      "HAT-P-62\n",
      "Mstar=(0.99,0.13) Msun\n",
      "Rstar=(1.24,0.07) Rsun\n",
      "Rhostar=(0.52,0.11) rhosun\n",
      "teff=(5596,182) K\n",
      "logg=(4.25,0.08) cgs\n",
      "feh=(0.00,0.10) dex\n",
      "Querying Gaia sources 60\" around HAT-P-62: (74.5044, 48.3009) deg.\n"
     ]
    },
    {
     "name": "stderr",
     "output_type": "stream",
     "text": [
      "WARNING: InputWarning: Invalid Gaia version number, defaulting to DR2. [astroquery.mast.collections]\n",
      " 86%|█████████████████████████████████████████████████████████████████████████████████████████████████████████████████████████████████████████████████████                        | 356/413 [44:06<07:19,  7.71s/it]"
     ]
    },
    {
     "name": "stdout",
     "output_type": "stream",
     "text": [
      "TOI-2046\n",
      "Mstar=(1.14,0.15) Msun\n",
      "Rstar=(1.24,0.06) Rsun\n",
      "Rhostar=(0.59,0.11) rhosun\n",
      "teff=(6081,138) K\n",
      "logg=(4.31,0.08) cgs\n",
      "feh=(0.00,0.10) dex\n",
      "Querying Gaia sources 60\" around TOI-2046: (16.1849, 74.3313) deg.\n"
     ]
    },
    {
     "name": "stderr",
     "output_type": "stream",
     "text": [
      "WARNING: InputWarning: Invalid Gaia version number, defaulting to DR2. [astroquery.mast.collections]\n",
      " 86%|█████████████████████████████████████████████████████████████████████████████████████████████████████████████████████████████████████████████████████▌                       | 357/413 [44:11<06:33,  7.02s/it]"
     ]
    },
    {
     "name": "stdout",
     "output_type": "stream",
     "text": [
      "WASP-75\n",
      "Mstar=(1.14,0.15) Msun\n",
      "Rstar=(1.28,0.06) Rsun\n",
      "Rhostar=(0.55,0.11) rhosun\n",
      "teff=(6089,123) K\n",
      "logg=(4.28,0.08) cgs\n",
      "feh=(0.00,0.10) dex\n",
      "Querying Gaia sources 60\" around WASP-75: (342.3859, -10.6755) deg.\n"
     ]
    },
    {
     "name": "stderr",
     "output_type": "stream",
     "text": [
      "WARNING: InputWarning: Invalid Gaia version number, defaulting to DR2. [astroquery.mast.collections]\n",
      " 87%|█████████████████████████████████████████████████████████████████████████████████████████████████████████████████████████████████████████████████████▉                       | 358/413 [44:20<06:52,  7.50s/it]"
     ]
    },
    {
     "name": "stdout",
     "output_type": "stream",
     "text": [
      "KELT-17\n",
      "Mstar=(1.73,0.29) Msun\n",
      "Rstar=(1.70,0.06) Rsun\n",
      "Rhostar=(0.35,0.07) rhosun\n",
      "teff=(7511,130) K\n",
      "logg=(4.21,0.08) cgs\n",
      "feh=(0.00,0.10) dex\n",
      "Querying Gaia sources 60\" around KELT-17: (125.6174, 13.7353) deg.\n"
     ]
    },
    {
     "name": "stderr",
     "output_type": "stream",
     "text": [
      "WARNING: InputWarning: Invalid Gaia version number, defaulting to DR2. [astroquery.mast.collections]\n",
      " 87%|██████████████████████████████████████████████████████████████████████████████████████████████████████████████████████████████████████████████████████▍                      | 359/413 [44:28<06:50,  7.60s/it]"
     ]
    },
    {
     "name": "stdout",
     "output_type": "stream",
     "text": [
      "HATS-38\n",
      "Mstar=(1.01,0.13) Msun\n",
      "Rstar=(1.12,0.06) Rsun\n",
      "Rhostar=(0.73,0.15) rhosun\n",
      "teff=(5677,129) K\n",
      "logg=(4.35,0.08) cgs\n",
      "feh=(0.00,0.10) dex\n",
      "Querying Gaia sources 60\" around HATS-38: (154.2711, -25.2763) deg.\n"
     ]
    },
    {
     "name": "stderr",
     "output_type": "stream",
     "text": [
      "WARNING: InputWarning: Invalid Gaia version number, defaulting to DR2. [astroquery.mast.collections]\n",
      " 87%|██████████████████████████████████████████████████████████████████████████████████████████████████████████████████████████████████████████████████████▊                      | 360/413 [44:36<06:45,  7.66s/it]"
     ]
    },
    {
     "name": "stdout",
     "output_type": "stream",
     "text": [
      "TOI-778\n",
      "Mstar=(1.43,0.24) Msun\n",
      "Rstar=(1.68,0.07) Rsun\n",
      "Rhostar=(0.30,0.06) rhosun\n",
      "teff=(6715,128) K\n",
      "logg=(4.14,0.09) cgs\n",
      "feh=(0.00,0.10) dex\n",
      "Querying Gaia sources 60\" around TOI-778: (199.3339, -15.2737) deg.\n"
     ]
    },
    {
     "name": "stderr",
     "output_type": "stream",
     "text": [
      "WARNING: InputWarning: Invalid Gaia version number, defaulting to DR2. [astroquery.mast.collections]\n",
      " 87%|███████████████████████████████████████████████████████████████████████████████████████████████████████████████████████████████████████████████████████▏                     | 361/413 [44:41<06:04,  7.02s/it]"
     ]
    },
    {
     "name": "stdout",
     "output_type": "stream",
     "text": [
      "TOI-169\n",
      "Mstar=(1.05,0.13) Msun\n",
      "Rstar=(1.30,0.06) Rsun\n",
      "Rhostar=(0.48,0.09) rhosun\n",
      "teff=(5817,127) K\n",
      "logg=(4.23,0.07) cgs\n",
      "feh=(0.00,0.10) dex\n",
      "Querying Gaia sources 60\" around TOI-169: (16.7787, -75.1989) deg.\n"
     ]
    },
    {
     "name": "stderr",
     "output_type": "stream",
     "text": [
      "WARNING: InputWarning: Invalid Gaia version number, defaulting to DR2. [astroquery.mast.collections]\n",
      " 88%|███████████████████████████████████████████████████████████████████████████████████████████████████████████████████████████████████████████████████████▋                     | 362/413 [44:46<05:25,  6.38s/it]"
     ]
    },
    {
     "name": "stdout",
     "output_type": "stream",
     "text": [
      "K2-52\n"
     ]
    },
    {
     "name": "stderr",
     "output_type": "stream",
     "text": [
      " 88%|████████████████████████████████████████████████████████████████████████████████████████████████████████████████████████████████████████████████████████                     | 363/413 [44:49<04:33,  5.46s/it]"
     ]
    },
    {
     "name": "stdout",
     "output_type": "stream",
     "text": [
      "float() argument must be a string or a real number, not 'NoneType'\n",
      "Check exofop: https://exofop.ipac.caltech.edu/tess/target.php?id=K2-52&json\n",
      "WASP-118\n",
      "Mstar=(1.29,0.20) Msun\n",
      "Rstar=(1.81,0.10) Rsun\n",
      "Rhostar=(0.22,0.05) rhosun\n",
      "teff=(6404,123) K\n",
      "logg=(4.03,0.09) cgs\n",
      "feh=(0.00,0.10) dex\n",
      "Querying Gaia sources 60\" around WASP-118: (19.5506, 2.7028) deg.\n"
     ]
    },
    {
     "name": "stderr",
     "output_type": "stream",
     "text": [
      "WARNING: InputWarning: Invalid Gaia version number, defaulting to DR2. [astroquery.mast.collections]\n",
      " 88%|████████████████████████████████████████████████████████████████████████████████████████████████████████████████████████████████████████████████████████▍                    | 364/413 [44:57<05:04,  6.21s/it]"
     ]
    },
    {
     "name": "stdout",
     "output_type": "stream",
     "text": [
      "K2-308\n"
     ]
    },
    {
     "name": "stderr",
     "output_type": "stream",
     "text": [
      " 88%|████████████████████████████████████████████████████████████████████████████████████████████████████████████████████████████████████████████████████████▉                    | 365/413 [45:01<04:21,  5.44s/it]"
     ]
    },
    {
     "name": "stdout",
     "output_type": "stream",
     "text": [
      "float() argument must be a string or a real number, not 'NoneType'\n",
      "Check exofop: https://exofop.ipac.caltech.edu/tess/target.php?id=K2-308&json\n",
      "K2-31\n",
      "Mstar=(0.92,0.11) Msun\n",
      "Rstar=(1.03,0.06) Rsun\n",
      "Rhostar=(0.85,0.17) rhosun\n",
      "teff=(5340,97) K\n",
      "logg=(4.38,0.08) cgs\n",
      "feh=(0.00,0.10) dex\n",
      "Querying Gaia sources 60\" around K2-31: (245.4406, -23.5483) deg.\n"
     ]
    },
    {
     "name": "stderr",
     "output_type": "stream",
     "text": [
      "WARNING: InputWarning: Invalid Gaia version number, defaulting to DR2. [astroquery.mast.collections]\n",
      " 89%|█████████████████████████████████████████████████████████████████████████████████████████████████████████████████████████████████████████████████████████▎                   | 366/413 [45:05<04:03,  5.18s/it]"
     ]
    },
    {
     "name": "stdout",
     "output_type": "stream",
     "text": [
      "HAT-P-28\n",
      "Mstar=(1.01,0.13) Msun\n",
      "Rstar=(1.05,0.05) Rsun\n",
      "Rhostar=(0.88,0.17) rhosun\n",
      "teff=(5698,111) K\n",
      "logg=(4.40,0.07) cgs\n",
      "feh=(0.00,0.10) dex\n",
      "Querying Gaia sources 60\" around HAT-P-28: (13.0009, 34.7284) deg.\n"
     ]
    },
    {
     "name": "stderr",
     "output_type": "stream",
     "text": [
      "WARNING: InputWarning: Invalid Gaia version number, defaulting to DR2. [astroquery.mast.collections]\n",
      " 89%|█████████████████████████████████████████████████████████████████████████████████████████████████████████████████████████████████████████████████████████▋                   | 367/413 [45:14<04:40,  6.09s/it]"
     ]
    },
    {
     "name": "stdout",
     "output_type": "stream",
     "text": [
      "Kepler-1640\n"
     ]
    },
    {
     "name": "stderr",
     "output_type": "stream",
     "text": [
      " 89%|██████████████████████████████████████████████████████████████████████████████████████████████████████████████████████████████████████████████████████████▏                  | 368/413 [45:21<04:51,  6.48s/it]"
     ]
    },
    {
     "name": "stdout",
     "output_type": "stream",
     "text": [
      "float() argument must be a string or a real number, not 'NoneType'\n",
      "Check exofop: https://exofop.ipac.caltech.edu/tess/target.php?id=Kepler-1640&json\n",
      "Kepler-40\n"
     ]
    },
    {
     "name": "stderr",
     "output_type": "stream",
     "text": [
      " 89%|██████████████████████████████████████████████████████████████████████████████████████████████████████████████████████████████████████████████████████████▌                  | 369/413 [45:25<04:06,  5.61s/it]"
     ]
    },
    {
     "name": "stdout",
     "output_type": "stream",
     "text": [
      "float() argument must be a string or a real number, not 'NoneType'\n",
      "Check exofop: https://exofop.ipac.caltech.edu/tess/target.php?id=Kepler-40&json\n",
      "Kepler-494\n"
     ]
    },
    {
     "name": "stderr",
     "output_type": "stream",
     "text": [
      " 90%|██████████████████████████████████████████████████████████████████████████████████████████████████████████████████████████████████████████████████████████▉                  | 370/413 [45:28<03:37,  5.05s/it]"
     ]
    },
    {
     "name": "stdout",
     "output_type": "stream",
     "text": [
      "float() argument must be a string or a real number, not 'NoneType'\n",
      "Check exofop: https://exofop.ipac.caltech.edu/tess/target.php?id=Kepler-494&json\n",
      "WASP-158\n",
      "Mstar=(1.21,0.17) Msun\n",
      "Rstar=(1.53,0.08) Rsun\n",
      "Rhostar=(0.34,0.07) rhosun\n",
      "teff=(6239,127) K\n",
      "logg=(4.15,0.09) cgs\n",
      "feh=(0.00,0.10) dex\n",
      "Querying Gaia sources 60\" around WASP-158: (4.1463, -10.9764) deg.\n"
     ]
    },
    {
     "name": "stderr",
     "output_type": "stream",
     "text": [
      "WARNING: InputWarning: Invalid Gaia version number, defaulting to DR2. [astroquery.mast.collections]\n",
      " 90%|███████████████████████████████████████████████████████████████████████████████████████████████████████████████████████████████████████████████████████████▍                 | 371/413 [45:37<04:17,  6.13s/it]"
     ]
    },
    {
     "name": "stdout",
     "output_type": "stream",
     "text": [
      "HATS-40\n",
      "Mstar=(1.36,0.23) Msun\n",
      "Rstar=(2.08,0.10) Rsun\n",
      "Rhostar=(0.15,0.03) rhosun\n",
      "teff=(6561,127) K\n",
      "logg=(3.93,0.09) cgs\n",
      "feh=(0.00,0.10) dex\n",
      "Querying Gaia sources 60\" around HATS-40: (100.5712, -29.7768) deg.\n"
     ]
    },
    {
     "name": "stderr",
     "output_type": "stream",
     "text": [
      "WARNING: InputWarning: Invalid Gaia version number, defaulting to DR2. [astroquery.mast.collections]\n",
      " 90%|███████████████████████████████████████████████████████████████████████████████████████████████████████████████████████████████████████████████████████████▊                 | 372/413 [45:45<04:38,  6.78s/it]"
     ]
    },
    {
     "name": "stdout",
     "output_type": "stream",
     "text": [
      "NGTS-10\n"
     ]
    },
    {
     "name": "stderr",
     "output_type": "stream",
     "text": [
      " 90%|████████████████████████████████████████████████████████████████████████████████████████████████████████████████████████████████████████████████████████████▏                | 373/413 [45:53<04:38,  6.96s/it]"
     ]
    },
    {
     "name": "stdout",
     "output_type": "stream",
     "text": [
      "list index out of range\n",
      "HAT-P-39\n",
      "Mstar=(1.32,0.21) Msun\n",
      "Rstar=(1.75,0.09) Rsun\n",
      "Rhostar=(0.25,0.05) rhosun\n",
      "teff=(6466,129) K\n",
      "logg=(4.07,0.09) cgs\n",
      "feh=(0.00,0.10) dex\n",
      "Querying Gaia sources 60\" around HAT-P-39: (113.7583, 17.8300) deg.\n"
     ]
    },
    {
     "name": "stderr",
     "output_type": "stream",
     "text": [
      "WARNING: InputWarning: Invalid Gaia version number, defaulting to DR2. [astroquery.mast.collections]\n",
      " 91%|████████████████████████████████████████████████████████████████████████████████████████████████████████████████████████████████████████████████████████████▋                | 374/413 [46:00<04:40,  7.20s/it]"
     ]
    },
    {
     "name": "stdout",
     "output_type": "stream",
     "text": [
      "TOI-157\n",
      "Mstar=(1.00,0.13) Msun\n",
      "Rstar=(1.11,0.06) Rsun\n",
      "Rhostar=(0.74,0.15) rhosun\n",
      "teff=(5638,134) K\n",
      "logg=(4.35,0.08) cgs\n",
      "feh=(0.00,0.10) dex\n",
      "Querying Gaia sources 60\" around TOI-157: (73.7014, -76.6806) deg.\n"
     ]
    },
    {
     "name": "stderr",
     "output_type": "stream",
     "text": [
      "WARNING: InputWarning: Invalid Gaia version number, defaulting to DR2. [astroquery.mast.collections]\n",
      " 91%|█████████████████████████████████████████████████████████████████████████████████████████████████████████████████████████████████████████████████████████████                | 375/413 [46:06<04:09,  6.58s/it]"
     ]
    },
    {
     "name": "stdout",
     "output_type": "stream",
     "text": [
      "Kepler-1004\n"
     ]
    },
    {
     "name": "stderr",
     "output_type": "stream",
     "text": [
      " 91%|█████████████████████████████████████████████████████████████████████████████████████████████████████████████████████████████████████████████████████████████▌               | 376/413 [46:09<03:30,  5.68s/it]"
     ]
    },
    {
     "name": "stdout",
     "output_type": "stream",
     "text": [
      "float() argument must be a string or a real number, not 'NoneType'\n",
      "Check exofop: https://exofop.ipac.caltech.edu/tess/target.php?id=Kepler-1004&json\n",
      "HATS-45\n",
      "Mstar=(1.38,0.23) Msun\n",
      "Rstar=(1.24,0.05) Rsun\n",
      "Rhostar=(0.73,0.16) rhosun\n",
      "teff=(6600,134) K\n",
      "logg=(4.39,0.09) cgs\n",
      "feh=(0.00,0.10) dex\n",
      "Querying Gaia sources 60\" around HATS-45: (101.9942, -21.9107) deg.\n"
     ]
    },
    {
     "name": "stderr",
     "output_type": "stream",
     "text": [
      "WARNING: InputWarning: Invalid Gaia version number, defaulting to DR2. [astroquery.mast.collections]\n",
      " 91%|█████████████████████████████████████████████████████████████████████████████████████████████████████████████████████████████████████████████████████████████▉               | 377/413 [46:18<03:58,  6.63s/it]"
     ]
    },
    {
     "name": "stdout",
     "output_type": "stream",
     "text": [
      "WASP-182\n",
      "Mstar=(0.99,0.13) Msun\n",
      "Rstar=(1.28,0.06) Rsun\n",
      "Rhostar=(0.47,0.09) rhosun\n",
      "teff=(5615,110) K\n",
      "logg=(4.22,0.08) cgs\n",
      "feh=(0.00,0.10) dex\n",
      "Querying Gaia sources 60\" around WASP-182: (311.6733, -41.8210) deg.\n"
     ]
    },
    {
     "name": "stderr",
     "output_type": "stream",
     "text": [
      "WARNING: InputWarning: Invalid Gaia version number, defaulting to DR2. [astroquery.mast.collections]\n",
      " 92%|██████████████████████████████████████████████████████████████████████████████████████████████████████████████████████████████████████████████████████████████▎              | 378/413 [46:26<04:09,  7.12s/it]"
     ]
    },
    {
     "name": "stdout",
     "output_type": "stream",
     "text": [
      "K2-132\n"
     ]
    },
    {
     "name": "stderr",
     "output_type": "stream",
     "text": [
      " 92%|██████████████████████████████████████████████████████████████████████████████████████████████████████████████████████████████████████████████████████████████▊              | 379/413 [46:31<03:34,  6.30s/it]"
     ]
    },
    {
     "name": "stdout",
     "output_type": "stream",
     "text": [
      "float() argument must be a string or a real number, not 'NoneType'\n",
      "Check exofop: https://exofop.ipac.caltech.edu/tess/target.php?id=K2-132&json\n",
      "WASP-82\n",
      "Mstar=(1.30,0.21) Msun\n",
      "Rstar=(2.10,0.11) Rsun\n",
      "Rhostar=(0.14,0.03) rhosun\n",
      "teff=(6442,146) K\n",
      "logg=(3.91,0.09) cgs\n",
      "feh=(0.00,0.10) dex\n",
      "Querying Gaia sources 60\" around WASP-82: (72.6606, 1.8938) deg.\n"
     ]
    },
    {
     "name": "stderr",
     "output_type": "stream",
     "text": [
      "WARNING: InputWarning: Invalid Gaia version number, defaulting to DR2. [astroquery.mast.collections]\n",
      " 92%|███████████████████████████████████████████████████████████████████████████████████████████████████████████████████████████████████████████████████████████████▏             | 380/413 [46:39<03:49,  6.96s/it]"
     ]
    },
    {
     "name": "stdout",
     "output_type": "stream",
     "text": [
      "HAT-P-56\n",
      "Mstar=(1.39,0.23) Msun\n",
      "Rstar=(1.47,0.08) Rsun\n",
      "Rhostar=(0.44,0.10) rhosun\n",
      "teff=(6636,146) K\n",
      "logg=(4.25,0.09) cgs\n",
      "feh=(0.00,0.10) dex\n",
      "Querying Gaia sources 60\" around HAT-P-56: (100.8480, 27.2522) deg.\n"
     ]
    },
    {
     "name": "stderr",
     "output_type": "stream",
     "text": [
      "WARNING: InputWarning: Invalid Gaia version number, defaulting to DR2. [astroquery.mast.collections]\n",
      " 92%|███████████████████████████████████████████████████████████████████████████████████████████████████████████████████████████████████████████████████████████████▌             | 381/413 [46:48<03:58,  7.45s/it]"
     ]
    },
    {
     "name": "stdout",
     "output_type": "stream",
     "text": [
      "CoRoT-12\n"
     ]
    },
    {
     "name": "stderr",
     "output_type": "stream",
     "text": [
      " 92%|████████████████████████████████████████████████████████████████████████████████████████████████████████████████████████████████████████████████████████████████             | 382/413 [46:55<03:49,  7.41s/it]"
     ]
    },
    {
     "name": "stdout",
     "output_type": "stream",
     "text": [
      "float() argument must be a string or a real number, not 'NoneType'\n",
      "Check exofop: https://exofop.ipac.caltech.edu/tess/target.php?id=CoRoT-12&json\n",
      "HATS-30\n",
      "Mstar=(1.03,0.13) Msun\n",
      "Rstar=(1.16,0.06) Rsun\n",
      "Rhostar=(0.66,0.14) rhosun\n",
      "teff=(5750,133) K\n",
      "logg=(4.32,0.08) cgs\n",
      "feh=(0.00,0.10) dex\n",
      "Querying Gaia sources 60\" around HATS-30: (5.6185, -59.9426) deg.\n"
     ]
    },
    {
     "name": "stderr",
     "output_type": "stream",
     "text": [
      "WARNING: InputWarning: Invalid Gaia version number, defaulting to DR2. [astroquery.mast.collections]\n",
      " 93%|████████████████████████████████████████████████████████████████████████████████████████████████████████████████████████████████████████████████████████████████▍            | 383/413 [47:03<03:48,  7.63s/it]"
     ]
    },
    {
     "name": "stdout",
     "output_type": "stream",
     "text": [
      "HAT-P-21\n",
      "Mstar=(1.00,0.12) Msun\n",
      "Rstar=(1.26,0.07) Rsun\n",
      "Rhostar=(0.50,0.10) rhosun\n",
      "teff=(5634,125) K\n",
      "logg=(4.24,0.08) cgs\n",
      "feh=(0.00,0.10) dex\n",
      "Querying Gaia sources 60\" around HAT-P-21: (171.2749, 41.0280) deg.\n"
     ]
    },
    {
     "name": "stderr",
     "output_type": "stream",
     "text": [
      "WARNING: InputWarning: Invalid Gaia version number, defaulting to DR2. [astroquery.mast.collections]\n",
      " 93%|████████████████████████████████████████████████████████████████████████████████████████████████████████████████████████████████████████████████████████████████▊            | 384/413 [47:11<03:44,  7.75s/it]"
     ]
    },
    {
     "name": "stdout",
     "output_type": "stream",
     "text": [
      "TOI-954\n",
      "Mstar=(1.03,0.13) Msun\n",
      "Rstar=(1.93,0.10) Rsun\n",
      "Rhostar=(0.14,0.03) rhosun\n",
      "teff=(5756,127) K\n",
      "logg=(3.88,0.07) cgs\n",
      "feh=(0.00,0.10) dex\n",
      "Querying Gaia sources 60\" around TOI-954: (61.9411, -25.2088) deg.\n"
     ]
    },
    {
     "name": "stderr",
     "output_type": "stream",
     "text": [
      "WARNING: InputWarning: Invalid Gaia version number, defaulting to DR2. [astroquery.mast.collections]\n",
      " 93%|█████████████████████████████████████████████████████████████████████████████████████████████████████████████████████████████████████████████████████████████████▎           | 385/413 [47:18<03:28,  7.43s/it]"
     ]
    },
    {
     "name": "stdout",
     "output_type": "stream",
     "text": [
      "Kepler-719\n"
     ]
    },
    {
     "name": "stderr",
     "output_type": "stream",
     "text": [
      " 93%|█████████████████████████████████████████████████████████████████████████████████████████████████████████████████████████████████████████████████████████████████▋           | 386/413 [47:23<02:59,  6.65s/it]"
     ]
    },
    {
     "name": "stdout",
     "output_type": "stream",
     "text": [
      "float() argument must be a string or a real number, not 'NoneType'\n",
      "Check exofop: https://exofop.ipac.caltech.edu/tess/target.php?id=Kepler-719&json\n",
      "HATS-2\n",
      "Mstar=(0.82,0.09) Msun\n",
      "Rstar=(0.93,0.06) Rsun\n",
      "Rhostar=(1.02,0.23) rhosun\n",
      "teff=(4985,124) K\n",
      "logg=(4.42,0.09) cgs\n",
      "feh=(0.00,0.10) dex\n",
      "Querying Gaia sources 60\" around HATS-2: (176.7388, -22.5630) deg.\n"
     ]
    },
    {
     "name": "stderr",
     "output_type": "stream",
     "text": [
      "WARNING: InputWarning: Invalid Gaia version number, defaulting to DR2. [astroquery.mast.collections]\n",
      " 94%|██████████████████████████████████████████████████████████████████████████████████████████████████████████████████████████████████████████████████████████████████           | 387/413 [47:32<03:10,  7.34s/it]"
     ]
    },
    {
     "name": "stdout",
     "output_type": "stream",
     "text": [
      "K2-107\n",
      "Mstar=(1.11,0.15) Msun\n",
      "Rstar=(1.80,0.10) Rsun\n",
      "Rhostar=(0.19,0.04) rhosun\n",
      "teff=(6001,136) K\n",
      "logg=(3.97,0.09) cgs\n",
      "feh=(0.00,0.10) dex\n",
      "Querying Gaia sources 60\" around K2-107: (284.9854, -22.2934) deg.\n"
     ]
    },
    {
     "name": "stderr",
     "output_type": "stream",
     "text": [
      "WARNING: InputWarning: Invalid Gaia version number, defaulting to DR2. [astroquery.mast.collections]\n",
      " 94%|██████████████████████████████████████████████████████████████████████████████████████████████████████████████████████████████████████████████████████████████████▌          | 388/413 [47:38<02:54,  6.99s/it]"
     ]
    },
    {
     "name": "stdout",
     "output_type": "stream",
     "text": [
      "CoRoT-17\n"
     ]
    },
    {
     "name": "stderr",
     "output_type": "stream",
     "text": [
      " 94%|██████████████████████████████████████████████████████████████████████████████████████████████████████████████████████████████████████████████████████████████████▉          | 389/413 [47:46<02:52,  7.18s/it]"
     ]
    },
    {
     "name": "stdout",
     "output_type": "stream",
     "text": [
      "float() argument must be a string or a real number, not 'NoneType'\n",
      "Check exofop: https://exofop.ipac.caltech.edu/tess/target.php?id=CoRoT-17&json\n",
      "Kepler-678\n"
     ]
    },
    {
     "name": "stderr",
     "output_type": "stream",
     "text": [
      " 94%|███████████████████████████████████████████████████████████████████████████████████████████████████████████████████████████████████████████████████████████████████▎         | 390/413 [47:49<02:19,  6.09s/it]"
     ]
    },
    {
     "name": "stdout",
     "output_type": "stream",
     "text": [
      "float() argument must be a string or a real number, not 'NoneType'\n",
      "Check exofop: https://exofop.ipac.caltech.edu/tess/target.php?id=Kepler-678&json\n",
      "WASP-91\n",
      "Mstar=(0.81,0.10) Msun\n",
      "Rstar=(0.91,0.06) Rsun\n",
      "Rhostar=(1.09,0.24) rhosun\n",
      "teff=(4935,115) K\n",
      "logg=(4.43,0.09) cgs\n",
      "feh=(0.00,0.10) dex\n",
      "Querying Gaia sources 60\" around WASP-91: (357.8464, -70.1529) deg.\n"
     ]
    },
    {
     "name": "stderr",
     "output_type": "stream",
     "text": [
      "WARNING: InputWarning: Invalid Gaia version number, defaulting to DR2. [astroquery.mast.collections]\n",
      " 95%|███████████████████████████████████████████████████████████████████████████████████████████████████████████████████████████████████████████████████████████████████▊         | 391/413 [47:58<02:29,  6.80s/it]"
     ]
    },
    {
     "name": "stdout",
     "output_type": "stream",
     "text": [
      "HATS-11\n"
     ]
    },
    {
     "name": "stderr",
     "output_type": "stream",
     "text": [
      " 95%|████████████████████████████████████████████████████████████████████████████████████████████████████████████████████████████████████████████████████████████████████▏        | 392/413 [48:05<02:29,  7.11s/it]"
     ]
    },
    {
     "name": "stdout",
     "output_type": "stream",
     "text": [
      "float() argument must be a string or a real number, not 'NoneType'\n",
      "Check exofop: https://exofop.ipac.caltech.edu/tess/target.php?id=HATS-11&json\n",
      "CoRoT-31\n"
     ]
    },
    {
     "name": "stderr",
     "output_type": "stream",
     "text": [
      " 95%|████████████████████████████████████████████████████████████████████████████████████████████████████████████████████████████████████████████████████████████████████▌        | 393/413 [48:13<02:23,  7.18s/it]"
     ]
    },
    {
     "name": "stdout",
     "output_type": "stream",
     "text": [
      "float() argument must be a string or a real number, not 'NoneType'\n",
      "Check exofop: https://exofop.ipac.caltech.edu/tess/target.php?id=CoRoT-31&json\n",
      "K2-39\n"
     ]
    },
    {
     "name": "stderr",
     "output_type": "stream",
     "text": [
      " 95%|█████████████████████████████████████████████████████████████████████████████████████████████████████████████████████████████████████████████████████████████████████        | 394/413 [48:17<02:01,  6.38s/it]"
     ]
    },
    {
     "name": "stdout",
     "output_type": "stream",
     "text": [
      "float() argument must be a string or a real number, not 'NoneType'\n",
      "Check exofop: https://exofop.ipac.caltech.edu/tess/target.php?id=K2-39&json\n",
      "CoRoT-23\n"
     ]
    },
    {
     "name": "stderr",
     "output_type": "stream",
     "text": [
      " 96%|█████████████████████████████████████████████████████████████████████████████████████████████████████████████████████████████████████████████████████████████████████▍       | 395/413 [48:25<02:00,  6.67s/it]"
     ]
    },
    {
     "name": "stdout",
     "output_type": "stream",
     "text": [
      "float() argument must be a string or a real number, not 'NoneType'\n",
      "Check exofop: https://exofop.ipac.caltech.edu/tess/target.php?id=CoRoT-23&json\n",
      "HATS-50\n"
     ]
    },
    {
     "name": "stderr",
     "output_type": "stream",
     "text": [
      " 96%|█████████████████████████████████████████████████████████████████████████████████████████████████████████████████████████████████████████████████████████████████████▉       | 396/413 [48:32<01:56,  6.87s/it]"
     ]
    },
    {
     "name": "stdout",
     "output_type": "stream",
     "text": [
      "float() argument must be a string or a real number, not 'NoneType'\n",
      "Check exofop: https://exofop.ipac.caltech.edu/tess/target.php?id=HATS-50&json\n",
      "NGTS-8\n",
      "Mstar=(0.87,0.11) Msun\n",
      "Rstar=(1.00,0.06) Rsun\n",
      "Rhostar=(0.87,0.19) rhosun\n",
      "teff=(5160,124) K\n",
      "logg=(4.38,0.08) cgs\n",
      "feh=(0.00,0.10) dex\n",
      "Querying Gaia sources 60\" around NGTS-8: (328.9759, -14.0684) deg.\n"
     ]
    },
    {
     "name": "stderr",
     "output_type": "stream",
     "text": [
      "WARNING: InputWarning: Invalid Gaia version number, defaulting to DR2. [astroquery.mast.collections]\n",
      " 96%|██████████████████████████████████████████████████████████████████████████████████████████████████████████████████████████████████████████████████████████████████████▎      | 397/413 [48:39<01:52,  7.03s/it]"
     ]
    },
    {
     "name": "stdout",
     "output_type": "stream",
     "text": [
      "Kepler-669\n"
     ]
    },
    {
     "name": "stderr",
     "output_type": "stream",
     "text": [
      " 96%|██████████████████████████████████████████████████████████████████████████████████████████████████████████████████████████████████████████████████████████████████████▋      | 398/413 [48:43<01:28,  5.92s/it]"
     ]
    },
    {
     "name": "stdout",
     "output_type": "stream",
     "text": [
      "float() argument must be a string or a real number, not 'NoneType'\n",
      "Check exofop: https://exofop.ipac.caltech.edu/tess/target.php?id=Kepler-669&json\n",
      "Kepler-56\n"
     ]
    },
    {
     "name": "stderr",
     "output_type": "stream",
     "text": [
      " 97%|███████████████████████████████████████████████████████████████████████████████████████████████████████████████████████████████████████████████████████████████████████▏     | 399/413 [48:46<01:10,  5.04s/it]"
     ]
    },
    {
     "name": "stdout",
     "output_type": "stream",
     "text": [
      "float() argument must be a string or a real number, not 'NoneType'\n",
      "Check exofop: https://exofop.ipac.caltech.edu/tess/target.php?id=Kepler-56&json\n",
      "OGLE-TR-132\n"
     ]
    },
    {
     "name": "stderr",
     "output_type": "stream",
     "text": [
      " 97%|███████████████████████████████████████████████████████████████████████████████████████████████████████████████████████████████████████████████████████████████████████▌     | 400/413 [48:54<01:18,  6.06s/it]"
     ]
    },
    {
     "name": "stdout",
     "output_type": "stream",
     "text": [
      "float() argument must be a string or a real number, not 'NoneType'\n",
      "Check exofop: https://exofop.ipac.caltech.edu/tess/target.php?id=OGLE-TR-132&json\n",
      "HD 221416\n"
     ]
    },
    {
     "name": "stderr",
     "output_type": "stream",
     "text": [
      " 97%|███████████████████████████████████████████████████████████████████████████████████████████████████████████████████████████████████████████████████████████████████████▉     | 401/413 [49:02<01:21,  6.77s/it]"
     ]
    },
    {
     "name": "stdout",
     "output_type": "stream",
     "text": [
      "float() argument must be a string or a real number, not 'NoneType'\n",
      "Check exofop: https://exofop.ipac.caltech.edu/tess/target.php?id=HD221416&json\n",
      "HAT-P-53\n"
     ]
    },
    {
     "name": "stderr",
     "output_type": "stream",
     "text": [
      " 97%|████████████████████████████████████████████████████████████████████████████████████████████████████████████████████████████████████████████████████████████████████████▍    | 402/413 [49:10<01:16,  7.00s/it]"
     ]
    },
    {
     "name": "stdout",
     "output_type": "stream",
     "text": [
      "float() argument must be a string or a real number, not 'NoneType'\n",
      "Check exofop: https://exofop.ipac.caltech.edu/tess/target.php?id=HAT-P-53&json\n",
      "Kepler-1520\n"
     ]
    },
    {
     "name": "stderr",
     "output_type": "stream",
     "text": [
      " 98%|████████████████████████████████████████████████████████████████████████████████████████████████████████████████████████████████████████████████████████████████████████▊    | 403/413 [49:13<00:58,  5.89s/it]"
     ]
    },
    {
     "name": "stdout",
     "output_type": "stream",
     "text": [
      "float() argument must be a string or a real number, not 'NoneType'\n",
      "Check exofop: https://exofop.ipac.caltech.edu/tess/target.php?id=Kepler-1520&json\n",
      "Kepler-817\n"
     ]
    },
    {
     "name": "stderr",
     "output_type": "stream",
     "text": [
      " 98%|█████████████████████████████████████████████████████████████████████████████████████████████████████████████████████████████████████████████████████████████████████████▏   | 404/413 [49:17<00:47,  5.23s/it]"
     ]
    },
    {
     "name": "stdout",
     "output_type": "stream",
     "text": [
      "float() argument must be a string or a real number, not 'NoneType'\n",
      "Check exofop: https://exofop.ipac.caltech.edu/tess/target.php?id=Kepler-817&json\n",
      "CoRoT-29\n"
     ]
    },
    {
     "name": "stderr",
     "output_type": "stream",
     "text": [
      " 98%|█████████████████████████████████████████████████████████████████████████████████████████████████████████████████████████████████████████████████████████████████████████▋   | 405/413 [49:24<00:47,  5.90s/it]"
     ]
    },
    {
     "name": "stdout",
     "output_type": "stream",
     "text": [
      "float() argument must be a string or a real number, not 'NoneType'\n",
      "Check exofop: https://exofop.ipac.caltech.edu/tess/target.php?id=CoRoT-29&json\n",
      "WASP-7\n",
      "Mstar=(1.36,0.22) Msun\n",
      "Rstar=(1.47,0.07) Rsun\n",
      "Rhostar=(0.43,0.09) rhosun\n",
      "teff=(6562,118) K\n",
      "logg=(4.24,0.09) cgs\n",
      "feh=(0.00,0.10) dex\n",
      "Querying Gaia sources 60\" around WASP-7: (311.0428, -39.2255) deg.\n"
     ]
    },
    {
     "name": "stderr",
     "output_type": "stream",
     "text": [
      "WARNING: InputWarning: Invalid Gaia version number, defaulting to DR2. [astroquery.mast.collections]\n",
      " 98%|██████████████████████████████████████████████████████████████████████████████████████████████████████████████████████████████████████████████████████████████████████████   | 406/413 [49:32<00:44,  6.41s/it]"
     ]
    },
    {
     "name": "stdout",
     "output_type": "stream",
     "text": [
      "OGLE-TR-10\n"
     ]
    },
    {
     "name": "stderr",
     "output_type": "stream",
     "text": [
      " 99%|██████████████████████████████████████████████████████████████████████████████████████████████████████████████████████████████████████████████████████████████████████████▍  | 407/413 [49:40<00:40,  6.78s/it]"
     ]
    },
    {
     "name": "stdout",
     "output_type": "stream",
     "text": [
      "float() argument must be a string or a real number, not 'NoneType'\n",
      "Check exofop: https://exofop.ipac.caltech.edu/tess/target.php?id=OGLE-TR-10&json\n",
      "OGLE-TR-182\n"
     ]
    },
    {
     "name": "stderr",
     "output_type": "stream",
     "text": [
      " 99%|██████████████████████████████████████████████████████████████████████████████████████████████████████████████████████████████████████████████████████████████████████████▉  | 408/413 [49:47<00:35,  7.04s/it]"
     ]
    },
    {
     "name": "stdout",
     "output_type": "stream",
     "text": [
      "float() argument must be a string or a real number, not 'NoneType'\n",
      "Check exofop: https://exofop.ipac.caltech.edu/tess/target.php?id=OGLE-TR-182&json\n",
      "NGTS-16\n"
     ]
    },
    {
     "name": "stderr",
     "output_type": "stream",
     "text": [
      " 99%|███████████████████████████████████████████████████████████████████████████████████████████████████████████████████████████████████████████████████████████████████████████▎ | 409/413 [49:55<00:28,  7.13s/it]"
     ]
    },
    {
     "name": "stdout",
     "output_type": "stream",
     "text": [
      "float() argument must be a string or a real number, not 'NoneType'\n",
      "Check exofop: https://exofop.ipac.caltech.edu/tess/target.php?id=NGTS-16&json\n",
      "NGTS-17\n"
     ]
    },
    {
     "name": "stderr",
     "output_type": "stream",
     "text": [
      " 99%|███████████████████████████████████████████████████████████████████████████████████████████████████████████████████████████████████████████████████████████████████████████▋ | 410/413 [50:01<00:20,  6.79s/it]"
     ]
    },
    {
     "name": "stdout",
     "output_type": "stream",
     "text": [
      "float() argument must be a string or a real number, not 'NoneType'\n",
      "Check exofop: https://exofop.ipac.caltech.edu/tess/target.php?id=NGTS-17&json\n",
      "HAT-P-63\n"
     ]
    },
    {
     "name": "stderr",
     "output_type": "stream",
     "text": [
      "100%|████████████████████████████████████████████████████████████████████████████████████████████████████████████████████████████████████████████████████████████████████████████▏| 411/413 [50:08<00:13,  7.00s/it]"
     ]
    },
    {
     "name": "stdout",
     "output_type": "stream",
     "text": [
      "float() argument must be a string or a real number, not 'NoneType'\n",
      "Check exofop: https://exofop.ipac.caltech.edu/tess/target.php?id=HAT-P-63&json\n",
      "NGTS-25\n"
     ]
    },
    {
     "name": "stderr",
     "output_type": "stream",
     "text": [
      "100%|████████████████████████████████████████████████████████████████████████████████████████████████████████████████████████████████████████████████████████████████████████████▌| 412/413 [50:15<00:06,  6.99s/it]"
     ]
    },
    {
     "name": "stdout",
     "output_type": "stream",
     "text": [
      "float() argument must be a string or a real number, not 'NoneType'\n",
      "Check exofop: https://exofop.ipac.caltech.edu/tess/target.php?id=NGTS-25&json\n",
      "CoRoT-3\n",
      "Mstar=(1.36,0.22) Msun\n",
      "Rstar=(1.53,0.09) Rsun\n",
      "Rhostar=(0.38,0.09) rhosun\n",
      "teff=(6558,104) K\n",
      "logg=(4.20,0.09) cgs\n",
      "feh=(0.00,0.10) dex\n",
      "Querying Gaia sources 60\" around CoRoT-3: (292.0553, 0.1218) deg.\n"
     ]
    },
    {
     "name": "stderr",
     "output_type": "stream",
     "text": [
      "WARNING: InputWarning: Invalid Gaia version number, defaulting to DR2. [astroquery.mast.collections]\n",
      "100%|█████████████████████████████████████████████████████████████████████████████████████████████████████████████████████████████████████████████████████████████████████████████| 413/413 [50:25<00:00,  7.33s/it]\n"
     ]
    }
   ],
   "source": [
    "from tqdm import tqdm\n",
    "from astropy.coordinates import SkyCoord\n",
    "from astropy.coordinates import Distance\n",
    "import astropy.units as u\n",
    "\n",
    "gaia = {}\n",
    "cols = [\"ra\",\"dec\",\"parallax\",\"pmra\",\"pmdec\",\"radial_velocity\",\"phot_g_mean_mag\",\"bp_rp\",\"distance\"]\n",
    "for name in tqdm(hj.hostname):\n",
    "    print(name)\n",
    "    try:\n",
    "        star = Star(name)\n",
    "        gaia_sources = star.get_gaia_sources(rad_arcsec=60)\n",
    "        # print(gaia_sources[cols])\n",
    "        \n",
    "        s = gaia_sources[cols].dropna(subset=[\"parallax\"])\n",
    "        s = s[s[\"parallax\"]>0]\n",
    "        coords = SkyCoord(ra=s.ra.values*u.deg, \n",
    "                         dec=s.dec.values*u.deg,\n",
    "                         pm_ra_cosdec=s.pmra.values*u.mas/u.yr,\n",
    "                         pm_dec=s.pmdec.values*u.mas/u.yr,\n",
    "                         radial_velocity=s.radial_velocity.values*u.km/u.second,\n",
    "                         distance=Distance(parallax=s.parallax.values*u.mas)\n",
    "                        )\n",
    "        s['distance_3d'] = coords.separation_3d(coords[0]).value\n",
    "        gaia[name] = s\n",
    "        # break\n",
    "    except Exception as e:\n",
    "        print(e)"
   ]
  },
  {
   "cell_type": "raw",
   "id": "ed1a7d65-abd9-4519-8b4a-b1b247d5c15d",
   "metadata": {},
   "source": [
    "import flammkuchen as fk\n",
    "\n",
    "fk.save(\"../data/hot_jupiter_companions.h5\", gaia)"
   ]
  },
  {
   "cell_type": "code",
   "execution_count": 120,
   "id": "a95012ff-d9d9-4bf3-9967-e7601be7f004",
   "metadata": {},
   "outputs": [],
   "source": [
    "data = fk.load(\"../data/hot_jupiter_companions.h5\")\n",
    "has_nearby_companion = []\n",
    "for name in data:\n",
    "    # print(name)\n",
    "    # print(data[name].sort_values(by=\"distance_3d\").head(3))\n",
    "    if len(data[name])>1 and data[name].sort_values(by=\"distance_3d\").iloc[1].distance_3d<10:\n",
    "        has_nearby_companion.append(name)"
   ]
  },
  {
   "cell_type": "code",
   "execution_count": 124,
   "id": "4c2c4f08-a733-4d19-87e6-fba4f1bb8b7b",
   "metadata": {},
   "outputs": [
    {
     "data": {
      "text/plain": [
       "[12092.950093862777,\n",
       " 25759.41067583616,\n",
       " 30852.422114511042,\n",
       " 33911.672282315274,\n",
       " 52881.917963136446,\n",
       " 82994.22260052364,\n",
       " 87145.11110741264,\n",
       " 121006.98463499038,\n",
       " 124114.19174586436,\n",
       " 132073.9778706472]"
      ]
     },
     "execution_count": 124,
     "metadata": {},
     "output_type": "execute_result"
    }
   ],
   "source": [
    "sorted([data[n].sort_values(by='distance_3d').iloc[1].distance_3d*u.pc.to(u.au) if len(data[n])>1 else 999e6 for n in data])[:10]"
   ]
  },
  {
   "cell_type": "code",
   "execution_count": null,
   "id": "e8d89aa1-2c42-4134-95e2-66d687cf988b",
   "metadata": {},
   "outputs": [],
   "source": [
    "for name in has_nearby_companion:\n",
    "    d = data[name]\n",
    "    ax = d.plot.scatter(x='pmra', y='pmdec', figsize=(5,5))\n",
    "    d.iloc[:2].plot.scatter(x='pmra', y='pmdec', c='r', ax=ax)\n",
    "    ax.set_title(name)"
   ]
  },
  {
   "cell_type": "code",
   "execution_count": 82,
   "id": "453403ee-ac0a-4b81-ad74-5269106b1d31",
   "metadata": {},
   "outputs": [
    {
     "data": {
      "text/plain": [
       "0.014527845036319613"
      ]
     },
     "execution_count": 82,
     "metadata": {},
     "output_type": "execute_result"
    }
   ],
   "source": [
    "len(has_nearby_companion)/len(hj)"
   ]
  },
  {
   "cell_type": "markdown",
   "id": "3be91b4a-ba57-4083-981f-bae0fc28138d",
   "metadata": {},
   "source": [
    "## GEMS"
   ]
  },
  {
   "cell_type": "code",
   "execution_count": 60,
   "id": "fecbf34b-f13f-462b-8f32-f92a04cb3a77",
   "metadata": {},
   "outputs": [
    {
     "data": {
      "text/plain": [
       "(23, 375)"
      ]
     },
     "execution_count": 60,
     "metadata": {},
     "output_type": "execute_result"
    }
   ],
   "source": [
    "#GEMS\n",
    "idx2 = (df.st_teff<=4000) & (df.pl_radj > 0.5) & (df.discoverymethod==\"Transit\") & (df.pl_ratdor > 10) \n",
    "gems = df[idx2]\n",
    "gems.shape"
   ]
  },
  {
   "cell_type": "code",
   "execution_count": null,
   "id": "61a05313-6e95-4d62-9ce2-550e563b0a03",
   "metadata": {},
   "outputs": [],
   "source": [
    "from tqdm import tqdm\n",
    "from astropy.coordinates import SkyCoord\n",
    "from astropy.coordinates import Distance\n",
    "import astropy.units as u\n",
    "\n",
    "gaia = {}\n",
    "cols = [\"ra\",\"dec\",\"parallax\",\"pmra\",\"pmdec\",\"radial_velocity\",\"phot_g_mean_mag\",\"bp_rp\",\"distance\"]\n",
    "for name in tqdm(gems.hostname):\n",
    "    print(name)\n",
    "    try:\n",
    "        star = Star(name)\n",
    "        gaia_sources = star.get_gaia_sources(rad_arcsec=60)\n",
    "        # print(gaia_sources[cols])\n",
    "        \n",
    "        s = gaia_sources[cols].dropna(subset=[\"parallax\"])\n",
    "        s = s[s[\"parallax\"]>0]\n",
    "        coords = SkyCoord(ra=s.ra.values*u.deg, \n",
    "                         dec=s.dec.values*u.deg,\n",
    "                         pm_ra_cosdec=s.pmra.values*u.mas/u.yr,\n",
    "                         pm_dec=s.pmdec.values*u.mas/u.yr,\n",
    "                         radial_velocity=s.radial_velocity.values*u.km/u.second,\n",
    "                         distance=Distance(parallax=s.parallax.values*u.mas)\n",
    "                        )\n",
    "        s['distance_3d'] = coords.separation_3d(coords[0]).value\n",
    "        gaia[name] = s\n",
    "        # break\n",
    "    except Exception as e:\n",
    "        print(e)"
   ]
  },
  {
   "cell_type": "raw",
   "id": "154b2167-7b32-4394-b734-501e24557e3d",
   "metadata": {},
   "source": [
    "SkyCoord?"
   ]
  },
  {
   "cell_type": "raw",
   "id": "d0c77273-8eb2-45e0-ae4e-5786cde372d1",
   "metadata": {},
   "source": [
    "import flammkuchen as fk\n",
    "\n",
    "fk.save(\"../data/gems_companions.h5\", gaia)"
   ]
  },
  {
   "cell_type": "code",
   "execution_count": 37,
   "id": "1eb4d568-2ff6-44db-83cb-d74af39dbd69",
   "metadata": {},
   "outputs": [
    {
     "name": "stdout",
     "output_type": "stream",
     "text": [
      "-rw-r--r--@ 1 jpdl  staff   125K Apr 22 19:22 ../data/gems_companions.h5\n"
     ]
    }
   ],
   "source": [
    "ls -lh ../data/gems_companions.h5"
   ]
  },
  {
   "cell_type": "code",
   "execution_count": 125,
   "id": "93ae340d-10d5-4d6c-9a65-832d7a9a2941",
   "metadata": {},
   "outputs": [],
   "source": [
    "data = fk.load(\"../data/gems_companions.h5\")\n",
    "has_nearby_companion = []\n",
    "for name in data:\n",
    "    # print(name)\n",
    "    # print(data[name].sort_values(by=\"distance_3d\").head(3))\n",
    "    if len(data[name])>1 and data[name].sort_values(by=\"distance_3d\").iloc[1].distance_3d<100:\n",
    "        has_nearby_companion.append(name)"
   ]
  },
  {
   "cell_type": "code",
   "execution_count": 126,
   "id": "bd1ce3f3-7a58-47e0-aefd-bc29a93e587f",
   "metadata": {},
   "outputs": [
    {
     "data": {
      "text/plain": [
       "[262192.6862231671,\n",
       " 307542.4536065932,\n",
       " 1943401.9466828804,\n",
       " 9846753.538170641,\n",
       " 14705230.24277404,\n",
       " 19517331.6627828,\n",
       " 26326031.886921186,\n",
       " 32131605.992111802,\n",
       " 38704233.12019201,\n",
       " 52021012.49292728]"
      ]
     },
     "execution_count": 126,
     "metadata": {},
     "output_type": "execute_result"
    }
   ],
   "source": [
    "sorted([data[n].sort_values(by='distance_3d').iloc[1].distance_3d*u.pc.to(u.au) if len(data[n])>1 else 999e6 for n in data])[:10]"
   ]
  },
  {
   "cell_type": "raw",
   "id": "d353fa93-ec4e-443c-bded-8fc15f0d9c78",
   "metadata": {},
   "source": [
    "for name in has_nearby_companion:\n",
    "    d = data[name]\n",
    "    ax = d.plot.scatter(x='pmra', y='pmdec', figsize=(5,5))\n",
    "    d.iloc[:2].plot.scatter(x='pmra', y='pmdec', c='r', ax=ax)\n",
    "    ax.set_title(name)"
   ]
  },
  {
   "cell_type": "raw",
   "id": "21910b9b-b96e-4d84-997a-9428ce7b679d",
   "metadata": {},
   "source": [
    "data['TOI-3714']"
   ]
  },
  {
   "cell_type": "code",
   "execution_count": 134,
   "id": "6bea4c47-d1be-4b97-85a0-ae4fcc0fb39f",
   "metadata": {},
   "outputs": [
    {
     "data": {
      "text/plain": [
       "['HATS-74 A', 'Kepler-1624', 'TOI-3235', 'TOI-3714', 'TOI-3757', 'TOI-3984 A']"
      ]
     },
     "execution_count": 134,
     "metadata": {},
     "output_type": "execute_result"
    }
   ],
   "source": [
    "has_nearby_companion"
   ]
  },
  {
   "cell_type": "code",
   "execution_count": 40,
   "id": "78d93fc8-a3d6-4016-acb3-552a5ac3b3a3",
   "metadata": {},
   "outputs": [
    {
     "data": {
      "text/plain": [
       "0.13043478260869565"
      ]
     },
     "execution_count": 40,
     "metadata": {},
     "output_type": "execute_result"
    }
   ],
   "source": [
    "len(has_nearby_companion)/len(gems)"
   ]
  }
 ],
 "metadata": {
  "kernelspec": {
   "display_name": "Python 3 (ipykernel)",
   "language": "python",
   "name": "python3"
  },
  "language_info": {
   "codemirror_mode": {
    "name": "ipython",
    "version": 3
   },
   "file_extension": ".py",
   "mimetype": "text/x-python",
   "name": "python",
   "nbconvert_exporter": "python",
   "pygments_lexer": "ipython3",
   "version": "3.11.8"
  }
 },
 "nbformat": 4,
 "nbformat_minor": 5
}
