{
 "cells": [
  {
   "cell_type": "markdown",
   "id": "a9747fdb-2988-4a58-b03d-bacd2b23150c",
   "metadata": {},
   "source": [
    "https://ui.adsabs.harvard.edu/abs/2019A%26A...625A..68S/abstract"
   ]
  },
  {
   "cell_type": "markdown",
   "id": "0ef70d3c-a6f9-4c71-8816-2e81ce78f66b",
   "metadata": {},
   "source": [
    "* We derived the radii using Stefan–Boltzmann’s law. \n",
    "* We obtained the required effective temperatures Teff from a spectral analysis and we obtained the required luminosities L from integrated broadband photometry together with the Gaia DR2 parallaxes.\n",
    "* The mass was then determined using a mass-radius relation that we derived from eclipsing binaries known in the literature.\n",
    "* We compared this method with three other methods: (1) We calculated the mass from the radius and the surface gravity log g, which was obtained from the same spectral analysis as Teff. (2) We used a widely used infrared mass-magnitude relation. (3) We used a Bayesian approach to infer stellar parameters from the comparison of the absolute magnitudes and colors of our targets with evolutionary models."
   ]
  },
  {
   "cell_type": "markdown",
   "id": "11ad4f28",
   "metadata": {},
   "source": [
    "https://arxiv.org/pdf/2307.06880.pdf\n",
    "\n",
    "The stellar metallicity is estimatedas[Fe/H] = 0.30±0.15using WISE and Gaia colors3(Equation 4 from Duque-Arribas et al. 2023). This pho-tometric relationship was determined by Duque-Arribaset al. (2023) to be the most accurate photometric cali-bration when compared to a well-characterized (i) spec-troscopic sample of M-dwarfs (Birky et al. 2020) and (ii)M-dwarfs in binary systems (Montes et al. 2018). Thestellar radius is calculated asR⋆= 0.62±0.02R⊙us-ing Equation 5 from Mann et al. (2015).  This valuewas then used to determine a mass ofM⋆= 0.63±0.02M⊙with Equation 6 from Schweitzer et al. (2019), whichalso agrees with the stellar mass estimate from Mannet al. (2019).  The stellar effective temperature is de-rived as3920±50K with the empirical calibration fromEquation 7 in Rabus et al. (2019), that was derivedusing interferometric observations of well-characterizedM-dwarfs. "
   ]
  },
  {
   "cell_type": "code",
   "execution_count": null,
   "id": "780b3abc-a657-466a-b4bc-21b2314e8c5b",
   "metadata": {},
   "outputs": [],
   "source": []
  }
 ],
 "metadata": {
  "kernelspec": {
   "display_name": "Python 3 (ipykernel)",
   "language": "python",
   "name": "python3"
  },
  "language_info": {
   "codemirror_mode": {
    "name": "ipython",
    "version": 3
   },
   "file_extension": ".py",
   "mimetype": "text/x-python",
   "name": "python",
   "nbconvert_exporter": "python",
   "pygments_lexer": "ipython3",
   "version": "3.11.7"
  }
 },
 "nbformat": 4,
 "nbformat_minor": 5
}
