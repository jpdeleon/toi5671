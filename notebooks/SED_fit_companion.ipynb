{
 "cells": [
  {
   "cell_type": "code",
   "execution_count": 1,
   "id": "e4a896ae-5cf8-4555-ae63-0f6256d6fe1a",
   "metadata": {},
   "outputs": [],
   "source": [
    "import sys\n",
    "sys.path.insert(0, '..')"
   ]
  },
  {
   "cell_type": "code",
   "execution_count": 2,
   "id": "9072af63-2815-45ea-bc3c-d10c0be2ee7f",
   "metadata": {},
   "outputs": [],
   "source": [
    "from toi5671 import Star"
   ]
  },
  {
   "cell_type": "code",
   "execution_count": 3,
   "id": "aabb40a1-f1db-48b1-9dfd-f148e457c925",
   "metadata": {},
   "outputs": [
    {
     "name": "stdout",
     "output_type": "stream",
     "text": [
      "Mstar=(0.51,0.02) Msun\n",
      "Rstar=(0.51,0.02) Rsun\n",
      "Rhostar=(3.79,0.38) rhosun\n",
      "teff=(3571,157) K\n",
      "logg=(4.73,0.01) cgs\n",
      "feh=(0.00,0.10) dex\n"
     ]
    },
    {
     "data": {
      "text/plain": [
       "Star(name='TOI-5648', star_params=None, source='tic')"
      ]
     },
     "execution_count": 3,
     "metadata": {},
     "output_type": "execute_result"
    }
   ],
   "source": [
    "star = Star(\"TOI-5648\")\n",
    "star"
   ]
  },
  {
   "cell_type": "code",
   "execution_count": 4,
   "id": "9cd527c9-23e7-4fd3-af3c-1d2ae21be32c",
   "metadata": {},
   "outputs": [
    {
     "data": {
      "text/html": [
       "<div>\n",
       "<style scoped>\n",
       "    .dataframe tbody tr th:only-of-type {\n",
       "        vertical-align: middle;\n",
       "    }\n",
       "\n",
       "    .dataframe tbody tr th {\n",
       "        vertical-align: top;\n",
       "    }\n",
       "\n",
       "    .dataframe thead th {\n",
       "        text-align: right;\n",
       "    }\n",
       "</style>\n",
       "<table border=\"1\" class=\"dataframe\">\n",
       "  <thead>\n",
       "    <tr style=\"text-align: right;\">\n",
       "      <th></th>\n",
       "      <th>band</th>\n",
       "      <th>value</th>\n",
       "      <th>value_e</th>\n",
       "      <th>mnotes</th>\n",
       "      <th>mdate</th>\n",
       "      <th>muser</th>\n",
       "      <th>mgroup</th>\n",
       "      <th>mtag</th>\n",
       "      <th>mtabname</th>\n",
       "    </tr>\n",
       "  </thead>\n",
       "  <tbody>\n",
       "    <tr>\n",
       "      <th>0</th>\n",
       "      <td>TESS</td>\n",
       "      <td>13.8994</td>\n",
       "      <td>0.007322</td>\n",
       "      <td>TIC v8.2</td>\n",
       "      <td>2019-04-15</td>\n",
       "      <td>TESS project</td>\n",
       "      <td></td>\n",
       "      <td></td>\n",
       "      <td>tmag</td>\n",
       "    </tr>\n",
       "    <tr>\n",
       "      <th>1</th>\n",
       "      <td>B</td>\n",
       "      <td>17.4610</td>\n",
       "      <td>0.161000</td>\n",
       "      <td>TIC v8.2</td>\n",
       "      <td>2019-04-15</td>\n",
       "      <td>TESS project</td>\n",
       "      <td></td>\n",
       "      <td></td>\n",
       "      <td>bmag</td>\n",
       "    </tr>\n",
       "    <tr>\n",
       "      <th>2</th>\n",
       "      <td>V</td>\n",
       "      <td>15.4100</td>\n",
       "      <td>0.200000</td>\n",
       "      <td>TIC v8.2</td>\n",
       "      <td>2019-04-15</td>\n",
       "      <td>TESS project</td>\n",
       "      <td></td>\n",
       "      <td></td>\n",
       "      <td>vmag</td>\n",
       "    </tr>\n",
       "    <tr>\n",
       "      <th>3</th>\n",
       "      <td>Gaia</td>\n",
       "      <td>15.0191</td>\n",
       "      <td>0.000352</td>\n",
       "      <td>TIC v8.2</td>\n",
       "      <td>2019-04-15</td>\n",
       "      <td>TESS project</td>\n",
       "      <td></td>\n",
       "      <td></td>\n",
       "      <td>gaiamag</td>\n",
       "    </tr>\n",
       "    <tr>\n",
       "      <th>4</th>\n",
       "      <td>u</td>\n",
       "      <td>19.4133</td>\n",
       "      <td>0.023897</td>\n",
       "      <td>TIC v8.2</td>\n",
       "      <td>2019-04-15</td>\n",
       "      <td>TESS project</td>\n",
       "      <td></td>\n",
       "      <td></td>\n",
       "      <td>umag</td>\n",
       "    </tr>\n",
       "    <tr>\n",
       "      <th>5</th>\n",
       "      <td>g</td>\n",
       "      <td>16.7600</td>\n",
       "      <td>0.004731</td>\n",
       "      <td>TIC v8.2</td>\n",
       "      <td>2019-04-15</td>\n",
       "      <td>TESS project</td>\n",
       "      <td></td>\n",
       "      <td></td>\n",
       "      <td>gmag</td>\n",
       "    </tr>\n",
       "    <tr>\n",
       "      <th>6</th>\n",
       "      <td>r</td>\n",
       "      <td>15.3458</td>\n",
       "      <td>0.004364</td>\n",
       "      <td>TIC v8.2</td>\n",
       "      <td>2019-04-15</td>\n",
       "      <td>TESS project</td>\n",
       "      <td></td>\n",
       "      <td></td>\n",
       "      <td>rmag</td>\n",
       "    </tr>\n",
       "    <tr>\n",
       "      <th>7</th>\n",
       "      <td>i</td>\n",
       "      <td>14.3475</td>\n",
       "      <td>0.004772</td>\n",
       "      <td>TIC v8.2</td>\n",
       "      <td>2019-04-15</td>\n",
       "      <td>TESS project</td>\n",
       "      <td></td>\n",
       "      <td></td>\n",
       "      <td>imag</td>\n",
       "    </tr>\n",
       "    <tr>\n",
       "      <th>8</th>\n",
       "      <td>z</td>\n",
       "      <td>13.7822</td>\n",
       "      <td>0.004755</td>\n",
       "      <td>TIC v8.2</td>\n",
       "      <td>2019-04-15</td>\n",
       "      <td>TESS project</td>\n",
       "      <td></td>\n",
       "      <td></td>\n",
       "      <td>zmag</td>\n",
       "    </tr>\n",
       "    <tr>\n",
       "      <th>9</th>\n",
       "      <td>J</td>\n",
       "      <td>12.5040</td>\n",
       "      <td>0.018000</td>\n",
       "      <td>TIC v8.2</td>\n",
       "      <td>2019-04-15</td>\n",
       "      <td>TESS project</td>\n",
       "      <td></td>\n",
       "      <td></td>\n",
       "      <td>jmag</td>\n",
       "    </tr>\n",
       "    <tr>\n",
       "      <th>10</th>\n",
       "      <td>H</td>\n",
       "      <td>11.8230</td>\n",
       "      <td>0.024000</td>\n",
       "      <td>TIC v8.2</td>\n",
       "      <td>2019-04-15</td>\n",
       "      <td>TESS project</td>\n",
       "      <td></td>\n",
       "      <td></td>\n",
       "      <td>hmag</td>\n",
       "    </tr>\n",
       "    <tr>\n",
       "      <th>11</th>\n",
       "      <td>K</td>\n",
       "      <td>11.6330</td>\n",
       "      <td>0.023000</td>\n",
       "      <td>TIC v8.2</td>\n",
       "      <td>2019-04-15</td>\n",
       "      <td>TESS project</td>\n",
       "      <td></td>\n",
       "      <td></td>\n",
       "      <td>kmag</td>\n",
       "    </tr>\n",
       "    <tr>\n",
       "      <th>12</th>\n",
       "      <td>WISE 3.4 micron</td>\n",
       "      <td>11.5350</td>\n",
       "      <td>0.026000</td>\n",
       "      <td>TIC v8.2</td>\n",
       "      <td>2019-04-15</td>\n",
       "      <td>TESS project</td>\n",
       "      <td></td>\n",
       "      <td></td>\n",
       "      <td>w1mag</td>\n",
       "    </tr>\n",
       "    <tr>\n",
       "      <th>13</th>\n",
       "      <td>WISE 4.6 micron</td>\n",
       "      <td>11.4840</td>\n",
       "      <td>0.026000</td>\n",
       "      <td>TIC v8.2</td>\n",
       "      <td>2019-04-15</td>\n",
       "      <td>TESS project</td>\n",
       "      <td></td>\n",
       "      <td></td>\n",
       "      <td>w2mag</td>\n",
       "    </tr>\n",
       "    <tr>\n",
       "      <th>14</th>\n",
       "      <td>WISE 12 micron</td>\n",
       "      <td>11.1360</td>\n",
       "      <td>0.140000</td>\n",
       "      <td>TIC v8.2</td>\n",
       "      <td>2019-04-15</td>\n",
       "      <td>TESS project</td>\n",
       "      <td></td>\n",
       "      <td></td>\n",
       "      <td>w3mag</td>\n",
       "    </tr>\n",
       "    <tr>\n",
       "      <th>15</th>\n",
       "      <td>WISE 22 micron</td>\n",
       "      <td>8.7960</td>\n",
       "      <td>NaN</td>\n",
       "      <td>TIC v8.2</td>\n",
       "      <td>2019-04-15</td>\n",
       "      <td>TESS project</td>\n",
       "      <td></td>\n",
       "      <td></td>\n",
       "      <td>w4mag</td>\n",
       "    </tr>\n",
       "  </tbody>\n",
       "</table>\n",
       "</div>"
      ],
      "text/plain": [
       "               band    value   value_e    mnotes       mdate         muser  \\\n",
       "0              TESS  13.8994  0.007322  TIC v8.2  2019-04-15  TESS project   \n",
       "1                 B  17.4610  0.161000  TIC v8.2  2019-04-15  TESS project   \n",
       "2                 V  15.4100  0.200000  TIC v8.2  2019-04-15  TESS project   \n",
       "3              Gaia  15.0191  0.000352  TIC v8.2  2019-04-15  TESS project   \n",
       "4                 u  19.4133  0.023897  TIC v8.2  2019-04-15  TESS project   \n",
       "5                 g  16.7600  0.004731  TIC v8.2  2019-04-15  TESS project   \n",
       "6                 r  15.3458  0.004364  TIC v8.2  2019-04-15  TESS project   \n",
       "7                 i  14.3475  0.004772  TIC v8.2  2019-04-15  TESS project   \n",
       "8                 z  13.7822  0.004755  TIC v8.2  2019-04-15  TESS project   \n",
       "9                 J  12.5040  0.018000  TIC v8.2  2019-04-15  TESS project   \n",
       "10                H  11.8230  0.024000  TIC v8.2  2019-04-15  TESS project   \n",
       "11                K  11.6330  0.023000  TIC v8.2  2019-04-15  TESS project   \n",
       "12  WISE 3.4 micron  11.5350  0.026000  TIC v8.2  2019-04-15  TESS project   \n",
       "13  WISE 4.6 micron  11.4840  0.026000  TIC v8.2  2019-04-15  TESS project   \n",
       "14   WISE 12 micron  11.1360  0.140000  TIC v8.2  2019-04-15  TESS project   \n",
       "15   WISE 22 micron   8.7960       NaN  TIC v8.2  2019-04-15  TESS project   \n",
       "\n",
       "   mgroup mtag mtabname  \n",
       "0                  tmag  \n",
       "1                  bmag  \n",
       "2                  vmag  \n",
       "3               gaiamag  \n",
       "4                  umag  \n",
       "5                  gmag  \n",
       "6                  rmag  \n",
       "7                  imag  \n",
       "8                  zmag  \n",
       "9                  jmag  \n",
       "10                 hmag  \n",
       "11                 kmag  \n",
       "12                w1mag  \n",
       "13                w2mag  \n",
       "14                w3mag  \n",
       "15                w4mag  "
      ]
     },
     "execution_count": 4,
     "metadata": {},
     "output_type": "execute_result"
    }
   ],
   "source": [
    "star.magnitudes"
   ]
  },
  {
   "cell_type": "code",
   "execution_count": 5,
   "id": "c3c78fa6-1f46-45b8-9e19-0e1224da27d7",
   "metadata": {},
   "outputs": [
    {
     "name": "stdout",
     "output_type": "stream",
     "text": [
      "Gaia 15.0191 0.000352\n",
      "V 15.41 0.2\n",
      "J 12.504 0.018\n",
      "H 11.823 0.024\n",
      "K 11.633 0.023\n"
     ]
    }
   ],
   "source": [
    "bands=['Gaia','V','J','H','K']\n",
    "mags = {}\n",
    "for band in bands:\n",
    "    val=star.magnitudes.query(\"band==@band\").value.squeeze()\n",
    "    err=star.magnitudes.query(\"band==@band\").value_e.squeeze()\n",
    "    mags[band]=(val,err)\n",
    "    print(band,val,err)"
   ]
  },
  {
   "cell_type": "code",
   "execution_count": 6,
   "id": "9a1e6650-68cc-47f0-8e51-45f739939abc",
   "metadata": {},
   "outputs": [
    {
     "name": "stdout",
     "output_type": "stream",
     "text": [
      "Querying Gaia sources 30\" around TOI-5648: (211.0096, 38.6202) deg.\n"
     ]
    },
    {
     "data": {
      "text/html": [
       "<div>\n",
       "<style scoped>\n",
       "    .dataframe tbody tr th:only-of-type {\n",
       "        vertical-align: middle;\n",
       "    }\n",
       "\n",
       "    .dataframe tbody tr th {\n",
       "        vertical-align: top;\n",
       "    }\n",
       "\n",
       "    .dataframe thead th {\n",
       "        text-align: right;\n",
       "    }\n",
       "</style>\n",
       "<table border=\"1\" class=\"dataframe\">\n",
       "  <thead>\n",
       "    <tr style=\"text-align: right;\">\n",
       "      <th></th>\n",
       "      <th>solution_id</th>\n",
       "      <th>designation</th>\n",
       "      <th>source_id</th>\n",
       "      <th>random_index</th>\n",
       "      <th>ref_epoch</th>\n",
       "      <th>ra</th>\n",
       "      <th>ra_error</th>\n",
       "      <th>dec</th>\n",
       "      <th>dec_error</th>\n",
       "      <th>parallax</th>\n",
       "      <th>...</th>\n",
       "      <th>e_bp_min_rp_percentile_lower</th>\n",
       "      <th>e_bp_min_rp_percentile_upper</th>\n",
       "      <th>flame_flags</th>\n",
       "      <th>radius_val</th>\n",
       "      <th>radius_percentile_lower</th>\n",
       "      <th>radius_percentile_upper</th>\n",
       "      <th>lum_val</th>\n",
       "      <th>lum_percentile_lower</th>\n",
       "      <th>lum_percentile_upper</th>\n",
       "      <th>distance</th>\n",
       "    </tr>\n",
       "  </thead>\n",
       "  <tbody>\n",
       "    <tr>\n",
       "      <th>0</th>\n",
       "      <td>1635721458409799680</td>\n",
       "      <td>Gaia DR2 1485436090253565056</td>\n",
       "      <td>1485436090253565056</td>\n",
       "      <td>510364955</td>\n",
       "      <td>2015.5</td>\n",
       "      <td>211.009596</td>\n",
       "      <td>0.020456</td>\n",
       "      <td>38.620245</td>\n",
       "      <td>0.025240</td>\n",
       "      <td>6.097446</td>\n",
       "      <td>...</td>\n",
       "      <td>0.179</td>\n",
       "      <td>0.4811</td>\n",
       "      <td>NaN</td>\n",
       "      <td>NaN</td>\n",
       "      <td>NaN</td>\n",
       "      <td>NaN</td>\n",
       "      <td>NaN</td>\n",
       "      <td>NaN</td>\n",
       "      <td>NaN</td>\n",
       "      <td>0.000014</td>\n",
       "    </tr>\n",
       "    <tr>\n",
       "      <th>1</th>\n",
       "      <td>1635721458409799680</td>\n",
       "      <td>Gaia DR2 1485436090253564928</td>\n",
       "      <td>1485436090253564928</td>\n",
       "      <td>1473060304</td>\n",
       "      <td>2015.5</td>\n",
       "      <td>211.009220</td>\n",
       "      <td>0.029892</td>\n",
       "      <td>38.618331</td>\n",
       "      <td>0.037424</td>\n",
       "      <td>5.951009</td>\n",
       "      <td>...</td>\n",
       "      <td>0.163</td>\n",
       "      <td>0.4121</td>\n",
       "      <td>NaN</td>\n",
       "      <td>NaN</td>\n",
       "      <td>NaN</td>\n",
       "      <td>NaN</td>\n",
       "      <td>NaN</td>\n",
       "      <td>NaN</td>\n",
       "      <td>NaN</td>\n",
       "      <td>6.973042</td>\n",
       "    </tr>\n",
       "    <tr>\n",
       "      <th>2</th>\n",
       "      <td>1635721458409799680</td>\n",
       "      <td>Gaia DR2 1485436090253595008</td>\n",
       "      <td>1485436090253595008</td>\n",
       "      <td>1051443067</td>\n",
       "      <td>2015.5</td>\n",
       "      <td>211.006972</td>\n",
       "      <td>0.313153</td>\n",
       "      <td>38.624250</td>\n",
       "      <td>0.417065</td>\n",
       "      <td>0.924949</td>\n",
       "      <td>...</td>\n",
       "      <td>NaN</td>\n",
       "      <td>NaN</td>\n",
       "      <td>NaN</td>\n",
       "      <td>NaN</td>\n",
       "      <td>NaN</td>\n",
       "      <td>NaN</td>\n",
       "      <td>NaN</td>\n",
       "      <td>NaN</td>\n",
       "      <td>NaN</td>\n",
       "      <td>16.196514</td>\n",
       "    </tr>\n",
       "  </tbody>\n",
       "</table>\n",
       "<p>3 rows × 95 columns</p>\n",
       "</div>"
      ],
      "text/plain": [
       "           solution_id                   designation            source_id  \\\n",
       "0  1635721458409799680  Gaia DR2 1485436090253565056  1485436090253565056   \n",
       "1  1635721458409799680  Gaia DR2 1485436090253564928  1485436090253564928   \n",
       "2  1635721458409799680  Gaia DR2 1485436090253595008  1485436090253595008   \n",
       "\n",
       "  random_index  ref_epoch          ra  ra_error        dec  dec_error  \\\n",
       "0    510364955     2015.5  211.009596  0.020456  38.620245   0.025240   \n",
       "1   1473060304     2015.5  211.009220  0.029892  38.618331   0.037424   \n",
       "2   1051443067     2015.5  211.006972  0.313153  38.624250   0.417065   \n",
       "\n",
       "   parallax  ...  e_bp_min_rp_percentile_lower  e_bp_min_rp_percentile_upper  \\\n",
       "0  6.097446  ...                         0.179                        0.4811   \n",
       "1  5.951009  ...                         0.163                        0.4121   \n",
       "2  0.924949  ...                           NaN                           NaN   \n",
       "\n",
       "   flame_flags  radius_val  radius_percentile_lower  radius_percentile_upper  \\\n",
       "0          NaN         NaN                      NaN                      NaN   \n",
       "1          NaN         NaN                      NaN                      NaN   \n",
       "2          NaN         NaN                      NaN                      NaN   \n",
       "\n",
       "   lum_val  lum_percentile_lower  lum_percentile_upper   distance  \n",
       "0      NaN                   NaN                   NaN   0.000014  \n",
       "1      NaN                   NaN                   NaN   6.973042  \n",
       "2      NaN                   NaN                   NaN  16.196514  \n",
       "\n",
       "[3 rows x 95 columns]"
      ]
     },
     "execution_count": 6,
     "metadata": {},
     "output_type": "execute_result"
    }
   ],
   "source": [
    "star.get_gaia_sources()"
   ]
  },
  {
   "cell_type": "code",
   "execution_count": 7,
   "id": "d3305cb6-db79-467b-8bb2-cce97284c283",
   "metadata": {},
   "outputs": [
    {
     "name": "stdout",
     "output_type": "stream",
     "text": [
      "Loaded: ../data/Mamajek_table.csv\n",
      "Gaia Teff=3850.5,617.9385294873591 K\n",
      "Gaia=(15.0191,0.000352)\n",
      "V=(15.41,0.2)\n",
      "J=(12.504,0.018)\n",
      "H=(11.823,0.024)\n",
      "K=(11.633,0.023)\n",
      "WISE 3.4 micron=(11.535,0.026)\n",
      "WISE 4.6 micron=(11.484,0.026)\n",
      "WISE 12 micron=(11.136,0.14)\n",
      "Gaia Bp-Rp=2.27+/-0.01\n",
      "J-H=0.68+/-0.04\n",
      "H-Ks=0.19+/-0.05\n",
      "W1-W2=0.05+/-0.05\n"
     ]
    },
    {
     "data": {
      "text/plain": [
       "'K5V'"
      ]
     },
     "execution_count": 7,
     "metadata": {},
     "output_type": "execute_result"
    }
   ],
   "source": [
    "star.get_spectral_type(columns=\"Teff Bp-Rp J-H H-Ks W1-W2\".split())"
   ]
  },
  {
   "cell_type": "markdown",
   "id": "0425eedc-f87e-4319-8e5d-5947d922bb7d",
   "metadata": {},
   "source": [
    "## SED fit"
   ]
  },
  {
   "cell_type": "code",
   "execution_count": 8,
   "id": "27e0fba0-eb53-4268-8215-10552f3e3363",
   "metadata": {},
   "outputs": [],
   "source": [
    "import sys\n",
    "\n",
    "sys.path.insert(1, \"/ut3/muscat/src/AFPy\")"
   ]
  },
  {
   "cell_type": "code",
   "execution_count": 9,
   "id": "35ae3d41-6697-4e51-a58d-2153eade514b",
   "metadata": {},
   "outputs": [
    {
     "data": {
      "text/plain": [
       "19"
      ]
     },
     "execution_count": 9,
     "metadata": {},
     "output_type": "execute_result"
    }
   ],
   "source": [
    "import numpy as np\n",
    "import matplotlib.pyplot as plt\n",
    "from scipy import interpolate, signal, optimize\n",
    "import sed_fitting as sed\n",
    "import LC_funcs as lc_func\n",
    "\n",
    "import emcee\n",
    "import corner\n",
    "from multiprocessing import Pool\n",
    "\n",
    "import os\n",
    "os.environ['OMP_NUM_THREADS']='1'\n",
    "os.nice(19)"
   ]
  },
  {
   "cell_type": "code",
   "execution_count": 10,
   "id": "2373332f-f3f8-4c2d-8f68-5dd2149cc926",
   "metadata": {},
   "outputs": [
    {
     "name": "stdout",
     "output_type": "stream",
     "text": [
      "lte040-4.5-0.5a+0.0.BT-Settl.7.dat.txt\n",
      "lte040-4.5-0.5a+0.2.BT-Settl.7.dat.txt\n",
      "lte040-5.0-0.0a+0.0.BT-Settl.7.dat.txt\n",
      "lte040-5.0+0.3a+0.0.BT-Settl.7.dat.txt\n",
      "lte040-5.0+0.5a+0.0.BT-Settl.7.dat.txt\n",
      "lte040-5.0-0.5a+0.2.BT-Settl.7.dat.txt\n",
      "lte040-5.5-0.0a+0.0.BT-Settl.7.dat.txt\n",
      "lte040-5.5+0.3a+0.0.BT-Settl.7.dat.txt\n",
      "lte040-5.5+0.5a+0.0.BT-Settl.7.dat.txt\n",
      "lte040-5.5-0.5a+0.2.BT-Settl.7.dat.txt\n"
     ]
    }
   ],
   "source": [
    "ls /ut3/afukui/analysis/SED_fit_v2/BT-Settl/bt-settl-agss/ | tail"
   ]
  },
  {
   "cell_type": "code",
   "execution_count": 11,
   "id": "a4cb9bda-2ae9-4c37-b4db-6da5e69e6c49",
   "metadata": {},
   "outputs": [
    {
     "name": "stdout",
     "output_type": "stream",
     "text": [
      "15 4 4\n"
     ]
    }
   ],
   "source": [
    "wlmin=3000\n",
    "wlmax=300_000\n",
    "\n",
    "wl_grid1 = np.arange(wlmin, wlmax, 0.1)\n",
    "wl_grid2 = np.arange(wlmin, wlmax, 10)\n",
    "\n",
    "t_grids = np.arange(3000,4500,100)\n",
    "g_grids = np.array([4.0, 4.5, 5.0, 5.5])\n",
    "m_grids = np.array([-0.5, 0.0, 0.3, 0.5])\n",
    "\n",
    "nt = len(t_grids)\n",
    "ng = len(g_grids)\n",
    "nm = len(m_grids)\n",
    "\n",
    "print(nt, ng, nm)"
   ]
  },
  {
   "cell_type": "code",
   "execution_count": 12,
   "id": "a5f85d1d-f168-4a69-8fcc-d2df78c664e6",
   "metadata": {},
   "outputs": [
    {
     "ename": "FileNotFoundError",
     "evalue": "/ut3/afukui/analysis/SED_fit_v2/BT-Settl/bt-settl-agss/lte041-4.0-0.5a+0.0.BT-Settl.7.dat.txt not found.",
     "output_type": "error",
     "traceback": [
      "\u001b[0;31m---------------------------------------------------------------------------\u001b[0m",
      "\u001b[0;31mFileNotFoundError\u001b[0m                         Traceback (most recent call last)",
      "File \u001b[0;32m<timed exec>:11\u001b[0m\n",
      "File \u001b[0;32m/mnt_ut3/raid_ut3/home/jerome/github/research/project/toi5671/notebooks/../sed_fitting.py:30\u001b[0m, in \u001b[0;36mload_bt_settl\u001b[0;34m(t, g, m, a)\u001b[0m\n\u001b[1;32m     27\u001b[0m \u001b[38;5;28;01melse\u001b[39;00m:\n\u001b[1;32m     28\u001b[0m     filename \u001b[38;5;241m=\u001b[39m path \u001b[38;5;241m+\u001b[39m \u001b[38;5;124m'\u001b[39m\u001b[38;5;124mBT-Settl/bt-settl-agss/lte\u001b[39m\u001b[38;5;132;01m{0:03d}\u001b[39;00m\u001b[38;5;124m-\u001b[39m\u001b[38;5;132;01m{1:.1f}\u001b[39;00m\u001b[38;5;132;01m{2}\u001b[39;00m\u001b[38;5;124ma+0.0.BT-Settl.7.dat.txt\u001b[39m\u001b[38;5;124m'\u001b[39m\\\n\u001b[1;32m     29\u001b[0m                 \u001b[38;5;241m.\u001b[39mformat(\u001b[38;5;28mint\u001b[39m(t\u001b[38;5;241m/\u001b[39m\u001b[38;5;241m100\u001b[39m),g,m_str)\n\u001b[0;32m---> 30\u001b[0m wl, spec \u001b[38;5;241m=\u001b[39m \u001b[43mnp\u001b[49m\u001b[38;5;241;43m.\u001b[39;49m\u001b[43mloadtxt\u001b[49m\u001b[43m(\u001b[49m\u001b[43mfilename\u001b[49m\u001b[43m,\u001b[49m\u001b[43m \u001b[49m\u001b[43munpack\u001b[49m\u001b[38;5;241;43m=\u001b[39;49m\u001b[38;5;28;43;01mTrue\u001b[39;49;00m\u001b[43m,\u001b[49m\u001b[43m \u001b[49m\u001b[43mdtype\u001b[49m\u001b[38;5;241;43m=\u001b[39;49m\u001b[38;5;28;43mfloat\u001b[39;49m\u001b[43m)\u001b[49m\n\u001b[1;32m     31\u001b[0m \u001b[38;5;28;01mreturn\u001b[39;00m wl, spec\n",
      "File \u001b[0;32m~/miniconda3/envs/toi5671/lib/python3.10/site-packages/numpy/lib/npyio.py:1373\u001b[0m, in \u001b[0;36mloadtxt\u001b[0;34m(fname, dtype, comments, delimiter, converters, skiprows, usecols, unpack, ndmin, encoding, max_rows, quotechar, like)\u001b[0m\n\u001b[1;32m   1370\u001b[0m \u001b[38;5;28;01mif\u001b[39;00m \u001b[38;5;28misinstance\u001b[39m(delimiter, \u001b[38;5;28mbytes\u001b[39m):\n\u001b[1;32m   1371\u001b[0m     delimiter \u001b[38;5;241m=\u001b[39m delimiter\u001b[38;5;241m.\u001b[39mdecode(\u001b[38;5;124m'\u001b[39m\u001b[38;5;124mlatin1\u001b[39m\u001b[38;5;124m'\u001b[39m)\n\u001b[0;32m-> 1373\u001b[0m arr \u001b[38;5;241m=\u001b[39m \u001b[43m_read\u001b[49m\u001b[43m(\u001b[49m\u001b[43mfname\u001b[49m\u001b[43m,\u001b[49m\u001b[43m \u001b[49m\u001b[43mdtype\u001b[49m\u001b[38;5;241;43m=\u001b[39;49m\u001b[43mdtype\u001b[49m\u001b[43m,\u001b[49m\u001b[43m \u001b[49m\u001b[43mcomment\u001b[49m\u001b[38;5;241;43m=\u001b[39;49m\u001b[43mcomment\u001b[49m\u001b[43m,\u001b[49m\u001b[43m \u001b[49m\u001b[43mdelimiter\u001b[49m\u001b[38;5;241;43m=\u001b[39;49m\u001b[43mdelimiter\u001b[49m\u001b[43m,\u001b[49m\n\u001b[1;32m   1374\u001b[0m \u001b[43m            \u001b[49m\u001b[43mconverters\u001b[49m\u001b[38;5;241;43m=\u001b[39;49m\u001b[43mconverters\u001b[49m\u001b[43m,\u001b[49m\u001b[43m \u001b[49m\u001b[43mskiplines\u001b[49m\u001b[38;5;241;43m=\u001b[39;49m\u001b[43mskiprows\u001b[49m\u001b[43m,\u001b[49m\u001b[43m \u001b[49m\u001b[43musecols\u001b[49m\u001b[38;5;241;43m=\u001b[39;49m\u001b[43musecols\u001b[49m\u001b[43m,\u001b[49m\n\u001b[1;32m   1375\u001b[0m \u001b[43m            \u001b[49m\u001b[43munpack\u001b[49m\u001b[38;5;241;43m=\u001b[39;49m\u001b[43munpack\u001b[49m\u001b[43m,\u001b[49m\u001b[43m \u001b[49m\u001b[43mndmin\u001b[49m\u001b[38;5;241;43m=\u001b[39;49m\u001b[43mndmin\u001b[49m\u001b[43m,\u001b[49m\u001b[43m \u001b[49m\u001b[43mencoding\u001b[49m\u001b[38;5;241;43m=\u001b[39;49m\u001b[43mencoding\u001b[49m\u001b[43m,\u001b[49m\n\u001b[1;32m   1376\u001b[0m \u001b[43m            \u001b[49m\u001b[43mmax_rows\u001b[49m\u001b[38;5;241;43m=\u001b[39;49m\u001b[43mmax_rows\u001b[49m\u001b[43m,\u001b[49m\u001b[43m \u001b[49m\u001b[43mquote\u001b[49m\u001b[38;5;241;43m=\u001b[39;49m\u001b[43mquotechar\u001b[49m\u001b[43m)\u001b[49m\n\u001b[1;32m   1378\u001b[0m \u001b[38;5;28;01mreturn\u001b[39;00m arr\n",
      "File \u001b[0;32m~/miniconda3/envs/toi5671/lib/python3.10/site-packages/numpy/lib/npyio.py:992\u001b[0m, in \u001b[0;36m_read\u001b[0;34m(fname, delimiter, comment, quote, imaginary_unit, usecols, skiplines, max_rows, converters, ndmin, unpack, dtype, encoding)\u001b[0m\n\u001b[1;32m    990\u001b[0m     fname \u001b[38;5;241m=\u001b[39m os\u001b[38;5;241m.\u001b[39mfspath(fname)\n\u001b[1;32m    991\u001b[0m \u001b[38;5;28;01mif\u001b[39;00m \u001b[38;5;28misinstance\u001b[39m(fname, \u001b[38;5;28mstr\u001b[39m):\n\u001b[0;32m--> 992\u001b[0m     fh \u001b[38;5;241m=\u001b[39m \u001b[43mnp\u001b[49m\u001b[38;5;241;43m.\u001b[39;49m\u001b[43mlib\u001b[49m\u001b[38;5;241;43m.\u001b[39;49m\u001b[43m_datasource\u001b[49m\u001b[38;5;241;43m.\u001b[39;49m\u001b[43mopen\u001b[49m\u001b[43m(\u001b[49m\u001b[43mfname\u001b[49m\u001b[43m,\u001b[49m\u001b[43m \u001b[49m\u001b[38;5;124;43m'\u001b[39;49m\u001b[38;5;124;43mrt\u001b[39;49m\u001b[38;5;124;43m'\u001b[39;49m\u001b[43m,\u001b[49m\u001b[43m \u001b[49m\u001b[43mencoding\u001b[49m\u001b[38;5;241;43m=\u001b[39;49m\u001b[43mencoding\u001b[49m\u001b[43m)\u001b[49m\n\u001b[1;32m    993\u001b[0m     \u001b[38;5;28;01mif\u001b[39;00m encoding \u001b[38;5;129;01mis\u001b[39;00m \u001b[38;5;28;01mNone\u001b[39;00m:\n\u001b[1;32m    994\u001b[0m         encoding \u001b[38;5;241m=\u001b[39m \u001b[38;5;28mgetattr\u001b[39m(fh, \u001b[38;5;124m'\u001b[39m\u001b[38;5;124mencoding\u001b[39m\u001b[38;5;124m'\u001b[39m, \u001b[38;5;124m'\u001b[39m\u001b[38;5;124mlatin1\u001b[39m\u001b[38;5;124m'\u001b[39m)\n",
      "File \u001b[0;32m~/miniconda3/envs/toi5671/lib/python3.10/site-packages/numpy/lib/_datasource.py:193\u001b[0m, in \u001b[0;36mopen\u001b[0;34m(path, mode, destpath, encoding, newline)\u001b[0m\n\u001b[1;32m    156\u001b[0m \u001b[38;5;250m\u001b[39m\u001b[38;5;124;03m\"\"\"\u001b[39;00m\n\u001b[1;32m    157\u001b[0m \u001b[38;5;124;03mOpen `path` with `mode` and return the file object.\u001b[39;00m\n\u001b[1;32m    158\u001b[0m \n\u001b[0;32m   (...)\u001b[0m\n\u001b[1;32m    189\u001b[0m \n\u001b[1;32m    190\u001b[0m \u001b[38;5;124;03m\"\"\"\u001b[39;00m\n\u001b[1;32m    192\u001b[0m ds \u001b[38;5;241m=\u001b[39m DataSource(destpath)\n\u001b[0;32m--> 193\u001b[0m \u001b[38;5;28;01mreturn\u001b[39;00m \u001b[43mds\u001b[49m\u001b[38;5;241;43m.\u001b[39;49m\u001b[43mopen\u001b[49m\u001b[43m(\u001b[49m\u001b[43mpath\u001b[49m\u001b[43m,\u001b[49m\u001b[43m \u001b[49m\u001b[43mmode\u001b[49m\u001b[43m,\u001b[49m\u001b[43m \u001b[49m\u001b[43mencoding\u001b[49m\u001b[38;5;241;43m=\u001b[39;49m\u001b[43mencoding\u001b[49m\u001b[43m,\u001b[49m\u001b[43m \u001b[49m\u001b[43mnewline\u001b[49m\u001b[38;5;241;43m=\u001b[39;49m\u001b[43mnewline\u001b[49m\u001b[43m)\u001b[49m\n",
      "File \u001b[0;32m~/miniconda3/envs/toi5671/lib/python3.10/site-packages/numpy/lib/_datasource.py:533\u001b[0m, in \u001b[0;36mDataSource.open\u001b[0;34m(self, path, mode, encoding, newline)\u001b[0m\n\u001b[1;32m    530\u001b[0m     \u001b[38;5;28;01mreturn\u001b[39;00m _file_openers[ext](found, mode\u001b[38;5;241m=\u001b[39mmode,\n\u001b[1;32m    531\u001b[0m                               encoding\u001b[38;5;241m=\u001b[39mencoding, newline\u001b[38;5;241m=\u001b[39mnewline)\n\u001b[1;32m    532\u001b[0m \u001b[38;5;28;01melse\u001b[39;00m:\n\u001b[0;32m--> 533\u001b[0m     \u001b[38;5;28;01mraise\u001b[39;00m \u001b[38;5;167;01mFileNotFoundError\u001b[39;00m(\u001b[38;5;124mf\u001b[39m\u001b[38;5;124m\"\u001b[39m\u001b[38;5;132;01m{\u001b[39;00mpath\u001b[38;5;132;01m}\u001b[39;00m\u001b[38;5;124m not found.\u001b[39m\u001b[38;5;124m\"\u001b[39m)\n",
      "\u001b[0;31mFileNotFoundError\u001b[0m: /ut3/afukui/analysis/SED_fit_v2/BT-Settl/bt-settl-agss/lte041-4.0-0.5a+0.0.BT-Settl.7.dat.txt not found."
     ]
    }
   ],
   "source": [
    "%%time\n",
    "\n",
    "window = np.ones(100) / 100\n",
    "\n",
    "spec_bin = {}\n",
    "a=0\n",
    "\n",
    "for i in range(nt):\n",
    "    for j in range(ng):\n",
    "        for k in range(nm):\n",
    "            \n",
    "            label = '{0:d}-{1:.1f}-{2:.1f}'.format(t_grids[i], g_grids[j], m_grids[k])\n",
    "            wl, spec = sed.load_bt_settl(t_grids[i], g_grids[j], m_grids[k], a)\n",
    "            # wl: Angstrom\n",
    "            # spec: erg cm^-2 s^-1 A^-1\n",
    "            \n",
    "            ## smoothing and interpolating for 0.1 Angstrom grids\n",
    "            spec_savgol = signal.savgol_filter(spec, 3, 1)\n",
    "            spec_func1 = interpolate.interp1d(wl, spec_savgol, kind='linear')\n",
    "            spec_interp1 = spec_func1(wl_grid1)\n",
    "\n",
    "            ## averaging and interpolating for 10 Angstrom grids            \n",
    "            spec_moveave = np.convolve(spec_interp1, window, mode='same')\n",
    "            spec_func2 = interpolate.interp1d(wl_grid1, spec_moveave, kind='linear')\n",
    "            spec_interp2 = spec_func2(wl_grid2)\n",
    "            \n",
    "            spec_bin[label] = spec_interp2"
   ]
  },
  {
   "cell_type": "code",
   "execution_count": 13,
   "id": "c7d8e283-60bc-414a-a96c-c4d25846bc51",
   "metadata": {},
   "outputs": [
    {
     "name": "stdout",
     "output_type": "stream",
     "text": [
      "CPU times: user 26.9 ms, sys: 1.24 ms, total: 28.2 ms\n",
      "Wall time: 32.5 ms\n"
     ]
    },
    {
     "data": {
      "image/png": "[encoded data removed]",
      "text/plain": [
       "<Figure size 960x720 with 1 Axes>"
      ]
     },
     "metadata": {},
     "output_type": "display_data"
    }
   ],
   "source": [
    "%%time\n",
    "\n",
    "#from IRD\n",
    "t = 3571 #+/- 157\n",
    "g = 4.7\n",
    "m = 0.33\n",
    "flux_intp = sed.interp_spectra_3D(t,g,m, spec_bin)\n",
    "plt.plot(wl_grid2, flux_intp, \"k-\", alpha=0.5)\n",
    "\n",
    "# lower\n",
    "t = 3400\n",
    "g = 4.6\n",
    "m = 0\n",
    "flux_intp = sed.interp_spectra_3D(t,g,m, spec_bin)\n",
    "plt.plot(wl_grid2, flux_intp, \"r-\", alpha=0.5, label=\"lower\")\n",
    "\n",
    "# upper\n",
    "t = 3600\n",
    "g = 4.8\n",
    "m = 0.6\n",
    "flux_intp = sed.interp_spectra_3D(t,g,m, spec_bin)\n",
    "plt.plot(wl_grid2, flux_intp, \"b-\", alpha=0.5, label=\"upper\")\n",
    "plt.legend()\n",
    "plt.xscale('log')\n",
    "plt.yscale('log')"
   ]
  },
  {
   "cell_type": "raw",
   "id": "873ab2b6-27e3-477b-84ce-d6dcdd4a813f",
   "metadata": {},
   "source": [
    "star.magnitudes.to_csv(\"../data/magnitudes_companion.csv\", index=False)"
   ]
  },
  {
   "cell_type": "code",
   "execution_count": 14,
   "id": "f0edec12-f45e-432d-afae-e468a2ec168c",
   "metadata": {},
   "outputs": [],
   "source": [
    "magfile = '../data/magnitudes_companion.csv'\n",
    "band,mag,mage = np.genfromtxt(magfile, \n",
    "                              delimiter=',', \n",
    "                              skip_header=1, \n",
    "                              unpack=True, \n",
    "                              dtype=('<U4',float,float), \n",
    "                              usecols=(0,1,2))\n",
    "\n",
    "mag_cat={}\n",
    "mag_cat_err={}\n",
    "mage_floor = 0.\n",
    "\n",
    "for i in range(len(band)):\n",
    "    mag_cat[band[i]] = mag[i]\n",
    "    mag_cat_err[band[i]] = np.sqrt( mage[i]**2 + mage_floor**2 )"
   ]
  },
  {
   "cell_type": "code",
   "execution_count": 15,
   "id": "2f51e604-c537-461a-9ff3-e06953280980",
   "metadata": {},
   "outputs": [
    {
     "name": "stdout",
     "output_type": "stream",
     "text": [
      "0 6390.235967314677 2.491237029158324e-15 8.07668962700826e-19\n",
      "1 5182.576221055991 1.3569266821288924e-15 3.2494167165780917e-18\n",
      "2 7825.080506091992 3.454659896810705e-15 4.1364171574755516e-18\n",
      "3 12412.960507539668 3.1174935466753748e-15 5.1683718010174946e-17\n",
      "4 16513.59127770306 2.113634600850973e-15 4.672150582997635e-17\n",
      "5 21655.55531016508 9.518052027287695e-16 2.0162834735384447e-17\n",
      "6 33791.91321898688 1.989226692901202e-16 4.763578278846558e-18\n",
      "7 46292.96614728299 6.15626257697952e-17 1.4742331175842555e-18\n"
     ]
    }
   ],
   "source": [
    "bands_cat = list(mag_cat.keys())\n",
    "nband_cat = len(bands_cat)\n",
    "\n",
    "trans=[]\n",
    "zero_mag_flux=[]\n",
    "\n",
    "flux_cat = np.zeros(nband_cat)\n",
    "flux_cat_err = np.zeros(nband_cat)\n",
    "wl_cen = np.zeros(nband_cat)\n",
    "\n",
    "for i in range(nband_cat):\n",
    "    if bands_cat[i]=='J' or bands_cat[i]=='H' or bands_cat[i]=='K':\n",
    "        trans.append(sed.load_filter_response('2MASS', bands_cat[i], wl_grid2))\n",
    "        zero_mag_flux.append(sed.zero_mag_flux('2MASS', bands_cat[i]))\n",
    "        \n",
    "    elif bands_cat[i]=='G' or bands_cat[i]=='BP' or bands_cat[i]=='RP':\n",
    "        trans.append(sed.load_filter_response('Gaia', bands_cat[i], wl_grid2))\n",
    "        zero_mag_flux.append(sed.zero_mag_flux('Gaia', bands_cat[i]))\n",
    "\n",
    "    elif bands_cat[i]=='W1' or bands_cat[i]=='W2' or bands_cat[i]=='W3' or bands_cat[i]=='W4':\n",
    "        trans.append(sed.load_filter_response('WISE', bands_cat[i], wl_grid2))\n",
    "        zero_mag_flux.append(sed.zero_mag_flux('WISE', bands_cat[i]))\n",
    "\n",
    "    flux_cat[i] = 10**(-0.4*mag_cat[bands_cat[i]]) * zero_mag_flux[i]\n",
    "    flux_cat_err[i] = 0.4*np.log(10)*flux_cat[i]*mag_cat_err[bands_cat[i]]\n",
    "    wl_cen[i] = np.sum(trans[i]*wl_grid2)/np.sum(trans[i])\n",
    "    print(i, wl_cen[i], flux_cat[i], flux_cat_err[i])"
   ]
  },
  {
   "cell_type": "code",
   "execution_count": 16,
   "id": "a30aee27-760d-4473-9b47-ae9b53abc6f7",
   "metadata": {},
   "outputs": [],
   "source": [
    "Rsun = 6.96e8 # km\n",
    "pc = 3.085677581e16 # m\n",
    "GMsun = 1.32712440041e20 # m^3 s^-2\n",
    "\n",
    "def log_like(p):\n",
    "    \n",
    "    t, rs, ms, m, d, log_jit = p\n",
    "    \n",
    "#    m = m_prior + np.random.randn(1)*m_prior_err\n",
    "#    ms = ms_prior + np.random.randn(1)*ms_prior_err\n",
    "    \n",
    "    if t <= 3000 or t >= 4000:\n",
    "        return -np.inf\n",
    "\n",
    "    if m <= -0.5 or m >= 0.5:\n",
    "        return -np.inf\n",
    "    \n",
    "    if rs <= 0 or d <= 0 or ms <= 0:\n",
    "        return -np.inf\n",
    "    \n",
    "    if log_jit < -10 or log_jit > 10:\n",
    "        return -np.inf\n",
    "    \n",
    "    logg = np.log10( GMsun*ms / (rs*Rsun)**2 *100 ) # cgs\n",
    "    theta = rs*Rsun/(d*pc)\n",
    "    pi = 1e3/d # mas\n",
    "\n",
    "    if logg <= 4.0 or logg >= 5.5:\n",
    "        return -np.inf\n",
    "\n",
    "    jit = np.exp(log_jit)\n",
    "    \n",
    "    flux_intp = sed.interp_spectra_3D(t, logg, m, spec_bin)\n",
    "    \n",
    "    log_like = 0\n",
    "    for i in range(nband_cat):\n",
    "        \n",
    "        flux_model = theta**2 *\\\n",
    "            np.sum(wl_grid2*flux_intp*trans[i])/np.sum(wl_grid2*trans[i])\n",
    "\n",
    "        flux_cat_err2 = (0.4*np.log(10)*flux_cat[i])**2\\\n",
    "                            *(mag_cat_err[bands_cat[i]]**2 +jit**2)\n",
    "        \n",
    "        log_like += -0.5*(flux_cat[i] -flux_model)**2 / flux_cat_err2\\\n",
    "                    -0.5*np.log(2*np.pi*flux_cat_err2)\n",
    "        \n",
    "    # log_like += -0.5*(t - t_prior)**2/t_prior_err**2\n",
    "    # log_like += -0.5*(m - m_prior)**2/m_prior_err**2\n",
    "    log_like += -0.5*(ms - ms_prior)**2/ms_prior_err**2\n",
    "    log_like += -0.5*(rs - rs_prior)**2/rs_prior_err**2\n",
    "    log_like += -0.5*(pi - pi_prior)**2/pi_prior_err**2\n",
    "        \n",
    "    return log_like"
   ]
  },
  {
   "cell_type": "code",
   "execution_count": 17,
   "id": "a003c562-ea5d-4250-86d2-5998e30671c5",
   "metadata": {},
   "outputs": [],
   "source": [
    "def neg_log_like(p):\n",
    "    return -log_like(p)"
   ]
  },
  {
   "cell_type": "code",
   "execution_count": 19,
   "id": "50a4e1eb-2758-416f-af78-ef26224e8018",
   "metadata": {},
   "outputs": [
    {
     "name": "stdout",
     "output_type": "stream",
     "text": [
      "6\n"
     ]
    },
    {
     "data": {
      "text/plain": [
       "18404887045.993828"
      ]
     },
     "execution_count": 19,
     "metadata": {},
     "output_type": "execute_result"
    }
   ],
   "source": [
    "p0 = [3600, 0.5, 0.5, 0.3, 6, -5]\n",
    "print(len(p0))\n",
    "\n",
    "## PRIORS for TOI-5648\n",
    "\n",
    "## from IRD \n",
    "# m_prior = 0.31\n",
    "# m_prior_err = 0.33\n",
    "\n",
    "## from emp. relations (no Fe/H prior)\n",
    "# Ms = 0.5090 +/- 0.0110\n",
    "# Rs = 0.5113 +/- 0.0154\n",
    "\n",
    "ms_prior = 0.5090\n",
    "ms_prior_err = 0.0110 * 5\n",
    "rs_prior = 0.5113\n",
    "rs_prior_err = 0.0154 * 5\n",
    "\n",
    "## from IRD\n",
    "# t_prior = 3278\n",
    "# t_prior_err = 124\n",
    "\n",
    "## from GaiaDR3\n",
    "pi_prior = 6.1066\n",
    "pi_prior_err = 0.0227\n",
    "\n",
    "neg_log_like(p0)"
   ]
  },
  {
   "cell_type": "code",
   "execution_count": 20,
   "id": "9cc7c71f-2ab4-4673-b6ad-60b18d9a792a",
   "metadata": {},
   "outputs": [
    {
     "name": "stdout",
     "output_type": "stream",
     "text": [
      "       message: Maximum number of function evaluations has been exceeded.\n",
      "       success: False\n",
      "        status: 1\n",
      "           fun: -276.5835197069827\n",
      "             x: [ 3.669e+03  5.179e-01  5.529e-01  3.409e-01  1.637e+02\n",
      "                 -9.175e-01]\n",
      "           nit: 722\n",
      "          nfev: 1200\n",
      " final_simplex: (array([[ 3.669e+03,  5.179e-01, ...,  1.637e+02,\n",
      "                        -9.175e-01],\n",
      "                       [ 3.651e+03,  5.152e-01, ...,  1.638e+02,\n",
      "                        -8.728e-01],\n",
      "                       ...,\n",
      "                       [ 3.671e+03,  5.074e-01, ...,  1.635e+02,\n",
      "                        -9.032e-01],\n",
      "                       [ 3.645e+03,  5.100e-01, ...,  1.636e+02,\n",
      "                        -8.964e-01]]), array([-2.766e+02, -2.765e+02, -2.765e+02, -2.765e+02,\n",
      "                       -2.765e+02, -2.764e+02, -2.764e+02]))\n"
     ]
    }
   ],
   "source": [
    "res = optimize.minimize(neg_log_like, p0, method='Nelder-Mead')\n",
    "\n",
    "for i in range(5):\n",
    "    res = optimize.minimize(neg_log_like, res.x, method='Nelder-Mead')\n",
    "print(res)"
   ]
  },
  {
   "cell_type": "code",
   "execution_count": 21,
   "id": "22d3c752-6149-4af8-9bcd-dea410fee013",
   "metadata": {},
   "outputs": [
    {
     "data": {
      "image/png": "[encoded data removed]",
      "text/plain": [
       "<Figure size 960x720 with 1 Axes>"
      ]
     },
     "metadata": {},
     "output_type": "display_data"
    }
   ],
   "source": [
    "t, rs, ms, m, d, log_jit = res.x\n",
    "        \n",
    "# ms = ms_prior\n",
    "# m = m_prior\n",
    "logg = np.log10( GMsun*ms / (rs*Rsun)**2 *100 ) # cgs\n",
    "theta = rs*Rsun/(d*pc)\n",
    "pi = 1e3/d # mas\n",
    "\n",
    "jit = np.exp(log_jit)\n",
    "\n",
    "spec = sed.interp_spectra_3D(t, logg, m, spec_bin)\n",
    "\n",
    "flux_cat_err=np.zeros(nband_cat)\n",
    "for i in range(nband_cat):\n",
    "    flux_cat_err[i] = 0.4*np.log(10)*flux_cat[i]\\\n",
    "                    *np.sqrt((mag_cat_err[bands_cat[i]]**2 +jit**2)) \n",
    "\n",
    "plt.plot(wl_grid2, spec*theta**2)\n",
    "plt.errorbar(wl_cen, flux_cat, yerr=np.sqrt(flux_cat_err**2), fmt='o')\n",
    "plt.xscale('log')\n",
    "plt.yscale('log')"
   ]
  },
  {
   "cell_type": "code",
   "execution_count": 22,
   "id": "a1a088ac-3464-4249-b2b0-5923c89da802",
   "metadata": {},
   "outputs": [
    {
     "data": {
      "text/plain": [
       "0.04335714769754591"
      ]
     },
     "execution_count": 22,
     "metadata": {},
     "output_type": "execute_result"
    }
   ],
   "source": [
    "Lsun = 3.839e33 # erg/s\n",
    "Rsun = 6.96e8 # m\n",
    "#Rsun = 696000*1e2 # cm\n",
    "Ltot = np.sum(10*spec) * 4*np.pi*(rs*Rsun*1e2)**2\n",
    "\n",
    "Ltot/Lsun"
   ]
  },
  {
   "cell_type": "code",
   "execution_count": 23,
   "id": "e7a9fed8-da60-4bee-ab86-37b1db8b869a",
   "metadata": {
    "tags": []
   },
   "outputs": [
    {
     "name": "stderr",
     "output_type": "stream",
     "text": [
      "100%|█████████████████████████████████████████████████████████████████████████████████████████████████████████████████████████████████████████████████████████████████████████████| 5000/5000 [02:13<00:00, 37.44it/s]"
     ]
    },
    {
     "name": "stdout",
     "output_type": "stream",
     "text": [
      "CPU times: user 1min 2s, sys: 10.3 s, total: 1min 12s\n",
      "Wall time: 2min 13s\n"
     ]
    },
    {
     "name": "stderr",
     "output_type": "stream",
     "text": [
      "\n"
     ]
    }
   ],
   "source": [
    "%%time\n",
    "\n",
    "ndim, nwalkers = len(p0), 30\n",
    "pos = [res.x + 1e-5*np.random.randn(ndim) for i in range(nwalkers)]\n",
    "\n",
    "nsteps = 5_000\n",
    "\n",
    "filename = 'mcmc_fit_sed_TOI-5648.hd5'\n",
    "!rm -f $filename\n",
    "backend = emcee.backends.HDFBackend(filename)\n",
    "backend.reset(nwalkers, ndim)\n",
    "\n",
    "with Pool(12) as pool:\n",
    "    sampler = emcee.EnsembleSampler(nwalkers, ndim, log_like,\\\n",
    "                backend=backend, pool=pool)\n",
    "    sampler.run_mcmc(pos, nsteps, progress=True)"
   ]
  },
  {
   "cell_type": "code",
   "execution_count": null,
   "id": "674f8f88-ba62-4319-a2ba-247da525cc0f",
   "metadata": {},
   "outputs": [
    {
     "name": "stderr",
     "output_type": "stream",
     "text": [
      " 81%|████████████████████████████████████████████████████████████████████████████████████████████████████████████████████████████████████████████▋                                | 4065/5000 [02:08<00:30, 30.92it/s]"
     ]
    }
   ],
   "source": [
    "samples = sampler.get_chain()\n",
    "pos = samples[-1,:,:]\n",
    "\n",
    "nsteps = 5_000\n",
    "\n",
    "filename = 'mcmc_fit_sed_TOI-5648.hd5'\n",
    "!rm -f $filename\n",
    "backend = emcee.backends.HDFBackend(filename)\n",
    "backend.reset(nwalkers, ndim)\n",
    "\n",
    "with Pool(12) as pool:\n",
    "    sampler = emcee.EnsembleSampler(nwalkers, ndim, log_like,\\\n",
    "                backend=backend, pool=pool)\n",
    "    sampler.run_mcmc(pos, nsteps, progress=True)"
   ]
  },
  {
   "cell_type": "code",
   "execution_count": null,
   "id": "59365dd9-b59e-430e-95f9-974b3654e2b5",
   "metadata": {},
   "outputs": [],
   "source": [
    "log_prob = sampler.get_log_prob()\n",
    "for i in range(nwalkers):\n",
    "    plt.plot(log_prob[:,i],alpha=0.1)"
   ]
  },
  {
   "cell_type": "code",
   "execution_count": null,
   "id": "bd3f3089-8845-4df7-b84e-8270eb1b5ee8",
   "metadata": {},
   "outputs": [],
   "source": [
    "n0=3_000\n",
    "log_prob = sampler.get_log_prob(flat=True, discard=n0, thin=10)\n",
    "samples = sampler.get_chain(flat=True, discard=n0, thin=10)\n",
    "\n",
    "mask = (log_prob > 0)\n",
    "#& (samples[:,10] > 0.001)\n",
    "    \n",
    "plt.rcParams['font.size']=16\n",
    "\n",
    "fig = corner.corner(samples[:,:][mask],\n",
    "                    labels=['t', 'rs', 'ms', 'm', 'd', 'log_jit'],\n",
    "                    show_titles=True\n",
    "                   )"
   ]
  },
  {
   "cell_type": "code",
   "execution_count": null,
   "id": "31b15919-8014-41ae-a1d5-36e19ab16aa9",
   "metadata": {},
   "outputs": [],
   "source": [
    "# for BHAC15\n",
    "sig_B = 5.670374419e-8 # W m^-2 K^-4\n",
    "Lsun = 3.839e26 # W\n",
    "Tsun = (Lsun/(4*np.pi*sig_B*Rsun**2))**0.25\n",
    "#print(Tsun)\n",
    "Msun = 1.9891e33 # g\n",
    "\n",
    "\n",
    "Teff = samples[:,0]\n",
    "Rs = samples[:,1]\n",
    "Ms = samples[:,2]\n",
    "feh = samples[:,3]\n",
    "d = samples[:,4]\n",
    "log_jit = samples[:,5]\n",
    "jit = np.exp(log_jit)\n",
    "\n",
    "\n",
    "Ms = ms_prior + np.random.randn(len(Rs))*ms_prior_err\n",
    "logg = np.log10( GMsun*Ms / (Rs*Rsun)**2 *100 ) # cgs\n",
    "\n",
    "val = lc_func.percentile(jit)\n",
    "print('jit = ${0:.4f}\\ ^{{+{1:.4f}}}_{{-{2:.4f}}}$'.format(val[0], val[2]-val[0], val[0]-val[1]))\n",
    "\n",
    "\n",
    "val = lc_func.percentile(Teff)\n",
    "print('Teff = ${0:.0f}\\ ^{{+{1:.0f}}}_{{-{2:.0f}}}$'.format(val[0], val[2]-val[0], val[0]-val[1]))\n",
    "\n",
    "val = lc_func.percentile(feh)\n",
    "print('[Fe/H] = ${0:.3f}\\ ^{{+{1:.3f}}}_{{-{2:.3f}}}$'.format(val[0], val[2]-val[0], val[0]-val[1]))\n",
    "\n",
    "val = lc_func.percentile(Rs)\n",
    "print('Rs = ${0:.4f}\\ ^{{+{1:.4f}}}_{{-{2:.4f}}}$'.format(val[0], val[2]-val[0], val[0]-val[1]))\n",
    "\n",
    "val = lc_func.percentile(Ms)\n",
    "print('Ms = ${0:.4f}\\ ^{{+{1:.4f}}}_{{-{2:.4f}}}$'.format(val[0], val[2]-val[0], val[0]-val[1]))\n",
    "\n",
    "val = lc_func.percentile(d)\n",
    "print('d = ${0:.4f}\\ ^{{+{1:.4f}}}_{{-{2:.4f}}}$'.format(val[0], val[2]-val[0], val[0]-val[1]))\n",
    "\n",
    "val = lc_func.percentile(logg)\n",
    "print('logg = ${0:.3f}\\ ^{{+{1:.3f}}}_{{-{2:.3f}}}$'.format(val[0], val[2]-val[0], val[0]-val[1]))\n",
    "\n",
    "rhos = (Ms*Msun)/(4/3*np.pi*(Rs*Rsun*1e2)**3) # g cm^-3\n",
    "val = lc_func.percentile(rhos)\n",
    "print('rhos (g cm^-3) = ${0:.1f}\\ ^{{+{1:.1f}}}_{{-{2:.1f}}}$'.format(val[0], val[2]-val[0], val[0]-val[1]))\n",
    "\n",
    "rhos = Ms/(Rs**3) # rho_sun\n",
    "val = lc_func.percentile(rhos)\n",
    "print('rhos (rho_sun) = ${0:.2f}\\ ^{{+{1:.2f}}}_{{-{2:.2f}}}$'.format(val[0], val[2]-val[0], val[0]-val[1]))\n",
    "\n",
    "\n",
    "\n",
    "logL = 2*np.log(Rs) + 4*(np.log(Teff)-np.log(Tsun))\n",
    "L = np.exp(logL)\n",
    "val = lc_func.percentile(L)\n",
    "print('L (Lsun) = ${0:.5f}\\ ^{{+{1:.5f}}}_{{-{2:.5f}}}$'.format(val[0], val[2]-val[0], val[0]-val[1]))"
   ]
  },
  {
   "cell_type": "code",
   "execution_count": null,
   "id": "50ac17ce-0190-453e-96cd-f719319a309c",
   "metadata": {},
   "outputs": [],
   "source": []
  }
 ],
 "metadata": {
  "kernelspec": {
   "display_name": "Python 3 (ipykernel)",
   "language": "python",
   "name": "python3"
  },
  "language_info": {
   "codemirror_mode": {
    "name": "ipython",
    "version": 3
   },
   "file_extension": ".py",
   "mimetype": "text/x-python",
   "name": "python",
   "nbconvert_exporter": "python",
   "pygments_lexer": "ipython3",
   "version": "3.10.13"
  }
 },
 "nbformat": 4,
 "nbformat_minor": 5
}
