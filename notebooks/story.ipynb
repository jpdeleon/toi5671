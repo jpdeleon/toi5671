{
 "cells": [
  {
   "cell_type": "markdown",
   "id": "7e16701a-757a-40bc-b9f6-73a3dca23ab9",
   "metadata": {},
   "source": [
    "Story:\n",
    "* Giant planets around M dwarf is rare"
   ]
  },
  {
   "cell_type": "markdown",
   "id": "aeeb6761-d5b5-473b-9625-d7dc3430bd46",
   "metadata": {},
   "source": [
    "https://docs.google.com/document/d/1ac3Ei_31-UzBYVrhJATnpB1RVMSr5qAoW6NCSSfo0bY/edit?usp=sharing"
   ]
  },
  {
   "cell_type": "raw",
   "id": "6e22b467-0b94-4449-ab5b-12b95f1fd255",
   "metadata": {},
   "source": [
    "!python -m pip install lightkurve"
   ]
  },
  {
   "cell_type": "raw",
   "id": "1ed8a09e-2bab-4cc9-b16a-44b8800d074e",
   "metadata": {},
   "source": [
    "!python -m pip install transitleastsquares"
   ]
  },
  {
   "cell_type": "code",
   "execution_count": 1,
   "id": "d2eff274-9558-448e-b25a-7aea15ff790a",
   "metadata": {},
   "outputs": [],
   "source": [
    "import json\n",
    "from urllib.request import urlopen\n",
    "\n",
    "def get_exofop_json(target_name):\n",
    "    url = f\"https://exofop.ipac.caltech.edu/tess/target.php?id={target_name}&json\"\n",
    "    print(f\"Querying data from exofop:\\n{url}\")\n",
    "    response = urlopen(url)\n",
    "    data_json = json.loads(response.read())\n",
    "    return data_json"
   ]
  },
  {
   "cell_type": "code",
   "execution_count": 2,
   "id": "a3c66450-5c0c-482f-877a-89ead88d6fbb",
   "metadata": {},
   "outputs": [
    {
     "name": "stdout",
     "output_type": "stream",
     "text": [
      "Querying data from exofop:\n",
      "https://exofop.ipac.caltech.edu/tess/target.php?id=TOI-5671&json\n"
     ]
    }
   ],
   "source": [
    "target_name = \"TOI 5671\"\n",
    "data_json = get_exofop_json(target_name.replace(' ', '-'))\n",
    "tic_params = data_json['stellar_parameters'][1]"
   ]
  },
  {
   "cell_type": "code",
   "execution_count": 3,
   "id": "1fee81be-8ddb-43f3-8a4b-16272db8aeed",
   "metadata": {},
   "outputs": [
    {
     "data": {
      "text/plain": [
       "(0.408427, 0.400962, 3380.0, 4.81894)"
      ]
     },
     "execution_count": 3,
     "metadata": {},
     "output_type": "execute_result"
    }
   ],
   "source": [
    "Rs = float(tic_params['srad'])\n",
    "Ms = float(tic_params['mass'])\n",
    "teff = float(tic_params['teff'])\n",
    "logg = float(tic_params['logg'])\n",
    "Rs, Ms, teff, logg"
   ]
  },
  {
   "cell_type": "code",
   "execution_count": 4,
   "id": "25755fb5-4475-4fae-ace0-6677bd5a1b88",
   "metadata": {},
   "outputs": [
    {
     "data": {
      "text/plain": [
       "(3.3079817, 2459685.753346, 1.666)"
      ]
     },
     "execution_count": 4,
     "metadata": {},
     "output_type": "execute_result"
    }
   ],
   "source": [
    "planet_params = data_json['planet_parameters'][1]\n",
    "period = float(planet_params['per']) \n",
    "t0 = float(planet_params['epoch'])\n",
    "t14 = float(planet_params['dur'])\n",
    "period, t0, t14"
   ]
  },
  {
   "cell_type": "code",
   "execution_count": 6,
   "id": "7cf58623-129d-4ea8-af5e-ba65aa00b172",
   "metadata": {},
   "outputs": [],
   "source": [
    "import astropy.units as u\n",
    "\n",
    "from astropy.units import Quantity\n",
    "from astropy.constants import G\n",
    "from numpy import pi, sin, sqrt\n",
    "\n",
    "def mp_from_kiepms(k, i, e, p, mstar):\n",
    "    \"\"\"Calculates the planet's mass from RV parameters.\n",
    "\n",
    "    Parameters\n",
    "    ----------\n",
    "    k: float, ndarray, or Quantity\n",
    "        RV semiamplitude [m/s]\n",
    "    i: float, ndarray, or Quantity\n",
    "        Inclination [rad]\n",
    "    e: float, ndarray, or Quantity\n",
    "        Eccentricity [-]\n",
    "    p: float, ndarray, or Quantity\n",
    "        Orbital period [d]\n",
    "    mstar: float, ndarray, or Quantity\n",
    "        Stellar mass [Solar mass]\n",
    "\n",
    "    Returns\n",
    "    -------\n",
    "    Planet mass [M_Jup]\n",
    "    \"\"\"\n",
    "    k = k.to(u.m/u.s) if isinstance(k, Quantity) else k * u.m/u.s\n",
    "    i = i.to(u.rad) if isinstance(i, Quantity) else i*u.rad\n",
    "    p = p.to(u.s) if isinstance(p, Quantity) else (p*u.day).to(u.s)\n",
    "    mstar = mstar.to(u.kg) if isinstance(mstar, Quantity) else (mstar*u.M_sun).to(u.kg)\n",
    "    return (k * (p/(2*pi*G)) ** (1/3) * mstar ** (2 / 3) / sin(i) * sqrt((1 - e ** 2))).to(u.M_jup).value\n",
    "\n",
    "k_rv = 245# m/s\n",
    "inc = pi/2\n",
    "ecc = 0\n",
    "mass = mp_from_kiepms(k_rv, inc, ecc, period, Ms)"
   ]
  },
  {
   "cell_type": "code",
   "execution_count": null,
   "id": "f5ccd973-ccf9-4fbb-88c2-d052927fe4cc",
   "metadata": {},
   "outputs": [],
   "source": [
    "import lightkurve as lk\n",
    "\n",
    "\n",
    "res = lk.search_lightcurve(target_name)\n",
    "res"
   ]
  },
  {
   "cell_type": "code",
   "execution_count": 4,
   "id": "1aa79731-a3ae-4365-8e46-033173236b2e",
   "metadata": {},
   "outputs": [
    {
     "name": "stderr",
     "output_type": "stream",
     "text": [
      "/home/jp/miniconda3/envs/toi5671/lib/python3.11/site-packages/lightkurve/lightcurve.py:1131: LightkurveWarning: The light curve appears to be zero-centered (median=1.00e+00 +/- 1.00e+02); `normalize()` will divide the light curve by a value close to zero, which is probably not what you want.\n",
      "  warnings.warn(\n"
     ]
    },
    {
     "data": {
      "text/plain": [
       "<Axes: xlabel='Time - 2457000 [BTJD days]', ylabel='Normalized Flux'>"
      ]
     },
     "execution_count": 4,
     "metadata": {},
     "output_type": "execute_result"
    },
    {
     "data": {
      "image/png": "[encoded data removed]",
      "text/plain": [
       "<Figure size 848.5x400 with 1 Axes>"
      ]
     },
     "metadata": {},
     "output_type": "display_data"
    }
   ],
   "source": [
    "qlp = res[0].download().normalize()\n",
    "qlp.scatter()"
   ]
  },
  {
   "cell_type": "raw",
   "id": "d105341b-62ae-4316-92a4-93289589cf53",
   "metadata": {},
   "source": [
    "dia = res[1].download().normalize()\n",
    "dia.scatter()"
   ]
  },
  {
   "cell_type": "raw",
   "id": "0b49793b-e07f-432f-bf36-89596369afe0",
   "metadata": {},
   "source": [
    "from astropy.io import fits\n",
    "\n",
    "fp=\"/home/jp/.lightkurve/cache/mastDownload/HLSP/hlsp_diamante_tess_lightcurve_tic-0000000023863106_tess_v2_llc/hlsp_diamante_tess_lightcurve_tic-0000000023863106_tess_v2_llc.fits\"\n",
    "d = fits.getdata(fp)\n",
    "d[2]"
   ]
  },
  {
   "cell_type": "code",
   "execution_count": null,
   "id": "29463d84-5226-4dc8-a43b-50f67259910c",
   "metadata": {},
   "outputs": [],
   "source": []
  }
 ],
 "metadata": {
  "kernelspec": {
   "display_name": "Python 3 (ipykernel)",
   "language": "python",
   "name": "python3"
  },
  "language_info": {
   "codemirror_mode": {
    "name": "ipython",
    "version": 3
   },
   "file_extension": ".py",
   "mimetype": "text/x-python",
   "name": "python",
   "nbconvert_exporter": "python",
   "pygments_lexer": "ipython3",
   "version": "3.8.13"
  }
 },
 "nbformat": 4,
 "nbformat_minor": 5
}
